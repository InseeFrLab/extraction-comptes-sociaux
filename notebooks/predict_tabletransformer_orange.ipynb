{
 "cells": [
  {
   "cell_type": "code",
   "execution_count": 15,
   "id": "63b9cc7a-b8cf-4646-aab1-772924454295",
   "metadata": {},
   "outputs": [
    {
     "name": "stdout",
     "output_type": "stream",
     "text": [
      "Requirement already satisfied: huggingface_hub in /opt/mamba/lib/python3.11/site-packages (0.16.4)\n",
      "Requirement already satisfied: transformers in /opt/mamba/lib/python3.11/site-packages (4.31.0)\n",
      "Collecting timm\n",
      "  Obtaining dependency information for timm from https://files.pythonhosted.org/packages/29/90/94f5deb8d76e24a89813aef95e8809ca8fd7414490428480eda19b133d4a/timm-0.9.2-py3-none-any.whl.metadata\n",
      "  Downloading timm-0.9.2-py3-none-any.whl.metadata (68 kB)\n",
      "\u001b[2K     \u001b[90m━━━━━━━━━━━━━━━━━━━━━━━━━━━━━━━━━━━━━━━━\u001b[0m \u001b[32m68.5/68.5 kB\u001b[0m \u001b[31m5.3 MB/s\u001b[0m eta \u001b[36m0:00:00\u001b[0m\n",
      "\u001b[?25hRequirement already satisfied: filelock in /opt/mamba/lib/python3.11/site-packages (from huggingface_hub) (3.12.2)\n",
      "Requirement already satisfied: fsspec in /opt/mamba/lib/python3.11/site-packages (from huggingface_hub) (2023.6.0)\n",
      "Requirement already satisfied: requests in /opt/mamba/lib/python3.11/site-packages (from huggingface_hub) (2.31.0)\n",
      "Requirement already satisfied: tqdm>=4.42.1 in /opt/mamba/lib/python3.11/site-packages (from huggingface_hub) (4.65.0)\n",
      "Requirement already satisfied: pyyaml>=5.1 in /opt/mamba/lib/python3.11/site-packages (from huggingface_hub) (6.0)\n",
      "Requirement already satisfied: typing-extensions>=3.7.4.3 in /opt/mamba/lib/python3.11/site-packages (from huggingface_hub) (4.7.1)\n",
      "Requirement already satisfied: packaging>=20.9 in /opt/mamba/lib/python3.11/site-packages (from huggingface_hub) (23.1)\n",
      "Requirement already satisfied: numpy>=1.17 in /opt/mamba/lib/python3.11/site-packages (from transformers) (1.24.4)\n",
      "Requirement already satisfied: regex!=2019.12.17 in /opt/mamba/lib/python3.11/site-packages (from transformers) (2023.6.3)\n",
      "Requirement already satisfied: tokenizers!=0.11.3,<0.14,>=0.11.1 in /opt/mamba/lib/python3.11/site-packages (from transformers) (0.13.3)\n",
      "Requirement already satisfied: safetensors>=0.3.1 in /opt/mamba/lib/python3.11/site-packages (from transformers) (0.3.1)\n",
      "Requirement already satisfied: torch>=1.7 in /opt/mamba/lib/python3.11/site-packages (from timm) (2.0.0)\n",
      "Requirement already satisfied: torchvision in /opt/mamba/lib/python3.11/site-packages (from timm) (0.15.1)\n",
      "Requirement already satisfied: sympy in /opt/mamba/lib/python3.11/site-packages (from torch>=1.7->timm) (1.12)\n",
      "Requirement already satisfied: networkx in /opt/mamba/lib/python3.11/site-packages (from torch>=1.7->timm) (3.1)\n",
      "Requirement already satisfied: jinja2 in /opt/mamba/lib/python3.11/site-packages (from torch>=1.7->timm) (3.1.2)\n",
      "Requirement already satisfied: nvidia-cuda-nvrtc-cu11==11.7.99 in /opt/mamba/lib/python3.11/site-packages (from torch>=1.7->timm) (11.7.99)\n",
      "Requirement already satisfied: nvidia-cuda-runtime-cu11==11.7.99 in /opt/mamba/lib/python3.11/site-packages (from torch>=1.7->timm) (11.7.99)\n",
      "Requirement already satisfied: nvidia-cuda-cupti-cu11==11.7.101 in /opt/mamba/lib/python3.11/site-packages (from torch>=1.7->timm) (11.7.101)\n",
      "Requirement already satisfied: nvidia-cudnn-cu11==8.5.0.96 in /opt/mamba/lib/python3.11/site-packages (from torch>=1.7->timm) (8.5.0.96)\n",
      "Requirement already satisfied: nvidia-cublas-cu11==11.10.3.66 in /opt/mamba/lib/python3.11/site-packages (from torch>=1.7->timm) (11.10.3.66)\n",
      "Requirement already satisfied: nvidia-cufft-cu11==10.9.0.58 in /opt/mamba/lib/python3.11/site-packages (from torch>=1.7->timm) (10.9.0.58)\n",
      "Requirement already satisfied: nvidia-curand-cu11==10.2.10.91 in /opt/mamba/lib/python3.11/site-packages (from torch>=1.7->timm) (10.2.10.91)\n",
      "Requirement already satisfied: nvidia-cusolver-cu11==11.4.0.1 in /opt/mamba/lib/python3.11/site-packages (from torch>=1.7->timm) (11.4.0.1)\n",
      "Requirement already satisfied: nvidia-cusparse-cu11==11.7.4.91 in /opt/mamba/lib/python3.11/site-packages (from torch>=1.7->timm) (11.7.4.91)\n",
      "Requirement already satisfied: nvidia-nccl-cu11==2.14.3 in /opt/mamba/lib/python3.11/site-packages (from torch>=1.7->timm) (2.14.3)\n",
      "Requirement already satisfied: nvidia-nvtx-cu11==11.7.91 in /opt/mamba/lib/python3.11/site-packages (from torch>=1.7->timm) (11.7.91)\n",
      "Requirement already satisfied: triton==2.0.0 in /opt/mamba/lib/python3.11/site-packages (from torch>=1.7->timm) (2.0.0)\n",
      "Requirement already satisfied: setuptools in /opt/mamba/lib/python3.11/site-packages (from nvidia-cublas-cu11==11.10.3.66->torch>=1.7->timm) (68.0.0)\n",
      "Requirement already satisfied: wheel in /opt/mamba/lib/python3.11/site-packages (from nvidia-cublas-cu11==11.10.3.66->torch>=1.7->timm) (0.40.0)\n",
      "Requirement already satisfied: cmake in /opt/mamba/lib/python3.11/site-packages (from triton==2.0.0->torch>=1.7->timm) (3.27.0)\n",
      "Requirement already satisfied: lit in /opt/mamba/lib/python3.11/site-packages (from triton==2.0.0->torch>=1.7->timm) (16.0.6)\n",
      "Requirement already satisfied: charset-normalizer<4,>=2 in /opt/mamba/lib/python3.11/site-packages (from requests->huggingface_hub) (3.2.0)\n",
      "Requirement already satisfied: idna<4,>=2.5 in /opt/mamba/lib/python3.11/site-packages (from requests->huggingface_hub) (3.4)\n",
      "Requirement already satisfied: urllib3<3,>=1.21.1 in /opt/mamba/lib/python3.11/site-packages (from requests->huggingface_hub) (1.26.15)\n",
      "Requirement already satisfied: certifi>=2017.4.17 in /opt/mamba/lib/python3.11/site-packages (from requests->huggingface_hub) (2023.5.7)\n",
      "Requirement already satisfied: pillow!=8.3.*,>=5.3.0 in /opt/mamba/lib/python3.11/site-packages (from torchvision->timm) (10.0.0)\n",
      "Requirement already satisfied: MarkupSafe>=2.0 in /opt/mamba/lib/python3.11/site-packages (from jinja2->torch>=1.7->timm) (2.1.3)\n",
      "Requirement already satisfied: mpmath>=0.19 in /opt/mamba/lib/python3.11/site-packages (from sympy->torch>=1.7->timm) (1.3.0)\n",
      "Downloading timm-0.9.2-py3-none-any.whl (2.2 MB)\n",
      "\u001b[2K   \u001b[90m━━━━━━━━━━━━━━━━━━━━━━━━━━━━━━━━━━━━━━━━\u001b[0m \u001b[32m2.2/2.2 MB\u001b[0m \u001b[31m24.0 MB/s\u001b[0m eta \u001b[36m0:00:00\u001b[0ma \u001b[36m0:00:01\u001b[0m\n",
      "\u001b[?25hInstalling collected packages: timm\n",
      "Successfully installed timm-0.9.2\n"
     ]
    }
   ],
   "source": [
    "!pip install huggingface_hub transformers timm"
   ]
  },
  {
   "cell_type": "code",
   "execution_count": 2,
   "id": "9bad2231-f0c1-42d3-ab99-42a0ea4a218d",
   "metadata": {},
   "outputs": [
    {
     "name": "stdout",
     "output_type": "stream",
     "text": [
      "The autoreload extension is already loaded. To reload it, use:\n",
      "  %reload_ext autoreload\n"
     ]
    }
   ],
   "source": [
    "%load_ext autoreload\n",
    "%autoreload 2"
   ]
  },
  {
   "cell_type": "code",
   "execution_count": 3,
   "id": "a674e7f0-4644-40b8-9711-7c7d4588a7d5",
   "metadata": {},
   "outputs": [],
   "source": [
    "import sys\n",
    "sys.path.append(\"../extraction_core/page_selection\")\n",
    "sys.path.append(\"../extraction_core/extraction\")\n",
    "sys.path.append(\"../extraction_core/\")"
   ]
  },
  {
   "cell_type": "code",
   "execution_count": 8,
   "id": "28421120-6aab-4aa8-9868-43597fe2c87b",
   "metadata": {},
   "outputs": [],
   "source": [
    "import hvac\n",
    "import os\n",
    "client = hvac.Client(\n",
    "    url=\"https://vault.lab.sspcloud.fr\", token=os.environ[\"VAULT_TOKEN\"]\n",
    ")\n",
    "\n",
    "secret = os.environ[\"VAULT_MOUNT\"] + os.environ[\"VAULT_TOP_DIR\"] + \"/s3_creds\"\n",
    "mount_point, secret_path = secret.split(\"/\", 1)\n",
    "secret_dict = client.secrets.kv.read_secret_version(\n",
    "    path=secret_path, mount_point=mount_point\n",
    ")\n",
    "\n",
    "os.environ[\"AWS_ACCESS_KEY_ID\"] = secret_dict[\"data\"][\"data\"][\n",
    "    \"ACCESS_KEY\"\n",
    "]\n",
    "os.environ[\"AWS_SECRET_ACCESS_KEY\"] = secret_dict[\"data\"][\"data\"][\n",
    "    \"SECRET_KEY\"\n",
    "]\n",
    "try:\n",
    "    del os.environ[\"AWS_SESSION_TOKEN\"]\n",
    "except KeyError:\n",
    "    pass"
   ]
  },
  {
   "cell_type": "code",
   "execution_count": 4,
   "id": "975cc239-7d73-4d66-be06-b90563b8db7e",
   "metadata": {},
   "outputs": [
    {
     "data": {
      "text/plain": [
       "['projet-extraction-tableaux/orange/bmp/306769688.bmp',\n",
       " 'projet-extraction-tableaux/orange/bmp/307299248.bmp',\n",
       " 'projet-extraction-tableaux/orange/bmp/345039416.bmp',\n",
       " 'projet-extraction-tableaux/orange/bmp/379984891.bmp',\n",
       " 'projet-extraction-tableaux/orange/bmp/380129866.bmp',\n",
       " 'projet-extraction-tableaux/orange/bmp/384518114.bmp',\n",
       " 'projet-extraction-tableaux/orange/bmp/409759156.bmp',\n",
       " 'projet-extraction-tableaux/orange/bmp/430107359.bmp',\n",
       " 'projet-extraction-tableaux/orange/bmp/432668432.bmp',\n",
       " 'projet-extraction-tableaux/orange/bmp/440419240.bmp',\n",
       " 'projet-extraction-tableaux/orange/bmp/500413505.bmp',\n",
       " 'projet-extraction-tableaux/orange/bmp/500440813.bmp',\n",
       " 'projet-extraction-tableaux/orange/bmp/501614572.bmp']"
      ]
     },
     "execution_count": 4,
     "metadata": {},
     "output_type": "execute_result"
    }
   ],
   "source": [
    "from extraction.data import fs\n",
    "\n",
    "fs.ls(\"projet-extraction-tableaux/orange/bmp\")"
   ]
  },
  {
   "cell_type": "code",
   "execution_count": 5,
   "id": "dd965f12-a2bf-4443-8885-25ade715d091",
   "metadata": {},
   "outputs": [],
   "source": [
    "from pathlib import Path\n",
    "\n",
    "for path in fs.ls(\"projet-extraction-tableaux/orange/bmp\"):\n",
    "    file_name = Path(path).stem\n",
    "    fs.get(path, \"../data/orange/\" + file_name + \".bmp\")"
   ]
  },
  {
   "cell_type": "code",
   "execution_count": 6,
   "id": "2507d75f-c032-4ef7-bfe8-fe35dde0885e",
   "metadata": {},
   "outputs": [
    {
     "name": "stdout",
     "output_type": "stream",
     "text": [
      "306769688\n",
      "307299248\n",
      "345039416\n",
      "379984891\n",
      "380129866\n",
      "384518114\n",
      "409759156\n",
      "430107359\n",
      "432668432\n",
      "440419240\n",
      "500413505\n",
      "500440813\n",
      "501614572\n"
     ]
    }
   ],
   "source": [
    "for path in fs.ls(\"projet-extraction-tableaux/orange/bmp\"):\n",
    "    file_name = Path(path).stem\n",
    "    print(file_name)"
   ]
  },
  {
   "cell_type": "code",
   "execution_count": 4,
   "id": "bc96d6d7-653e-4208-9db6-3b4698c6d2e1",
   "metadata": {},
   "outputs": [],
   "source": [
    "from extraction.utils import get_root_path"
   ]
  },
  {
   "cell_type": "code",
   "execution_count": 5,
   "id": "36714bd4-d74a-46c8-858e-cf62ce4960b7",
   "metadata": {},
   "outputs": [],
   "source": [
    "from pathlib import Path\n",
    "from PIL import Image\n",
    "from huggingface_hub import hf_hub_download\n",
    "from transformers import DetrFeatureExtractor\n",
    "from transformers import TableTransformerForObjectDetection\n",
    "import torch\n",
    "import pytesseract\n",
    "from pytesseract import Output\n",
    "from extraction.table_transformer_utils import *\n",
    "from io import StringIO\n",
    "import pandas as pd\n",
    "from extraction.utils import get_root_path"
   ]
  },
  {
   "cell_type": "code",
   "execution_count": 12,
   "id": "d99480e3-c7d6-4b2b-a08a-70d053320c3d",
   "metadata": {},
   "outputs": [
    {
     "name": "stderr",
     "output_type": "stream",
     "text": [
      "/opt/mamba/lib/python3.11/site-packages/transformers/models/detr/feature_extraction_detr.py:28: FutureWarning: The class DetrFeatureExtractor is deprecated and will be removed in version 5 of Transformers. Please use DetrImageProcessor instead.\n",
      "  warnings.warn(\n"
     ]
    },
    {
     "name": "stdout",
     "output_type": "stream",
     "text": [
      "--- Siren 306769688 ---\n",
      "--- Table 0 ---\n",
      "--- Siren 307299248 ---\n",
      "--- Siren 345039416 ---\n",
      "--- Table 0 ---\n",
      "--- Table 1 ---\n",
      "--- Siren 380129866 ---\n",
      "--- Table 0 ---\n",
      "--- Siren 384518114 ---\n",
      "--- Table 0 ---\n",
      "--- Siren 409759156 ---\n",
      "--- Table 0 ---\n",
      "--- Siren 430107359 ---\n",
      "--- Siren 432668432 ---\n",
      "--- Table 0 ---\n",
      "--- Siren 440419240 ---\n",
      "--- Table 0 ---\n",
      "--- Siren 500413505 ---\n",
      "--- Table 0 ---\n",
      "--- Siren 500440813 ---\n",
      "--- Siren 501614572 ---\n"
     ]
    }
   ],
   "source": [
    "TEST_DATA = [\n",
    "    \"306769688\",\n",
    "    #\"307299248\",\n",
    "    \"345039416\",\n",
    "    #\"379984891\",\n",
    "    \"380129866\",\n",
    "    \"384518114\",\n",
    "    \"409759156\",\n",
    "    #\"430107359\",\n",
    "    \"432668432\",\n",
    "    \"440419240\",\n",
    "    \"500413505\",\n",
    "    #\"500440813\",\n",
    "    #\"501614572\",\n",
    "]\n",
    "data_dir = \"../data/orange\"\n",
    "test_images = [\n",
    "    Path(data_dir).joinpath(path + \".bmp\") for path in TEST_DATA\n",
    "]\n",
    "\n",
    "feature_extractor = DetrFeatureExtractor()\n",
    "detection_model = TableTransformerForObjectDetection.from_pretrained(\n",
    "    \"microsoft/table-transformer-detection\"\n",
    ")\n",
    "structure_model = TableTransformerForObjectDetection.from_pretrained(\n",
    "    \"microsoft/table-transformer-structure-recognition\"\n",
    ")\n",
    "\n",
    "# Paddings\n",
    "left_padding = 20\n",
    "top_padding = 50\n",
    "right_padding = 20\n",
    "bottom_padding = 50\n",
    "\n",
    "for siren, image_path in zip(TEST_DATA, test_images):\n",
    "    print(f\"--- Siren {siren} ---\")\n",
    "    image = Image.open(image_path)\n",
    "    width, height = image.size\n",
    "\n",
    "    # Encoding for table detection\n",
    "    encoding = feature_extractor(image, return_tensors=\"pt\")\n",
    "    with torch.no_grad():\n",
    "        outputs = detection_model(**encoding)\n",
    "    results = feature_extractor.post_process_object_detection(\n",
    "        outputs, threshold=0.7, target_sizes=[(height, width)]\n",
    "    )[0]\n",
    "    table_boxes = results[\"boxes\"].tolist()\n",
    "\n",
    "    for table_idx, table_box in enumerate(table_boxes):\n",
    "        print(f\"--- Table {table_idx} ---\")\n",
    "        xmin, ymin, xmax, ymax = table_box\n",
    "        # Cropped image (only detected table)\n",
    "        resized_image = image.crop(\n",
    "            (\n",
    "                xmin - right_padding,\n",
    "                ymin - top_padding,\n",
    "                xmax + right_padding,\n",
    "                ymax + bottom_padding,\n",
    "            )\n",
    "        )\n",
    "\n",
    "        # Encoding for structure recognition\n",
    "        encoding = feature_extractor(resized_image, return_tensors=\"pt\")\n",
    "        with torch.no_grad():\n",
    "            outputs = structure_model(**encoding)\n",
    "\n",
    "        target_sizes = [resized_image.size[::-1]]\n",
    "        results = feature_extractor.post_process_object_detection(\n",
    "            outputs, threshold=0.6, target_sizes=target_sizes\n",
    "        )[0]\n",
    "\n",
    "        # Getting tokens\n",
    "        d = pytesseract.image_to_data(\n",
    "            resized_image, output_type=Output.DICT\n",
    "        )\n",
    "        tokens = []\n",
    "        n_boxes = len(d[\"level\"])\n",
    "        for i in range(n_boxes):\n",
    "            (xmin, ymin, w, h) = (\n",
    "                d[\"left\"][i],\n",
    "                d[\"top\"][i],\n",
    "                d[\"width\"][i],\n",
    "                d[\"height\"][i],\n",
    "            )\n",
    "            xmax = xmin + w\n",
    "            ymax = ymin + h\n",
    "            text = d[\"text\"][i]\n",
    "            tokens.append({\"bbox\": [xmin, ymin, xmax, ymax], \"text\": text})\n",
    "        # 'tokens' is a list of tokens\n",
    "        # Need to be in a relative reading order\n",
    "        # If no order is provided, use current order\n",
    "        for idx, token in enumerate(tokens):\n",
    "            if not \"span_num\" in token:\n",
    "                token[\"span_num\"] = idx\n",
    "            if not \"line_num\" in token:\n",
    "                token[\"line_num\"] = 0\n",
    "            if not \"block_num\" in token:\n",
    "                token[\"block_num\"] = 0\n",
    "\n",
    "        # Post-process detected objects, assign class labels\n",
    "        objects = results_to_objects(\n",
    "            results, resized_image.size, str_class_idx2name\n",
    "        )\n",
    "\n",
    "        # Further process the detected objects so they correspond to a consistent table\n",
    "        tables_structure = objects_to_structures(\n",
    "            objects, tokens, structure_class_thresholds\n",
    "        )\n",
    "\n",
    "        # Enumerate all table cells: grid cells and spanning cells\n",
    "        table_cells = [\n",
    "            structure_to_cells(structure, tokens)[0]\n",
    "            for structure in tables_structure\n",
    "        ]\n",
    "\n",
    "        # Convert cells to CSV, including flattening multi-row column headers to a single row\n",
    "        table_csvs = [cells_to_csv(cells) for cells in table_cells]\n",
    "\n",
    "        io = StringIO(table_csvs[0])\n",
    "        df = pd.read_csv(io, sep=\",\")\n",
    "        save_path = os.path.join(\n",
    "            get_root_path(),\n",
    "            \"output/tt_\" + siren + \"_table_\" + str(table_idx) + \".csv\",\n",
    "        )\n",
    "        df.to_csv(save_path, sep=\";\", index=False)"
   ]
  },
  {
   "cell_type": "code",
   "execution_count": null,
   "id": "bb6d2f3c-fed8-4ca2-b9d0-5e0ed394ceec",
   "metadata": {},
   "outputs": [],
   "source": []
  }
 ],
 "metadata": {
  "kernelspec": {
   "display_name": "Python 3 (ipykernel)",
   "language": "python",
   "name": "python3"
  },
  "language_info": {
   "codemirror_mode": {
    "name": "ipython",
    "version": 3
   },
   "file_extension": ".py",
   "mimetype": "text/x-python",
   "name": "python",
   "nbconvert_exporter": "python",
   "pygments_lexer": "ipython3",
   "version": "3.11.4"
  }
 },
 "nbformat": 4,
 "nbformat_minor": 5
}
