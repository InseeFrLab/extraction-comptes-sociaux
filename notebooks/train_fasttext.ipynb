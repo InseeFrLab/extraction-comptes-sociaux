{
 "cells": [
  {
   "attachments": {},
   "cell_type": "markdown",
   "metadata": {},
   "source": [
    "# FASTTEXT POUR PREDIRE PAGE AVEC TABLEAU"
   ]
  },
  {
   "cell_type": "code",
   "execution_count": 1,
   "metadata": {},
   "outputs": [],
   "source": [
    "import s3fs\n",
    "import hvac\n",
    "import os\n",
    "\n",
    "client = hvac.Client(url='https://vault.lab.sspcloud.fr',\n",
    "                     token=os.environ['VAULT_TOKEN'])\n",
    "secret = os.environ['VAULT_MOUNT'] + os.environ['VAULT_TOP_DIR'] + '/s3_creds'\n",
    "mount_point, secret_path = secret.split('/', 1)\n",
    "secret_dict = client.secrets.kv.read_secret_version(path=secret_path, mount_point = mount_point)\n",
    "os.environ[\"AWS_ACCESS_KEY_ID\"] = secret_dict['data']['data']['ACCESS_KEY']\n",
    "os.environ[\"AWS_SECRET_ACCESS_KEY\"] = secret_dict['data']['data']['SECRET_KEY']\n",
    "try:\n",
    "    del os.environ['AWS_SESSION_TOKEN']\n",
    "except KeyError:\n",
    "    pass"
   ]
  },
  {
   "cell_type": "code",
   "execution_count": 2,
   "metadata": {},
   "outputs": [],
   "source": [
    "import pickle\n",
    "import json\n",
    "import mlflow\n",
    "import os\n",
    "import sys\n",
    "sys.path.append(\"../src/\")\n",
    "sys.path.append(\"../\")\n",
    "sys.path.append(\"../src/page_selection/\")\n",
    "from tqdm import tqdm\n",
    "from time import time\n",
    "\n",
    "from utils import (\n",
    "    clean_page_content,\n",
    "    extract_document_content,\n",
    "    fit_transform_vectorizer,\n",
    "    train_random_forest,\n",
    ")"
   ]
  },
  {
   "cell_type": "markdown",
   "metadata": {},
   "source": [
    "### Nos données annotées"
   ]
  },
  {
   "cell_type": "code",
   "execution_count": null,
   "metadata": {},
   "outputs": [],
   "source": [
    "# TODO: clean up\n",
    "with open(\"../data/updated_labels_filtered.json\", \"r\") as fp:\n",
    "    labels = json.load(fp)"
   ]
  },
  {
   "cell_type": "code",
   "execution_count": null,
   "metadata": {},
   "outputs": [],
   "source": [
    "labeled_file_names = []\n",
    "valid_labels = []\n",
    "\n",
    "i = 0\n",
    "for file_name, file_labels in labels.items():\n",
    "    # Keep documents with at least 1 table\n",
    "    table_count = sum(file_labels)\n",
    "    if table_count > 0:\n",
    "        i += 1\n",
    "        labeled_file_names.append(file_name)\n",
    "        for label in file_labels:\n",
    "            valid_labels.append(label)"
   ]
  },
  {
   "cell_type": "code",
   "execution_count": null,
   "metadata": {},
   "outputs": [],
   "source": [
    "corpus = []\n",
    "labeled_file_names = [\n",
    "    \"projet-extraction-tableaux/raw-comptes/CS_extrait/\" + file_name\n",
    "    for file_name in labeled_file_names\n",
    "]\n",
    "identifiers = []"
   ]
  },
  {
   "cell_type": "code",
   "execution_count": null,
   "metadata": {},
   "outputs": [],
   "source": [
    "for file_name in tqdm(labeled_file_names):\n",
    "    clean_document_content = []\n",
    "    page_list = extract_document_content(file_name, resolution=200)\n",
    "    for i, page in enumerate(page_list):\n",
    "        clean_content = clean_page_content(page)\n",
    "        clean_document_content.append(clean_content)\n",
    "        identifiers.append((file_name, i))\n",
    "    corpus.append(clean_document_content)"
   ]
  },
  {
   "cell_type": "code",
   "execution_count": null,
   "metadata": {},
   "outputs": [],
   "source": [
    "corpus[0]"
   ]
  },
  {
   "cell_type": "code",
   "execution_count": null,
   "metadata": {},
   "outputs": [],
   "source": [
    "flat_corpus = [item for sublist in corpus for item in sublist]"
   ]
  },
  {
   "cell_type": "code",
   "execution_count": null,
   "metadata": {},
   "outputs": [],
   "source": [
    "flat_corpus[:5]"
   ]
  },
  {
   "cell_type": "code",
   "execution_count": null,
   "metadata": {},
   "outputs": [],
   "source": [
    "valid_labels[:5]"
   ]
  },
  {
   "cell_type": "code",
   "execution_count": null,
   "metadata": {},
   "outputs": [],
   "source": [
    "len(flat_corpus) == len(valid_labels)"
   ]
  },
  {
   "cell_type": "code",
   "execution_count": null,
   "metadata": {},
   "outputs": [],
   "source": [
    "len(flat_corpus)"
   ]
  },
  {
   "cell_type": "code",
   "execution_count": null,
   "metadata": {},
   "outputs": [],
   "source": [
    "len(identifiers)"
   ]
  },
  {
   "cell_type": "code",
   "execution_count": null,
   "metadata": {},
   "outputs": [],
   "source": [
    "identifiers"
   ]
  },
  {
   "cell_type": "markdown",
   "metadata": {},
   "source": [
    "### Données Adem + Laura"
   ]
  },
  {
   "cell_type": "code",
   "execution_count": null,
   "metadata": {},
   "outputs": [],
   "source": [
    "fs = s3fs.S3FileSystem(client_kwargs={'endpoint_url': 'https://minio.lab.sspcloud.fr'})\n",
    "with fs.open(\"s3://projet-extraction-tableaux/data/df_trainrf.pickle\", 'rb') as f:\n",
    "    df = pickle.load(f)"
   ]
  },
  {
   "cell_type": "code",
   "execution_count": null,
   "metadata": {},
   "outputs": [],
   "source": [
    "df"
   ]
  },
  {
   "cell_type": "code",
   "execution_count": null,
   "metadata": {},
   "outputs": [],
   "source": [
    "flat_corpus2 = list(df.text)\n",
    "valid_labels2 = list(df.tableau_f_et_p)"
   ]
  },
  {
   "cell_type": "code",
   "execution_count": null,
   "metadata": {},
   "outputs": [],
   "source": [
    "len(flat_corpus2) == len(valid_labels2)"
   ]
  },
  {
   "cell_type": "code",
   "execution_count": null,
   "metadata": {},
   "outputs": [],
   "source": [
    "flat_corpus2[:5]"
   ]
  },
  {
   "cell_type": "code",
   "execution_count": null,
   "metadata": {},
   "outputs": [],
   "source": [
    "valid_labels2[:5]"
   ]
  },
  {
   "cell_type": "code",
   "execution_count": null,
   "metadata": {},
   "outputs": [],
   "source": [
    "flat_corpus2 = [clean_page_content(page) for page in flat_corpus2]"
   ]
  },
  {
   "cell_type": "code",
   "execution_count": null,
   "metadata": {},
   "outputs": [],
   "source": [
    "flat_corpus2[:5]"
   ]
  },
  {
   "cell_type": "code",
   "execution_count": null,
   "metadata": {},
   "outputs": [],
   "source": [
    "df.dtypes"
   ]
  },
  {
   "cell_type": "code",
   "execution_count": null,
   "metadata": {},
   "outputs": [],
   "source": [
    "identifiers2 = [str(siren) + \"_\" + str(pagenumber - 1) for siren, pagenumber in zip(df.siren, df.pagenumber)]"
   ]
  },
  {
   "cell_type": "code",
   "execution_count": null,
   "metadata": {},
   "outputs": [],
   "source": [
    "len(identifiers2)"
   ]
  },
  {
   "cell_type": "code",
   "execution_count": null,
   "metadata": {},
   "outputs": [],
   "source": [
    "len(flat_corpus2)"
   ]
  },
  {
   "attachments": {},
   "cell_type": "markdown",
   "metadata": {},
   "source": [
    "### Train FastText"
   ]
  },
  {
   "cell_type": "code",
   "execution_count": null,
   "metadata": {},
   "outputs": [],
   "source": [
    "# from utils import load_labeled_data, load_extra_labeled_data\n",
    "\n",
    "# flat_corpus, valid_labels = load_labeled_data()\n",
    "# flat_corpus_extra, valid_labels_extra = load_extra_labeled_data()\n",
    "# flat_corpus += flat_corpus_extra\n",
    "# valid_labels += valid_labels_extra\n",
    "\n",
    "flat_corpus += flat_corpus2\n",
    "valid_labels += valid_labels2\n",
    "identifiers += identifiers2\n",
    "\n",
    "len(flat_corpus)"
   ]
  },
  {
   "cell_type": "code",
   "execution_count": null,
   "metadata": {},
   "outputs": [],
   "source": [
    "len(valid_labels)"
   ]
  },
  {
   "cell_type": "code",
   "execution_count": null,
   "metadata": {},
   "outputs": [],
   "source": [
    "len(identifiers)"
   ]
  },
  {
   "cell_type": "code",
   "execution_count": null,
   "metadata": {},
   "outputs": [],
   "source": [
    "flat_corpus[:5]"
   ]
  },
  {
   "attachments": {},
   "cell_type": "markdown",
   "metadata": {},
   "source": [
    "On regarde les textes annotés 1 pour vérifier que pas de choses étranges"
   ]
  },
  {
   "cell_type": "code",
   "execution_count": null,
   "metadata": {},
   "outputs": [],
   "source": [
    "len(flat_corpus)"
   ]
  },
  {
   "cell_type": "code",
   "execution_count": null,
   "metadata": {},
   "outputs": [],
   "source": [
    "for text, label, identifier in zip(flat_corpus, valid_labels, identifiers):\n",
    "    if label == 1:\n",
    "        print(\"---\")\n",
    "        print(text)\n",
    "        print(identifier)"
   ]
  },
  {
   "cell_type": "code",
   "execution_count": null,
   "metadata": {},
   "outputs": [],
   "source": [
    "random_state = 42\n",
    "test_size = 0.2\n",
    "\n",
    "train_corpus, test_corpus, y_train, y_test, x_identifiers, y_identifiers = train_test_split(\n",
    "    flat_corpus,\n",
    "    valid_labels,\n",
    "    identifiers,\n",
    "    test_size=test_size,\n",
    "    random_state=random_state,\n",
    ")"
   ]
  },
  {
   "cell_type": "code",
   "execution_count": null,
   "metadata": {},
   "outputs": [],
   "source": [
    "!pip install fasttext"
   ]
  },
  {
   "cell_type": "code",
   "execution_count": null,
   "metadata": {},
   "outputs": [],
   "source": [
    "import fasttext"
   ]
  },
  {
   "cell_type": "code",
   "execution_count": null,
   "metadata": {},
   "outputs": [],
   "source": [
    "params = {\n",
    "    \"dim\": 150,\n",
    "    \"lr\": 0.275,\n",
    "    \"epoch\": 50,\n",
    "    \"wordNgrams\": 3,\n",
    "    \"minn\": 3,\n",
    "    \"maxn\": 4,\n",
    "    \"minCount\": 3,\n",
    "    \"bucket\": 2000000,\n",
    "    \"thread\": 50,\n",
    "    \"loss\": \"ova\",\n",
    "    \"label_prefix\": \"__label__\"\n",
    "}"
   ]
  },
  {
   "cell_type": "code",
   "execution_count": null,
   "metadata": {},
   "outputs": [],
   "source": [
    "len(train_corpus)"
   ]
  },
  {
   "cell_type": "code",
   "execution_count": null,
   "metadata": {},
   "outputs": [],
   "source": [
    "with open(\"train_text.txt\", \"w\", encoding=\"utf-8\") as file:\n",
    "    for lib, label in zip(train_corpus, y_train):\n",
    "        formatted_item = f\"__label__{label} {lib}\"\n",
    "        file.write(f\"{formatted_item}\\n\")\n",
    "\n",
    "model = fasttext.train_supervised(\n",
    "    \"train_text.txt\", **params, verbose=2\n",
    ")"
   ]
  },
  {
   "cell_type": "code",
   "execution_count": null,
   "metadata": {},
   "outputs": [],
   "source": [
    "res = model.predict(test_corpus, k=1)"
   ]
  },
  {
   "cell_type": "code",
   "execution_count": null,
   "metadata": {},
   "outputs": [],
   "source": [
    "pred = [\n",
    "    int(x[0].replace(\"__label__\", \"\"))\n",
    "    for x, y in zip(res[0], res[1])\n",
    "]\n",
    "len(pred)"
   ]
  },
  {
   "cell_type": "code",
   "execution_count": null,
   "metadata": {},
   "outputs": [],
   "source": [
    "probas = [\n",
    "    y[0]\n",
    "    for x, y in zip(res[0], res[1])\n",
    "]"
   ]
  },
  {
   "cell_type": "code",
   "execution_count": null,
   "metadata": {},
   "outputs": [],
   "source": [
    "len(probas)"
   ]
  },
  {
   "cell_type": "code",
   "execution_count": null,
   "metadata": {},
   "outputs": [],
   "source": [
    "len(y_test)"
   ]
  },
  {
   "cell_type": "code",
   "execution_count": null,
   "metadata": {},
   "outputs": [],
   "source": [
    "from sklearn import metrics\n",
    "\n",
    "# Score\n",
    "accuracy = metrics.accuracy_score(y_test, pred)\n",
    "f1 = metrics.f1_score(y_test, pred)\n",
    "precision = metrics.precision_score(y_test, pred)\n",
    "recall = metrics.recall_score(y_test, pred)\n",
    "cm = metrics.confusion_matrix(y_test, pred)"
   ]
  },
  {
   "cell_type": "code",
   "execution_count": null,
   "metadata": {},
   "outputs": [],
   "source": [
    "accuracy, f1, precision, recall"
   ]
  },
  {
   "cell_type": "code",
   "execution_count": null,
   "metadata": {},
   "outputs": [],
   "source": [
    "from matplotlib import pyplot as plt\n",
    "import seaborn as sns\n",
    "\n",
    "ax = plt.subplot()\n",
    "sns.heatmap(cm, annot=True, fmt='g', ax=ax)\n",
    "\n",
    "# labels, title and ticks\n",
    "ax.set_xlabel('Predicted labels')\n",
    "ax.set_ylabel('True labels')\n",
    "ax.set_title('Confusion Matrix')"
   ]
  },
  {
   "attachments": {},
   "cell_type": "markdown",
   "metadata": {},
   "source": [
    "Où est-ce qu'on se trompe ?"
   ]
  },
  {
   "cell_type": "code",
   "execution_count": null,
   "metadata": {},
   "outputs": [],
   "source": [
    "for i, (lib, gt, single_pred, proba) in enumerate(zip(test_corpus, y_test, pred, probas)):\n",
    "    if gt != single_pred:\n",
    "        print(\"---\")\n",
    "        print(y_identifiers[i])\n",
    "        if single_pred == 0:\n",
    "            print(\"Faux négatif\")\n",
    "        else:\n",
    "            print(\"Faux positif\")\n",
    "        print(proba)\n",
    "        print(lib)\n"
   ]
  },
  {
   "cell_type": "code",
   "execution_count": null,
   "metadata": {},
   "outputs": [],
   "source": [
    "max(probas)"
   ]
  },
  {
   "cell_type": "code",
   "execution_count": null,
   "metadata": {},
   "outputs": [],
   "source": [
    "for text, identifier in zip(flat_corpus, identifiers):\n",
    "    if identifier == ('projet-extraction-tableaux/raw-comptes/CS_extrait/CA_303091227_9712_1974B00127_2019_B2020001314.pdf', 31):\n",
    "        print(text)"
   ]
  },
  {
   "attachments": {},
   "cell_type": "markdown",
   "metadata": {},
   "source": [
    "Ok cet exemple là on sait pas faire l'OCR..."
   ]
  },
  {
   "cell_type": "code",
   "execution_count": null,
   "metadata": {},
   "outputs": [],
   "source": [
    "page_list = extract_document_content(\n",
    "    'projet-extraction-tableaux/raw-comptes/CS_extrait/CA_303091227_9712_1974B00127_2019_B2020001314.pdf',\n",
    "    resolution=200\n",
    ")\n",
    "for i, page in enumerate(page_list):\n",
    "    print(\"---\")\n",
    "    print(f\"PAGE {i} :\")\n",
    "    print(page)"
   ]
  },
  {
   "attachments": {},
   "cell_type": "markdown",
   "metadata": {},
   "source": [
    "FastText avec données préselectionnées"
   ]
  },
  {
   "cell_type": "code",
   "execution_count": 5,
   "metadata": {},
   "outputs": [
    {
     "name": "stderr",
     "output_type": "stream",
     "text": [
      "100%|██████████| 36/36 [03:40<00:00,  6.11s/it]\n"
     ]
    }
   ],
   "source": [
    "from utils import load_extra_labeled_data_checked, load_labeled_data\n",
    "\n",
    "flat_corpus, valid_labels, num_rates = load_labeled_data()\n",
    "(\n",
    "    flat_corpus_extra,\n",
    "    valid_labels_extra,\n",
    "    num_rates_extra,\n",
    ") = load_extra_labeled_data_checked()\n",
    "flat_corpus += flat_corpus_extra\n",
    "valid_labels += valid_labels_extra\n",
    "num_rates += num_rates_extra"
   ]
  },
  {
   "cell_type": "code",
   "execution_count": 6,
   "metadata": {},
   "outputs": [],
   "source": [
    "from sklearn.model_selection import train_test_split\n",
    "\n",
    "random_state = 42\n",
    "test_size = 0.2\n",
    "(\n",
    "    train_corpus,\n",
    "    test_corpus,\n",
    "    y_train,\n",
    "    y_test,\n",
    "    train_num_rates,\n",
    "    test_num_rates,\n",
    ") = train_test_split(\n",
    "    flat_corpus,\n",
    "    valid_labels,\n",
    "    num_rates,\n",
    "    test_size=test_size,\n",
    "    random_state=random_state,\n",
    ")"
   ]
  },
  {
   "cell_type": "code",
   "execution_count": 44,
   "metadata": {},
   "outputs": [],
   "source": [
    "params = {\n",
    "    \"dim\": 150,\n",
    "    \"lr\": 0.3,\n",
    "    \"epoch\": 50,\n",
    "    \"wordNgrams\": 3,\n",
    "    \"minn\": 3,\n",
    "    \"maxn\": 4,\n",
    "    \"minCount\": 3,\n",
    "    \"bucket\": 2000000,\n",
    "    \"thread\": 50,\n",
    "    \"loss\": \"ova\",\n",
    "    \"label_prefix\": \"__label__\"\n",
    "}"
   ]
  },
  {
   "cell_type": "code",
   "execution_count": 45,
   "metadata": {},
   "outputs": [
    {
     "data": {
      "text/plain": [
       "4907"
      ]
     },
     "execution_count": 45,
     "metadata": {},
     "output_type": "execute_result"
    }
   ],
   "source": [
    "len(train_corpus)"
   ]
  },
  {
   "cell_type": "code",
   "execution_count": 46,
   "metadata": {},
   "outputs": [],
   "source": [
    "import fasttext"
   ]
  },
  {
   "cell_type": "code",
   "execution_count": 47,
   "metadata": {},
   "outputs": [
    {
     "name": "stderr",
     "output_type": "stream",
     "text": [
      "Read 0M words\n",
      "Number of words:  7197\n",
      "Number of labels: 2\n",
      "Progress: 100.0% words/sec/thread:   41514 lr:  0.000000 avg.loss:  0.532829 ETA:   0h 0m 0s\n"
     ]
    }
   ],
   "source": [
    "with open(\"train_text.txt\", \"w\", encoding=\"utf-8\") as file:\n",
    "    for lib, label in zip(train_corpus, y_train):\n",
    "        formatted_item = f\"__label__{label} {lib}\"\n",
    "        file.write(f\"{formatted_item}\\n\")\n",
    "\n",
    "model = fasttext.train_supervised(\n",
    "    \"train_text.txt\", **params, verbose=2\n",
    ")"
   ]
  },
  {
   "cell_type": "code",
   "execution_count": 48,
   "metadata": {},
   "outputs": [],
   "source": [
    "res = model.predict(test_corpus, k=1)"
   ]
  },
  {
   "cell_type": "code",
   "execution_count": 49,
   "metadata": {},
   "outputs": [
    {
     "data": {
      "text/plain": [
       "1227"
      ]
     },
     "execution_count": 49,
     "metadata": {},
     "output_type": "execute_result"
    }
   ],
   "source": [
    "pred = [\n",
    "    int(x[0].replace(\"__label__\", \"\"))\n",
    "    for x, y in zip(res[0], res[1])\n",
    "]\n",
    "len(pred)"
   ]
  },
  {
   "cell_type": "code",
   "execution_count": 50,
   "metadata": {},
   "outputs": [],
   "source": [
    "probas = [\n",
    "    y[0]\n",
    "    for x, y in zip(res[0], res[1])\n",
    "]"
   ]
  },
  {
   "cell_type": "code",
   "execution_count": 51,
   "metadata": {},
   "outputs": [
    {
     "data": {
      "text/plain": [
       "1227"
      ]
     },
     "execution_count": 51,
     "metadata": {},
     "output_type": "execute_result"
    }
   ],
   "source": [
    "len(probas)"
   ]
  },
  {
   "cell_type": "code",
   "execution_count": 52,
   "metadata": {},
   "outputs": [
    {
     "data": {
      "text/plain": [
       "1227"
      ]
     },
     "execution_count": 52,
     "metadata": {},
     "output_type": "execute_result"
    }
   ],
   "source": [
    "len(y_test)"
   ]
  },
  {
   "cell_type": "code",
   "execution_count": 53,
   "metadata": {},
   "outputs": [
    {
     "name": "stderr",
     "output_type": "stream",
     "text": [
      "/opt/mamba/lib/python3.10/site-packages/sklearn/metrics/_classification.py:1344: UndefinedMetricWarning: Precision is ill-defined and being set to 0.0 due to no predicted samples. Use `zero_division` parameter to control this behavior.\n",
      "  _warn_prf(average, modifier, msg_start, len(result))\n"
     ]
    }
   ],
   "source": [
    "from sklearn import metrics\n",
    "\n",
    "# Score\n",
    "accuracy = metrics.accuracy_score(y_test, pred)\n",
    "f1 = metrics.f1_score(y_test, pred)\n",
    "precision = metrics.precision_score(y_test, pred)\n",
    "recall = metrics.recall_score(y_test, pred)\n",
    "cm = metrics.confusion_matrix(y_test, pred)"
   ]
  },
  {
   "cell_type": "code",
   "execution_count": 54,
   "metadata": {},
   "outputs": [
    {
     "data": {
      "text/plain": [
       "(0.9788101059494703, 0.0, 0.0, 0.0)"
      ]
     },
     "execution_count": 54,
     "metadata": {},
     "output_type": "execute_result"
    }
   ],
   "source": [
    "accuracy, f1, precision, recall"
   ]
  },
  {
   "cell_type": "code",
   "execution_count": 55,
   "metadata": {},
   "outputs": [
    {
     "data": {
      "text/plain": [
       "Text(0.5, 1.0, 'Confusion Matrix')"
      ]
     },
     "execution_count": 55,
     "metadata": {},
     "output_type": "execute_result"
    },
    {
     "data": {
      "image/png": "[encoded data removed]",
      "text/plain": [
       "<Figure size 640x480 with 2 Axes>"
      ]
     },
     "metadata": {},
     "output_type": "display_data"
    }
   ],
   "source": [
    "from matplotlib import pyplot as plt\n",
    "import seaborn as sns\n",
    "\n",
    "ax = plt.subplot()\n",
    "sns.heatmap(cm, annot=True, fmt='g', ax=ax)\n",
    "\n",
    "# labels, title and ticks\n",
    "ax.set_xlabel('Predicted labels')\n",
    "ax.set_ylabel('True labels')\n",
    "ax.set_title('Confusion Matrix')"
   ]
  },
  {
   "cell_type": "code",
   "execution_count": 57,
   "metadata": {},
   "outputs": [
    {
     "name": "stdout",
     "output_type": "stream",
     "text": [
      "---\n",
      "vid\n",
      "---\n",
      "sas fromager etoil list filial particip quot part capital capital propr dont resultat derni exercic clos filial etoil vercor chartrousin etoil quercy etoil fromager dauphin fromager banon particip fromager cazal rsm ouest\n",
      "---\n",
      "cm pag cop certifi conform depot\n",
      "---\n",
      "tableau fi a renseign detaill particip nouveau ava r nt affect be consent non societ e exercic clos cour exercic filial capital detenu societ re i f ee b _ renseign global concern autr filial particip non repris a filial francais ensembl filial etranger ensemb particip societ francais i f he particip societ etranger a dont valeur inventair exced certain pourcentag conform reglement cet societ dann renseign global b distingu chaqu filial entit laquel societ a lien particip indiqu denomin sieg social particip etranger suit derog inscrit in fi a monnai local oper etermin reglement capital soc a francais ensembl b filial etranger ensembl sous rubriqu e astreint publiqu lorsqu societ a annex bilan bilan compt consolid\n",
      "---\n",
      "capital capital propr hor capital q p capital detenu pret avanc caution chiffr affair resultat dividend encaiss valeur brut valeur net filial plus eiffag immobili lorrain lca eiffag immobili nord particip autr particip valeur comptabl titr detenus denomin eiffag construct lorrain filial particip annex pag\n",
      "---\n",
      "list filial particip le filial capital detenu societ sas particip capital bouqu sarl h francais ensembl ial etranger ensembl particip societ francais particip societ etranger dont valeur inventair exced certain pourcentag determin reglement capital societ astreint publiqu lorsqu societ a annex bilan bilan compt consolid conform reglement cet societ don renseign global b distingu a filial francais ensembl b filial etranger ensembl chaqu filial entit laquel soc a lien particip indiqu denomin filial particip etranger suit derog inscrit inscrit sous rubriqu monnai local oper societ freyssinet franc anne pag\n",
      "---\n",
      "aperam stainless europ list filial particip reserv report a nouveau avant affect resultat r comptabl utre detenus prot avanc encor rembours quot part capital detenu dividend f encaiss chiffr hor tax parl derni e societ exercic cour ecoul exercic a renseign detaili filial capital detenu soclet particip capital detaill i b renseign global concern autr filial particip non repris a filial francais i ensembl filial etranger ensembl particip societ francais particip societ etranger o total dont valeur inventair exced certain pourcentag determin reglement capital societ astreint publiqu lorsqu societ a annex bilan bilan compt consolid conform reglement cet societ don renseign global b distingu a filal francais ensembl b filial etranger ensembl chaqu filial entit laquel societ a lien particip indiqu denomin sieg social fial particip etranger suit derog inscrit a inscrit sous rubriqu\n",
      "---\n",
      "depot pag cop certifi conform jr\n",
      "---\n",
      "pag ap cop certifi conform depot\n",
      "---\n",
      "annex compt social inform financi filial particip a sarl lcg sarl carbiev b filial francais ensembl filial etranger ensembl particip societ francais ensembl particip societ etranger ensembl renseign detaill chaqu titr dont valeur brut exced capital societ astreint publiqu filial detenu particip detenu entre renseign global autr titr dont valeur brut exced capital societ astreint publiqu not tableau filial particip capital reserv report nouveau avant affect resultat capital propr quot part capital detenu valeur comptabl titr detenus pret avanc consent societ non encor rembours mont caution aval don societ chiffr affair hor tax derni exercic ecoul resultat benefic pert derni exercic clos dividend encaiss societ cour exercic brut net pag\n",
      "---\n",
      "depot pag cop certifi conform cop certifi conform delivr\n",
      "---\n",
      "isov etat financi decembr isov annex compt social pag immoblis financier total variat immobilis financier rubriqu augment diminu milli euros euros societ detenu devis capital devis reserv report nouveau avant affect resultat devis quot part capital detenu valeur brut comptabl titr detenus euros valeur net comptabl titr detenus euros pret avanc consent societ non encor rembour e euros mont caution aval don societ euros chiffr affair hor tax derni exercic ecoul euros dividend encaiss societ cour exercic euros resultat benefic pert derni exercic clos euros filial eurocoustic eur plafometal eur sg placo eur ecophon eur fiberglass colomb cop sgcp ukrain uah isonat eur particip sg recherch eur samin eur sg concept verier eur autr capital sg ppc sas eur autr particip etranger csr guangdong chin cn exeltium eur total list filial particip pag depot cop certifi conform dr\n",
      "---\n",
      "isov etat financi decembr isov annex compt social pag immoblis financier total variat immobilis financier rubriqu augment diminu milli euros euros societ detenu devis capital devis reserv report nouveau avant affect resultat devis quot part capital detenu valeur brut comptabl titr detenus euros valeur net comptabl titr detenus euros pret avanc consent societ non encor rembour e euros mont caution aval don societ euros chiffr affair hor tax derni exercic ecoul euros dividend encaiss societ cour exercic euros resultat benefic pert derni exercic clos euros filial eurocoustic eur plafometal eur sg placo eur ecophon eur fiberglass colomb cop sgcp ukrain uah isonat eur particip sg recherch eur samin eur sg concept verier eur autr capital sg ppc sas eur autr particip etranger csr guangdong chin cn exeltium eur total list filial particip pag depot cop certifi conform dr\n",
      "---\n",
      "annex compt social inform financi filial particip a b filial francais ensembl filial etranger ensembl particip societ francais ensembl particip societ etranger ensembl renseign detaill chaqu titr dont valeur brut exced capital societ astreint publiqu filial detenu particip detenu entre renseign global autr titr dont valeur brut exced capital societ astreint publiqu not tableau filial particip capital reserv report nouveau avant affect resultat capital propr quot part capital detenu valeur comptabl titr detenus pret avanc consent societ non encor rembours mont caution aval don societ chiffr affair hor tax derni exercic ecoul resultat benefic pert derni exercic clos dividend encaiss societ cour exercic brut net pag\n",
      "---\n",
      "annex compt social inform financi filial particip a b filial francais ensembl filial etranger ensembl particip societ francais ensembl particip societ etranger ensembl renseign detaill chaqu titr dont valeur brut exced capital societ astreint publiqu filial detenu particip detenu entre renseign global autr titr dont valeur brut exced capital societ astreint publiqu not tableau filial particip capital reserv report nouveau avant affect resultat capital propr quot part capital detenu valeur comptabl titr detenus pret avanc consent societ non encor rembours mont caution aval don societ chiffr affair hor tax derni exercic ecoul resultat benefic pert derni exercic clos dividend encaiss societ cour exercic brut net pag\n",
      "---\n",
      "nextinteract paris list filial particip cod commerc art pcg art societ capital capital propr autr capital quot part capital detenu valeur comptabl titr detenus brut net pret avanc consent non rembours caution aval don societ chiffr affair derni exercic resultat net derni exercic dividend encaiss societ observ a renseign detaill filial detenu particip detenu entre medi squar paris b renseign global filial non repris a particip non repris a list filial particip cod commerc art pcg art inform complementair produit charg exceptionnel pcg art natur mont imput compt produit exceptionnel repris prov transfert charg total charg exceptionnel charg except ope gestion charg except ope capital dotat exceptionnel amortissem total tableau affect resultat exercic precedent anc art resultat dont resultat activ agre origin report nouveau avant affect resultat resultat exercic affect\n",
      "---\n",
      "annex compt social inform financi filial particip a b filial francais ensembl filial etranger ensembl particip societ francais ensembl particip societ etranger ensembl renseign detaill chaqu titr dont valeur brut exced capital societ astreint publiqu filial detenu particip detenu entre renseign global autr titr dont valeur brut exced capital societ astreint publiqu not tableau filial particip capital reserv report nouveau avant affect resultat capital propr quot part capital detenu valeur comptabl titr detenus pret avanc consent societ non encor rembours mont caution aval don societ chiffr affair hor tax derni exercic ecoul resultat benefic pert derni exercic clos dividend encaiss societ cour exercic brut net pag\n",
      "---\n",
      "capital propr pag depot cop certifi conform dr\n",
      "---\n",
      "capital propr pag depot cop certifi conform dr\n",
      "---\n",
      "dr depot pag cop certifi conform\n",
      "---\n",
      "dr depot pag cop certifi conform\n",
      "---\n",
      "sj pag cop certifi conform depot cop certifi conform delivr\n",
      "---\n",
      "ldesc brut net air liquid spatial guyan societ francais ensembl societ etranger ensembl a renseign detaill concern filial particip dont valeur inventair exced capital societ astreint publiqu a societ exploit franc b societ exploit hor franc b renseign global concern autr filial particip non repris a tableau filial particip euros capital reserv report nouveau quot part capital detenu valeur comptabl titr detenus pret avanc consent non encor rembours caution aval don societ chiffr affair hor tax derni exercic ecoul resultat derni exercic clos dividend encaiss societ cour exercic pag\n",
      "---\n",
      "vid\n",
      "---\n",
      "sogpmg sogetr gpmg iri i declar impass emil dessout particip bai mahault denomin capital q p detenu val brut titr pret avanc chiffr affai sieg social capital propr divid encaiss val net titr caution resultat echangeur antill guyan pag\n",
      "---\n",
      "sogpmg sogetr gpmg icinat declardt impass emil dessout autr particip bai mahault denomin capital q p detenu val brut titr pret avarc chiffr affair sieg social capital propr divid encaiss val net titr caution resultat pag\n",
      "---\n",
      "sogpmg sogetr gpmg icipat declar impass emil dessout particip bai mahault denomin sieg social capital propr divid encaiss val net titr caution resultat echangeur antill guyan capital q p detenu val brut titr pret avanc chiffr affair\n",
      "---\n",
      "e engag relat contrat cred bail immobilis pris cred bail e mont remuner allou dirig remuner allou organ direct communiqu car celu reviendr indiqu remuner individuel ventil effect moyen effect moyen repart comm suit e compt personnel format cpf appliqu loi mar compt personnel format cpf remplac compt janvi droit individuel format dif reliquat dif exist decembr peut utilis jusqu ler jmvi comm heur acquis nu titr cpf cpf aliment prof salari entrepris francais raison heur anne travail limit heur puis heur per anne limit heur societ sog caron a decid opler gestion intem financ cpf liber oblig traver vers effectu aupres organ paritair collecteur agre pca integr fiscal societ fiseal integr group vinc e ident societ consolid vinc construct sas capital euros rc nanterr cour ferdinand lessep rueil malmaison vinc capital euros rc nanterr cour ferdinand lessep rueil malmaison renseign global concern autr filial particip valeur comptabl titr detenus n pret avanc mont consent caution nval societ etnen _ don lencor rembours societ societ cour observ fitinl fangpis jensembl ale etranger lensem ble\n",
      "---\n",
      "e ventil effect moyen effect moyen repart comm suit ingenieur cadr agent maitris technicien ouvri e compt personnel format cpf appliqu loi mar compt personnel format cpf remplac compt janvi droit individuel format dif reliquat dif exist decembr peut etre utilis jusqu ler janvi comm heur cpf aliment prof salari entrepris francais raison heur anne travail limit heur puis heur anne limit heur societ sog caron a decid opter gestion intern financ cpf liber oblig traver vers effectu aupres organ paritair collecteur agre opca e integr fiscal societ fiscal integr group vinc e ident societ consolid vinc construct sas capital euros rc nanterr cour ferdinand lessep rueil malmaison vinc a capital euros rc nanterr cour ferdinand lessep rueil malmaison renseign global concern autr filial particip valeur comptabl pret mont dividend titr detenus avanc caution pesss pat observatio consent aval don societ n brut net societ societ cour non encor exercic filial francais ensembl filial etranger ensembl e inform creanc det represent effet commerc creanc client disponibil det fournisseur det immobilis total e litig arbitrag exist connaiss societ aucun fait exceptionnel litig susceptibl affect substantiel activ resultat patrimoin situat financi societ\n",
      "---\n",
      "ya pag depot cop certifi conform\n",
      "---\n",
      "p i i decembr inform compt resultat not inform compt resultat not transact entre part lie autr inform not relat group regim fiscal regim fiscal societ constitu societ action simplifi membr group integr fiscal vinc ident societ mer consolid compt societ compt societ consolid suiv method integr global perimetr consolid societ vinc not tableau filial particip renseign global concern filial particip a filial francais b filial etranger societ appliqu regl an modifi nouveau regl intervenus depuis precis transact mention annex cel presentent import signif conclu condit normal march plus exclu transact conclu entre societ mer filial ains cel conclu entre deux filial detenu quas total societ mer cas appliquent societ consequent aucun inform titr present valeur comptabl titr detenus resultat cour elev euros comprend principal dividend resultat societ person mont net euros pret avanc consent societ non encor rembours dividend encaiss societ cour exercic brut net ya pag depot cop certifi conform\n",
      "---\n",
      "etat financi not annex compt individuel docu enregistr universel tableau filial particip societ group societ devis capital capital propr autr capital resultat quot part capital detenu valeur brut comptabl titr detenus valeur net comptabl titr detenus pret avanc consent non rembours caution aval fourn ca derni exercic resultat derni exercic dividend encaiss cour exercic milli euros unit monetair devis specifi i filial moin capital detenu societ tf publiqu tf film product tf entertainment e tf tf video tf expans tf droit audiovisuel chain info ouest info tf product tf manag pref unify pref pref pref pref pref tf distribu tf d newen studios spv mont carlo particip gi tf acquisit droit ii particip capital detenu societ mediametr a international nc nc nc nc nc smr iii particip capital detenu inferieur mediametr expans ser club aphel total general filial particip cas eche compr frais acquisit titr caution aval fourn correspondent garant don societ cas defaill filial present engag hor bilan capital capital propr autr capital resultat chiffr affair resultat exercic dr depot cop certifi conform pag\n",
      "---\n",
      "e eees ecrrror cr rh simo lot a en o ge z z o vavnvo rro ge lo ainvouor oz a e le og lo sv savd ag vo smot e cos lo ionvh uon sno etounbu enbuq z gopsec grescor s z bon vi o go cg lo jonvi uora so shiieot lbaiy o s le onvh dn leuoieliiu uoyun loss lozvrl ceszer ihonoh eo ssozes lecscoezz o bisnoqn eisalopu login a hn cu leo lo n y loum uz lzre zr sus lezc ahon bon lonm sino jess zsc be is vn pug up elskejey loym ino gvvecz zocociz le vion pt ejeaug eo epl lon einot geo cpe le l gba an na anomv eauy ye lo a rn cet use zez ese so ot ese aissnal xois lohn sin o sr loz az lo ovnon oeuon ol a sino ve z oi onviz niianon cr cat lzo jo ssin co jo nvno z o vonlhod eur ep exo sien lego zoo gr osz ge ot hnaavon p odebuis uoyn sino lcr lle o novlihg onvho bey ot ge age o novs v lonin in bduesely sw iel op eur peparro lo pos re zr szocior lieous pf loyin sino ess o onvya vec isr lgla sep o ente l rot ge zst o bonvh ete ro zzc o novwatv uaw pueieneq loyin o lo o n pu euipoh at o ll el lger ace epit g qe uoius han less eos er se ezt sg nymivl pat usm lopin sw goz gt less re et zlzv o hnon onoh pi buoy guoh uon sind lspe ze us o jonv v ami etoel lzcz s e l o nvil eneu hwni ko senuwop soj balitivn nollin sino ep ieydeo np epax ay snjen e juop ag enbeu sn egill gp eueuebieun cnrc ago x taz v sasstvon uainuag iux uva sanno suneno sin re hain stay sonvav snna sl ge lsaansaiatg vn ng h vo f snounvo sam neviano nanv savd savon suonediorued seleliy sep nealqel loz qusp nj ep q ltivn nollin sino\n",
      "---\n",
      "societ lou vuitton malleti cour vuiion saipan inc lv liban retae sal mod structur lous vuitton ostereicn lou vuitton cesk lous vuitton colomb lou vuitton hellss lvj group kk lou vuitton danmark a lou vuitton ukrain lour vuition visinam company ltd lou vuitton belgium lvmh fashion group treding kor lous vuitlon maroc lv luxembourg lou vuition romani lous vuitton middl eest lou vuitton argentin lon kazakhstan societ lou vuitton seruc snc filial detenu lvmh iben b rensoign glaital autr titr dont ia valeur brut exced capital flis francaisn elv snc lv editeur kenz filial etranger fabriqu temp lou vuitton lous vuitton portugal maleiro lda lv seruc europ lou vuitton onent lv dominican republic ilour vuition ltd lv poland particip societ francais gi lvmh seruc isaipan liban autrich re publiqu tchequ colomb grec japon danemark ukrain vietnam belgiqu core maroc luxembourg rouman emirat arab unis argentin kazakhstan franc espagn franc franc franc franc franc turqu philippin macao suiss portugal belgiqu emirat arab unis hong kong finland panam republ dominicain israel pologn franc dat clotur decembr pret caution avanc aval consent don societ eur ca ht resultat dividend ol\n",
      "---\n",
      "societ lou vuitton malleti tableau filial particip dat clotur decembr filial filial detenu lvmh ltali bel jardini lou vuitton hong kong ltd lou vuitton taiwan ltd lvmh fashion group brasil ltda lv holding indi lou vuitton deutschland gmbh societ magasin lou vuitton snc lou vuitton australi pty ltd societ ateli lou vuitton snc lou vuitton kor ltd sociedad catalan taller artesanos lou vuitton lou vuitton uk ltd lou vuitton singapor pte ltd ateli pont lim lou vuitton guam inc lou vuitton suiss lou vuitton new zealand lou vuitton monaco lou vuitton vostok lou vuitton south afric lou vuitton indi retail privat ltd lou vuitton malaysi sdn bhd lou vuitton norg lou vuitton ab lou vuitton indonesi lou vuitton hungari lou vuitton intemational snc ateli joaili lou vuitton lou vuitton thailand fabriqu maroquiner lou vuitton lou vuitton bv lou vuitton jordan lou vuitton canad inc lou vuitton chil a renseig detaill chaqu titr dont valeur brut exced capital lou vuitton malleti pay ital franc hong kong taiwan bresil inde allemagn franc austral franc core espagn grand bretagn singapour portugal guam suiss nouvel zeland monaco russ afriqu sud indi malais norveg sued indones hongr franc franc thailand franc pay bas jordan canad chil capital capital propr autr capital kdev valeur comptabl titr detenus pret avanc consent non rembours ke caution aval don societ ke a ht derni exercic kdev resultat derni exercic kdev dividend net encaiss ke\n",
      "---\n",
      "societ lou vuitton malleti dat clotur decembr filial pay capital capital qpde valeurcomptabled preiset cautionset a ht resultat dividend propr capital titr detenus avanc aval derni net autr detenu consent don exercic derni encaiss capital non societ exercic co brut net bours dev kdev kdev ke ke ke ke kdev kdev ke lou vuitton saipan inc saipan usd e q lv liban retail sal mod structur liban lp lou vuitton osterreich autrich eur lou vuitton cesk republ tchequ cx ol lou vuitton colombi colomb cop lou vuitton hel grec eur lvj group kk japon jpy o lou vuitton danmark a danemark dkk ol lou vuitton ukrain ukrain usd ol lou vuitton vietnam company ltd vietnam usd lou vuitton belgium belgiqu eur l ol lvmh fashion group trading kor core won lou vuitton maroc maroc mad lv luxembourg luxembourg eur ol lou vuitton romani rouman ron ol lou vuitton middl east emirat arab unis aed ol lou vuitton argentin argentin ar ol ol lou vuitton kazakhstan kazakhstan kzt societ lou vuitton senic snc franc eur l ol ol filial detenu lvmh iberi espagn eur ol b renseign global autr titr dont valeur brut exced capital filial francais elv snc franc eur ol lv editeur franc eur ol lou vuitton st barthelemy snc franc eur ol ol celin franc eur ol kenzo franc eur ol filial etranger lou vuitton cantacilik ticaret anonim sirket turqu try lou vuitton philippin philippin php lou vuitton macau macao mop ol fabriqu temp lou vuitton suiss chf ol lou vuitton portugal maleiro lda portugal eur ol lv senic europ belgiqu eur ol ol lou vuitton orient emirat arab unis aed ol ol lvmh fashion group pacific hong kong hkd lou vuitton suom oy finland eur l lou vuitton panam panam usd ol lv dominican republic republ dominicain dop ol lou vuitton ltd israel lv poland pologn pln particip societ francais gi lvmh senic franc eur ol\n",
      "---\n",
      "list filial particip reserv report valeur comptabl pret mont chittr dividend quot part titr detenus avanc affair resultat encaiss capital ance caution horstax derni part consent non detenu eveic derni exercic societ encor i don exercic clos cour rembours societ ecout exercic nouveau filial particip capital avant affect filial capital detenu societ strasbourg energ clotur snet clotur rcse be particip capital e detaill rcsi iiau savecom tb renseign global concern autr fisl ot particip non repris i fiial francais ensembl filial etranger ensembl particip societ francais particip societ etranger ee re d dont valeur inventair exced certain pourcentag determin reglement capital saciet astreint publiqu lorsqu societ a annex bilan bilan compt consolid conform reglement cel societ don renseign global distingu a filial francais ensembl b filial etranger ensembl chaqu filial entit laquel societ a lien particip indiqu denomin sieg social filial particip etranger suit derog inscrit inscril sous rubriqu pag\n",
      "---\n",
      "list filial particip reserv report nouveau filial particip capital avant valeur comptah quot part titr detenus capital detenu mont chiffr dividend affair resultat encaiss caution hor tax derni derni exercic societ don exercic clos cour fa societ ecoul exercic pret avanc consent non encor brut net rembours affect resultat renseign detaill filial capital detenu societ strasbourg energ clotur snet clotur rcse particip capital detaill r savecom b renseign global concern autr filial parutip non repris filial francais ensembl filial etranger ensembl panicip societ francais particip societ etranger ap dent valeur inventair exced certain pourcentag determin a reglement capital societ astreint publiqu lorsqu societ a annex bilan bilan compt consolid conform regiement cet societ don renseign global b distingu a filial francais ensembl b filial etranger ensembl paur chaqu filial entit laquel societ a lien particip indiqu denomin sieg social g fiial particip etranger suit derogatian inscrit inscrit sous rubriqu pag\n",
      "---\n",
      "cop certifi conform depot pag ad\n",
      "---\n",
      "cop certifi conform depot pag ad\n",
      "---\n",
      "savoi refractair annex compt social exercic tableau filial particip variat immobilis amort variat amort depreci societ detenu devis capital k devis reserv report nouveau avant affect resultat k devis quot part capital detenu valeur brut comptabl titr detenus k euros valeur net comptabl titr detenus k euros pret avanc consent societ non encor rembours k euros mont caution aval don societ k euros chiffr affair hor tax derni exercic ecoul k devis dividend encaiss societ cour exercic k euros resultat benefic pert derni exercic clos k devis sg cre k k total variat immobilis k milli euros augment diminu reclass frais etabl fond commerc cout developp brevet licenc autr immobilis incorporel terrain construct install techniqu autr immobilis corporel immobilis cour avanc acompt immobilis financi total variat amort depreci augment diminu augment diminu reclass amort depreci fin exercic amort immobilis incorporel i depreci immobilis incorporel ii total amort immobilis corporel iii depreci immobilis corporel iv total milli euros amort depreci debut exercic exploit exceptionnel\n",
      "---\n",
      "savoi refractair annex compt social exercic tableau filial particip variat immobilis amort variat amort depreci societ detenu devis capital k devis reserv report nouveau avant affect resultat k devis quot part capital detenu valeur brut comptabl titr detenus k euros valeur net comptabl titr detenus k euros pret avanc consent societ non encor rembours k euros mont caution aval don societ k euros chiffr affair hor tax derni exercic ecoul k devis dividend encaiss societ cour exercic k euros resultat benefic pert derni exercic clos k devis sg cre k k total variat immobilis k milli euros augment diminu reclass frais etabl fond commerc cout developp brevet licenc autr immobilis incorporel terrain construct install techniqu autr immobilis corporel immobilis cour avanc acompt immobilis financi total variat amort depreci augment diminu augment diminu reclass amort depreci fin exercic amort immobilis incorporel i depreci immobilis incorporel ii total amort immobilis corporel iii depreci immobilis corporel iv total milli euros amort depreci debut exercic exploit exceptionnel\n",
      "---\n",
      "societ stim promot compt annuel decembr tableau filial particip mont euros monnai local oper brut net total general monnai local oper hor resultat mont caution aval don societ chiffr affair hor tax derni exercic ecoul dividend encaiss societ cour exercic filial capital detenu societ franc particip capital franc capital reserv report nouveau avant affect resultat quot part capital detenu resultat derni exercic clos autr particip franc etrang filial particip valeur comptabl titr detenus pret avanc consent non encor rembours pag\n",
      "---\n",
      "societ stim promot compt annuel decembr tableau filial particip mont euros monnai local oper brut net total general monnai local oper hor resultat mont caution aval don societ chiffr affair hor tax derni exercic ecoul dividend encaiss societ cour exercic filial capital detenu societ franc particip capital franc capital reserv report nouveau avant affect resultat quot part capital detenu resultat derni exercic clos autr particip franc etrang filial particip valeur comptabl titr detenus pret avanc consent non encor rembours\n",
      "---\n",
      "million euros francais etranger francais etranger million euros brut net filial particip detenu plus filial particip francais filial particip etranger chattem sanof research investment llc filial particip signif detenu moin filial particip francais filial particip etranger sanof avent alger spa not tableau filial particip renseign global tout filial particip detenu societ valeur comptabl brut titr detenus valeur comptabl net titr detenus mont pret avanc accord net mont caution aval don mont dividend comptabilis compr avanc tresorer accord filial capital propr autr capital quot part capital detenu valeur comptabl titr detenus pret avanc consent non rembours mont caution aval don societ chiffr affair hor tax derni exercic clos resultat benefic pert derni exercic dividend comptabil se societ capital filial particip dont valeur brut comptabl titr detenus exced capital social societ particip filial\n",
      "---\n",
      "million euros francais etranger francais etranger million euros brut net filial particip detenu plus filial particip francais filial particip etranger chattem sanof research investment llc filial particip signif detenu moin filial particip francais filial particip etranger sanof avent alger spa not tableau filial particip renseign global tout filial particip detenu societ valeur comptabl brut titr detenus valeur comptabl net titr detenus mont pret avanc accord net mont caution aval don mont dividend comptabilis compr avanc tresorer accord filial capital propr autr capital quot part capital detenu valeur comptabl titr detenus pret avanc consent non rembours mont caution aval don societ chiffr affair hor tax derni exercic clos resultat benefic pert derni exercic dividend comptabil se societ capital filial particip dont valeur brut comptabl titr detenus exced capital social societ particip filial\n",
      "---\n",
      "million euros francais etranger francais etranger million euros brut net filial particip detenu plus filial particip francais filial particip etranger chattem sanof research investment llc filial particip signif detenu moin filial particip francais filial particip etranger sanof avent alger spa not tableau filial particip renseign global tout filial particip detenu societ valeur comptabl brut titr detenus valeur comptabl net titr detenus mont pret avanc accord net mont caution aval don mont dividend comptabilis compr avanc tresorer accord filial capital propr autr capital quot part capital detenu valeur comptabl titr detenus pret avanc consent non rembours mont caution aval don societ chiffr affair hor tax derni exercic clos resultat benefic pert derni exercic dividend comptabil se societ capital filial particip dont valeur brut comptabl titr detenus exced capital social societ particip filial\n",
      "---\n",
      "capital capital propr hor capital q p capital detenu pret avanc caution chiffr affair resultat dividend encaiss valeur brut valeur net filial plus particip eiffag immobili centr autr particip valeur comptabl titr detenus denomin eiffag construct auvergn filial particip annex pag gp pag cop certifi conform depot\n",
      "---\n",
      "not titr particip valeur titr detenus pret mont divend capital quot part avanc caution i encaiss observ propr capital net consent aval i ste detenu non encor domn e exercic cour rembours societ ecoul exercic peugeot citroen keur dat acquisit poissy snc ru p timbaud poissy mecan keur part eur eur dat acquisit environ snc ru cdt rolland herimoncourt\n",
      "---\n",
      "not titr particip devis capital capital quot part capital detenu peugeot citroen poissy snc ru p timbaud poissy mecan environ snc ru cdt rolland herimoncourt valeur titr detenus pret avanc consent mont caution aval non encor don rembours societ ca ht benefic divend derni pert encaiss observ exercic ecoul derni ste exercic ecoul eur eur dat acquisit dat acquisit\n",
      "---\n",
      "societ snc bouygu immobili entrepr idf compt annuel decembr tableau filial particip mont euros monnai local oper brut net total general monnai local oper hor resultat mont caution aval don societ chiffr affair hor tax derni exercic ecoul dividend encaiss societ cour exercic filial capital detenu societ franc particip capital franc capital reserv report nouveau avant affect resultat quot part capital detenu resultat derni exercic clos autr particip franc etrang filial particip valeur comptabl titr detenus pret avanc consent non encor rembours pag\n",
      "---\n",
      "vid\n",
      "---\n",
      "calberson mosel geod annex comptabl not list filial particip denomin capital p v b titr pret avanc capital dividend v titr caution propr sieg social filial plus milli euros resultat\n",
      "---\n",
      "calberson mosel geod annex comptabl not list filial particip denomin capital p v b titr capital dividend v titr propr sieg social filial plus pret avanc caution milli euros resultat re titr\n",
      "---\n",
      "calberson mosel geod annex comptabl not list filial particip denomin capital p v b titr pret avanc capital dividend v titr caution propr sieg social filial plus milli euros resultat\n",
      "---\n",
      "calberson mosel geod annex comptabl not list filial particip denomin capital p v b titr capital dividend v titr propr sieg social filial plus pret avanc caution milli euros resultat re titr\n",
      "---\n",
      "integr fiscal vinc construct vinc brut net filial francais ensembl filial etranger ensembl creanc client disponibil det fournisseur det immobilis total context evolut cet cris sanitair majeur secur equip partenair sous trait client part pren vcf provenc restent priorit absolu mis plac mesur confin franc a entrain interrupt tres nombreux chanti demarch aupres pouvoir public entrepris organis professionnel afin defin condit permet repris progress traval tout societ a mis plac disposit teletravail collabor dont presenc sit requis disposit a appliqu but mainten continu activ mesur possibl risqu principal cet cris sanitair consist retard realis affair chanti conduis decalag reconnaiss chiffr affair a stad epidem san visibil fin period confin difficil mesur societ attend devoir fair fac baiss prononc limit temp chiffr affair met oeuvr mesur permet ajust depens revoir phasag invest ailleur demarch entam aupres autor competent afin mettr plac mesur activ partiel observ pret avanc consent societ non encor rembours inform creanc det represent effet commerc litig arbitrag exist connaiss societ aucun fait exceptionnel litig susceptibl affect substantiel activ resultat patrimoin situat financi societ chang comptabl ne even posterieur clotur sas capital euros rc nanterr cour ferdinand lessep rueil malmaison a capital euros rc nanterr cour ferdinand lessep rueil malmaison renseign global concern autr filial particip valeur comptabl titr detenus mont caution aval don societ dividend encaiss societ cour exercic societ vcf provenc fiscal integr group vinc ident societ consolid jmg depot cop certifi conform pag\n",
      "---\n",
      "integr fiscal vinc construct vinc brut net filial francais ensembl filial etranger ensembl creanc client disponibil det fournisseur det immobilis total context evolut cet cris sanitair majeur secur equip partenair sous trait client part pren vcf provenc restent priorit absolu mis plac mesur confin franc a entrain interrupt tres nombreux chanti demarch aupres pouvoir public entrepris organis professionnel afin defin condit permet repris progress traval tout societ a mis plac disposit teletravail collabor dont presenc sit requis disposit a appliqu but mainten continu activ mesur possibl risqu principal cet cris sanitair consist retard realis affair chanti conduis decalag reconnaiss chiffr affair a stad epidem san visibil fin period confin difficil mesur societ attend devoir fair fac baiss prononc limit temp chiffr affair met oeuvr mesur permet ajust depens revoir phasag invest ailleur demarch entam aupres autor competent afin mettr plac mesur activ partiel observ pret avanc consent societ non encor rembours inform creanc det represent effet commerc litig arbitrag exist connaiss societ aucun fait exceptionnel litig susceptibl affect substantiel activ resultat patrimoin situat financi societ chang comptabl ne even posterieur clotur sas capital euros rc nanterr cour ferdinand lessep rueil malmaison a capital euros rc nanterr cour ferdinand lessep rueil malmaison renseign global concern autr filial particip valeur comptabl titr detenus mont caution aval don societ dividend encaiss societ cour exercic societ vcf provenc fiscal integr group vinc ident societ consolid jmg depot cop certifi conform pag cop certifi conform delivr\n",
      "---\n",
      "societ air franc financ compt annuel decembr tout moment cas specif blocag mati gouvern option vent ensembl titr encor detenus societ gategroup dispos option achat titr servair suiv si group exerc option initial option achat em trimestr anne nombr titr permet gategroup deten capital servair a tout moment cas specif blocag mati gouvern cas projet cession group interet tier option achat nombr titr permet gategroup deten capital servair inform relat instrument financi amadeus air franc financ a transform fin novembr collar societ general forward port titr amadeus decembr valeur march titr pret hor couvertur elev million euros instrument couvertur mis plac forward cadr cet oper pret titr amadeus a mis plac societ general quantit titr just valeur decembr elev million euros inform filial particip decembr milli euros capital capital propr autr capital hor resultat exercic quot part capital detenu resultat derni exercic clos valeur comptabl titr detenus brut net filial detenu plus filial francais hop blu link transavi filial etranger air franc financ ireland pelican particip detenu moin amadeus servair nd voyag fram nd nd nd nd inform bas compt social inform bas compt local ifr inform bas compt clos decembr inform bas compt clos decembr valeur comptabl titr direct detenus air franc financ present not valeur march titr amadeus decembr elev milli euros cop certifi conform depot rn pag\n",
      "---\n",
      "societ air franc financ compt annuel decembr tout moment cas specif blocag mati gouvern option vent ensembl titr encor detenus societ gategroup dispos option achat titr servair suiv si group exerc option initial option achat em trimestr anne nombr titr permet gategroup deten capital servair a tout moment cas specif blocag mati gouvern cas projet cession group interet tier option achat nombr titr permet gategroup deten capital servair inform relat instrument financi amadeus air franc financ a transform fin novembr collar societ general forward port titr amadeus decembr valeur march titr pret hor couvertur elev million euros instrument couvertur mis plac forward cadr cet oper pret titr amadeus a mis plac societ general quantit titr just valeur decembr elev million euros inform filial particip decembr milli euros capital capital propr autr capital hor resultat exercic quot part capital detenu resultat derni exercic clos valeur comptabl titr detenus brut net filial detenu plus filial francais hop blu link transavi filial etranger air franc financ ireland pelican particip detenu moin amadeus servair nd voyag fram nd nd nd nd inform bas compt social inform bas compt local ifr inform bas compt clos decembr inform bas compt clos decembr valeur comptabl titr direct detenus air franc financ present not valeur march titr amadeus decembr elev milli euros cop certifi conform depot rn pag\n",
      "---\n",
      "depot pag cop certifi conform dr\n",
      "---\n",
      "lto b tableau filial particip million euros filial detenu fnac darty particip servic darty limited fnac luxembourg cop certifi conform pg depot capital capital propr hor capital resultat quot part capital detenu valeur comptabl titr detenus brut net pret consent fnac darty non encor rembours pag mont caution aval don fnac darty dividend chiffr _ benefic affair pert encaiss ht spar derni derni fnac exercic exercic dartyau ecoul clos cour\n",
      "---\n",
      "compt consolid not compt consolid not list societ consolid decembr particip group not societ consolid integr global societ grinc eile sieg siren _ control interet eme europ seb a societ mer franc calor a franc a seb franc tefal a franc rowent franc a franc group seb moulinex a franc sis a franc seb developp a franc group seb franc a franc group seb retailing a franc seb international a holding franc group seb export a franc seb allianc a holding franc immobili group seb a franc financi billig a holding franc krampouz a franc ether a franc rowent werk gmbh allemagn group seb deutschland gmbh u allemagn emsa gmbh allemagn group seb osterreich gmbh autrich group seb belgium a nv belgiqu group seb denmark e danemark group seb iberic a espagn group seb finland oy finland group seb uk ltd grand bretagn tefal uk ltd dorm grand bretagn group seb hellados a grec group seb itali spa itah lagostin spa ital cas lagostin r ltal group seb norway norveg group seb nederland bv pay bas rowent invest bv holding pay bas seb portugal electrodomesticos ltda portugal tefal obh nordic group ab sued group seb schweiz gmbh suiss seb professional franc sarl franc wmf franc consum good sarl franc schaer franc sarl franc finedening topco gmbh holding allemagn wmf group gmbh allemagn siht werk beteiligungsgesellschaft gmbh b allemagn sil haushaitswaren gmbh allemagn sil werk gmbh co kg allemagn group seb docu enregistr universel rapport financi annuel\n",
      "---\n",
      "compt consolid not compt consolid societ priae sieg siren__ control interet proheg gmbh allemagn boehring gastro prof gmbh allemagn w f kais u co gmbh allemagn prolog brand logistic gmbh co kg allemagn prolog logistic servic gmbh co kg allemagn prolog temp gmbh allemagn wmf consum electric gmbh allemagn promont montag gmbh allemagn schaer deutschland gmbh allemagn wmf immobilienverwaltung gmbh x allemagn wmf n osterreich ge b h autrich seb professional belux belgiqu seb professional iberi a espagn seb professional united kingdom ltd grand bretagn seb professional nederiand b v pay bas schaer netherland bv pay bas schaer ag suiss euras group seb bulgari eood buigar group seb mku p croat group seb for trad and consultancy holding egypt group seb for import egypt group seb egypt for household applianc egypt group seb central europ ltd hongr group seb indi pvt ltd inde group seb baltic letton group seb polsk zp z pologn republ group seb cr r o tchequ group seb romani r rouman group seb vostok zao russ group seb slovensko r o slovaqu group seb o sloven group seb istanbul ev a turqu group seb ukrain ukrain wmf bulgari eood buigar coffe day schaer technolog p inde republ proheg cz r o tchequ amer amer nord group seb canad inc canad group seb usa etat unis all clad metal crafter llc etat unis group seb holdmg inc holding etat unis imus usa corp etat unis wilbur curt co inc etat unis cei re acquisit llc etat unis group seb mexico a v mexiqu group seb servicios a v mexiqu seb professional north americ etat unis amer sud group seb argentin a argentin group seb docu enregistr universel rapport financi annuel\n",
      "---\n",
      "compt consolid not compt consolid activ societ principal sieg siren _ control interet seb do brasil produtos domesticos ltda bresil seb comercial produtos domesticos ltda bresil loj seb produtos domesticos ltda bresil seb brazil real estat bresil seb servicos ltda bresil group seb chil lid chih group seb andean a colomb group seb venezuel a venezuel corporacion gsv a x venezuel asi chin zhejiang supor co ltd holding chin zhejiang shaoxing supor domestic electrical applianc chin wuhan supor co ltd chin wuhan supor pressur cook co ltd holding chin wuhan supor cookwar co ltd e chin wuhan supor recycling co ltd chin yuhuan supor cookwar sal co ltd chin zhejiang supor plastic rubb co ltd chin zhejiang supor electrical applianc manufacturing co ltd chin hangzhou omegn commercial trad co ltd chin shangh supor cookwar marketing co ltd chin sseac co ltd chin emsa taicang co ltd chin zhejiang wmf housewar co ltd chin zhejiang shaoxing supor housewar co ltd chin zhejiang supor larg kitchen applianc manufacturing co ltd e chin shangh wmf enterpris development co ltd chin group seb innov cent co ltd b chin wmf shangh co ltd chin seb professional shangh co ltd chin wmf he shan manufacturing co ltd chin group seb shenzen co ltd chin asi pacif group seb australi pty ltd e austral group seb kor co ltd cor sud seb asi ltd hong kong group seb japan co ltd japon group seb malaysi snd bhd malais group seb singapor pte ltd singapour south east asi domestic applianc pte ltd e singapour group seb thailand ltd thailand pt group seb indonesi msd indones vietnam fan joint stock company vietnam vietnam supor vietnam emsa vietnam co ltd vietnam af vietnam manag co ltd x vietrnam wmf hong kong manufacturing co ltd holding hong kong wmf group hong kong ltd x hong kong seb professional japan corpor k k japon a societ fais part integr fiscal franc b activit principal product commercrahs commerciahs servic soctet demand apphiqu exempt hgb cod commerc allemand publiqu compt consolid group seb hber oblig publi etat financi individuel group seb docu enregistr universel rapport financi annuel\n",
      "---\n",
      "compt consolid not compt consolid not entrepris associ societ activ principal sieg siren interet ne not societ non consolid dont pourcentag interet superieur egal societ activ principal sieg siren interet tefal indi household applianc pvt ltd dorm indi group seb par dont import relat signif iran wuhan anzai cookwar co ltd dont import relat signif chin gastromedi sp z pologn bausch hepp inc holding etat unis invenido gmbh allemagn group seb medi a franc feeligreen a franc billig manag a rr franc wmf gastronom servic gmbh r allemagn itech a franc a activ principal product commercialis commercialis servic not honorair commissair compt detail mont honorair vers commissair compt membr reseau respect suiv pricewaterhousecooper audit mazar mont ht mont ht milli audit commissariat compt certif examen compt individuel consolid emetteur seb a coordin consolid fihal integr global sous total servic autr certif compt emetteur seb a coordin consolid filal integr global sous total total group seb docu enregistr universel rapport financi annuel\n",
      "---\n",
      "compt consolid not compt consolid not list societ consolid decembr particip group not societ consolid integr global societ pr u fb ela sieg siren _ control interet eme europ seb a societ mer franc calor a franc a seb franc tefal a franc rowent franc a franc group seb moulinex a franc sis a franc seb developp a x franc group seb franc a franc group seb retailing a franc seb international a holding franc group seb export a franc seb allianc a holding franc immobili group seb a franc financi billig a holding franc krampouz a franc ether a franc rowent werk gmbh allemagn group seb deutschland gmbh allemagn emsa gmboh allemagn group seb osterreich gmbh autrich group seb belgium a nv belgiqu group seb denmark danemark group seb iberic a espagn group seb finland oy finland group seb uk ltd grand bretagn tefal uk ltd dorm group seb hellados a grec group seb ltali spa ital lagostin spa ital cas lagostin r ital group seb norway norveg group seb nederland bv pay bas rowent invest bv holding pay bas seb portugal electrodomesticos ltda portugal tefal obh nordic group ab r sued group seb schweiz gmbh suiss seb professional franc sarl franc wmf franc consum good sarl franc schaer franc sarl franc finedening topco gmbh holding allemagn wmf group gmbh allemagn sil werk beteiligungsgesellschaft gmbh allemagn sil haushaltswaren gmbh allemagn sit werk gmbh co kg allemagn group seb docu enregistr universel rapport financi annuel\n",
      "---\n",
      "compt consolid not compt consolid activ societ principal sieg siren control interet _ proheq gmbh allemagn boehring gastro prof gmbh allemagn w f kais u co gmbh allemagn prolog brand logistic gmbh co kg allemagn prolog logistic servic gmbh co kg allemagn prolog temp gmbh x allemagn wmf consum electric gmbh allemagn promont montag gmbh allemagn schaer deutschland gmbh allemagn wmf immobilienverwaltung gmbh allemagn wmf in osterreich ge b h autrich seb professional belux belgiqu seb professional iberi a espagn seb professional umted kingdom ltd grand bretagn seb professional nederland b v pay bas schaer netheriland bv pay bas schaer ag suiss euras group seb bulgari eood bulgar group seb mku p croat group seb for trad and consultancy holding egypt group seb for import egypt group seb egypt for household applianc egypt group seb central europ ltd hongr group seb indi pvt ltd inde group seb baltic letton group seb polsk zp z o pologn republ group seb cr r o tchequ group seb romani r rouman group seb vostok zao russ group seb slovensko r o slovaqu group seb o o sloven group seb istanbul ev a turqu group seb ukrain e ukrain wmf bulgari eood b buigar coffe day schaer technolog p inde republ proheq cz r o tchequ amer amer nord group seb canad inc canad group seb usa etat unis all clad metal crafter llc etat unis group seb holding inc holding etat unis imus usa corp etat unis wilbur curt co inc etat unis cei re acquisit llc etat unis group seb mexico a v mexiqu group seb servicios a v mexiqu seb professional north americ etat unis amer sud group seb argentin a argentin group seb docu enregistr universel rapport financi annuel\n",
      "---\n",
      "compt consolid not compt consolid activ societ principal sieg siren control interet seb do brasil produtos domesticos ltda bresil seb comercial produtos domesticos ltda bresil loj seb produtos domesticos ltda bresil seb brazil real estat bresil seb servicos ltda bresil group seb chil ltda chil group seb andean a colomb group seb venezuel a venezuel corporacion gsv a venezuel asi chin zhejiang supor co ltd holding chin zhejiang shaoxing supor domestic electrical applianc chin wuhan supor co ltd chin wuhan supor pressur cook co ltd holding chin wuhan supor cookwar co ltd chin wuhan supor recycling co ltd chin yuhuan supor cookwar sal co ltd chin zhejiang supor plastic rubb co ltd chin zhejiang supor electrical applianc manufacturing co ltd chin hangzhou omegn commercial trad co ltd chin shangh supor cookwar marketing co ltd chin sseac co ltd chin emsa taicang co ltd chin zhejiang wmf housewar co ltd chin zhejiang shaoxing supor housewar co ltd chin zhejiang supor larg kitchen applianc manufacturing co ltd chin shangh wmf enterpris development co ltd chin group seb innov cent co ltd chin wmf shangh co ltd chimn seb professional shangh co ltd chin wmf he shan manufacturing co ltd chin group seb shenzen co ltd x chin asi pacif group seb australi pty ltd austral group seb kor co ltd cor sud seb asi ltd e hong kong group seb japan co ltd japon group seb malaysi snd bhd malais group seb singapor pte ltd singapour south east asi domestic applianc pte ltd singapour group seb thailand ltd thailand pt group seb indonesi msd indones vietnam fan joint stock company vietnam vietnam supor vietnam emsa vietnam co ltd vietnam af vietnam manag co ltd vietnam wmf hong kong manufacturing co ltd holding hong kong wmf group hong kong ltd hong kong seb professional japan corpor k k _ japon a societ fais part integr fiscal franc tb activit principal product commerciahs commercials servic societ demand apphiqu exempt hgb cod commerc allemand publiqu compt consolid group seb liber oblig publi etat financi individuel group seb docu enregistr universel rapport financi annuel\n",
      "---\n",
      "not entrepris associ compt consolid not compt consolid societ activ principal sieg siren interet ne not societ non consolid dont pourcentag interet superieur egal societ activ principal sieg siren interet tefal indi household applianc pvt ltd dorm indi group seb par dont import relat signif iran wuhan anzai cookwar co ltd dont import relat signif chin gastromedi sp z pologn bausch hepp inc holding etat unis invenido gmbh allemagn group seb medi a franc feeligreen a franc billig manag a franc wmf gastronom servic gmbh allemagn aitech a franc a activ principal product commercralis commercialis servic not honorair commissair compt detail mont honorair vers commissair compt membr reseau respect suiv pricewaterhousecooper audit mazar mont ht mont ht milli audit commissariat compt certif examen compt individuel consolid emetteur seb a coordin consolid fihal integr global sous total servic autr certif compt emetteur seb a coordin consolid filial integr global sous total total group seb docu enregistr universel rapport financi annuel\n",
      "---\n",
      "effect moyen represent moyen personnel present fin chaqu trimestr comprend personnel etabl sodexo a franc metropolitain depart region outr mer consolid sodexo a consolid compt belion dont sieg social situ plac resist issy moulineau compt consolid group sodexo present chapitr docu enregistr universel post clotur aucun even signif intervenu entre dat clotur dat arret compt conseil administr list filial particip valeur comptabl dividend titr pretset mont chiffr encaiss quot part avanc affair resultat cour milli autr capital consent garant derni derni euros capital capital detenu brut net ennet don exercic exercic exercic renseign detaill filial francais sodexo pass internationals sodexo entrepris sofinsod sas soger sodexo gc lenotr o sevpt societ francais restaur servic foodcher sodexo ventur franc sodexo afriqu sarl ouest catering particip francais filial etranger sodexo inc sodexo financ designed activity company\n",
      "---\n",
      "valeur comptabl dividend titr pretset mont chiffr encaiss quot part avanc affair resultat cour milli autr capital consent garant derni derni euros capital capital detenu brut net ennet don exercic exercic exercic sodexo holding ltd sodexo do brasil comercial sodexo beteiligung bv co kg sodexo australi pty ltd nova holding _ sodexo food solut indi privat limited sodexo ab sodexo servic asi _ sodexo nederland b v compagn financi auror international sodexo belgium sodexo iberi sodexo entegr hizmet yonetim sodexo global servic uk limited sodexo technical servic indi pvt ltd sodexo mexico cv sodexo inversion sodexo facilit manag servic indi privat ltd sodexo one sit servic israel ltd _\n",
      "---\n",
      "valeur comptabl dividend titr pretset mont chiffr encaiss quot part avanc affair resultat cour milli autr capital consent garant derni derni euros capital capital detenu brut net ennet don exercic exercic exercic sodexo argentin sodexo chil spa kalyx limited sodexo srl sodexo singapor pte ltd sofinsod insur designed activity company sodexo maroc sodexo oy sodexo itali spa sodexo r o sodexo euroasi particip etranger sodexo gmbh mentor technical group corpor eat club inc socat llc renseign global autr filial francais autr filial etranger autr particip francais autr particip etranger total\n",
      "---\n",
      "lafargeholcim ciment etat financi euros filial particip denomin capital q p detenu val brut titr pret avanc chiffr affair sieg social capital propr divid encaiss val net titr caution resultat filial plus ste aquitain transform ste promot industriel nord broyag coder cemwest vrac ouest particip flandr laiti moulus scor beton chanti martigu ciment antill autr particip lafargeholcim distribu particip francais pag cop certifi conform ya pag depot\n",
      "---\n",
      "lafargeholcim ciment etat financi euros filial particip suit denomin capital q p detenu val brut titrespret avanceschiffr affair sieg social capital propresdivid encaiss val net titr caution resultat filial plus champmar particip autr particip pag ca se enierm pag depot\n",
      "---\n",
      "list filial participationl fillal capital detenu societ particip capital detaill filial francais ensembl filial etranger ensembl particip societ francais part etranger total dont valeur inventair exced certain pourcentag efm reglement capital societ astreint publiqu lorsqu societ a annex bilan bilan compt consotid conform reglement cet societ don dedq renilgn global b distingu a filial francais ensembl b filiat etranger ensembl __ erodation_n inscrit inscrit sous rubriqu chaqu filial entit laquel societ a lig articip indiqu denomin sieg social\n",
      "---\n",
      "idesc tableau filial particip quot part valeur comptabl pret chiffr dividend p titr detenus avanc cautionset affaireshor resultatdu encaiss reserv capital c capital consentisnon aval don tax derni derni societ report nouveau detenu clr encor societ exercic exercic clos cour brut net rembours ecoul exercic euros a detaill concern filial particip dont valeur inventair exced capital societ astreint publiqu a societ exploit franc air liquid spatial guyan b societ exploit hor franc b renseign global concern autr filial particip non repris a societ francais ensembl societ etranger ensembl pag\n",
      "---\n",
      "idesc tableau filial particip quot part valet_lr comptabl pret chiffr dividend reserv capital titr detenus avanc cautionset affair hor resul encaiss report nouveau detenu consentisnon aval don tax derni derm fa societ encor societ exercic exercic clos cour brut net ae ut rembours ecoul exercic capital euros a renseign detaill concern filial particip dont valeur inventair exced capital societ astreint publiqu a societ exploit franc air liquid spatial guyan b societ exploit hor franc b _renseign global concern autr filial particip non repris a societ francais ensembl societ etranger ensembl pag\n",
      "---\n",
      "eiffag construct coneluent filial particip capital capital propr denomin hor capital e e e tt e pl e cir detenu titr detenus avanc caution valeur brut valeur net filial plus annex chiffr affair resultat bin ate po n en particip eiffag immobili centr autr particip pag\n",
      "---\n",
      "list filial particip declar e securit franc sarl denomin capital detenu val brut titr pret avanc chiffr affair sieg social capital propr divid encaiss val net titr caution resultat filial plus securit transport aviat security sas plac londr tremblay franc securit accueil quai bataill stalingrad issy moulineau securit protect sas quai bataill stalingrad issy moulineau securit format quai bataill stalingrad issy moulineau securit risx manag sarl quai bataill stalingrad issy moulineau g p sas o quai bataill stalingrad issy moulineau securit technolog bd frederic sauvag bat a parc club aygalad marseil autr titr sci proteg bigeotti quai bataill stalingrad issy moulineau cop certifi conform vau pag depot\n",
      "---\n",
      "b immobilis corporel acquisit exercic elev k dotat amort k sort immobilis exercic elevent k a constat repris depreci exceptionnel mont k immobilis cour elevent k correspondent principal projet invest suiv condition matier premier pis tracabl dall four modernis reseau informat zirpro sefpro depoussierreur annex four immobilis financi immobilis financi diminu k suit cession titr particiapt filial sgcm norway depreci mont k a comptabilis repris k exercic reserv chiffr resultat pret dividend report valeur valeur affair benefic avanc encaiss nouveau brut net mont hor tax pert quot part consent avant comptabl comptabl caution capital capital societ societ detenu devis k devis affect detenu titr titr societ non aval don derni cour derni detenus detenus societ exercic exercic encor exercic resultat k k k euros ecoul clos rembours k k euros euros k k k euros euros devis devis devis sg cristal detecteur k sg cre k savoi refractair k saint gobain material ceram k beijing sepr refractor co ltd kusd sg indi privat limited kinr sepr itali spa k div sepr st gobain keramik gmbh k div sepr st gobain keramik kg saint gobain ceramic industrial k shangh sepr zirconium product co kusd valoref a k total sepr annex compt social exercic cop certifi conform dr pag depot\n",
      "---\n",
      "b immobilis corporel acquisit exercic elev k dotat amort k sort immobilis exercic elevent k a constat repris depreci exceptionnel mont k immobilis cour elevent k correspondent principal projet invest suiv condition matier premier pis tracabl dall four modernis reseau informat zirpro sefpro depoussierreur annex four immobilis financi immobilis financi diminu k suit cession titr particiapt filial sgcm norway depreci mont k a comptabilis repris k exercic reserv chiffr resultat pret dividend report valeur valeur affair benefic avanc encaiss nouveau brut net mont hor tax pert quot part consent avant comptabl comptabl caution capital capital societ societ detenu devis k devis affect detenu titr titr societ non aval don derni cour derni detenus detenus societ exercic exercic encor exercic resultat k k k euros ecoul clos rembours k k euros euros k k k euros euros devis devis devis sg cristal detecteur k sg cre k savoi refractair k saint gobain material ceram k beijing sepr refractor co ltd kusd sg indi privat limited kinr sepr itali spa k div sepr st gobain keramik gmbh k div sepr st gobain keramik kg saint gobain ceramic industrial k shangh sepr zirconium product co kusd valoref a k total sepr annex compt social exercic cop certifi conform dr pag depot\n",
      "---\n",
      "sanof developp a a exercic clos decembr sanof defic cumul rest report decembr elev euros not tableau filial particip renseign global tout filial particip detenu societ filial particip euros francais etranger francais etranger valeur comptabl brut titr detenus __ __ __ valeur comptabl net titr detenus mont pret avanc accord mont dividend not even post clotur activ societ commenc etre affect covid premi trimestr direct attend impact negat etat financi societ compt tenu caracter recent epidem mesur annonc gouvern aid entrepris toutefois capac appreci impact chiffr eventuel a dat arret compt conseil administr etat financi societ direct entit a connaiss incertitud signif natur remettr caus capac entit poursuivr exploit president\n",
      "---\n",
      "sanof developp a a ae exercic clos decembr sanof defic cumul rest report decembr elev euros not tableau filial particip renseign global tout filial particip detenu societ filial particip euros francais etranger francais etranger valeur comptabl brut titr detenus __ __ __ valeur comptabl net titr detenus __ __ __ mont pret avanc accord mont dividend not even post clotur activ societ commenc etre affect covid premi trimestr direct attend impact negat etat financi societ compt tenu caracter recent epidem mesur annonc gouvern aid entrepris toutefois capac appreci impact chiffr eventuel a dat arret compt conseil administr etat financi societ direct entit a connaiss incertitud signif natur remettr caus capac entit poursuivr exploit\n",
      "---\n",
      "list filial particip a filial b particip autr particip eun e l a r e report nouv avant affect resultat quot valeur comptabl part capital detenu pourcent pret avanc ste non encor remb dl ernne e oion aval chiffr affair h resultat benefic pert dividend exercic observ total pag\n",
      "---\n",
      "list filial particip a filial b particip autr particip tio tir e a rir avant affect resu quot valeur comptabl part titr detenus capital detenu brut peleeeii e sre pin tt tcn ste non o ccn lei qc caution up chiffr djn ss r resultat benefic jdsi pihn exercic jt an total pag\n",
      "---\n",
      "eeeeeeeonstruct filil particip annex capital capital propr denomin hor capital q p capital valeur comptabl cir a od e c dividend q r l tvlilo resultat e detenu titr detenus avanc cein encaiss ain cn tcn t filial plus eiffag immobili lorrain lca eiffag immobili nord particip autr particip pag\n",
      "---\n",
      "ge medical system etat financi decembr immobilis corporel variat valeur brut decembr analysent comm suit debut augment diminu fin rubriqu exercic transfert transfert exercic terrain construct materiel outillag autr immobilis corporel immobilis cour total general variat amort analysent comm suit debut augment diminu fin rubriqu exercic transfert transfert exercic construct materiel outillag autr immobilis corporel total general immobilis financi variat valeur brut analysent comm suit debut augment diminu fin rubriqu exercic exercic particip pret autr immobilis total general post filial particip decembr analys comm suit valeur valeur quot part capital chiffr nom entit brut net resultat net situat propr affair net ge healthcar alger sarl ge medical system israel ltd total capital propr resultat net statutair reel estim tout societ encor depos leur compt annuel cop certifi conform lmg pag depot\n",
      "---\n",
      "ge medical system etat financi decembr immobilis corporel variat valeur brut decembr analysent comm suit debut augment diminu fin rubriqu exercic transfert transfert exercic terrain construct materiel outillag autr immobilis corporel immobilis cour total general variat amort analysent comm suit debut augment diminu fin rubriqu exercic transfert transfert exercic construct materiel outillag autr immobilis corporel total general immobilis financi variat valeur brut analysent comm suit debut augment diminu fin rubriqu exercic exercic particip pret autr immobilis total general post filial particip decembr analys comm suit valeur valeur quot part capital chiffr nom entit brut net resultat net situat propr affair net ge healthcar alger sarl ge medical system israel ltd total capital propr resultat net statutair reel estim tout societ encor depos leur compt annuel cop certifi conform lmg pag depot\n",
      "---\n",
      "eie_fag immobili centr filial particip annex capital capital propr denomin hor capital e e e tt e pl e r a chiffr c dividend n p caution r resultat _ detenu titr detenus avanc affair cifn valeur brut valeur net filial plus snc alle savoi snc hotel dieu realis snc carr jaud sccv castel view particip sci berthelot sccv debourg lyon autr particip snc passag pasteur pag\n",
      "---\n",
      "annex compt social not tableau filial particip inform financi capital filial particip filial detenu particip detenu entre gi eurovi bitum centr b renseign global autr titr renseign detaill chaqu titr dont valeur brut exced capital valeur quot part capital detenu detenus capital propr valeur comptabl titr brut encor rembours net pret avanc consent societ non mont caution aval don societ chiffr affair hor tax derni exercic ecoul resultat benefic pert derni exercic clos dividend encaiss societ cour exercic e societ astreint publiqu brut exced capital societ astreint publiqu filial francais ensembl filial etranger ensembl particip societ francais ensembl particip societ etranger ensembl pag\n",
      "---\n",
      "annex compt social not tableau filial particip inform financi capital filial particip filial detenu particip detenu entre gi eurovi bitum centr b renseign global autr titr renseign detaill chaqu titr dont valeur brut exced capital valeur quot part capital detenu detenus capital propr valeur comptabl titr brut encor rembours net pret avanc consent societ non mont caution aval don societ chiffr affair hor tax derni exercic ecoul resultat benefic pert derni exercic clos dividend encaiss societ cour exercic e societ astreint publiqu brut exced capital societ astreint publiqu filial francais ensembl filial etranger ensembl particip societ francais ensembl particip societ etranger ensembl pag\n",
      "---\n",
      "certifi conforn list filial particip a or g nal e valo sr d quot valeur comptabl pret mont resultat ap a el t a ete part titr detenus avanc caution affair benefic encaiss pjl iln capital consent aval o exercic observ vis detenu qpl e cr e pert resultat de ni e rn a filial b particip autr particip total pag\n",
      "---\n",
      "list filial particip situat net quot valeur comptabl pret mont chiffr resultat dividend capital tin as titr detenus avanc caution duv n an encaiss eto e mitctiv capital ktiptd ete aval h exercic e is an n avant affect detenu qvi e ste non resultat e ide dn ttdo cn ct uen a filial b particip autr particip total pag\n",
      "---\n",
      "list filial particip valeur chiffr comptabl clr caution titr detenus eneul cv hor tax tei don lr thei colteaitt rembours societ exercic i e i el to resultat encaiss tr tis exercic societ dfe cour p m reserv report quot filial capital ll cdoi ct e cn capital ile or ct g e enseign detaill filial capital detenu societ ineo tertiair idf ineo digital ineo industr servic idf particip canital ineo defens ineo pac ineo nucleair ranselgnement global concem autr fillai particip non repris ct fab filial francais ensembl filial etranger ensembl particip societ francais particip societ etranger dont valeur inventair exced certain pourcentag determin reglement capital societ astreint publiqu lorsqu societ a annex bilan bilan compt consolid conform reglement cet societ don renseign globat b distingu a filal francais ensembl b filal etranger ensemb chaqu filial entit laquel societ a tien particip indiqu denomin sieg social filial particip etranger suit derog inscrit inscrit sous rubriqu monnai local oper pag\n",
      "---\n",
      "list filial particip e eejel e e a eno _ e ote e e axe e e u ep da e don da da dva e e cr eig da p affectatio det a e embo aoilent exe telolill filial capital detenu societ o ineo tertiair idf ineo digital ineo industr _ servic idf e s ducaoten __ ineo defens ineo pac ineo nucleair filial francais ensembl filial etranger ensembl particip societ francais particip societ etranger dont valeur inventair exced certain pourcentag determin reglement capital societ astreint publiqu lorsqu societ a annex bilan bilan compt consolid conform reglement cet societ don renseign global b distingu a filial francais ensembl b filial etranger ensembl chaqu filial entit laquel societ a lien particip indiqu denomin sieg social filial particip etranger suit derog inscrit inscrit sous rubriqu monnai local oper pag\n",
      "---\n",
      "indigo park compt annuel sogeparc narbon __ sng r _ sngst pag cop certifi conform ya pag depet\n",
      "---\n",
      "sogeparc narbon sng sngst cop certifi conform ya lepot indigo park compt annuel pag pag\n",
      "---\n",
      "sas immobilier carrefour euros tableau filial particip cop certifi conform dj particip capital autr quotepart valeur valeur pretset caution chiffr affair resultat dividend capital capital titr titr avanc aval derni derni encaiss observ propr detenu brut net consent fourn exercic exercic depot reseign detaill concern particip dont valeur inventair exced capital societ astreint a publiqu crfp b reseign global concern autr filial particip filial francais _ u q e w oo w filial etranger particip francais _ particip etranger e e o o o o o o q oe ss pa p o ss o\n",
      "---\n",
      "tableau filial particip valeur comptabl titr detenus pret mont avanc dividend quot consent caution encaiss part pparl etaval capital societeet don societ milli euros detenu non encor cour societ brut net embours exercic a filial capital detenu societ societ francais buil atos infoger atos integr atos consulting atos particip atos international atos invest atos manag franc atos invest atos med atos invest atos invest o atos invest __ __ _ atos worldgrid societ etranger atos origin sri ital st lou re benelux atos spain atos inform technology gmbh atos international bv pay bas atos bilisim turqu atos custom serv turqu b particip capital detenu societ canopy uk _ _ worldiin group technic informatic spain milli euros tot capital propr filial francais total capital propr filial etranger total resultat net filial francais s total resultat net filial etranger sr pag depot\n",
      "---\n",
      "holdial not annex compt arret not bilan hor bilan immobilis financier societ a seul actif immobilis titr particip dont valeur brut represent euros decembr dont euros detent hor group titr evalu cout histor don tableau principal filial particip ci dessous k valeur reserv quot comptabl dividend resultat ran avant part titr comptabilis filial particip capital derni exercic affect capital detenus cour clos resultat detenu exercic brut net fapagau oreal core yasulor oreal indones oreal belgilux oreal saud arabi loa loa dig invest immobili autr total titr particip oper entrepris lie exist oper signif part li non conclu condit normal march disponibil correspondent sold aupres central tresorer group etat echeanc creanc a an a plus brut depreci net plus an actif immobilis creanc rattach particip cop certifi conform ya pag depot\n",
      "---\n",
      "societ alve sas dat clotur list filial particip e caj e cc bn t e apiai aen mt m srokin e p mmc ln p tnf rn demt st e u vn d e p pn ue e m ue tn p e sr cp ensembl _ cec barticip pe societ francais __ u fb eipatioh esaim r ca dontl valeur inventair exced certain pourcentag determin reglement capital societ astreint publiqu lorsqu societ a annex bilan bilan compt consolid conform regiement cet societ don renseign global b distingu a filial francais ensembl b filial etranger ensembl chaqu filial entit laquel societ a lien particip indiqu denomin sieg social filial particip etranger suit derog inscrit inscrit sous rubriqu\n",
      "---\n",
      "societ alve sas dat clotur list filial particip u rr filial francais ensembl filial etranger ensembl particip societ francais particip societ etranger ota dont valeur inventair exced certain pourcentag determin reglement capital societ astreint pu tion lorsqu societ a annex bilan bilan compt consolid conform reglement cet societ don renseign global b distingu a filial francais ensembl b filial etranger ensembl chaqu filial entit laquel societ a lien particip indiqu denomin sieg social filial particip etranger suit derog inscrit inscrit sous rubriqu\n",
      "---\n",
      "etat financi not annex compt individuel tableau filial particip capital valeur pret propr brut valeur net avanc dividend autr quot part comptabl comptabl consent caution ca resultat encaiss societ group capital capital titr titr non aval derni derni cour societ devis capital resultat detenu detenus detenus rembours fourn exercic exercic exercic milli euros unit monetair devis specifi i filial moin capital detenu societ tf publiqu tf film product tf entertainment e tf tf video tf expans tf droit audiovisuel chain info ouest info tf product tf manag pref unify pref pref pref pref pref tf distribu tf d newen studios spv mont carlo particip gi tf acquisit droit ii particip capital detenu societ mediametr a international nc nc nc nc nc smr iii particip capital detenu inferieur mediametr expans ser club aphel total general filial particip cas eche compr frais acquisit titr caution aval fourn correspondent garant don societ cas defaill filial present engag hor bilan capital capital propr autr capital resultat chiffr affair resultat exercic docu enregistr universel cop certifi conform dr pag depot\n",
      "---\n",
      "tableau filial particip filial particip cged sonepar ile franc sonepar nord sonepar quest soneapr sud sonepar franc interservic sfimo soneserv aldianc ccf c clim capital tt sii nn p e nouveau avant affect valeur comptabl faoo r pa sr v e consent non encor nl quot part capital ctl particip huiy ap tai sonepar franc grand public sonepar deltreil filial etranger ensembl particip societ francais a dse caution eve don a g chiffr affair hor tax derni ril tr pin crl p encaiss a e particip societ etranger dont valeur inventair exced certain pourcentag determin reglement capital societ astreint publiqu lorsqu societ a annex bitan bilan compt consolid conform reglement cet societ don renseign global b distingu a fitial francais ensembl b filial etranger ensembl chaqu filial entit laquel societ a lien particip indiqu denomin sieg social filial particip etranger suit derog inscrit inscrit sous rubriqu a monnai locat oper\n",
      "---\n",
      "eiffag construct mid pyrene capital propr capital bl e os afejpaiat elejn etje filial plus eiffag construct immobili occitan q p capital detenu filial particip valeur comptabl titr detenus i acn avanc e vlit tlv o u cr ttn tcn annex chiffr oen eten resultat p ate i pe cifn particip snc ade expans ru blais pascal tarb sci anna ru blais pascal tarb autr particip pag\n",
      "---\n",
      "inform financi compt social tableau filial particip autr capital valeur comptabl propr quot part nombr titr detenus pret caution chiffr resultat capital action avanc aval affair div million euros capital inclus detenu detenu brut net consent don dend filial capgemin north americ inc cg holding ltd gemin consulting holding ltd capgemin oldco ltd capgemin ab sued capgemin nv benelux capgemin business servic bv capgemin deutschland holding gmbh capgemin consulting osterreich ag capgemin suiss ag capgemin polsk sp z o o pologn capgemin magyarorszag kft capgemin czech republic r o capgemin franc a capgemin technology servic maroc a soget a capgemin itali p a capgemin espan sociedad unipersonal capgemin portugal servicos consultori e informatic a capgemin business servic guatemal a capgemin argentin a capgemin asi pacific pte ltd capgemin australi pty ltd capgemin technology servic indi limited capgemin servic a i paris etoil immobili fontain a r capgemin gouvieux a capgemin latin americ a capgemin reinsur international a autr filial francais a a a a a a autr etranger a a a a a particip decembr mont autr particip detenu capgemin correspond titr altran technolog azqor a non applic capgemin docu enregistr universel\n",
      "---\n",
      "inform financi compt social tableau filial particip autr capital valeur comptabl propr quot part nombr titr detenus pret caution chiffr resultat capital action avanc aval affair div million euros capital inclus detenu detenu brut net consent don dend filial capgemin north americ inc cg holding ltd gemin consulting holding ltd capgemin oldco ltd capgemin ab sued capgemin nv benelux capgemin business servic bv capgemin deutschland holding gmbh capgemin consulting osterreich ag capgemin suiss ag capgemin polsk sp z o o pologn capgemin magyarorszag kft capgemin czech republic r o capgemin franc a capgemin technology servic maroc a soget a capgemin itali p a capgemin espan sociedad unipersonal capgemin portugal servicos consultori e informatic a capgemin business servic guatemal a capgemin argentin a capgemin asi pacific pte ltd capgemin australi pty ltd capgemin technology servic indi limited capgemin servic a i paris etoil immobili fontain a r capgemin gouvieux a capgemin latin americ a capgemin reinsur international a autr filial francais a a a a a a autr etranger a a a a a particip decembr mont autr particip detenu capgemin correspond titr altran technolog azqor a non applic capgemin docu enregistr universel\n",
      "---\n",
      "blra quot partd capital propr derni exercic capital milli euros clos milli k cet filial lactal servic manag societ produit laiti ouest lactal invest lactal gestion lait sas verger chateaubourg p manag lactal gestion international lactal ingredient societ fromager xertigny fromager girod snc lactal fromag lactal beurr crem h f collect lait bayeux p manag lactel cateli lactal manag clb manag manag manag manag lactal europ laiter chevroli raguin terroir authent metral lactal nestl produit frais collect lait sarrebourg poitrey bel etoil ste fromager saint maclou societ laiti normand ste cav producteur reun roquefor et avenel lacto serum franc sas caneli lactal nutrit dietet walchl lactal nutrit sant\n",
      "---\n",
      "filial z languetot g manag celi fromager pochat fil ste fromager st bonnet societ marcillat loulan societ fromager jort societ fromager moulin carel h manag manag fromager normand particip lactal vostok societ fromager rod chartrousin societ laiti rod societ laiti blavet sofil normand perch lait solaip marcillat corcieux ste fromager raival etoil vercor societ industriel bondu ste laiti hermitag ste laiti vitr ste beurrier isigny ste fromager vercel fromager dauphin ste fromager bouvron ste laiti reti bolaidor ste fromager eteau ste fromager domfront ste laiti clermont ste fromager charchign ste fromager meau st faron ste fromager riom quot part capital capital propr nc pl eldel e de gpal\n",
      "---\n",
      "dont resultat hve capital propr capital p f e fil e particip ste fromager orbec ste fromager saint cecil ste beurri reti ste fromager pontivy ste laiti pontivy ste fromager riblair sogal socamuel nc ste laiti montauban ste fromager reti ste laiti mayen ste fromager clecy ste fromager craon celi laiter craon ste industriel saint florent etoil quercy chiffr affair filial present rapport gestion\n",
      "---\n",
      "we sl e e p ce ete cp e capital milli euros clos milli filial lactal servic manag societ produit laiti ouest lactal invest lactal gestion lait sas verger chateaubourg p manag lactal gestion international lactal ingredient societ fromager xertigny fromager girod snc lactal fromag lactal beurr crem h f collect lait bayeux p manag lactel cateli lactal manag clb manag lt manag manag a manag lactal europ laiter chevroli raguin terroir authent metral lactal nestl produit frais collect lait sarrebourg poitrey bel etoil ste fromager saint maclou societ laiti normand ste cav producteur reun roquefor et avenel lacto serum franc sas caneli lactal nutrit dietet walchii lactal nutrit sant\n",
      "---\n",
      "dont resultat capital propr capital cis crl clos filial z languetot i g manag celi fromager pochat fil ste fromager st bonnet societ marcillat loulan societ fromager jort societ fromager moulin carel h manag b manag fromager normand particip lactal vostok societ fromager rod chartrousin societ laiti rod societ laiti blavet sofil normand perch lait solaip marcillat corcieux ste fromager raival etoil vercor societ industriel bondu ste laiti hermitag ste laiti vitr ste beurrier isigny ste fromager vercel fromager dauphin ste fromager bouvron ste laiti reti bolaidor nc ste fromager eteau ste fromager domfront ste laiti clermont ste fromager charchign ste fromager meau st faron ste fromager riom\n",
      "---\n",
      "prepid ketdo pep capital propr capital p w ctn cl a particip ste fromager orbec ste fromager saint cecil ste beurri reti ste fromager pontivy ste laiti pontivy ste fromager riblair sogal socamuel nc ste laiti montauban ste fromager reti ste laiti mayen ste fromager clecy ste fromager craon celi laiter craon ste industriel saint florent etoil quercy chiffr affair filial present rapport gestion\n",
      "---\n",
      "bourgey montreuil normand geod annex comptabl not list filial particip milli euros ljn avanc denomin capital q v b titr capital sieg social e dividend v titr caution resultat pn r per sci poudri _ _ _ z boulevard dambourney particip e nn autr filiai francais autr filial etranger i autr particip francais i autr particip etranger i cop certifi conform ad pag depot\n"
     ]
    }
   ],
   "source": [
    "for text, label in zip(flat_corpus, valid_labels):\n",
    "    if label == 1:\n",
    "        print(\"---\")\n",
    "        print(text)\n"
   ]
  },
  {
   "cell_type": "code",
   "execution_count": 59,
   "metadata": {},
   "outputs": [],
   "source": [
    "from utils import fs\n",
    "\n",
    "with fs.open(\n",
    "    \"s3://projet-extraction-tableaux/data/correct_first250.pickle\", \"rb\"\n",
    ") as f:\n",
    "    df = pickle.load(f)\n",
    "\n",
    "checked_siren = df.siren.unique()[:49]\n",
    "df = df[df.siren.isin(checked_siren)]"
   ]
  },
  {
   "cell_type": "code",
   "execution_count": 64,
   "metadata": {},
   "outputs": [
    {
     "data": {
      "text/html": [
       "<div>\n",
       "<style scoped>\n",
       "    .dataframe tbody tr th:only-of-type {\n",
       "        vertical-align: middle;\n",
       "    }\n",
       "\n",
       "    .dataframe tbody tr th {\n",
       "        vertical-align: top;\n",
       "    }\n",
       "\n",
       "    .dataframe thead th {\n",
       "        text-align: right;\n",
       "    }\n",
       "</style>\n",
       "<table border=\"1\" class=\"dataframe\">\n",
       "  <thead>\n",
       "    <tr style=\"text-align: right;\">\n",
       "      <th></th>\n",
       "      <th>siren</th>\n",
       "      <th>pagenumber</th>\n",
       "      <th>text</th>\n",
       "      <th>tableau_f_et_p</th>\n",
       "      <th>accOCR</th>\n",
       "      <th>tableauPDF</th>\n",
       "    </tr>\n",
       "  </thead>\n",
       "  <tbody>\n",
       "    <tr>\n",
       "      <th>92</th>\n",
       "      <td>55800296</td>\n",
       "      <td>20</td>\n",
       "      <td>LTo1 14B € Tableau des filiales et participati...</td>\n",
       "      <td>1</td>\n",
       "      <td>85,9057450294495</td>\n",
       "      <td>1</td>\n",
       "    </tr>\n",
       "    <tr>\n",
       "      <th>278</th>\n",
       "      <td>300349636</td>\n",
       "      <td>69</td>\n",
       "      <td>Comptes consolidés Notes sur les comptes conso...</td>\n",
       "      <td>1</td>\n",
       "      <td>87,6030665151938</td>\n",
       "      <td>1</td>\n",
       "    </tr>\n",
       "    <tr>\n",
       "      <th>279</th>\n",
       "      <td>300349636</td>\n",
       "      <td>70</td>\n",
       "      <td>Comptes consolidés Notes sur les comptes conso...</td>\n",
       "      <td>1</td>\n",
       "      <td>86,7680165881202</td>\n",
       "      <td>1</td>\n",
       "    </tr>\n",
       "    <tr>\n",
       "      <th>280</th>\n",
       "      <td>300349636</td>\n",
       "      <td>71</td>\n",
       "      <td>268 Comptes consolidés Notes sur les comptes c...</td>\n",
       "      <td>1</td>\n",
       "      <td>86,1101962697759</td>\n",
       "      <td>1</td>\n",
       "    </tr>\n",
       "    <tr>\n",
       "      <th>281</th>\n",
       "      <td>300349636</td>\n",
       "      <td>72</td>\n",
       "      <td>Comptes consolidés Notes sur les comptes conso...</td>\n",
       "      <td>1</td>\n",
       "      <td>88,7639703442973</td>\n",
       "      <td>1</td>\n",
       "    </tr>\n",
       "    <tr>\n",
       "      <th>370</th>\n",
       "      <td>300349636</td>\n",
       "      <td>161</td>\n",
       "      <td>Comptes consolidés Notes sur les comptes conso...</td>\n",
       "      <td>1</td>\n",
       "      <td>87,1267782473097</td>\n",
       "      <td>1</td>\n",
       "    </tr>\n",
       "    <tr>\n",
       "      <th>371</th>\n",
       "      <td>300349636</td>\n",
       "      <td>162</td>\n",
       "      <td>Comptes consolidés Notes sur les comptes conso...</td>\n",
       "      <td>1</td>\n",
       "      <td>86,6281166345933</td>\n",
       "      <td>1</td>\n",
       "    </tr>\n",
       "    <tr>\n",
       "      <th>372</th>\n",
       "      <td>300349636</td>\n",
       "      <td>163</td>\n",
       "      <td>Comptes consolidés Notes sur les comptes conso...</td>\n",
       "      <td>1</td>\n",
       "      <td>85,9755169612424</td>\n",
       "      <td>1</td>\n",
       "    </tr>\n",
       "    <tr>\n",
       "      <th>373</th>\n",
       "      <td>300349636</td>\n",
       "      <td>164</td>\n",
       "      <td>4 Note 32.2. Entreprises associées Comptes con...</td>\n",
       "      <td>1</td>\n",
       "      <td>89,107959476594</td>\n",
       "      <td>1</td>\n",
       "    </tr>\n",
       "    <tr>\n",
       "      <th>569</th>\n",
       "      <td>301940219</td>\n",
       "      <td>45</td>\n",
       "      <td>L'effectif moyen représente la moyenne du pers...</td>\n",
       "      <td>1</td>\n",
       "      <td>87,987220681006</td>\n",
       "      <td>1</td>\n",
       "    </tr>\n",
       "    <tr>\n",
       "      <th>570</th>\n",
       "      <td>301940219</td>\n",
       "      <td>46</td>\n",
       "      <td>Valeur comptable Dividende des titres s Prêtse...</td>\n",
       "      <td>1</td>\n",
       "      <td>90,1697430697354</td>\n",
       "      <td>1</td>\n",
       "    </tr>\n",
       "    <tr>\n",
       "      <th>571</th>\n",
       "      <td>301940219</td>\n",
       "      <td>47</td>\n",
       "      <td>Valeur comptable Dividende des titres s Prêtse...</td>\n",
       "      <td>1</td>\n",
       "      <td>89,9520453503257</td>\n",
       "      <td>1</td>\n",
       "    </tr>\n",
       "    <tr>\n",
       "      <th>621</th>\n",
       "      <td>302135561</td>\n",
       "      <td>48</td>\n",
       "      <td>LAFA...</td>\n",
       "      <td>1</td>\n",
       "      <td>NaN</td>\n",
       "      <td>1</td>\n",
       "    </tr>\n",
       "    <tr>\n",
       "      <th>622</th>\n",
       "      <td>302135561</td>\n",
       "      <td>49</td>\n",
       "      <td>LAFARGEHOLCIM CIMENTS Etats Financiers au 31/1...</td>\n",
       "      <td>1</td>\n",
       "      <td>88,5198197954156</td>\n",
       "      <td>1</td>\n",
       "    </tr>\n",
       "    <tr>\n",
       "      <th>720</th>\n",
       "      <td>303152839</td>\n",
       "      <td>60</td>\n",
       "      <td>Liste des filiales et participationL \\ Fillale...</td>\n",
       "      <td>1</td>\n",
       "      <td>83,4777872903006</td>\n",
       "      <td>0</td>\n",
       "    </tr>\n",
       "    <tr>\n",
       "      <th>752</th>\n",
       "      <td>303197586</td>\n",
       "      <td>22</td>\n",
       "      <td>&lt;idesc&gt; Tableau des filiales et participations...</td>\n",
       "      <td>1</td>\n",
       "      <td>85,5973952366756</td>\n",
       "      <td>1</td>\n",
       "    </tr>\n",
       "    <tr>\n",
       "      <th>794</th>\n",
       "      <td>303197586</td>\n",
       "      <td>64</td>\n",
       "      <td>&lt;idesc&gt; Tableau des filiales et participations...</td>\n",
       "      <td>1</td>\n",
       "      <td>87,7947652559754</td>\n",
       "      <td>1</td>\n",
       "    </tr>\n",
       "    <tr>\n",
       "      <th>927</th>\n",
       "      <td>303954002</td>\n",
       "      <td>50</td>\n",
       "      <td>EIFFAGE CONSTRUCTION l AI ; CONELUENCES Filial...</td>\n",
       "      <td>1</td>\n",
       "      <td>70,229005601671</td>\n",
       "      <td>1</td>\n",
       "    </tr>\n",
       "    <tr>\n",
       "      <th>991</th>\n",
       "      <td>304497852</td>\n",
       "      <td>45</td>\n",
       "      <td>- Liste des filiales et participations Déclara...</td>\n",
       "      <td>1</td>\n",
       "      <td>90,4202274266821</td>\n",
       "      <td>1</td>\n",
       "    </tr>\n",
       "    <tr>\n",
       "      <th>1006</th>\n",
       "      <td>305756413</td>\n",
       "      <td>13</td>\n",
       "      <td>b) Immobilisations corporelles...</td>\n",
       "      <td>1</td>\n",
       "      <td>NaN</td>\n",
       "      <td>1</td>\n",
       "    </tr>\n",
       "    <tr>\n",
       "      <th>1033</th>\n",
       "      <td>305756413</td>\n",
       "      <td>40</td>\n",
       "      <td>b) Immobilisations corporelles...</td>\n",
       "      <td>1</td>\n",
       "      <td>NaN</td>\n",
       "      <td>1</td>\n",
       "    </tr>\n",
       "    <tr>\n",
       "      <th>1053</th>\n",
       "      <td>308307883</td>\n",
       "      <td>11</td>\n",
       "      <td>Sanofi Développement S.A.S A t | @n Exercice c...</td>\n",
       "      <td>1</td>\n",
       "      <td>88,7467245169021</td>\n",
       "      <td>0</td>\n",
       "    </tr>\n",
       "    <tr>\n",
       "      <th>1070</th>\n",
       "      <td>308307883</td>\n",
       "      <td>28</td>\n",
       "      <td>Sanofi Développement S.A.S A t l æs Exercice c...</td>\n",
       "      <td>1</td>\n",
       "      <td>87,8156868987882</td>\n",
       "      <td>0</td>\n",
       "    </tr>\n",
       "    <tr>\n",
       "      <th>1139</th>\n",
       "      <td>311294862</td>\n",
       "      <td>38</td>\n",
       "      <td>Liste des filiales et participations A-Filiale...</td>\n",
       "      <td>1</td>\n",
       "      <td>71,1735618815703</td>\n",
       "      <td>1</td>\n",
       "    </tr>\n",
       "    <tr>\n",
       "      <th>1175</th>\n",
       "      <td>311294862</td>\n",
       "      <td>74</td>\n",
       "      <td>Liste des filiales et participations A-Filiale...</td>\n",
       "      <td>1</td>\n",
       "      <td>50,3306676565883</td>\n",
       "      <td>1</td>\n",
       "    </tr>\n",
       "    <tr>\n",
       "      <th>1224</th>\n",
       "      <td>311962443</td>\n",
       "      <td>49</td>\n",
       "      <td>EËÊÊÊËÊONSTRUCTION Fili3l€S et participations ...</td>\n",
       "      <td>1</td>\n",
       "      <td>72,6037556847861</td>\n",
       "      <td>1</td>\n",
       "    </tr>\n",
       "    <tr>\n",
       "      <th>1333</th>\n",
       "      <td>315013359</td>\n",
       "      <td>18</td>\n",
       "      <td>GE MEDICAL SYSTEMS S.C.S.\\r\\r\\n      ...</td>\n",
       "      <td>1</td>\n",
       "      <td>NaN</td>\n",
       "      <td>1</td>\n",
       "    </tr>\n",
       "    <tr>\n",
       "      <th>1367</th>\n",
       "      <td>315013359</td>\n",
       "      <td>52</td>\n",
       "      <td>GE MEDICAL SYSTEMS S.C.S.\\r\\r\\n      ...</td>\n",
       "      <td>1</td>\n",
       "      <td>NaN</td>\n",
       "      <td>1</td>\n",
       "    </tr>\n",
       "    <tr>\n",
       "      <th>1430</th>\n",
       "      <td>317959989</td>\n",
       "      <td>49</td>\n",
       "      <td>ËIË_FAGE IMMOBILIER CENTRE Filiales et partici...</td>\n",
       "      <td>1</td>\n",
       "      <td>80,8811505116573</td>\n",
       "      <td>1</td>\n",
       "    </tr>\n",
       "    <tr>\n",
       "      <th>1451</th>\n",
       "      <td>317975910</td>\n",
       "      <td>20</td>\n",
       "      <td>Annexe aux comptes sociaux Note 23- Tableau de...</td>\n",
       "      <td>1</td>\n",
       "      <td>92,3606415633317</td>\n",
       "      <td>1</td>\n",
       "    </tr>\n",
       "    <tr>\n",
       "      <th>1476</th>\n",
       "      <td>317975910</td>\n",
       "      <td>45</td>\n",
       "      <td>Annexe aux comptes sociaux Note 23- Tableau de...</td>\n",
       "      <td>1</td>\n",
       "      <td>92,3478991749522</td>\n",
       "      <td>1</td>\n",
       "    </tr>\n",
       "    <tr>\n",
       "      <th>1509</th>\n",
       "      <td>318381324</td>\n",
       "      <td>33</td>\n",
       "      <td>44 &gt; CERTIFIÉ CONFORNE Liste des filiales et p...</td>\n",
       "      <td>1</td>\n",
       "      <td>54,2303506804676</td>\n",
       "      <td>1</td>\n",
       "    </tr>\n",
       "    <tr>\n",
       "      <th>1555</th>\n",
       "      <td>318381324</td>\n",
       "      <td>79</td>\n",
       "      <td>Liste des filiales et participations SITUATION...</td>\n",
       "      <td>1</td>\n",
       "      <td>59,7574195442619</td>\n",
       "      <td>1</td>\n",
       "    </tr>\n",
       "    <tr>\n",
       "      <th>1593</th>\n",
       "      <td>320048945</td>\n",
       "      <td>32</td>\n",
       "      <td>24. Liste des filiales et participations Valeu...</td>\n",
       "      <td>1</td>\n",
       "      <td>76,6713263033485</td>\n",
       "      <td>1</td>\n",
       "    </tr>\n",
       "    <tr>\n",
       "      <th>1626</th>\n",
       "      <td>320048945</td>\n",
       "      <td>65</td>\n",
       "      <td>24. Liste des filiales et participations e . ....</td>\n",
       "      <td>1</td>\n",
       "      <td>78,5096329450607</td>\n",
       "      <td>1</td>\n",
       "    </tr>\n",
       "    <tr>\n",
       "      <th>1645</th>\n",
       "      <td>320229644</td>\n",
       "      <td>17</td>\n",
       "      <td>Indigo Park Comptes annuels au 31/12/2019 SOGE...</td>\n",
       "      <td>1</td>\n",
       "      <td>86,9997820027669</td>\n",
       "      <td>1</td>\n",
       "    </tr>\n",
       "    <tr>\n",
       "      <th>1704</th>\n",
       "      <td>320229644</td>\n",
       "      <td>76</td>\n",
       "      <td>SOGEPARC NARBONNE 1 200 000 -301 879 SNGS 31/1...</td>\n",
       "      <td>1</td>\n",
       "      <td>91,9117653675568</td>\n",
       "      <td>1</td>\n",
       "    </tr>\n",
       "    <tr>\n",
       "      <th>1777</th>\n",
       "      <td>323439786</td>\n",
       "      <td>39</td>\n",
       "      <td>SAS IMMOBILIERE CARREFOUR EN EUROS (5.9. TABLE...</td>\n",
       "      <td>1</td>\n",
       "      <td>78,816800614198</td>\n",
       "      <td>1</td>\n",
       "    </tr>\n",
       "    <tr>\n",
       "      <th>1792</th>\n",
       "      <td>323623603</td>\n",
       "      <td>15</td>\n",
       "      <td>Tableau des filiales et participations Valeur ...</td>\n",
       "      <td>1</td>\n",
       "      <td>88,0114877314507</td>\n",
       "      <td>1</td>\n",
       "    </tr>\n",
       "    <tr>\n",
       "      <th>1824</th>\n",
       "      <td>324084698</td>\n",
       "      <td>13</td>\n",
       "      <td>HOLDIAL\\r\\r\\n                N...</td>\n",
       "      <td>1</td>\n",
       "      <td>NaN</td>\n",
       "      <td>1</td>\n",
       "    </tr>\n",
       "    <tr>\n",
       "      <th>1867</th>\n",
       "      <td>324958198</td>\n",
       "      <td>37</td>\n",
       "      <td>Société : ALVEA SAS Date de clôture : 31/12/20...</td>\n",
       "      <td>1</td>\n",
       "      <td>63,7849305010072</td>\n",
       "      <td>1</td>\n",
       "    </tr>\n",
       "    <tr>\n",
       "      <th>1904</th>\n",
       "      <td>324958198</td>\n",
       "      <td>74</td>\n",
       "      <td>Société : ALVEA SAS Date de clôture : 31/12/20...</td>\n",
       "      <td>1</td>\n",
       "      <td>89,1981153421469</td>\n",
       "      <td>1</td>\n",
       "    </tr>\n",
       "    <tr>\n",
       "      <th>2268</th>\n",
       "      <td>326300159</td>\n",
       "      <td>264</td>\n",
       "      <td>6               ÉTATS F...</td>\n",
       "      <td>1</td>\n",
       "      <td>NaN</td>\n",
       "      <td>1</td>\n",
       "    </tr>\n",
       "    <tr>\n",
       "      <th>2387</th>\n",
       "      <td>326769379</td>\n",
       "      <td>56</td>\n",
       "      <td>Tableau des filiales et des participations fil...</td>\n",
       "      <td>1</td>\n",
       "      <td>84,5981371811926</td>\n",
       "      <td>1</td>\n",
       "    </tr>\n",
       "    <tr>\n",
       "      <th>2486</th>\n",
       "      <td>328695119</td>\n",
       "      <td>52</td>\n",
       "      <td>EIFFAGE CONSTRUCTION MIDI PYRENEES Capitaux Pr...</td>\n",
       "      <td>1</td>\n",
       "      <td>72,1341751669055</td>\n",
       "      <td>1</td>\n",
       "    </tr>\n",
       "    <tr>\n",
       "      <th>2830</th>\n",
       "      <td>330703844</td>\n",
       "      <td>283</td>\n",
       "      <td>279                                           ...</td>\n",
       "      <td>1</td>\n",
       "      <td>NaN</td>\n",
       "      <td>1</td>\n",
       "    </tr>\n",
       "    <tr>\n",
       "      <th>3233</th>\n",
       "      <td>330703844</td>\n",
       "      <td>686</td>\n",
       "      <td>279                                           ...</td>\n",
       "      <td>1</td>\n",
       "      <td>NaN</td>\n",
       "      <td>1</td>\n",
       "    </tr>\n",
       "    <tr>\n",
       "      <th>3827</th>\n",
       "      <td>331142554</td>\n",
       "      <td>17</td>\n",
       "      <td>Blra ce ce Quote-partde … Capitaux propres = d...</td>\n",
       "      <td>1</td>\n",
       "      <td>88,2980699330351</td>\n",
       "      <td>1</td>\n",
       "    </tr>\n",
       "    <tr>\n",
       "      <th>3828</th>\n",
       "      <td>331142554</td>\n",
       "      <td>18</td>\n",
       "      <td>FILIALES : - Z Languetot - L.G. Management - C...</td>\n",
       "      <td>1</td>\n",
       "      <td>89,6663781820129</td>\n",
       "      <td>1</td>\n",
       "    </tr>\n",
       "    <tr>\n",
       "      <th>3829</th>\n",
       "      <td>331142554</td>\n",
       "      <td>19</td>\n",
       "      <td>Dont résultat du HVE Capitaux propres Capital ...</td>\n",
       "      <td>1</td>\n",
       "      <td>85,9197658962674</td>\n",
       "      <td>1</td>\n",
       "    </tr>\n",
       "    <tr>\n",
       "      <th>3853</th>\n",
       "      <td>331142554</td>\n",
       "      <td>43</td>\n",
       "      <td>we (Sl e L e t es t P d 1ce 1 ETE S C1p e Capi...</td>\n",
       "      <td>1</td>\n",
       "      <td>84,9014880176989</td>\n",
       "      <td>1</td>\n",
       "    </tr>\n",
       "    <tr>\n",
       "      <th>3854</th>\n",
       "      <td>331142554</td>\n",
       "      <td>44</td>\n",
       "      <td>Dont résultat du S EU Capitaux propres ; À Cap...</td>\n",
       "      <td>1</td>\n",
       "      <td>89,3727227794382</td>\n",
       "      <td>1</td>\n",
       "    </tr>\n",
       "    <tr>\n",
       "      <th>3855</th>\n",
       "      <td>331142554</td>\n",
       "      <td>45</td>\n",
       "      <td>[prepide=20kétdo|6 PEPE Capitaux propres Capit...</td>\n",
       "      <td>1</td>\n",
       "      <td>87,2757573054387</td>\n",
       "      <td>1</td>\n",
       "    </tr>\n",
       "    <tr>\n",
       "      <th>3922</th>\n",
       "      <td>331154765</td>\n",
       "      <td>67</td>\n",
       "      <td>BOURGEY MONTREUIL NORMANDIE @ GEODIS ANNEXE CO...</td>\n",
       "      <td>1</td>\n",
       "      <td>80,3165727732133</td>\n",
       "      <td>1</td>\n",
       "    </tr>\n",
       "  </tbody>\n",
       "</table>\n",
       "</div>"
      ],
      "text/plain": [
       "          siren  pagenumber  \\\n",
       "92     55800296          20   \n",
       "278   300349636          69   \n",
       "279   300349636          70   \n",
       "280   300349636          71   \n",
       "281   300349636          72   \n",
       "370   300349636         161   \n",
       "371   300349636         162   \n",
       "372   300349636         163   \n",
       "373   300349636         164   \n",
       "569   301940219          45   \n",
       "570   301940219          46   \n",
       "571   301940219          47   \n",
       "621   302135561          48   \n",
       "622   302135561          49   \n",
       "720   303152839          60   \n",
       "752   303197586          22   \n",
       "794   303197586          64   \n",
       "927   303954002          50   \n",
       "991   304497852          45   \n",
       "1006  305756413          13   \n",
       "1033  305756413          40   \n",
       "1053  308307883          11   \n",
       "1070  308307883          28   \n",
       "1139  311294862          38   \n",
       "1175  311294862          74   \n",
       "1224  311962443          49   \n",
       "1333  315013359          18   \n",
       "1367  315013359          52   \n",
       "1430  317959989          49   \n",
       "1451  317975910          20   \n",
       "1476  317975910          45   \n",
       "1509  318381324          33   \n",
       "1555  318381324          79   \n",
       "1593  320048945          32   \n",
       "1626  320048945          65   \n",
       "1645  320229644          17   \n",
       "1704  320229644          76   \n",
       "1777  323439786          39   \n",
       "1792  323623603          15   \n",
       "1824  324084698          13   \n",
       "1867  324958198          37   \n",
       "1904  324958198          74   \n",
       "2268  326300159         264   \n",
       "2387  326769379          56   \n",
       "2486  328695119          52   \n",
       "2830  330703844         283   \n",
       "3233  330703844         686   \n",
       "3827  331142554          17   \n",
       "3828  331142554          18   \n",
       "3829  331142554          19   \n",
       "3853  331142554          43   \n",
       "3854  331142554          44   \n",
       "3855  331142554          45   \n",
       "3922  331154765          67   \n",
       "\n",
       "                                                   text  tableau_f_et_p  \\\n",
       "92    LTo1 14B € Tableau des filiales et participati...               1   \n",
       "278   Comptes consolidés Notes sur les comptes conso...               1   \n",
       "279   Comptes consolidés Notes sur les comptes conso...               1   \n",
       "280   268 Comptes consolidés Notes sur les comptes c...               1   \n",
       "281   Comptes consolidés Notes sur les comptes conso...               1   \n",
       "370   Comptes consolidés Notes sur les comptes conso...               1   \n",
       "371   Comptes consolidés Notes sur les comptes conso...               1   \n",
       "372   Comptes consolidés Notes sur les comptes conso...               1   \n",
       "373   4 Note 32.2. Entreprises associées Comptes con...               1   \n",
       "569   L'effectif moyen représente la moyenne du pers...               1   \n",
       "570   Valeur comptable Dividende des titres s Prêtse...               1   \n",
       "571   Valeur comptable Dividende des titres s Prêtse...               1   \n",
       "621                                             LAFA...               1   \n",
       "622   LAFARGEHOLCIM CIMENTS Etats Financiers au 31/1...               1   \n",
       "720   Liste des filiales et participationL \\ Fillale...               1   \n",
       "752   <idesc> Tableau des filiales et participations...               1   \n",
       "794   <idesc> Tableau des filiales et participations...               1   \n",
       "927   EIFFAGE CONSTRUCTION l AI ; CONELUENCES Filial...               1   \n",
       "991   - Liste des filiales et participations Déclara...               1   \n",
       "1006                  b) Immobilisations corporelles...               1   \n",
       "1033                  b) Immobilisations corporelles...               1   \n",
       "1053  Sanofi Développement S.A.S A t | @n Exercice c...               1   \n",
       "1070  Sanofi Développement S.A.S A t l æs Exercice c...               1   \n",
       "1139  Liste des filiales et participations A-Filiale...               1   \n",
       "1175  Liste des filiales et participations A-Filiale...               1   \n",
       "1224  EËÊÊÊËÊONSTRUCTION Fili3l€S et participations ...               1   \n",
       "1333           GE MEDICAL SYSTEMS S.C.S.\\r\\r\\n      ...               1   \n",
       "1367           GE MEDICAL SYSTEMS S.C.S.\\r\\r\\n      ...               1   \n",
       "1430  ËIË_FAGE IMMOBILIER CENTRE Filiales et partici...               1   \n",
       "1451  Annexe aux comptes sociaux Note 23- Tableau de...               1   \n",
       "1476  Annexe aux comptes sociaux Note 23- Tableau de...               1   \n",
       "1509  44 > CERTIFIÉ CONFORNE Liste des filiales et p...               1   \n",
       "1555  Liste des filiales et participations SITUATION...               1   \n",
       "1593  24. Liste des filiales et participations Valeu...               1   \n",
       "1626  24. Liste des filiales et participations e . ....               1   \n",
       "1645  Indigo Park Comptes annuels au 31/12/2019 SOGE...               1   \n",
       "1704  SOGEPARC NARBONNE 1 200 000 -301 879 SNGS 31/1...               1   \n",
       "1777  SAS IMMOBILIERE CARREFOUR EN EUROS (5.9. TABLE...               1   \n",
       "1792  Tableau des filiales et participations Valeur ...               1   \n",
       "1824                  HOLDIAL\\r\\r\\n                N...               1   \n",
       "1867  Société : ALVEA SAS Date de clôture : 31/12/20...               1   \n",
       "1904  Société : ALVEA SAS Date de clôture : 31/12/20...               1   \n",
       "2268                         6               ÉTATS F...               1   \n",
       "2387  Tableau des filiales et des participations fil...               1   \n",
       "2486  EIFFAGE CONSTRUCTION MIDI PYRENEES Capitaux Pr...               1   \n",
       "2830  279                                           ...               1   \n",
       "3233  279                                           ...               1   \n",
       "3827  Blra ce ce Quote-partde … Capitaux propres = d...               1   \n",
       "3828  FILIALES : - Z Languetot - L.G. Management - C...               1   \n",
       "3829  Dont résultat du HVE Capitaux propres Capital ...               1   \n",
       "3853  we (Sl e L e t es t P d 1ce 1 ETE S C1p e Capi...               1   \n",
       "3854  Dont résultat du S EU Capitaux propres ; À Cap...               1   \n",
       "3855  [prepide=20kétdo|6 PEPE Capitaux propres Capit...               1   \n",
       "3922  BOURGEY MONTREUIL NORMANDIE @ GEODIS ANNEXE CO...               1   \n",
       "\n",
       "                accOCR  tableauPDF  \n",
       "92    85,9057450294495           1  \n",
       "278   87,6030665151938           1  \n",
       "279   86,7680165881202           1  \n",
       "280   86,1101962697759           1  \n",
       "281   88,7639703442973           1  \n",
       "370   87,1267782473097           1  \n",
       "371   86,6281166345933           1  \n",
       "372   85,9755169612424           1  \n",
       "373    89,107959476594           1  \n",
       "569    87,987220681006           1  \n",
       "570   90,1697430697354           1  \n",
       "571   89,9520453503257           1  \n",
       "621                NaN           1  \n",
       "622   88,5198197954156           1  \n",
       "720   83,4777872903006           0  \n",
       "752   85,5973952366756           1  \n",
       "794   87,7947652559754           1  \n",
       "927    70,229005601671           1  \n",
       "991   90,4202274266821           1  \n",
       "1006               NaN           1  \n",
       "1033               NaN           1  \n",
       "1053  88,7467245169021           0  \n",
       "1070  87,8156868987882           0  \n",
       "1139  71,1735618815703           1  \n",
       "1175  50,3306676565883           1  \n",
       "1224  72,6037556847861           1  \n",
       "1333               NaN           1  \n",
       "1367               NaN           1  \n",
       "1430  80,8811505116573           1  \n",
       "1451  92,3606415633317           1  \n",
       "1476  92,3478991749522           1  \n",
       "1509  54,2303506804676           1  \n",
       "1555  59,7574195442619           1  \n",
       "1593  76,6713263033485           1  \n",
       "1626  78,5096329450607           1  \n",
       "1645  86,9997820027669           1  \n",
       "1704  91,9117653675568           1  \n",
       "1777   78,816800614198           1  \n",
       "1792  88,0114877314507           1  \n",
       "1824               NaN           1  \n",
       "1867  63,7849305010072           1  \n",
       "1904  89,1981153421469           1  \n",
       "2268               NaN           1  \n",
       "2387  84,5981371811926           1  \n",
       "2486  72,1341751669055           1  \n",
       "2830               NaN           1  \n",
       "3233               NaN           1  \n",
       "3827  88,2980699330351           1  \n",
       "3828  89,6663781820129           1  \n",
       "3829  85,9197658962674           1  \n",
       "3853  84,9014880176989           1  \n",
       "3854  89,3727227794382           1  \n",
       "3855  87,2757573054387           1  \n",
       "3922  80,3165727732133           1  "
      ]
     },
     "execution_count": 64,
     "metadata": {},
     "output_type": "execute_result"
    }
   ],
   "source": [
    "df[df.tableau_f_et_p == 1]"
   ]
  },
  {
   "cell_type": "code",
   "execution_count": 63,
   "metadata": {},
   "outputs": [
    {
     "data": {
      "text/plain": [
       "[\"LTo1 14B € Tableau des filiales et participations (en millions d'euros) Filiales détenues à + 50% Fnac Darty Participations et Services Darty Limited Fnac Luxembourg SA Copie certifiée conforme PG / 29/06/2020 14:15:20 N° de dépôt - 2020/8525 / 055800296 Capital 325,0 155,6 0,03 Capitaux propres hors capital et résultat 232,2 8,6 0,0 Quote- part du capital détenu 99,99% 100% 100% Valeur comptable des titres détenus Brut 838,4 1116,8 0,0 Net 838,4 1116,8 0,0 Prêts consentis par Fnac Darty et non encore remboursés 354,9 0,0 0,0 Page 19 sur 27 Montant des cautions & avals donnés par Fnac Darty 0,0 0,0 0,0 Dividend Chiffre _ Bénéfice es d'affaires ou (perte) encaissé HT du du spar dernier dernier Fnac exercice exercice Dartyau écoulé clos cours de 3 832,3 134,3 0,0 0,0 (1,3) 0,0 1,8 (0,5) 0,0 \\\\3\",\n",
       " 'Comptes consolidés Notes sur les comptes consolidés NOTE 32. LISTE DES SOCIÉTÉS CONSOLIDÉES AU 31 DÉCEMBRE 2019 (% DE PARTICIPATION DU GROUPE) Note 32.1. Sociétés consolidées par intégration globale Sociétés grinc?ÊïlË£ Siège N° SIREN _ % de contrôle % intérêt EMEA EUROPE SEB S.A, ‘ Société mère France 300 349 636 Calor S.A.S. ‘* , France 956 512 495 100 100 S.A.S. SEB . France 302 412 226 100 100 Tefal S.A.S. ‘* : France 301 520 920 100 100 Rowenta France S.A.S. * , France 301 859 880 100 100 Groupe SEB Moulinex S.A.S. ‘* : France 407 982 214 100 100 SIS S.A.S, ‘* — France 399 014 216 100 100 SEB Développement S.A.S. ‘* n France 016 950 842 100 100 Groupe SEB France S.A.S. # * France 440 410 637 100 100 Groupe SEB Retailing S.A.S. ‘* d France 440 410 884 100 100 SEB Internationale S.A.S. Holding France 301 189 718 100 100 Groupe SEB Export S.A.S. \" France 421 266 271 100 100 SEB Alliance S.A.S. ” Holding France 440 410 918 100 100 Immobilière Groupe SEB S.A.S. ‘* France 799 230 388 100 100 Financière Billig S.A.S. Holding France 811 798 941 100 99,84 Krampouz S.A.S. , France 387 558 315 100 100 Ethera S.A. ‘* . France 520 944 182 95,4 95,4 Rowenta Werke GMbH “ * Allemagne 100 100 Groupe SEB Deutschland GmbH “ u Allemagne 100 100 EMSA GmbH = : Allemagne 100 100 Groupe SEB Osterreich GmbH * Autriche 100 100 Groupe SEB Belgium S.A. NV “ Belgique 100 100 Groupe SEB Denmark AS é Danemark 100 100 Groupe SEB Iberica S.A. \" Espagne 99,93 99,93 Groupe SEB Finland OY = Finlande 100 100 Groupe SEB UK Ltd ** Grande-Bretagne 100 100 Tefal UK Ltd Dormant Grande-Bretagne 100 100 Groupe SEB Hellados S.A. “ Grèce 100 100 Groupe SEB Italia SpA \" itahe 100 100 Lagostina SpA ‘ Italie 100 100 Casa Lagostina S.R.L \" ltalie 100 100 Groupe SEB Norway AS * Norvège 100 100 Groupe SEB Nederland BV \" Pays-Bas 100 100 Rowenta Invest BV Holding Pays-Bas 100 100 SEB Portugal Electrodomesticos Ltda. \" Portugal 100 100 Tefal - OBH Nordica Group AB Suède 100 100 Groupe SEB Schweiz GmbH “ Suisse 100 100 SEB Professional France SARL “* \" France 421 742 586 100 100 WMF France Consumer Goods SARL ‘* = France 309 434 017 100 100 Schaerer France SARL \" France 537 799 777 100 100 Finedening TopCo GmbH Holding Allemagne 100 100 WMF Group GmbH “ Allemagne 100 100 Siht-Werke Beteiligungsgesellschaft GmbH bs Allemagne 100 100 Silit Haushaitswaren GmbH Allemagne 100 100 Silit-Werke GmbH & Co. KG Allemagne 100 100 GROUPE SEB - DOCUMENT D\\'ENREGISTREMENT UNIVERSEL ET RAPPORT FINANCIER ANNUEL 2019',\n",
       " 'Comptes consolidés Notes sur les comptes consolidés Sociétés priÆ££ Siège N° SIREN__% de contrôle % intérêt ProHeg GmbH : Allemagne 100 100 Boehringer Gastro Profi GmbH « Allemagne 100 100 W. F Kaiser u. Co. GmbH ‘ Allemagne 100 100 ProLOG — Brand Logistics GmbH & Co. KG — Allemagne 100 100 ProLOG — Logistics Services GmbH & Co. KG \" Allemagne 100 100 ProLOG Temp GmbH M Allemagne 100 100 WMF Consumer-Electric GmbH \" Allemagne 100 100 ProMONT Montage GmbH : Allemagne 100 100 Schaerer Deutschland GmbH \" Allemagne 100 100 WMF Immobilienverwaltungs GmbH x Allemagne 100 100 WMF 1n Osterreich Ges.m.b.H. * Autriche 100 100 SEB Professional Belux = Belgique 100 100 SEB Professional Iberia S.A. \" Espagne 100 100 SEB Professional United Kingdom Ltd “* Grande-Bretagne 100 100 SEB Professional Nederiand B.V. \" Pays-Bas 100 100 Schaerer Netherlands BV \" Pays-Bas 100 100 Schaerer AG \" Suisse 100 100 EURASIE Groupe SEB Bulgaria EOOD \" Buigarie 100 100 Groupe SEB MKU & P D.0.0. “ Croatie 100 100 Groupe SEB for Trade and Consultancy Holding Égypte 100 100 Groupe SEB for Importation . Égypte 66,3 55 Groupe SEB Egypt for Household Appliances d Égypte 55 55 Groupe SEB Central Europe Ltd * Hongrie 100 100 Groupe SEB India PVT Ltd , Inde 100 100 Groupe SEB Baltic OU \" Lettonie 100 100 Groupe SEB Polska ZP Z.0.0. \" Pologne 100 100 République Groupe SEB CR s.r.o ” Tchèque 100 100 Groupe SEB Romania S.R.L. \" Roumanie 100 100 Groupe SEB Vostok ZAO * Russie 100 100 Groupe SEB Slovensko s.r.o ” Slovaquie 100 100 Groupe SEB d.o.0. ” Slovénie 100 100 Groupe SEB Istanbul EV A.S. * Turquie 100 100 Groupe SEB Ukraine \" Ukraine 100 100 WMF Bulgaria EOOD \" Buigarie 100 100 Coffee Day Schaerer Technologies p.l. ‘ Inde 51 51 République ProHeg (CZ) s.r.o. , Tchèque 100 100 AMÉRIQUE AMERIQUE DU NORD Groupe SEB Canada Inc. “ Canada 100 100 Groupe SEB USA … États-Unis 100 100 All-Clad Metal-Crafters LLC : États-Unis 100 100 Groupe SEB Holdmgs Inc. Holding États-Unis 100 100 Imusa USA Corp. “ États-Unis 100 100 Wilbur Curtis Co., Inc. , États-Unis 100 100 CEI RE Acquisition LLC États-Unis 100 100 Groupe SEB Mexico S.A. de C.V. ” Mexique 100 100 Groupe SEB Servicios S.A. de C.V. Mexique 100 100 SEB Professional North America * États-Unis 100 100 AMERIQUE DU SUD Groupe SEB Argentina S.A. \" Argentine 100 100 GROUPE SEB - DOCUMENT D\\'ENREGISTREMENT UNIVERSEL ET RAPPORT FINANCIER ANNUEL 2019 267',\n",
       " '268 Comptes consolidés Notes sur les comptes consolidés Activité Sociétés principale ‘ Siège N° SIREN _% de contrôle % intérêt SEB Do Brasil Produtos Domesticos Ltda. * Brésil 100 100 SEB Comercial de Produtos Domesticos Ltda. = Brésil 100 100 Lojas SEB de Produtos Domesticos Ltda. “ Brésil 100 100 SEB Brazil Real Estate * Brésil 100 0 SEB Serviços Ltda. = Brésil 100 100 Groupe SEB Chile Lida. d Chih 100 100 Groupe SEB Andean S.A. , Colombie 100 99,5 Groupe SEB Venezuela S.A. * Venezuela 100 100 Corporaciôn GSV 2015, C.A. x Venezuela 100 100 ASIE CHINE Zhejiang Supor Co. Ltd Holding Chine 81,2 81,2 Zhejiang Shaoxing Supor Domestic Electrical Appliances , Chine 100 81,2 Wuhan Supor Co. Ltd , Chine 100 81,2 Wuhan Supor Pressure Cooker Co. Ltd Holding Chine 100 81,2 Wuhan Supor Cookware Co. Ltd e Chine 100 81,2 Wuhan Supor Recycling Co. Ltd Chine 100 81,2 Yuhuan Supor Cookware Sales Co. Ltd “ Chine 100 81,2 Zhejiang Supor Plastic & Rubber Co. Ltd , Chine 100 81,2 Zhejiang Supor Electrical Appliance Manufacturing Co. Ltd ‘ Chine 100 81,2 Hangzhou Omegna Commercial Trade Co. Ltd ” Chine 100 81,2 Shanghai Supor Cookware Marketing Co. Ltd \" Chine 100 81,2 SSEAC Co, Ltd * Chine 100 81,2 EMSA Taicang Co. Ltd L Chine 100 100 Zhejiang WMF Housewares Co., Ltd , Chine 100 81,2 Zhejiang Shaoxing Supor Housewares Co., Ltd \" Chine 100 81,2 Zhejiang Supor Large Kitchen Appliance Manufacturing Co., Ltd e Chine 100 81,2 Shanghai WMF Enterprise Development Co. Ltd , Chine 100 81,2 Groupe SEB Innovation Center Co, Ltd b Chine 100 100 WMF Shanghai Co. Ltd n Chine 100 100 SEB Professional (Shanghai) Co. Ltd \" Chine 100 100 WMF (He Shan) Manufacturing Co. Ltd \" Chine 100 100 Groupe SEB (Shenzen) Co. Ltd L Chine 100 100 ASIE-PACIFIQUE Groupe SEB Australia PTY Ltd. é Australie 100 100 Groupe SEB Korea Co. Ltd. “ Corée du Sud 100 100 SEB Asia Ltd. “ Hong Kong 100 100 Groupe SEB Japan Co. Ltd. \" Japon 100 100 Groupe SEB Malaysia SND. BHD « Malaisie 100 100 Groupe SEB Singapore PTE Ltd. ” Singapour 100 100 South East Asia Domestic Appliances PTE, Ltd e Singapour 100 90,4 Groupe SEB Thailand Ltd. \" Thaïlande 100 100 PT Groupe SEB Indonesia MSD : indonésie 100 60,3 Vietnam Fan Joint Stock Company , Vietnam 100 100 Vietnam Supor \\' Vietnam 100 81,2 Emsa Vietnam Co. Ltd. , Vietnam 100 100 AFS Vietnam Management Co. Ltd. x Vietrnam 100 90,4 WMF (Hong Kong) Manufacturing Co. Ltd. Holding Hong Kong 100 100 WMF Group Hong Kong Ltd. x Hong Kong 100 100 SEB Professional Japan Corporation K.K. < Japon 100 100 (a) Sociétes faisant partie de l\\'integration fiscale en France {b) Activite principale * production, commercrahsation * commerciahsation , * service (c) Ces soctétes ont demandé ! apphication de l\\'exemption $ 264 3 HGB (Code de commerce allemand) La publication des comptes consolidés du Groupe SEB les hbère de l\\'obligation de publier des états financiers individuels GROUPE SEB - DOCUMENT D ENREGISTREMENT UNIVERSEL ET RAPPORT FINANCIER ANNUEL 2019',\n",
       " 'Comptes consolidés Notes sur les comptes consolidés Note 32.2. Entreprises associées Sociétés Activité principale ‘ Siège N° Siren % intérêt Néant Note 32.3. Sociétés non consolidées dont le pourcentage d’intérêt est supérieur ou égal à 20 % Sociétés Activité principale ‘* Siège N° Siren % intérêt Tefal India Household Appliances PVT Ltd Dormant India 100 Groupe SEB Pars (dont l’importance relative n’est pas significative) \" Iran 72 Wuhan ANZAI Cookware Co. Ltd (dont l\\'importance relative n’est pas significative) \" Chine 30 Gastromedia Sp.z.0.0. Pologne 20 Bauscher Hepp Inc. Holding États-Unis 49 Invenido GmbH — Allemagne 30 Groupe SEB Media S.A.S. France 539 534 792 100 Feeligreen S.A. , France 538 799 370 71,1 Billig Management S.A.S. rr France 811 851 716 100 WMF Gastronomie Service GmbH r Allemagne 100 4iTECH 4.0 S.A.S. * France 829 128 420 22,7 (a) Activité principale : * production, commercialisation ; ** commercialisation ; \"\"* service. NOTE 33. HONORAIRES DES COMMISSAIRES AUX COMPTES Le détail du montant des honoraires, versés aux Commissaires aux comptes et aux membres de leur réseau respectif, est le suivant : PricewaterhouseCoopers Audit Mazars Montant (HT) En% Montant (HT) En % (en milliers €) m 2018 2019 2018 2019 2018 2019 2018 AUDIT Commissariat aux comptes, certification, examen des comptes individuels et consolidés Émetteur SEB S.A., coordination et consolidation 218 221 251 207 Fihales intégrées globalement 1671 1 408 2 009 1705 SOUS-TOTAL 1889 1629 85 % 74 % 2 260 1912 90 % 93 % Services Autres que la Certification des Comptes Émetteur SEB S.A., coordination et consolidation 12 2 62 76 Filales intégrées globalement 331 558 200 71 SOUS-TOTAL 343 560 15 % 26 % 262 147 10 % 7% TOTAL 2 232 2 189 100 % 100 % 2 522 2 059 100 % 100 % GROUPE SEB - DOCUMENT D ENREGISTREMENT UNIVERSEL ET RAPPORT FINANCIER ANNUEL 2019',\n",
       " 'Comptes consolidés Notes sur les comptes consolidés NOTE 32. LISTE DES SOCIÉTÉS CONSOLIDÉES AU 31 DÉCEMBRE 2019 (% DE PARTICIPATION DU GROUPE) Note 32.1. Sociétés consolidées par intégration globale Sociétés pr<U+FB01>Êlä£ Siège N° SIREN _% de contrôle % intérêt EMEA EUROPE SEB S.A, # Société mère France 300 349 636 Calor S.A.S, ‘* * France 956 512 495 100 100 S.A.S. SEB * France 302 412 226 100 100 Tefal S.A.S. ‘* : France 301 520 920 100 100 Rowenta France S.A.S, “ \" France 301 859 880 100 100 Groupe SEB Moulinex S.A.S. ‘ * France 407 982 214 100 100 SIS S.A.S. # t France 399 014 216 100 100 SEB Développement S.A.S. ‘* x France 016 950 842 100 100 Groupe SEB France S.A.S. # « France 440 410 637 100 100 Groupe SEB Retailing S.A.S. ‘* \" France 440 410 884 100 100 SEB Internationale S.A.S. Holding France 301 189 718 100 100 Groupe SEB Export S.A.S. \" France 421 266 271 100 100 SEB Alliance S.A.S. ‘” Holding France 440 410 918 100 100 Immobilière Groupe SEB S.A.S. “ France 799 230 388 100 100 Financière Billig S.A.S. Holding France 811 798 941 100 99,84 Krampouz S.A.S. , France 387 558 315 100 100 Ethera S.A. ” d France 520 944 182 95,4 95,4 Rowenta Werke GmbH “ * Allemagne 100 100 Groupe SEB Deutschland GmbH “ \" Allemagne 100 100 EMSA GmboH « : Allemagne 100 100 Groupe SEB Osterreich GmbH \" Autriche 100 100 Groupe SEB Belgium S.A. NV < Belgique 100 100 Groupe SEB Denmark AS . Danemark 100 100 Groupe SEB Iberica S.A. \" Espagne 99,93 99,93 Groupe SEB Finland OY * Finlande 100 100 Groupe SEB UK Ltd ** Grande-Bretagne 100 100 Tefal UK Ltd Dormant 100 100 Groupe SEB Hellados S.A. \" Grèce 100 100 Groupe SEB ltalia SpA * Italie 100 100 Lagostina SpA , Italie 100 100 Casa Lagostina S.R.L « Italie 100 100 Groupe SEB Norway AS \" Norvège 100 100 Groupe SEB Nederland BV « Pays-Bas 100 100 Rowenta Invest BV Holding Pays-Bas 100 100 SEB Portugal Electrodomesticos Ltda. \" Portugal 100 100 Tefal - OBH Nordica Group AB r Suède 100 100 Groupe SEB Schweiz GmbH \" Suisse 100 100 SEB Professional France SARL ‘» “ France 421 742 586 100 100 WMF France Consumer Goods SARL ‘ L France 309 434 017 100 100 Schaerer France SARL ” France 537 799 777 100 100 Finedening TopCo GmbH Holding Allemagne 100 100 WMF Group GmbH , Allemagne 100 100 Silit-Werke Beteiligungsgesellschaft GmbH Allemagne 100 100 Silit Haushaltswaren GmbH … Allemagne 100 100 Sitit-Werke GmbH & Co. KG \" Allemagne 100 100 GROUPE SEB - DOCUMENT D ENREGISTREMENT UNIVERSEL ET RAPPORT FINANCIER ANNUEL 2019',\n",
       " 'Comptes consolidés Notes sur les comptes consolidés Activité Sociétés principale * Siège N° SIREN % de contrôle % intérêt _ ProHeq GmbH \" Allemagne 100 100 Boehringer Gastro Profi GmbH \" Allemagne 100 100 W. F Kaiser u. Co. GmbH * Allemagne 100 100 ProLOG — Brand Logistics GmbH & Co. KG — Allemagne 100 100 ProLOG - Logistics Services GmbH & Co. KG Allemagne 100 100 ProLOG Temp GmbH x Allemagne 100 100 WMF Consumer-Electric GmbH * Allemagne 100 100 ProMONT Montage GmbH , Allemagne 100 100 Schaerer Deutschland GmbH * Allemagne 100 100 WMF Immobilienverwaltungs GmbH * Allemagne 100 100 WMF In Osterreich Ges.m.b.H. * Autriche 100 100 SEB Professional Belux * Belgique 100 100 SEB Professional Iberia S.A. \" Espagne 100 100 SEB Professional Umted Kingdom Ltd ** Grande-Bretagne 100 100 SEB Professional Nederland B.V. “ Pays-Bas 100 100 Schaerer Netherilands BV \" Pays-Bas 100 100 Schaerer AG “ Suisse 100 100 EURASIE Groupe SEB Bulgaria EOOD \" Bulgarie 100 100 Groupe SEB MKU & P D.0.0. * Croatie 100 100 Groupe SEB for Trade and Consultancy Holding Égypte 100 100 Groupe SEB for Importation . Égypte 66,3 55 Groupe SEB Egypt for Household Appliances * Égypte 55 55 Groupe SEB Central Europe Ltd ” Hongrie 100 100 Groupe SEB India PVT Ltd * Inde 100 100 Groupe SEB Baltic OU … Lettonie 100 100 Groupe SEB Polska ZP Z.O.0. “* Pologne 100 100 République Groupe SEB CR s.r.o * Tchèque 100 100 Groupe SEB Romania S.R.L. ** Roumanie 100 100 Groupe SEB Vostok ZAO , Russie 100 100 Groupe SEB Slovensko s.r.o * Slovaquie 100 100 Groupe SEB d.o.o. \" Slovénie 100 100 Groupe SEB Istanbul EV A.S. # Turquie 100 100 Groupe SEB Ukraine e Ukraine 100 100 WMF Bulgaria EOOD b Buigarie 100 100 Coffee Day Schaerer Technologies p.l. , Inde 51 51 République ProHeq (CZ) s.r.o. ‘ Tchèque 100 100 AMÉRIQUE AMERIQUE DU NORD Groupe SEB Canada Inc. \" Canada 100 100 Groupe SEB USA \" États-Unis 100 100 All-Clad Metal-Crafters LLC \" États-Unis 100 100 Groupe SEB Holdings Inc. Holding États-Unis 100 100 Imusa USA Corp. \" États-Unis 100 100 Wilbur Curtis Co., Inc. * États-Unis 100 100 CEI RE Acquisition LLC * États-Unis 100 100 Groupe SEB Mexico S.A. de C.V. ” Mexique 100 100 Groupe SEB Servicios S.A. de C.V. Mexique 100 100 SEB Professional North America \" États-Unis 100 100 AMERIQUE DU SUD Groupe SEB Argentina S.A. “ Argentine 100 100 GROUPE SEB - DOCUMENT D ENREGISTREMENT UNIVERSEL ET RAPPORT FINANCIER ANNUEL 2019 267',\n",
       " 'Comptes consolidés Notes sur les comptes consolidés Activité Sociétés principale ‘ Siège N° SIREN % de contrôle % intérêt SEB Do Brasil Produtos Domesticos Ltda. : Brésil 100 100 SEB Comercial de Produtos Domesticos Ltda. \" Brésil 100 100 Lojas SEB de Produtos Domesticos Ltda. ** Brésil 100 100 SEB Brazil Real Estate = Brésil 100 0 SEB Serviços Ltda. Brésil 100 100 Groupe SEB Chile Ltda. \" Chili 100 100 Groupe SEB Andean S.A. \" Colombie 100 99,5 Groupe SEB Venezuela S.A. \" Venezuela 100 100 Corporaciôn GSV 2015, C.A. \" Venezuela 100 100 ASIE CHINE Zhejiang Supor Co. Ltd Holding Chine 81,2 81,2 Zhejiang Shaoxing Supor Domestic Electrical Appliances \" Chine 100 81,2 Wuhan Supor Co. Ltd * Chine 100 81,2 Wuhan Supor Pressure Cooker Co. Ltd Holding Chine 100 81,2 Wuhan Supor Cookware Co. Ltd Chine 100 81,2 Wuhan Supor Recycling Co. Ltd Chine 100 81,2 Yuhuan Supor Cookware Sales Co. Ltd Chine 100 81,2 Zhejiang Supor Plastic & Rubber Co. Ltd * Chine 100 81,2 Zhejiang Supor Electrical Appliance Manufacturing Co. Ltd , Chine 100 81,2 Hangzhou Omegna Commercial Trade Co. Ltd \" Chine 100 81,2 Shanghai Supor Cookware Marketing Co. Ltd . Chine 100 81,2 SSEAC Co. Ltd , Chine 100 81,2 EMSA Taicang Co. Ltd \" Chine 100 100 Zhejiang WMF Housewares Co., Ltd \" Chine 100 81,2 Zhejiang Shaoxing Supor Housewares Co., Ltd “ Chine 100 81,2 Zhejiang Supor Large Kitchen Appliance Manufacturing Co., Ltd \" Chine 100 81,2 Shanghai WMF Enterprise Development Co. Ltd d Chine 100 81,2 Groupe SEB Innovation Center Co. Ltd L Chine 100 100 WMF Shanghai Co. Ltd \" Chimne 100 100 SEB Professional (Shanghai) Co. Ltd ” Chine 100 100 WMF (He Shan) Manufacturing Co. Ltd \" Chine 100 100 Groupe SEB (Shenzen) Co. Ltd x Chine 100 100 ASIE-PACIFIQUE Groupe SEB Australia PTY Ltd. “ Australie 100 100 Groupe SEB Korea Co. Ltd. « Corée du Sud 100 100 SEB Asia Ltd. e Hong Kong 100 100 Groupe SEB Japan Co. Ltd. “ Japon 100 100 Groupe SEB Malaysia SND. BHD * Malaisie 100 100 Groupe SEB Singapore PTE Ltd. » Singapour 100 100 South East Asia Domestic Appliances PTE, Ltd t Singapour 100 90,4 Groupe SEB Thailand Ltd. \" Thailande 100 100 PT Groupe SEB Indonesia MSD : Indonésie 100 60,3 Vietnam Fan Joint Stock Company , Vietnam 100 100 Vietnam Supor * Vietnam 100 81,2 Emsa Vietnam Co. Ltd. : Vietnam 100 100 AFS Vietnam Management Co. Ltd. — Vietnam 100 90,4 WMF (Hong Kong) Manufacturing Co. Ltd. Holding Hong Kong 100 100 WMF Group Hong Kong Ltd. Hong Kong 100 100 SEB Professional Japan Corporation K.K. _ Japon 100 100 {a) Societes faisant parte de l\\'integration fiscale en France tb) Activite principale * production, commerciahsation . commercialsation , * service. (c) Ces sociétés ont demandé l\\'apphication de l\\'exemption $ 264 3 HGB (Code de commerce allemand) La publication des comptes consolidés du Groupe SEB les libere de l\\'obligation de publier des états financiers individuels 268| GROUPE SEB - DOCUMENT D ENREGISTREMENT UNIVERSEL ET RAPPORT FINANCIER ANNUEL 2019',\n",
       " \"4 Note 32.2. Entreprises associées Comptes consolidés Notes sur les comptes consolidés Sociétés Activité principale © Siège N° Siren % intérêt Néant Note 32.3. Sociétés non consolidées dont le pourcentage d'intérêt est supérieur ou égal à 20 % Sociétés Activité principale ‘ Siège N° Siren % intérêt Tefal India Household Appliances PVT Ltd Dormant India 100 Groupe SEB Pars (dont l’importance relative n’est pas significative) * Iran 72 Wuhan ANZAI Cookware Co. Ltd (dont l’importance relative n’est pas significative) , Chine 30 Gastromedia Sp.z.0.0. * Pologne 20 Bauscher Hepp Inc. Holding États-Unis 49 Invenido GmbH * Allemagne 30 Groupe SEB Media S.A.S. France 539 534 792 100 Feeligreen S.A. * France 538 799 370 71,1 Billig Management S.A.S. * France 811 851 716 100 WMF Gastronomie Service GmbH * Allemagne 100 AiTECH 4.0 S.A.S. > France 829 128 420 22,7 (a) Activité principale * * production, commercralisation ; ‘* commercialisation ; *** service NOTE 33. HONORAIRES DES COMMISSAIRES AUX COMPTES Le détail du montant des honoraires, versés aux Commissaires aux comptes et aux membres de leur réseau respectif, est le suivant : m PricewaterhouseCoopers Audit Mazars Montant (HT) En % Montant (HT) En% (en milliers € 2019 2018 2019 2018 2019 2018 2019 2018 AUDIT Commissariat aux comptes, certification, examen des comptes individuels et consolidés Émetteur SEB S.A., coordination et consolidation 218 221 251 207 Fihales intégrées globalement 1671 1408 2009 1705 SOUS-TOTAL 1889 1629 85 % 74 % 2 260 1912 90 % 93 % Services Autres que la Certification des Comptes Émetteur SEB S.A., coordination et consolidation 12 2 62 76 Filiales intégrées globalement 331 558 200 71 SOUS-TOTAL 343 560 15 % 26 % 262 147 10% 7% TOTAL 2 232 2 189 100 % 100 % 2 522 2 059 100 % 100 % GROUPE SEB - DOCUMENT D'ENREGISTREMENT UNIVERSEL ET RAPPORT FINANCIER ANNUEL 2019 [|269\",\n",
       " \"L'effectif moyen représente la moyenne du personnel présent à la fin de chaque trimestre et comprend le personnel des établissements de Sodexo S.A. en France métropolitaine et dans les départements et régions d’outre-mer. 24. Consolidation Sodexo S.A. est consolidé dans les comptes de Belion SA, dont le siège social est situé au 17-19, place de la Résistance à Issy Les Moulineaux. Les comptes consolidés du Groupe Sodexo sont présentés dans le chapitre 3 du Document d'enregistrement universel. 25. post-clôture Aucun événement significatif n’est intervenu entre la date de clôture et la date d’arrêté des comptes par le Conseil d’Administration. 26. Liste des filiales et participations Valeur comptable Dividende des titres s Prêtset Montant = Chiffre encaissés Quote-part avances des d’affaires Résultat au cours (en milliers Autres du capital consentis garanties du dernier du dernier de d’euros) Capital … capitaux détenu Brute Nette ennet données exercice exercice l’exercice Renseignements Détaillés Filiales Françaises Sodexo Pass InternationalSAS 406656 290193 662056 662056 - - - 95 493 80 823 Sodexo Entreprises 51 697 17798 10000% 201669 201669 - 1250 701 235 12 214 16 132 Sofinsod SAS 82 683 267137 100,000% 133860 133860 - - - 261 851 11 104 Sogeres 2153 17 204 92,26% 107717 107717 - - 479 554 2 448 8 500 Sodexo GC 15 095 (2840) 100,00% 72 218 72218 - - - (650) - Lenôtre SA 2606 (25898) 100,00% 62 394 1517 - - 97602 - o, SEVPTE 92 — 589 10000% 34659 34659 - - 5480 5823 — 659 Société Française de Restauration et Services 1899 (17142) 100,00% 31 741 16 411 - 2140 268373 387) - Foodchéri 273 (808) 86,99 % 29 920 29 920 - 200 9 394 (7 950) - Sodexo Ventures France 143 (1345) 100,00% 23 425 2 900 - - - (592) - Sodexo Afrique SARL 1624 (2816) 100,00% 14 539 17 - - - (379) - Ouest Catering 516 240 100,00% 7 900 7 900 - - - (148) 1535 Participations Françaises Filiales Étrangères Sodexo, Inc. 4 1642206 100,00% 2120 844 2 120 844 - 1342011 8201700 228987 301641 Sodexo Finance Designed Activity Company 379 830 491 7646 10000% 807830 807830 - 27730 308 - 45 084 - 16\",\n",
       " \"Valeur comptable Dividende des titres s Prêtset Montant Chiffre encaissés Quote-part avances des d’affaires Résultat au cours (en milliers Autres du capital consentis garanties du dernier du dernier de d'euros) Capital capitaux détenu Brute Nette ennet données exercice exercice l’exercice Sodexo Holdings Ltd 419 197 7775 100,00% 555305 555305 - 1 104 - - 140700 Sodexo do Brasil Comercial SA 119 991 221 377 98,558% 446729 446 729 27 207 9062 625785 25 476 - Sodexo Beteiligungs BV & Co. KG 192 178290 100,00% 195456 195456 - - - 5035 - Sodexo Australia Pty Ltd 96838 (51606) 10000% 117928 117928 - 23 600 72516 (13716) - Novae Holding SA 229 84 _ 100,00% 112045 112045 - - - 302 - Sodexo Food Solutions India Private Limited 12 177 (4606) 100,00% 110442 110442 - - 117610 883 - Sodexo AB 10 000 31727 100,00% 101264 101 264 - - 344 431 7537 - Sodexo Services Asia 86 466 23823 _ 100,00 % 89 462 89 462 - 27 184 - 4 134 16 314 Sodexo Nederland B.V. 45 25205 100,00 % 80 435 80 435 - 800 274256 (23734) - Compagnie Financière Aurore International 58010 210516 68 920 68 920 - - - 517 - Sodexo Belgium SA 16 765 22 277 98,54 % 43 428 43 428 - 3957 328889 1699 1 867 Sodexo Iberia SA 3 467 14 678 98,86 % 26 804 26 804 - - 246 674 2188 2 796 Sodexo Entegre Hizmet Yonetimi AS 9 305 - - 100,00% 25 530 25 530 - 4 657 54 542 878 - Sodexo Global Services UK Limited 24 844 100346 100,00% 24 391 24 391 - - - 89 221 64 832 Sodexo Technical Services India Pvt. Ltd 621 6264 100,00% 20 994 20 994 - - 38 408 1505 - Sodexo Mexico SA de CV 5 838 1395 100,00 % 17 434 17 434 - - 65 811 1246 - Sodexo Inversiones SA 14 187 24536 100,00 % 16 100 16 100 - 46 359 - 3 830 - Sodexo Facilities Management Services India Private Ltd 10 726 (500) 100,00% 14 191 14 191 - - 106 429 1810 - Sodexo One-Site Services Israel! Ltd - 878 _ 100,00 % 12 869 12 869 n 5 270 41 656 (87) - 17\",\n",
       " \"Valeur comptable Dividende des titres s Prêtset Montant = Chiffre encaissés Quote-part avances des d’affaires Résultat au cours (en milliers Autres du capital consentis garanties du dernier du dernier de d'euros) Capital capitaux détenu Brute Nette ennet données exercice exercice l’exercice Sodexo Argentina SA 201 3716 99,57 % 12 822 12 822 - 2949 50 714 (2 160) - Sodexo Chile SPA 11563 11824 100,00% 10 999 10 999 - 26414 — 366 782 4 730 - Kalyx Limited 17 201871 100,00% 9 430 9430 - - 175 983 27 975 - Sodexo SRL 7 622 (5720) 100,00% 8872 - - 300 14 154 (2 478) - Sodexo Singapore Pte Ltd 8817 3142 100,00% 8614 8614 - - 65 257 845 - Sofinsod Insurance Designed Activity Company 7 868 (626) 100,00% 7 868 7 868 - 5 500 - 400 - Sodexo Maroc SA 2 608 (1752) 100,00% 7667 3 461 - 1 883 23 316 (255) - Sodexo OY 5 046 3661 7 054 7054 - - 139061 2 123 919 Sodexo Italia SPA 1 898 72682 100,00 % 7 029 7 029 - - 419 322 17 732 14 311 Sodexo S.R.O. 2608 (2174) 100,00% 6 420 434 “ - 29 400 (1 532) - Sodexo Euroasia 63 16263 100,00 % 6214 6 214 - - 74 778 8 101 - Participations Étrangères Sodexo GmbH 308 — 307 301 37,37 % 38 702 38 702 - - - (82) - Mentor Technical Group Corporation 3 19 968 45,00 % 18 423 18 423 - - - 1590 599 Eat Club, Inc. 49024 — (27 478) 17,05 % 18 395 18 395 - - 56 965 (6 264) - Socat LLC 600 3 237 49,00 % 11 372 11 372 - - 31 034 1153 824 Renseignements globaux Autres filiales Françaises - - - 18 779 16 692 10 43 576 - - 26 451 Autres filiales Étrangères - - - 35 766 21 935 13 498 44 048 - - 22 526 Autres participations Françaises - - - 1787 1419 - 1786 - - 86 Autres participations Étrangères - - - 10 155 7 584 272 - - - 8656 Total - - - 6636866 6 487 692 40 987 4 324 358 - - 727 215 18\",\n",
       " \"                                          LAFARGEHOLCIM CIMENTS\\r\\r\\n                                            Etats Financiers au 31/12/2019\\r\\r\\n                                                       en Euros\\r\\r\\n                                              Filiales et participations\\r\\r\\n Dénomination                             Capital      Q.P. Détenue Val. brute Titres Prêts, avances Chiffre d'affaires\\r\\r\\n Siège Social                        Capitaux Propres Divid.encaiss. Val. nette Titres   Cautions        Résultat\\r\\r\\nFILIALES (plus de 50%)\\r\\r\\nSTE AQUITAINE DE TRANSFORMATION             10 000 000              100     11 277 000                        1 678 000\\r\\r\\n                                            10 678 295                      11 277 000                           68 396\\r\\r\\nSTE DE PROMOTION INDUSTRIELLE               16 044 800              100     18 216 554     14 542 552         3 779 467\\r\\r\\n                                            14 735 623                      18 216 554                       -1 071 220\\r\\r\\nNORD BROYAGE                                 7 250 000              100     59 850 000                        4 802 803\\r\\r\\n                                            11 389 927                      29 850 000                           81 159\\r\\r\\nCODERES                                        200 000              100        300 000\\r\\r\\n                                              -622 510                                                         -267 688\\r\\r\\nCEMWEST                                      2 200 000              100      3 435 000                        1 350 000\\r\\r\\n                                             2 913 868                       3 435 000                          145 545\\r\\r\\nVRACS DE L'OUEST                                21 000              100      4 100 001                           43 200\\r\\r\\n                                               714 089                                                         -623 701\\r\\r\\nPARTICIPATIONS (10 à 50%)\\r\\r\\nFLANDRES LAITIERS MOULUS                       800 000               49        411 825                        4 707 989\\r\\r\\n                                               938 484                         411 825                         -579 553\\r\\r\\nSCORI                                        1 092 800           13,94         172 377\\r\\r\\n                                                                               172 377\\r\\r\\nBETON CHANTIERS MARTIGUES                       98 800               50         62 885                        2 167 007\\r\\r\\n                                              -612 754                                                           46 083\\r\\r\\nCIMENTS ANTILLAIS                            3 301 259           10,16         661 648                       52 353 690\\r\\r\\n                                            14 237 109                         661 648                        4 781 163\\r\\r\\n                                                                   0,00\\r\\r\\n                                                                   0,00\\r\\r\\nAUTRES PARTICIPATIONS\\r\\r\\nLAFARGEHOLCIM DISTRIBUTION                  17 340 920             0,23         43 423                      702 951 706\\r\\r\\n                                            45 617 915                          43 423                       15 953 774\\r\\r\\nPARTICIPATIONS FRANCAISES                                          0,00        397 914\\r\\r\\n                                                                                47 414\\r\\r\\n                                                                   0,00\\r\\r\\n                                                                   0,00\\r\\r\\n                                                                   0,00\\r\\r\\n                                                                   0,00\\r\\r\\n                                                                                                            Page 37/39\\r\\r\\nCopie certifiée conforme\\r\\r\\nYA / 30/06/2020 14:15:07                              Page 47 sur 52\\r\\r\\nN° de dépôt - 2020/17489 / 302135561\\r\\r\\n\",\n",
       " \"LAFARGEHOLCIM CIMENTS Etats Financiers au 31/12/2019 en Euros Filiales et participations suite Dénomination Capital Q.P. Détenue Val. brute TitresPrêts, avancesChiffre d'affaires Siège Social Capitaux PropresDivid.encaiss. Val. nette Titres — Cautions Résultat FILIALES (plus de 50%) CHAMPMARE 10 000 99 9 900 489 909 39 916 9 900 48 161 0,00 0,00 0,00 0,00 0,00 PARTICIPATIONS (10 à 50%) 0,00 0,00 0,00 0,00 0,00 0,00 AUTRES PARTICIPATIONS 0,00 0,00 0,00 0,00 0,00 0,00 Page 38/39 Caa sé enierms Page 48 sur 52 07 N° de dépôt - 2020/17489 / 302135561\",\n",
       " \"Liste des filiales et participationL \\\\ Fillales (+ de 50% du capital détenu par la société) Participations {10 à 50% du capital) - à détailler Filiales françaises (ensemble) Filiales étrangères (ensemble) (3) Participations dans des sociétés françaises Parti étrangères TOTAL 0 0 (1) Dont la valeur d'inventaire excède un certain pourcentage 94ËFmé par la réglementation) du capital de la société astreinte à la publication. Lorsque la société a annexé à son bilan, un bilan des comptes consotidés conformément à la réglementation, cette société ne donne dedq renîlgnements que globalement (£ B) en distinguant (a) filiales françaises (ensemble) et (b) filiates étrangères (ensemble). __ d L IL - érodation_ne seraient pas inscrites au & À sont inscrites sous ces rubriques (2) Pour chaque filiale et entité avec laquelle la société a un lig articipation indiquer la dénomination et le siège social\",\n",
       " \"<idesc> Tableau des filiales et participations Quote-part Valeur comptable des Prêts et Chiffre Dividendes ; p titres détenus avances Cautionset … d’affaireshors Résultatdu — encaissés par ; Réserves et du capital ; Ç ; ; 245 Capital ; ; consentisnon avals donnés taxe du dernier dernier la société en report à nouveau détenu CLR £ ; ; ° encore par la société exercice exercice clos cours (en %) Brute Nette 2 2 ; , ; remboursés écoulé d’exercice (en euros) A. détaillés concernant les filiales et participations dont la valeur d'inventaire excède 1% du capital de la Société astreinte à la publication a) Sociétés exploitant en France Air Liquide Spatial Guyane 214 200 475 994 30,00% 64 029 64 029 37 300 977 3 799 636 1 290 240 b) Sociétés exploitant hors de France B. Renseignements globaux concernant les autres filiales et participations non reprises au A. Sociétés françaises (ensemble) Sociétés étrangères (ensemble) Page 21\",\n",
       " \"<idesc> Tableau des filiales et participations Quote-part Valet_lr comPtable des Prêts et Chiffre Dividendes Réserves et du capital titres détenus avances Cautionset … d’affaires hors Résul@t du encaissés: par report à nouveau détenu consentisnon avals donnés' taxe du dernier dermer fa société en (en %) encore par la société exercice exercice clos cours Brute Nette Æ . ; ut remboursés écoulé d'exercice Capital (en euros) A. Renseignements détaillés concernant les filiales et participations dont la valeur d'inventaire excède 1% du capital de la Société astreinte à la publication a) Sociétés exploitant en France Air Liquide Spatial Guyane 214 200 475 994 30,00% 64 029 64 029 37 300 977 3 799 636 1 290 240 b) Sociétés exploitant hors de France B._Renseignements globaux concernant les autres filiales et participations non reprises au Â. Sociétés françaises (ensemble) Sociétés étrangères (ensemble) Page 21\",\n",
       " \"EIFFAGE CONSTRUCTION l AI ; CONELUENCES Filiales et participations Capitaux Capital Propres Dénomination Hors Capital e es e 11e S TT e pl é 10 (N (S CIR détenue (%) titres détenus avances Cautions Valeur brute Valeur nette FILIALES (plus de 50%) Annexe au 31/12/2019 Chiffre d'affaires Résultat BIN ATe ( p1o [2N 1EN PARTICIPATIONS (10 à 50%) EIFFAGE IMMOBILIER CENTRE EST 15 000 3 464 419 10,00% 1500 1500 63 192 192 3447 918 406 906 AUTRES PARTICIPATIONS Page 30/33\",\n",
       " \"- Liste des filiales et participations Déclaration au 31/12/2019 és Securitas France sarl Dénomination Capital .Détenue … Val. brute Titres Prêts, avances Chiffre d'affaires Siège Social Capitaux Propres Divid.encaiss. … Val. nette Titres Cautions Résultat FILIALES (plus de 50%) Securitas Transport Aviation Security Sas 591 640 98.49% 12 236 351 68 746 256 3,Place de Londres - 93290 TREMBLAY-EN-FRANCE 15 368 241 745 830 12 236 351 1 104 128 Securitas Accueil 25 800 100.00% 779 885 22 836 814 253,Quai de la Bataille de Stalingrad- 92130 ISSY-LES-MOULINEAUX 4 704 068 779 885 131 025 Securitas Protection Sas 75 000 99.94% 1 401 747 75777 253,Quai de la Bataille de Stalingrad- 92130 ISSY-LES-MOULINEAUX 1 265 695 1 264 683 8847 Securitas Formation 300 000 100.00% 862 790 5 846 409 253,Quai de la Bataille de Stalingrad- 92130 ISSY-LES-MOULINEAUX 242 573 242 572 (100 215) Securitas Risx Management Sarl 8000 100.00% 7 622 1 854 367 253,Quai de la Bataille de Stalingrad- 92130 ISSY-LES-MOULINEAUX 1 374 394 173 245 7 622 427 546 1.G.P.S SAS 201 229 100.00% 1 697 362 O 253,Quai de la Bataille de Stalingrad- 92130 ISSY-LES-MOULINEAUX 1 245 388 1 245 388 11 198 Securitas Technologies 5 055 027 100.00% 39 540 760 43 166 004 31 bd Frédéric Sauvage Bat A7 Parc Club des Aygalades- 13014 MARSEILL 10 272 267 636 434 39 540 760 2 586 145 AUTRES TITRES SCI Proteg La Bigeottière 1500 1.00% 15 0 253,Quai de la Bataille de Stalingrad- 92130 ISSY-LES-MOULINEAUX 3 485 403 15 3 407 31/63 Copie certifiée conforme VAÜ 07/08/2020 16:15:07 Page 44 sur 46 N° de dépôt - 2020/26491 / 304497852\",\n",
       " \"                b) Immobilisations corporelles\\r\\r\\n                Les acquisitions de l'exercice se sont élevées à 2 576 K€ et la dotation aux amortissements à                                                                                   2\\r\\r\\n                369 K€.\\r\\r\\n                Les sorties d’immobilisations de l’exercice s’élèvent à 128 K€.\\r\\r\\n                Il a été constaté une reprise pour dépréciations exceptionnelles pour un montant de 1 075 K€.\\r\\r\\n                Les immobilisations en cours s’élèvent à 3 675 K€ et correspondent aux principaux projets\\r\\r\\n                d’investissements suivants : le conditionnement des matiéres premiéres PISES,la traçabilité des\\r\\r\\n                dalles au Four 52,la modernisation du réseau informatique ZIRPRO et SEFPRO, le dépoussierreur\\r\\r\\n                annexe du four 52.\\r\\r\\n                c) Immobilisations financières\\r\\r\\n                 Les immobilisations financières ont diminué de 31 093 k€                                                           suite à la cession des titres de\\r\\r\\n                particiaption de la filiale SGCM AS Norway.\\r\\r\\n                Une dépréciation d'un montant de 3 670 K€ a été comptabilisée et une reprise de 11 007 K€ sur\\r\\r\\n                l'exercice 2019.\\r\\r\\n                                                                             Réserves                                                                         Chiffre                 Résultats\\r\\r\\n                                                                                                                                 Prêts et                               Dividendes\\r\\r\\n                                                                            et report à               Valeur       Valeur                                   d'affaires               (bénéfices\\r\\r\\n                                                                                                                                 avances                                 encaissés\\r\\r\\n                                                                             nouveau                   brute        nette                   Montant des     hors taxes                ou pertes\\r\\r\\n                                                                                         Quote-part                             consentis                                  par la\\r\\r\\n                                                                               avant                comptable    comptable                    cautions et   (100%) du                à 100%) du\\r\\r\\n                                                                Capital                  de capital                                par la                               société au\\r\\r\\n                          Sociétés détenues           Devise\\r\\r\\n                                                             (en K devise)\\r\\r\\n                                                                            affectation\\r\\r\\n                                                                                        détenue (en\\r\\r\\n                                                                                                    des titres   des titres\\r\\r\\n                                                                                                                              société non\\r\\r\\n                                                                                                                                            avals donnés      dernier\\r\\r\\n                                                                                                                                                                         cours de\\r\\r\\n                                                                                                                                                                                       dernier\\r\\r\\n                                                                                des                  détenus      détenus                   par la société   exercice                 exercice\\r\\r\\n                                                                                            %)                                    encore                                l'exercice\\r\\r\\n                                                                             résultats                (en K        (en K                     (en K euros)     écoulé                     clos\\r\\r\\n                                                                                                                              remboursés                                   (en K\\r\\r\\n                                                                               (en K                  euros)       euros)                                      (en K                    (en K\\r\\r\\n                                                                                                                              (en K euros)                                 euros)\\r\\r\\n                                                                             Devises)                                                                        devises)                 devises)\\r\\r\\n                                    (1)                       31/12/2019\\r\\r\\n                SG CRISTAUX ET DETECTEURS               K€           6 000       10 180       100%        5 519        2 747                                     23 767            0       -2 747\\r\\r\\n                SG CREE                                 K€           6 900       28 950        35%        2 422        2 422                                          0        1 142        4 348\\r\\r\\n                SAVOIE REFRACTAIRES                     K€           3 905        3 166       100%       23 535             0                                    28 798            0       -1 118\\r\\r\\n                SAINT GOBAIN MATERIAUX CERAMIQUES       K€           7 508       22 700       100%        7 630        7 630                                     16 688        5 375        6 947\\r\\r\\n                BEIJING SEPR REFRACTORIES CO. LTD     KUSD          17 098       17 815        66%       10 075      10  075                                    174 909            0        7 332\\r\\r\\n                SG INDIA PRIVATE LIMITED               KINR      1 355 263    3 452 633     10,21%        7 025        7 025                                  6 366 728            0     805 449\\r\\r\\n                SEPR ITALIA SPA                         K€          #DIV/0!       7 217       100%        4 020        4 020                                      2 372            0        2 333\\r\\r\\n                SEPR ST GOBAIN KERAMIK GMBH             K€          #DIV/0!      46 815       100%       13 615      13  615                                        311            0         -728\\r\\r\\n                SEPR ST GOBAIN KERAMIK KG\\r\\r\\n                SAINT-GOBAIN CERAMICAS INDUSTRIALES     K€               0            0       100%             0            0                                         0                         0\\r\\r\\n                SHANGHAI SEPR ZIRCONIUM PRODUCT CO. L KUSD           2 200            0        76%             0            0                                         0            0            0\\r\\r\\n                                    (2)\\r\\r\\n                VALOREF S.A.                            K€             167         1635       100%             0            0                                     8 283          465          620\\r\\r\\n                                TOTAL                                                                 73 841       47 534                 0               0                  6 982\\r\\r\\n                                                                                                                                                                                                7\\r\\r\\n                                                  SEPR – ANNEXE COMPTES SOCIAUX Exercice 2019\\r\\r\\nCopie certifiée conforme\\r\\r\\nDR / 12/06/2020 14:15:19                                                                   Page 12 sur 48\\r\\r\\nN° de dépôt - 2020/14912 / 305756413\\r\\r\\n\",\n",
       " \"                b) Immobilisations corporelles\\r\\r\\n                Les acquisitions de l'exercice se sont élevées à 2 576 K€ et la dotation aux amortissements à                                                                                   2\\r\\r\\n                369 K€.\\r\\r\\n                Les sorties d’immobilisations de l’exercice s’élèvent à 128 K€.\\r\\r\\n                Il a été constaté une reprise pour dépréciations exceptionnelles pour un montant de 1 075 K€.\\r\\r\\n                Les immobilisations en cours s’élèvent à 3 675 K€ et correspondent aux principaux projets\\r\\r\\n                d’investissements suivants : le conditionnement des matiéres premiéres PISES,la traçabilité des\\r\\r\\n                dalles au Four 52,la modernisation du réseau informatique ZIRPRO et SEFPRO, le dépoussierreur\\r\\r\\n                annexe du four 52.\\r\\r\\n                c) Immobilisations financières\\r\\r\\n                 Les immobilisations financières ont diminué de 31 093 k€                                                           suite à la cession des titres de\\r\\r\\n                particiaption de la filiale SGCM AS Norway.\\r\\r\\n                Une dépréciation d'un montant de 3 670 K€ a été comptabilisée et une reprise de 11 007 K€ sur\\r\\r\\n                l'exercice 2019.\\r\\r\\n                                                                             Réserves                                                                         Chiffre                 Résultats\\r\\r\\n                                                                                                                                 Prêts et                               Dividendes\\r\\r\\n                                                                            et report à               Valeur       Valeur                                   d'affaires               (bénéfices\\r\\r\\n                                                                                                                                 avances                                 encaissés\\r\\r\\n                                                                             nouveau                   brute        nette                   Montant des     hors taxes                ou pertes\\r\\r\\n                                                                                         Quote-part                             consentis                                  par la\\r\\r\\n                                                                               avant                comptable    comptable                    cautions et   (100%) du                à 100%) du\\r\\r\\n                                                                Capital                  de capital                                par la                               société au\\r\\r\\n                          Sociétés détenues           Devise\\r\\r\\n                                                             (en K devise)\\r\\r\\n                                                                            affectation\\r\\r\\n                                                                                        détenue (en\\r\\r\\n                                                                                                    des titres   des titres\\r\\r\\n                                                                                                                              société non\\r\\r\\n                                                                                                                                            avals donnés      dernier\\r\\r\\n                                                                                                                                                                         cours de\\r\\r\\n                                                                                                                                                                                       dernier\\r\\r\\n                                                                                des                  détenus      détenus                   par la société   exercice                 exercice\\r\\r\\n                                                                                            %)                                    encore                                l'exercice\\r\\r\\n                                                                             résultats                (en K        (en K                     (en K euros)     écoulé                     clos\\r\\r\\n                                                                                                                              remboursés                                   (en K\\r\\r\\n                                                                               (en K                  euros)       euros)                                      (en K                    (en K\\r\\r\\n                                                                                                                              (en K euros)                                 euros)\\r\\r\\n                                                                             Devises)                                                                        devises)                 devises)\\r\\r\\n                                    (1)                       31/12/2019\\r\\r\\n                SG CRISTAUX ET DETECTEURS               K€           6 000       10 180       100%        5 519        2 747                                     23 767            0       -2 747\\r\\r\\n                SG CREE                                 K€           6 900       28 950        35%        2 422        2 422                                          0        1 142        4 348\\r\\r\\n                SAVOIE REFRACTAIRES                     K€           3 905        3 166       100%       23 535             0                                    28 798            0       -1 118\\r\\r\\n                SAINT GOBAIN MATERIAUX CERAMIQUES       K€           7 508       22 700       100%        7 630        7 630                                     16 688        5 375        6 947\\r\\r\\n                BEIJING SEPR REFRACTORIES CO. LTD     KUSD          17 098       17 815        66%       10 075      10  075                                    174 909            0        7 332\\r\\r\\n                SG INDIA PRIVATE LIMITED               KINR      1 355 263    3 452 633     10,21%        7 025        7 025                                  6 366 728            0     805 449\\r\\r\\n                SEPR ITALIA SPA                         K€          #DIV/0!       7 217       100%        4 020        4 020                                      2 372            0        2 333\\r\\r\\n                SEPR ST GOBAIN KERAMIK GMBH             K€          #DIV/0!      46 815       100%       13 615      13  615                                        311            0         -728\\r\\r\\n                SEPR ST GOBAIN KERAMIK KG\\r\\r\\n                SAINT-GOBAIN CERAMICAS INDUSTRIALES     K€               0            0       100%             0            0                                         0                         0\\r\\r\\n                SHANGHAI SEPR ZIRCONIUM PRODUCT CO. L KUSD           2 200            0        76%             0            0                                         0            0            0\\r\\r\\n                                    (2)\\r\\r\\n                VALOREF S.A.                            K€             167         1635       100%             0            0                                     8 283          465          620\\r\\r\\n                                TOTAL                                                                 73 841       47 534                 0               0                  6 982\\r\\r\\n                                                                                                                                                                                                7\\r\\r\\n                                                  SEPR – ANNEXE COMPTES SOCIAUX Exercice 2019\\r\\r\\nCopie certifiée conforme\\r\\r\\nDR / 12/06/2020 14:15:19                                                                   Page 39 sur 48\\r\\r\\nN° de dépôt - 2020/14912 / 305756413\\r\\r\\n\",\n",
       " \"Sanofi Développement S.A.S A t | @n Exercice clos le 81 décembre 2019 SANOFI »4 Le déficit cumulé restant à reporter au 31 décembre 2019 s'élève à 586 902 euros. NOTE 11 : TABLEAU DES FILIALES & PARTICIPATIONS Renseignements globaux sur toutes les filiales et participations détenues par la société Filiales Participations (en euros) Françaises | Etrangères | Françaises | Etrangères Valeur comptable brute des titres détenus __ __ 22 867 __ Valeur comptable nette des titres détenus L L 6 244 L Montant des prêts et avances accordés Montant des dividendes NOTE 12 : EVENEMENT POST-CLOTURE Les activités de la société ont commencé à être affectées par COVID-19 au premier trimestre 2020 et la direction s'attend à un impact négatif sur ses états financiers en 2020. La société, compte tenu du caractère récent de l’épidémie et des mesures annoncées par le gouvernement pour aider les entreprises, n'est toutefois pas en capacité d'en apprécier l'impact chiffré éventuel. A la date d’arrêté des comptes par le conseil d'administration des états financiers 2019 de la société, la direction de l'entité n'a pas connaissance d'incertitudes significatives de nature à remettre en cause la capacité de l'entité à poursuivre son exploitation Le Président\",\n",
       " \"Sanofi Développement S.A.S A t l æs Exercice clos le 31 décembre 2019 SANOFI »4 Le déficit cumulé restant à reporter au 31 décembre 2019 s’'élève à 586 902 euros. NOTE 11 : TABLEAU DES FILIALES & PARTICIPATIONS Renseignements globaux sur toutes les filiales et participations détenues par la société Filiales Participations (en euros) Françaises | Etrangères | Françaises | Etrangères Valeur comptable brute des titres détenus __ __ 22 867 __ Valeur comptable nette des titres détenus __ __ 6 244 __ Montant des prêts et avances accordés Montant des dividendes NOTE 12 : EVENEMENT POST-CLOTURE Les activités de la société ont commencé à être affectées par COVID-19 au premier trimestre 2020 et la direction s'attend à un impact négatif sur ses états financiers en 2020. La société, compte tenu du caractère récent de l’épidémie et des mesures annoncées par le gouvernement pour aider les entreprises, n'est toutefois pas en capacité d'en apprécier l'impact chiffré éventuel. A la date d’arrêté des comptes par le conseil d'administration des états financiers 2019 de la société, la direction de l'entité n'a pas connaissance d'incertitudes significatives de nature à remettre en cause la capacité de l'entité à poursuivre son exploitation\",\n",
       " \"Liste des filiales et participations A-Filiales B-Participations C-Autres participations EUN E LS T a (RS e report à nouv. avant affect. des resultats % Quote VALEUR COMPTABLE part capital détenu en pourcent. PRETS ET AVANCES [t <T la sté et non encore remb. Dl ERNNEES e OION ET AVALS CHIFFRE D'AFFAIRES H.T. RESULTATS BENEFICES ou PERTES DIVIDENDES [ [ S dans l'exercice OBSERVATIONS Total Page 32 de 32\",\n",
       " \"Liste des filiales et participations A-Filiales B-Participations C-Autres participations TIO TIR e M C a d RIR avant affect, des resu % Quote — VALEUR COMPTABLE part ! DES TITRES DETENUS | capital détenu en Brute Pelé1eeIi1 e SRE PIN ( [s TE TT TCN EN la sté et non [s l<o CC1N D'leI Qc t Es CAUTIONS up \\\\ 76 CHIFFRE DJN SS R RESULTATS BENEFICES ou (Jdsi PIHN [ (N dans l'exercice L JT AN eN Total Page 32 de 32\",\n",
       " 'EËÊÊÊËÊONSTRUCTION Fili3l€S et participations Annexe au 31/12/2019 Capitaux Capital Propres Dénomination Hors Capital Q.P.capital | Valeur comptable des CIR A (od 11e Ç Dividendes À q R Ls TVLiLo 1S n Résultat e détenue (%) titres détenus avances CEIN encaissés AIN TU CN TCN TS FILIALES (plus de 50%) EIFFAGE IMMOBILIER LORRAINE LCA 7 500 -23 966 70,00% 5250 5250 0 -5 531 EIFFAGE IMMOBILIER NORD EST 1500 112 033 60,00% 900 900 3 920 965 110 383 PARTICIPATIONS (10 à 50%) AUTRES PARTICIPATIONS Page 30/32',\n",
       " \"         GE MEDICAL SYSTEMS S.C.S.\\r\\r\\n         Etats Financiers au 31 décembre 2019\\r\\r\\n                            2.2. Immobilisations corporelles\\r\\r\\n                          Les variations des valeurs brutes au 31 décembre 2019 s'analysent comme suit :\\r\\r\\n                                                                              Début             Augmentation          Diminution ou              Fin\\r\\r\\n                            Rubrique                                       d’exercice            ou transfert            transfert           d’exercice\\r\\r\\n                            Terrain                                                 2,511                                                            2,511\\r\\r\\n                            Construction                                          72,111                   3,487                   133              75,465\\r\\r\\n                            Matériel et outillage                                101,768                   7,630                 2,680            106,718\\r\\r\\n                            Autres immobilisations corporelles                    18,458                        3                    65             18,396\\r\\r\\n                            Immobilisations en cours                                6,408                  7,246                 6,408               7,246\\r\\r\\n                            TOTAL GENERAL                                        201,256                  18,365                 9,284            210,336\\r\\r\\n                          Les variations des amortissements s'analysent comme suit :\\r\\r\\n                                                                             Début              Augmentation           Diminution ou              Fin\\r\\r\\n                          Rubrique                                        d’exercice              ou transfert            transfert           d’exercice\\r\\r\\n                          Construction                                            61,421                   1,218                      27             62,613\\r\\r\\n                          Matériel et outillage                                   77,809                   7,516                  2,680              82,646\\r\\r\\n                          Autres immobilisations corporelles                      11,032                   1,100                      70             12,062\\r\\r\\n                          TOTAL GENERAL                                          150,263                   9,834                  2,777            157,320\\r\\r\\n                            2.3. Immobilisations financières\\r\\r\\n                          Les variations des valeurs brutes s'analysent comme suit :\\r\\r\\n                                                                                  Début             Augmentation              Diminution                  Fin\\r\\r\\n                        Rubrique                                               d’exercice                                                            d’exercice\\r\\r\\n                        Participations                                                    102                                                                   102\\r\\r\\n                        Prêts et autres immobilisations                                 3,727                                             356                 3,371\\r\\r\\n                        TOTAL GENERAL                                                   3,829                         0                   356                 3,473\\r\\r\\n                          Le poste « Filiales & Participations » au 31 décembre 2019 s'analyse comme suit :\\r\\r\\n                                                                    Valeur          Valeur                                                                    Quote part\\r\\r\\n                                                                                                            Capitaux          Chiffre\\r\\r\\n                                    Nom des entités                brute au       nette au        %                                          Résultat net    de situation\\r\\r\\n                                                                                                             propres         d'affaires\\r\\r\\n                                                                  31/12/2019 31/12/2019                                                                          nette\\r\\r\\n                        GE Healthcare Algérie SARL                            2             2     0.01%           37,284           65,125             10,466             4\\r\\r\\n                        GE Medical Systems Israel Ltd                      100            100     1.00%           84,537          133,582             19,259           845\\r\\r\\n                        TOTAL                                              102            102\\r\\r\\n                        Capitaux propres et résultats nets statutaires réels ou estimés au 31/12/19 (toutes les sociétés n’ayant pas encore déposé\\r\\r\\n                        leurs comptes annuels)\\r\\r\\n                                                                                                                                                                      16\\r\\r\\nCopie certifiée conforme\\r\\r\\nLMG / 15/07/2020 20:15:04                                                             Page 17 sur 65\\r\\r\\nN° de dépôt - 2020/9730 / 315013359\\r\\r\\n\",\n",
       " \"         GE MEDICAL SYSTEMS S.C.S.\\r\\r\\n         Etats Financiers au 31 décembre 2019\\r\\r\\n                            2.2. Immobilisations corporelles\\r\\r\\n                          Les variations des valeurs brutes au 31 décembre 2019 s'analysent comme suit :\\r\\r\\n                                                                              Début             Augmentation          Diminution ou              Fin\\r\\r\\n                            Rubrique                                       d’exercice            ou transfert            transfert           d’exercice\\r\\r\\n                            Terrain                                                 2,511                                                            2,511\\r\\r\\n                            Construction                                          72,111                   3,487                   133              75,465\\r\\r\\n                            Matériel et outillage                                101,768                   7,630                 2,680            106,718\\r\\r\\n                            Autres immobilisations corporelles                    18,458                        3                    65             18,396\\r\\r\\n                            Immobilisations en cours                                6,408                  7,246                 6,408               7,246\\r\\r\\n                            TOTAL GENERAL                                        201,256                  18,365                 9,284            210,336\\r\\r\\n                          Les variations des amortissements s'analysent comme suit :\\r\\r\\n                                                                             Début              Augmentation          Diminution ou               Fin\\r\\r\\n                          Rubrique                                        d’exercice              ou transfert            transfert           d’exercice\\r\\r\\n                          Construction                                            61,421                   1,218                      27             62,613\\r\\r\\n                          Matériel et outillage                                   77,809                   7,516                  2,680              82,646\\r\\r\\n                          Autres immobilisations corporelles                      11,032                   1,100                      70             12,062\\r\\r\\n                          TOTAL GENERAL                                          150,263                   9,834                  2,777            157,320\\r\\r\\n                            2.3. Immobilisations financières\\r\\r\\n                          Les variations des valeurs brutes s'analysent comme suit :\\r\\r\\n                                                                                  Début             Augmentation              Diminution                  Fin\\r\\r\\n                        Rubrique                                               d’exercice                                                            d’exercice\\r\\r\\n                        Participations                                                    102                                                                   102\\r\\r\\n                        Prêts et autres immobilisations                                 3,727                                             356                 3,371\\r\\r\\n                        TOTAL GENERAL                                                   3,829                         0                   356                 3,473\\r\\r\\n                          Le poste « Filiales & Participations » au 31 décembre 2019 s'analyse comme suit :\\r\\r\\n                                                                    Valeur          Valeur                                                                    Quote part\\r\\r\\n                                                                                                            Capitaux          Chiffre\\r\\r\\n                                    Nom des entités                brute au       nette au        %                                          Résultat net    de situation\\r\\r\\n                                                                                                             propres         d'affaires\\r\\r\\n                                                                  31/12/2019 31/12/2019                                                                          nette\\r\\r\\n                        GE Healthcare Algérie SARL                            2             2     0.01%           37,284           65,125             10,466             4\\r\\r\\n                        GE Medical Systems Israel Ltd                      100            100     1.00%           84,537          133,582             19,259           845\\r\\r\\n                        TOTAL                                              102            102\\r\\r\\n                        Capitaux propres et résultats nets statutaires réels ou estimés au 31/12/19 (toutes les sociétés n’ayant pas encore déposé\\r\\r\\n                        leurs comptes annuels)\\r\\r\\n                                                                                                                                                                      16\\r\\r\\nCopie certifiée conforme\\r\\r\\nLMG / 15/07/2020 20:15:04                                                             Page 51 sur 65\\r\\r\\nN° de dépôt - 2020/9730 / 315013359\\r\\r\\n\",\n",
       " \"ËIË_FAGE IMMOBILIER CENTRE Filiales et participations Annexe au 31/12/2019 Capitaux Capital Propres Dénomination Hors Capital e es e 11e S TT e pl é 10 (N (S [(R A Chiffre Ç Dividendes » ñ p Cautions R Résultat _ détenue (%) titres détenus avances d'affaires CIFN Valeur brute Valeur nette FILIALES (plus de 50%) SNC ALLEES DES SAVOIES 100 -10 728 99,00% 99 99 0 -10 728 SNC HOTEL DIEU REALISATION 1500 1444 014 80,00% 1200 1200 10 105 156 1 444 014 SNC CARRE JAUDE 100 0 99,00% 99 99 0 0 SCCV CASTEL VIEW 1000 19 610 51,00% 510 510 315 659 19 610 PARTICIPATIONS (10 à 50%) SCI BERTHELOT 300 -38 835 50,00% 150 150 0 -38 835 SCCV 76 DEBOURG LYON 1000 -89 201 50,00% 500 500 0 -89 201 AUTRES PARTICIPATIONS SNC PASSAGES PASTEUR 1500 1,00% 15 15 0 0 Page 28/31\",\n",
       " \"Annexe aux comptes sociaux Note 23- Tableau des filiales et participations Informations financières (en €) Capital Filiales et participations 1. Filiales (détenues à + de 50 %) : 2. Participations (détenues entre 10 et 50 %) : GIE EUROVIA BITUMES CENTRE EST B. Renseignements globaux sur les autres titres d Renseignements détaillés sur chaque titre dont la valeur brute excède 1% du capital d ont la valeur Quote-part du capital détenu en détenus Capitaux propres Valeur comptable des titres % Brute encore remboursés Nette Prêts et avances consentis par la société et non Montant des cautions et avals donnés par la société Chiffre d'affaires hors taxes du dernier exercice écoulé Résultats (bénéfice ou perte du dernier exercice clos) Dividendes encaissés par la société au cours de l'exercice 10 848 662 29,10% e la société astreinte à la publication : brute n’excède pas 1% du capital de la société astreinte à la publication : 46 538 809 10 848 662 3 200 409 Filiales françaises (ensemble) Filiales étrangères (ensemble) Participations dans les sociétés françaises (ensemble) Participations dans les sociétés étrangères (ensemble) Page 12\",\n",
       " \"Annexe aux comptes sociaux Note 23- Tableau des filiales et participations Informations financières (en €) Capital Filiales et participations 1. Filiales (détenues à + de 50 %) : 2. Participations (détenues entre 10 et 50 %) : GIE EUROVIA BITUMES CENTRE EST B. Renseignements globaux sur les autres titres d Renseignements détaillés sur chaque titre dont la valeur brute excède 1% du capital d ont la valeur Quote-part du capital détenu en détenus Capitaux propres Valeur comptable des titres % Brute encore remboursés Nette Prêts et avances consentis par la société et non Montant des cautions et avals donnés par la société Chiffre d'affaires hors taxes du dernier exercice écoulé Résultats (bénéfice ou perte du dernier exercice clos) Dividendes encaissés par la société au cours de l'exercice 10 848 662 29,10% e la société astreinte à la publication : brute n’excède pas 1% du capital de la société astreinte à la publication : 46 538 809 10 848 662 3 200 409 Filiales françaises (ensemble) Filiales étrangères (ensemble) Participations dans les sociétés françaises (ensemble) Participations dans les sociétés étrangères (ensemble) Page 12\",\n",
       " \"44 > CERTIFIÉ CONFORNE Liste des filiales et participations A “OR|G'NAL e0 / valo SR la ds Quote VALEUR COMPTABLE PRETS ET MONTANTS (S d 155 RESULTATS 191 A1P A 19145 el TS A ETE part DES TITRES DETENUS AVANCES CAUTIONS D'AFFAIRES BENEFICES ENCAISSES PJl ILN capital consentis par ET AVALS (o1] dans l‘exercice OBSERVATIONS VIs détenu en T QPL 4 1E cR 11e PERTES des resultats L 1de-ni e rn A-Filiales |B-Participations C-Autres participations Total 0| 0 Page 32 de 32\",\n",
       " \"Liste des filiales et participations SITUATION NETTE % Quote VALEUR COMPTABLE PRETS ET MONTANTS CHIFFRE RESULTATS DIVIDENDES Capital TIN l 1as DES TITRES DETENUS AVANCES CAUTIONS DUVA 2N AN 12 [13 [0 3 ENCAISSES 1S eto e d MITCTIVA capital (c ktIptd ETE ET AVALS H.T. ou dans l'exercice e IS AN [0N3 avant affect. détenu en 1 QVi e3 la sté et non 101 des resultats e Ide dn (Ttdo 1CN CT UEN A-Filiales B-Participations C-Autres participations Total 0 0 0 0 0 0 0 0 Page 32 de 32\",\n",
       " \"24. Liste des filiales et participations Valeurs Chiffre comptables des cLR Cautions titres détenus ENEule:S CV hors taxe TEI donnés du LR THeI ( par la ColTéaITTe remboursés … société exercice (I E 9I el To [ Résultat encaissés TRs (1 TIS par la exercice société en (dfe S cours p MS C[ Réserves et report à Quote- Filiales et Capital Ll 720 l 1cdoi1] cT<1 e 1 (4) CN capital En ile OR L CT 1G D e (4) enseignements détaillés (1) (2) Filiales (+ de 50% du capital détenu par la société) 3312 729 79238 13029091 13029091 197292113 4 362 259 | INEO TERTIAIRE IDF L INEO DIGITAL 400000 — <2382 152> 96% 66946260 0 13 184 916 74342701 <1095 240> 26 951 INEO INDUSTRIE ET — 500.000 47023 99,9998% 10872727 0 31654763 <1 767 538> SERVICES IDF Participations (10 l l l l l l | l | à 50% du canital) INEO DEFENSE 2.000.314 200081 — 39148% 1803858 1 803858 78 675 444 4286 445 INEO PACA 47.914 553 — 618475 — 618475 155046225 1977 176 INEO NUCLEAIRE 390.700 741009 — 20641% — 331877 — 331877 96 936 479 3 038 435 800 * & Ranselgneménts globaux concemant les autres fillaïes et participations non reprises au À. cT Fab Filiales françaises 270 570 152 2,683% 688 518 688 518 139759704 1975 002 (ensemble) Filiales étrangères (ensemble) (3) | Participations dans des sociétés françaises Participation dans des sociétés étrangères (1) Dont la valeur d'inventaire excède un certain pourcentage (déterminé par la réglementation) du capital de la société astreinte à la publication Lorsque la société a annexé à son bilan, un bilan des comptes consolidés conformément à la réglementation, cette société ne donne des renseignements que globatement ($ B) en distinguant (a) filales françaises (ensemble) et (b) filales étrangères (ensembie) (2) Pour chaque filiale et entité avec laquelle la société a un tien de participation indiquer la dénomination et le siège social. (3) Les filiales et participations étrangères qui, par suite d'une dérogation, ne seraient pas inscrites au & À sont inscrites sous ces rubriques. (4) Dans la monnaie locale d'opération. Page 26 sur 26\",\n",
       " \"24. Liste des filiales et participations e . . > [) de de ° eejelis e - - e © d - = A eno _ e ote e ; = = e > ce = = - : … - ® axe “L- = e - ° e u ° ° ep - Da e T : donné . Da Da © dva t d e - e CR = ° = eig- Da = P - affectatio déte = A e , . embo = a1oiLENTS C = , d’exe = Telolille Filiales (+ de 50% du capital détenu par la société) o, INEO TERTIAIRE IDF 3 312 729 79 238 56.966% =— 13029091 13029091 197292113 4 362 259 INEO DIGITAL 400 000 <2 382 152> 95% — 66946260 0 13 184 916 74342701 <1 095 240> 26 951 INEO INDUSTRIE ET 500.000 47023 99,9998% — 10872727 0 31654763 _ <1 767 538> SERVICES IDF e s0 ducaoten __ L 00 L | INEO DEFENSE 2.000.314 200 081 39,148% 1803858 1803858 78 679 444 4 286 445 INEO PACA 47.914 553 18,032% 618 475 618 475 155046225 1 977 176 INEO NUCLEAIRE 390.700 741 009 20,641% 331 877 331 877 96 936 479 3 038 435 800 Filiales françaises 270 570 152 2,683% 688 518 688 518 139759704 1975 002 (ensemble) Filiales étrangères (ensemble) (3) Participations dans des sociétés françaises Participation dans des sociétés étrangères (1) Dont la valeur d'inventaire excède un certain pourcentage (déterminé par la réglementation) du capital de la société astreinte à la publication. Lorsque la société a annexé à son bilan, un bilan des comptes consolidés conformément à la réglementation, cette société ne donne des renseignements que globalement ($ B) en distinguant (a) filiales françaises (ensemble) et (b) filiales étrangères (ensemble) (2) Pour chaque filiale et entité avec laquelle la société a un lien de participation indiquer la dénomination et le siège social. (3) Les filiales et participations étrangères qui, par suite d'une dérogation, ne seraient pas inscrites au $ À sont inscrites sous ces rubriques. (4) Dans la monnaie locale d'opération. Page 26 sur 26\",\n",
       " 'Indigo Park Comptes annuels au 31/12/2019 SOGEPARC NARBONNE 1 200 000 122 004 __ 468942 -301 879 122 004 - 4654 SNGS 31/12/2018 R - 152448 ; 152 400 _ 820 573 -546 720 152 400 -378 522 SNGST 31/12/2018 164 645 164 592 56 211 618 5 677 854 164 592 237 031 Page 15 sur 21 Copie certifiée conforme YA/ 22/07/2020 16:16:01 Page 16 sur 81 N° de dépêt - 2020/21785 / 320229644',\n",
       " 'SOGEPARC NARBONNE 1 200 000 -301 879 SNGS 31/12/2018 152 449 -546 720 SNGST 31/12/2018 164 645 5 677 854 Copie certifiée conforme YA / 22/07/2020 16:16: N° de d 01 lépôt - 2020/21785 / 320229644 Indigo Park Comptes annuels au 31/12/2019 10,00% 10,00% 10,00% Page 75 sur 81 122 004 122 004 152 400 152 400 164 592 164 592 468 942 46 524 820 573 -378 522 56 211 618 237 031 Page 15 sur 21',\n",
       " \"SAS IMMOBILIERE CARREFOUR EN EUROS (5.9. TABLEAU DES FILIALES ET PARTICIPATIONS AU 31/12/2019 ] Copie certifiée conforme DJ / 11/09/2020 10:16:03 PARTICIPATIONS CAPITAL AUTRES QUOTEPART| - VALEUR VALEUR PRETSET | CAUTIONS ET | CHIFFRE D'AFFAIRE RESULTAT | DIVIDENDES CAPITAUX CAPITAL TITRES TITRES AVANCES AVALS DERNIER DERNIER ENCAISSES OBSERVATIONS PROPRES DETENU BRUTE NETTE CONSENTIES FOURNIS EXERCICE EXERCICE N° de dépôt - 2020/10660 / 323439786 À - RESEIGNEMENTS DETAILLES CONCERNANT LES PARTICIPATIONS DONT LA VALEUR D'INVENTAIRE EXCEDE 1% DU CAPITAL DE LA SOCIETE ASTREINTE A PUBLICATION CRFP 13 42,14| 436 334 500,00| 436 334 500,00 B- RESEIGNEMENTS GLOBAUX CONCERNANT LES AUTRES FILIALES ET PARTICIPATIONS FILIALES FRANCAISES 5960 556,19] _ 5960 556,19 960 449 54 618 030,00 U Q e m w oo m c = w 0. FILIALES ETRANGERES PARTICIPATIONS FRANCAISES 12980 168,64| _2180168,64| 15 607 496,54 PARTICIPATIONS ETRANGERES 0,00 0,00 455 275 224,83] 444.475 224,83] 16 567 946,08 0 0 e 618 030,00 0 e c = o O ©. m O ® n = = D m o O = => O = 3 ® Q Œ\\\\ = sS D m ® pa p s O L Ss N O N =)\",\n",
       " \"Tableau des filiales et participations Valeur comptable des titres détenus Prêts et Montants avance des Dividendes Quote- consentiS cautions encaissés part du Pparla etavals par la capital sociétéet donnés société au En milliers d'euros détenu non encore par la cours de Sociétés (%) Brute Nette 'emboursés l'exercice A)FILIALES (+ de 50% du capital détenu par la société) Sociétés françaises Buil SA 100 1,339,794 1 339 794 262 931 Atos Infogérance 100 339,501 185 791 Atos Intégration 95 221,054 221 054 180 000 Atos Consulting 68 16,539 0 Atos Participation 2 100 — 30,616 16 035 Atos International 100 103,725 0 97 569 Atos Investissement 10 100 88,899 68 844 1 650 Atos Management France 100 — 44,820 0 Atos Investissement 12 100 62 26 Atos Meda 100 8,840 8 840 Atos Investissement 19 100 59 59 Atos Investissement 20 100 37 O Atos Investissement 21 __ __ L 100 37 37 _ Atos Worldgrid 100 32,328 32 328 46 317 Sociétés étrangères Atos Origin Sri, Italie 100 57,183 173 St Louis Ré, Benelux 100 2,174 2174 31 250 Atos Spain SA 100 128,121 128 121 21 763 Atos Information Technology GMBH 100 585,747 585 747 122 160 Atos International BV, Pays Bas 100 7,509,713 7 509 713 81 22,276 11 554 71 450 Atos Bilisim, Turquie Atos Customer Serv Turquie 92 199 199 5 000 B) PARTICIPATIONS (10 à 50 % du capital détenu par la société) Canopy uk ; ; _ 11 30245 — 311 _ Worldiine 13 29,285 29 285 Group technic informatic, spain 33 751 156 (en milliers d’euros) Tota! des capitaux propres des filiales françaises S 278 518 Total des capitaux propres des filiales étrangères 8 684 479 Total des résultats nets des filiales françaises -S0 943 Total des résultats nets des filiales étrangères -44 139 7 SR 46509/2020 101818 Page 14 sur 33 7 N° de dépôt - 2020/6957 / 323623603\",\n",
       " \"                HOLDIAL\\r\\r\\n                Notes annexes aux comptes arrêtés au 31-12-2019\\r\\r\\n                      4. NOTES SUR LE BILAN ET LE HORS BILAN\\r\\r\\n                       4.1 IMMOBILISATIONS FINANCIERES\\r\\r\\n                       La société a pour seul actif immobilisé des titres de participation dont la valeur brute représente\\r\\r\\n                       128 557 euros au 31 décembre 2019 (dont 84,61 euros de détention hors groupe). Les titres\\r\\r\\n                       sont évalués au coût historique.\\r\\r\\n                       Données du tableau des principales filiales et participations ci-dessous sont en K€\\r\\r\\n                                                                                                Valeur\\r\\r\\n                                                                  Réserves et       Quote    comptable                       Dividendes\\r\\r\\n                                                                                                            Résultat du\\r\\r\\n                                                                   RAN avant       Part du   des titres                    comptabilisés\\r\\r\\n                        Filiales/Participations       Capital                                             dernier exercice\\r\\r\\n                                                                 affectation du     capital   détenus                       au cours de\\r\\r\\n                                                                                                                clos\\r\\r\\n                                                                    résultat        détenu                                   l'exercice\\r\\r\\n                                                                                            Brute nette\\r\\r\\n                  FAPAGAU                                15           4 271           1%     0,2     0,2       8 384             79.6\\r\\r\\n                  L OREAL COREE                        1 991         -1 929        0,003%    0,6     0,6       9 352\\r\\r\\n                  YASULOR                              73 931        20 552        0,007%     9      6.0       2 292\\r\\r\\n                  L OREAL INDONESIE                    1 510          6 092        1,000%   23,3    23,3       3 968             33.3\\r\\r\\n                  L'OREAL BELGILUX                     16 124        18 661        0,068%    9,4     9,4      31 528             20.4\\r\\r\\n                  L’Oréal SAUDI ARABIA                 5 682         - 2 880       0.3704%  21.1    21.1       1 439\\r\\r\\n                  LOA1                                  2.5          - 1 420       100,0%    2.5      0        -85.9              0\\r\\r\\n                  LOA3                                 90 402       - 35 734      0.0016 %   1,5     0.9       -70.4              0\\r\\r\\n                  DIGIT INVEST IMMOBILIER                55            -9.4          100%   57,5      0        -11.9              0\\r\\r\\n                  Autres                                                                     3.5     1.6                        520.8\\r\\r\\n                                        TOTAL TITRES  DE PARTICIPATION                      128,6    63.1                       654.1\\r\\r\\n                       4.2 OPERATIONS AVEC LES ENTREPRISES LIEES\\r\\r\\n                       Il n’existe pas d’opération significative avec les parties liées non conclue à des conditions\\r\\r\\n                       normales de marché.\\r\\r\\n                       Les disponibilités de 3 111 403€ correspondent au solde auprès de la centrale de trésorerie du\\r\\r\\n                       groupe.\\r\\r\\n                       4.3 ETAT DES ECHEANCES DES CREANCES\\r\\r\\n                                                                A 1 an au     A plus de 1\\r\\r\\n                                                                                                Brut      Dépréciation     Net\\r\\r\\n                                                                   plus            an\\r\\r\\n                                     Actif immobilisé\\r\\r\\n                                 Créance rattachées à des                            779            779                        779\\r\\r\\n                                       participations\\r\\r\\n                                                                               3\\r\\r\\nCopie certifiée conforme\\r\\r\\nYA / 23/06/2020 16:15:11                                                   Page 12 sur 18\\r\\r\\nN° de dépôt - 2020/16448 / 324084698\\r\\r\\n\",\n",
       " \"Société : ALVEA SAS Date de clôture : 31/12/2019 Liste des filiales et participations e SE le 5076 du caj e ccs Bn es T0 e es apiÂiEs . âen mT Ms srokine e PS . - mmc Ln PS 6 n d es es tnF 0 rn S en S Demte st > és u vn ds e Ps pn ue E 2 - ms ue - L tn * 55 P è L sr cP 0 (ensemble) (3) _ cec — , Barticipations dans des 7 PE S sociétés françaises __ Par<U+FB01>éipàtioh dans des ésaimante 110 RS cA {1) Dontla valeur d'inventaire excède un certain pourcentage (déterminé par la réglementation) du capital de la société astreinte à la publication. Lorsque la société a annexé à son bilan, un bilan des comptes consolidés conformément à la régiementation, cette société ne donne des renseignements que globalement ($ B) en distinguant (a) filiales françaises (ensemble) et (b) filiales étrangères (ensemble). (2) Pour chaque filiale et entité avec laquelle la société a un lien de participation indiquer la dénomination et le siège social (8) Les filiales et participations étrangères qui, par suite d'une dérogation, ne seraient pas inscrites au $ À sont inscrites sous ces rubriques. 32 sur 34\",\n",
       " \"Société : ALVEA SAS Date de clôture : 31/12/2019 Liste des filiales et participations U T RR Filiales françaises (ensemble) Filiales étrangères (ensemble) (3) Participations dans des sociétés françaises Participation dans des sociétés étrangères OTA (1) Dont la valeur d'inventaire excède un certain pourcentage (déterminé par la réglementation) du capital de la société astreinte à la pu tion. Lorsque la société a annexé à son bilan, un bilan des comptes consolidés conformément à la réglementation, cette société ne donne des renseignements que globalement ($ B) en distinguant (a) filiales françaises (ensemble) et (b) filiales étrangères (ensemble). (2) Pour chaque filiale et entité avec laquelle la société a un lien de participation indiquer la dénomination et le siège social. l (3) Les filiales et participations étrangères qui, par suite d'une dérogation, ne seraient pas inscrites au $ À sont inscrites sous ces rubriques. !\",\n",
       " \"                       6               ÉTATS FINANCIERS\\r\\r\\n                                       NOTES ANNEXES AUX COMPTES INDIVIDUELS\\r\\r\\n                5.9           TABLEAU DES FILIALES ET PARTICIPATIONS\\r\\r\\n                                                                                  Capitaux                            Valeur                     Prêts et\\r\\r\\n                                                                                   propres                             brute     Valeur nette avances                                                Dividendes\\r\\r\\n                                                                                 autres que Quote-part comptable                   comptable consentis Cautions et         CA du Résultat du encaissés\\r\\r\\n                  Sociétés ou groupes de                                          capital et du capital des titres                 des titres      non        avals       dernier        dernier au cours de\\r\\r\\n                  sociétés                          Devise         Capital          résultat         détenue détenus(1)             détenus(1) remboursés fournis(2)     exercice        exercice l’exercice\\r\\r\\n                  (en milliers d’euros ou d’unités monétaires de la devise spécifiée)\\r\\r\\n                I. Filiales (50 % au moins du capital détenu par la société)\\r\\r\\n                ¦    TF1 Publicité                                     2 400          22 551       100,00 %              3 038         3 038       30 671            -  1 643 936          14 241\\r\\r\\n                ¦    TF1 Films Production                              2 550          30 315       100,00 %              1 768         1 768        3 097            -      42 746           3 994\\r\\r\\n                ¦    TF1 Entertainment                                 3 000            2 809      100,00 %              3 049         3 049             -           -      34 243           7 318        6 000\\r\\r\\n                ¦    e-TF1                                             1 000            1 242      100,00 %              1 000         1 000             -           -    126 950          30 388       34 000\\r\\r\\n                ¦    TF1 Vidéo                                         3 000             (528)     100,00 %            23 100          1 611             -           -      27 998           1 958            -\\r\\r\\n                ¦    TF1 Expansion                                       269        188 871        100,00 %           291 291        291 291             -           -             0        (6 640)\\r\\r\\n                ¦    TF1 Droits Audiovisuels                        15 000              2 020      100,00 %           138 431        101 033             -           -      48 503           4 123        1 290\\r\\r\\n                ¦    La Chaîne Info                                    4 500            1 383      100,00 %              2 059             59      13 695            -      28 054        (26 944)            -\\r\\r\\n                ¦    Ouest Info                                           40             (970)     100,00 %              2 617             17       1 258            -         255            (292)           -\\r\\r\\n                ¦    TF1 Production                                 10 080              5 311      100,00 %            39 052         39 052             -           -      87 100           4 644        5 000\\r\\r\\n                ¦    TF1 Management                                       40               (14)    100,00 %                  80            80            -           -             0             (5)          -\\r\\r\\n                ¦    PREFAS 20                                            40               (22)    100,00 %                  40            40            -           -             0             (4)          -\\r\\r\\n                ¦    Unify                                         312 697                589      100,00 %           312 697        312 697             -           -       1 571      (110 391)             -\\r\\r\\n                ¦    PREFAS 25                                            40               (11)    100,00 %                  40            40            -           -             0             (4)          -\\r\\r\\n                ¦    PREFAS 26                                            40                  0    100,00 %                  40            40            -           -             0             (3)          -\\r\\r\\n                ¦    PREFAS 27                                            40                  0    100,00 %                  40            40            -           -             0             (3)          -\\r\\r\\n                ¦    PREFAS 28                                            40                  0    100,00 %                  40            40            -           -             0             (3)          -\\r\\r\\n                ¦    PREFAS 29                                            40                  0    100,00 %                  40            40            -           -             0             (3)          -\\r\\r\\n                ¦    TF1 Distribution                                     40                80     100,00 %                  40            40       3 382            -    119 513              744            -\\r\\r\\n                ¦    TF1 DS                                              100                  0    100,00 %                100           100             -           -      80 918             137            -\\r\\r\\n                ¦    Newen Studios                                  27 822          (20 009)       100,00 %           225 773        225 773             -           -         864            (403)           -\\r\\r\\n                ¦    SPV                                               1 003                  0    100,00 %              1 003         1 003            1            -             0          (567)           -\\r\\r\\n                ¦    Monte Carlo\\r\\r\\n                     Participation                                  33 700          112 727        100,00 %           213 827        213 827       76 000            -           52        44 199             -\\r\\r\\n                ¦    GIE TF1 Acquisition\\r\\r\\n                     de Droits                                              0                 0      92,00 %                  0             0    192 618             -    323 077          14 305             -\\r\\r\\n                II. Participations (10 à 50 % du capital détenu par la société)\\r\\r\\n                ¦    Médiametrie*                                   14 880            23 764         10,80 %                 44            44            -           -      92 713           2 626          100\\r\\r\\n                ¦    A1 International                                     nc                 nc      50,00 %           12 809              nc            -           -            nc             nc           -\\r\\r\\n                ¦    SMR6                                                 75                14       20,00 %                 15            15           5            -           78               1           -\\r\\r\\n                III. Participations (capital détenu inférieur à 10 %)\\r\\r\\n                ¦    Médiametrie\\r\\r\\n                     Expansion*                                          843               (26)        2,42 %                91             0            -           -             0          (422)           -\\r\\r\\n                ¦    Série Club                                           50            1 251        0,004 %                  2             2            -           -      11 321             973            -\\r\\r\\n                ¦    Aphelie                                                2       104 767            0,05 %                 0             0            -           -      18 988         15 067             -\\r\\r\\n                TOTAL GÉNÉRAL\\r\\r\\n                FILIALES ET\\r\\r\\n                PARTICIPATIONS                                                                                    1 272 126 1 195 739            320 727             0              -              -    46 390\\r\\r\\n                (1) Le cas échéant, y compris frais d’acquisition sur titres.\\r\\r\\n                (2) Les cautions et avals fournis correspondent aux garanties données par la société en cas de défaillance de la filiale et présentées dans les engagements hors bilan.\\r\\r\\n                *     Capital, capitaux propres autres que capital et résultat, chiffre d’affaires et résultat de l’exercice 2018.\\r\\r\\n 260                          DOCUMENT D'ENREGISTREMENT UNIVERSEL 2019\\r\\r\\nCopie certifiée conforme\\r\\r\\nDR / 25/06/2020 10:15:30                                                                                       Page 263 sur 326\\r\\r\\nN° de dépôt - 2020/16721 / 326300159\\r\\r\\n\",\n",
       " \"Tableau des filiales et des participations filiales et participations CGED SONEPAR ILE DE FRANCE SONEPAR NORD EST SONEPAR QUEST SONEAPR SUD EST SONEPAR FRANCE INTERSERVICES SFiMO SONESERV ALDIANCE CCF 3C CLIM Capital (4} 31 500 000 406 200 917 700 2286 900 2931 465 37 500 37 500 10 000 811 050 2 662 550 555 000 TT SIIER NN P 14e nouveau avant affectations (4) Valeurs comptables des FAOO r PA L SRS V E consentis.non encore nl Quote-part du capital CTl …. Participations (10 à 50%Huîÿ{ap)‘,taÏ):«( SONEPAR FRANCE GRAND PUBLIC SONEPAR DELTREIL 47 312 418 33 751 373 23 583 928 25 216 325 16 460 711 -15 461 533 606 409 -2 618 -284 351 464 193 4 679 699 15 100 % 98.99 % 95.20 % 100 % 100 % 99% 100 % 100 % 31.38 % 10.00 % 2 471 485 21 645 208 6 436 055 40 516 916 37 500 37 500 “9900 1389 000 17 637 000 13 269 000 5 523 800 44 200 Filiales étrangères (ensemble) (3) Participations dans des sociétés françaises Â7 DSÈ 1449 2471 485 21 645 208 6 436 055 40 516 916 37 500 9900 1 389 000 17 637 000 13 269 000 S 523 800 Cautions et EVEE donnés par A G Chiffre d’affaires hors taxe du dernier (RIl TR 1 PIN SE CRL PS encaissés par à A E C 643 244 720 348 188 650 209 922 013 248 086 125 323 329 411 100 986 362 7 334 507 12 033 122 51 897 609 49 486 417 1440 060 13 193 373 3897 298 8511235 -5 067 115 -6 176 371 123 691 -1 689 -286 246 1731269 1 800 789 10 500 000 12 186 000 3 364 900 1056 461 1 308 010 999 000 Participation dans des sociétés étrangères 76 886 985 109 496 1233 462 58 972 703 800 5 858 (1) Dont la valeur d'inventaire excède un certain pourcentage (déterminé par la réglementation) du capital de la société astreinte à la publication. Lorsque la société a annexé à son bitan, un bilan des comptes consolidés conformément à la réglementation, cette société ne donne des renseignements que globalement ($ B} en distinguant (a) fitiales françaises (ensemble) et (b} filiales étrangères (ensemble). {2) Pour chaque filiale et entité avec laquelle la société a un lien de participation indiquer la dénomination et le siège social. (3} Les filiales et participations étrangères qui, par suite d‘une dérogation, ne seraient pas inscrites au & À sont inscrites sous ces rubriques. (4} Dans !a monnaie locate d'opération. 26/26\",\n",
       " 'EIFFAGE CONSTRUCTION MIDI PYRENEES Capitaux Propres Capital bl [l 1ES OS afeJpaiat-1éleJn) (eTJ1e1] FILIALES (plus de 50%) Eiffage Construction Immobilier Occitanie Q.P. capital détenue (%) Filiales et participations Valeur comptable des titres détenus [I(ACN avances e VLiTe 1S TLV O U CR TTN T TCN Annexe au 31/12/2019 Chiffre OEN ETEN Résultat P ATe (I pe 2 CIFN 30 000 1841 252 66,65% 19 995 19 995 50 018 115 1838 247 617 779 PARTICIPATIONS (10 à 50%) SNC ADE EXPANSION 1524 50,00% 762 762 29 rue Blaise pascale 65000 tarbes SCI ANNA 1524 35,00% 534 0 29 rue Blaise Pascal 65000 tarbes AUTRES PARTICIPATIONS Page 32/34',\n",
       " '279                                                                                                       Informations financières      —\\r\\r\\n                                                                                                                     Comptes sociaux\\r\\r\\n5.4.4           Tableau des filiales et des participations\\r\\r\\n                                           Autres\\r\\r\\n                                         capitaux                            Valeur comptable\\r\\r\\n                                          propres Quote-part        Nombre   des titres détenus  Prêts et Cautions       Chiffre\\r\\r\\n                                         (résultat  du capital     d’actions                     avances     et avals d’affaires  Divi-\\r\\r\\n(en millions d’euros)            Capital   inclus) détenu (%)     détenues     Brute      Nette consentis    donnés        2019 dendes\\r\\r\\nFiliales\\r\\r\\nCapgemini North America Inc.          1     2 327  100,00 %        982 000    9 132       9 132      225            -          0      -\\r\\r\\nCGS HOLDINGS Ltd                   624           1 100,00 %    558 777 061      721         721          -          -           -     -\\r\\r\\nGemini Consulting Holding Ltd         0          9 100,00 %           1 083      23          23          -          -           -     -\\r\\r\\nCapgemini Oldco Ltd                  12         26 100,00 % 1 033 938 857       801         801          -          -           -     -\\r\\r\\nCapgemini AB (Suède)               224         (6) 100,00 %         25 861      387         387         -          8         13     14\\r\\r\\nCapgemini NV (Benelux)                2       191  100,00 %     21 582 376    1 467       1 467          -          -           -   60\\r\\r\\nCapgemini Business Services BV       19       (13) 100,00 %         42 227       41          10          -          -           -     -\\r\\r\\nCapgemini Deutschland\\r\\r\\nHolding GmbH                       129          91   95,59 %               -    629         629       31            -        38       -\\r\\r\\nCapgemini Consulting\\r\\r\\nÖsterreich AG                         0         12 100,00 %         64 999       60          60          -          -        25      1\\r\\r\\nCapgemini Suisse AG                   0          8 100,00 %             500      92          92         2         76         97       -\\r\\r\\nCapgemini Polska Sp Z.o.o\\r\\r\\n(Pologne)                             4         43 100,00 %        129 160       25          25          -          -       310     19\\r\\r\\nCapgemini Magyarorszag Kft            0          0 100,00 %                1       2          2         1           -          6      -\\r\\r\\nCapgemini Czech Republic s r o        1        (1)   98,77 %        21 255         8          8         2           -          6      -\\r\\r\\nCapgemini France S.A.S.              89       777  100,00 %      5 713 954    1 324       1 324          -          -           -   25\\r\\r\\nCapgemini Technology\\r\\r\\nServices Maroc S.A.                   3       129    99,99 %       329 996         3          3          -          -        57      4\\r\\r\\nSOGETI S.A.S.                      261      1 186  100,00 %     52 106 876      754         754         -           -           -   50    5.\\r\\r\\nCapgemini Italia S.p.A.              18         46 100,00 %      3 575 000      543         543       10          17        350       -\\r\\r\\nCapgemini España S.L.\\r\\r\\n(Sociedad Unipersonal)               43          1   85,73 %       371 784      340         340         -          5        296       -\\r\\r\\nCapgemini Portugal, Serviços de\\r\\r\\nConsultoria e Informatica, S.A.       8          4 100,00 %      1 698 842       44          34         -           -        38      3\\r\\r\\nCapgemini Business Services\\r\\r\\nGuatemala S.A.                        1         14   99,80 %    12 900 034         1          1         -           -        29      5\\r\\r\\nCapgemini Argentina S.A.              1          1    0,15 %       126 369         0          0          -          -          8      -\\r\\r\\nCapgemini Asia Pacific Pte. Ltd.   192        (17) 100,00 %    278 083 711      309         309         -         10           1      -\\r\\r\\nCapgemini Australia Pty Ltd.       128        (84) 100,00 %      1 575 512      182         182         -           -       263       -\\r\\r\\nCapgemini Technology\\r\\r\\nServices India Limited                0     1 659    35,09 %    20 750 621      564         564         -           -     1 793       -\\r\\r\\nCapgemini Service S.A.S               8         14 100,00 %      8 000 000      164          22          -          -           -     -\\r\\r\\nS.C.I. Paris Étoile                   0          6   99,99 %          9 999      48          31          -          -          2     2\\r\\r\\nImmobilière les Fontaines S.A.R.L.    3         11   99,90 %     1 004 628       52          52         -           -          4      -\\r\\r\\nCapgemini Gouvieux S.A.S.             3        (1) 100,00 %        210 000         3          3          -          -        19       -\\r\\r\\nCapgemini Latin America S.A.S.       90       (15) 100,00 %      8 998 345      522          76          -          -           -     -\\r\\r\\nCapgemini Reinsurance\\r\\r\\nInternational S.A.                   20         20 100,00 %         10 000         5          5          -          -          8      -\\r\\r\\nAutres filiales françaises          n/a        n/a        n/a            n/a       0          0         3        n/a        n/a       -\\r\\r\\nAutres Étrangers                    n/a        n/a        n/a            n/a       0          0       46            -       n/a       -\\r\\r\\nParticipations\\r\\r\\nAu 31 décembre 2019, le montant des autres participations détenues par Capgemini SE correspond aux titres d’Altran Technologies\\r\\r\\net Azqore (436 M€).\\r\\r\\nn/a : non applicable.\\r\\r\\n                                                                              CAPGEMINI — DOCUMENT D’ENREGISTREMENT UNIVERSEL 2019\\r\\r\\n',\n",
       " '279                                                                                                       Informations financières      —\\r\\r\\n                                                                                                                     Comptes sociaux\\r\\r\\n5.4.4           Tableau des filiales et des participations\\r\\r\\n                                           Autres\\r\\r\\n                                         capitaux                            Valeur comptable\\r\\r\\n                                          propres Quote-part        Nombre   des titres détenus  Prêts et Cautions       Chiffre\\r\\r\\n                                         (résultat  du capital     d’actions                     avances     et avals d’affaires  Divi-\\r\\r\\n(en millions d’euros)            Capital   inclus) détenu (%)     détenues     Brute      Nette consentis    donnés        2019 dendes\\r\\r\\nFiliales\\r\\r\\nCapgemini North America Inc.          1     2 327  100,00 %        982 000    9 132       9 132      225            -          0      -\\r\\r\\nCGS HOLDINGS Ltd                   624           1 100,00 %    558 777 061      721         721          -          -           -     -\\r\\r\\nGemini Consulting Holding Ltd         0          9 100,00 %           1 083      23          23          -          -           -     -\\r\\r\\nCapgemini Oldco Ltd                  12         26 100,00 % 1 033 938 857       801         801          -          -           -     -\\r\\r\\nCapgemini AB (Suède)               224         (6) 100,00 %         25 861      387         387         -          8         13     14\\r\\r\\nCapgemini NV (Benelux)                2       191  100,00 %     21 582 376    1 467       1 467          -          -           -   60\\r\\r\\nCapgemini Business Services BV       19       (13) 100,00 %         42 227       41          10          -          -           -     -\\r\\r\\nCapgemini Deutschland\\r\\r\\nHolding GmbH                       129          91   95,59 %               -    629         629       31            -        38       -\\r\\r\\nCapgemini Consulting\\r\\r\\nÖsterreich AG                         0         12 100,00 %         64 999       60          60          -          -        25      1\\r\\r\\nCapgemini Suisse AG                   0          8 100,00 %             500      92          92         2         76         97       -\\r\\r\\nCapgemini Polska Sp Z.o.o\\r\\r\\n(Pologne)                             4         43 100,00 %        129 160       25          25          -          -       310     19\\r\\r\\nCapgemini Magyarorszag Kft            0          0 100,00 %                1       2          2         1           -          6      -\\r\\r\\nCapgemini Czech Republic s r o        1        (1)   98,77 %        21 255         8          8         2           -          6      -\\r\\r\\nCapgemini France S.A.S.              89       777  100,00 %      5 713 954    1 324       1 324          -          -           -   25\\r\\r\\nCapgemini Technology\\r\\r\\nServices Maroc S.A.                   3       129    99,99 %       329 996         3          3          -          -        57      4\\r\\r\\nSOGETI S.A.S.                      261      1 186  100,00 %     52 106 876      754         754         -           -           -   50    5.\\r\\r\\nCapgemini Italia S.p.A.              18         46 100,00 %      3 575 000      543         543       10          17        350       -\\r\\r\\nCapgemini España S.L.\\r\\r\\n(Sociedad Unipersonal)               43          1   85,73 %       371 784      340         340         -          5        296       -\\r\\r\\nCapgemini Portugal, Serviços de\\r\\r\\nConsultoria e Informatica, S.A.       8          4 100,00 %      1 698 842       44          34         -           -        38      3\\r\\r\\nCapgemini Business Services\\r\\r\\nGuatemala S.A.                        1         14   99,80 %    12 900 034         1          1         -           -        29      5\\r\\r\\nCapgemini Argentina S.A.              1          1    0,15 %       126 369         0          0          -          -          8      -\\r\\r\\nCapgemini Asia Pacific Pte. Ltd.   192        (17) 100,00 %    278 083 711      309         309         -         10           1      -\\r\\r\\nCapgemini Australia Pty Ltd.       128        (84) 100,00 %      1 575 512      182         182         -           -       263       -\\r\\r\\nCapgemini Technology\\r\\r\\nServices India Limited                0     1 659    35,09 %    20 750 621      564         564         -           -     1 793       -\\r\\r\\nCapgemini Service S.A.S               8         14 100,00 %      8 000 000      164          22          -          -           -     -\\r\\r\\nS.C.I. Paris Étoile                   0          6   99,99 %          9 999      48          31          -          -          2     2\\r\\r\\nImmobilière les Fontaines S.A.R.L.    3         11   99,90 %     1 004 628       52          52         -           -          4      -\\r\\r\\nCapgemini Gouvieux S.A.S.             3        (1) 100,00 %        210 000         3          3          -          -        19       -\\r\\r\\nCapgemini Latin America S.A.S.       90       (15) 100,00 %      8 998 345      522          76          -          -           -     -\\r\\r\\nCapgemini Reinsurance\\r\\r\\nInternational S.A.                   20         20 100,00 %         10 000         5          5          -          -          8      -\\r\\r\\nAutres filiales françaises          n/a        n/a        n/a            n/a       0          0         3        n/a        n/a       -\\r\\r\\nAutres Étrangers                    n/a        n/a        n/a            n/a       0          0       46            -       n/a       -\\r\\r\\nParticipations\\r\\r\\nAu 31 décembre 2019, le montant des autres participations détenues par Capgemini SE correspond aux titres d’Altran Technologies\\r\\r\\net Azqore (436 M€).\\r\\r\\nn/a : non applicable.\\r\\r\\n                                                                              CAPGEMINI — DOCUMENT D’ENREGISTREMENT UNIVERSEL 2019\\r\\r\\n',\n",
       " \"Blra ce ce Quote-partde … Capitaux propres = dernier exercice Capital en milliers d’euros … clos en milliers K11 çetS FILIALES : - Lactalis Services Management 99.90% 16 - Société des Produits Laitiers de l'Ouest 99.90% 16 - Lactalis Investissements 97.19% 729 511 - Lactalis Gestion Lait 99.99% 6 576 - SAS Vergers de Chateaubourg 99.99% 29749 2617 - L.P.Management 99.90% 16 - Lactalis Gestion International 99.90% 16 - Lactalis Ingrédients 99.99% 8 650 - Société Fromagère de Xertigny 99.90% 16 - Fromagerie Girod SNC 99.90% 16 - Lactalis Fromages 99.99% 3 825 - Lactalis Beurres & Crèmes 99.99% 204 - L.C.H.F. 99.97% 108 - Collecte Lait Bayeux 99.90% 16 - L.M.P. Management 99.90% 16 - Lactel 99.97% 83 - Les Cateliers 99.99% 1393 -27 - Lactalis Management 99.90% 16 - CLB Management 99.90% 16 - L.T. Management 99.90% 16 - L.C. Management 99.90% 16 - LA. Management 99.90% 16 - Lactalis Europe | 99.90% 16 - Laiterie de la Chevrolière 99.90% 16 - Raguin-Terroirs Authentiques 99.96% 6 152 361 - Métral | 99.90% 16 - Lactalis Nestlé Produits Frais 54.99% 255 154 49 595 - Collecte Lait Sarrebourg 99.90% 16 - Poitrey La Belle Etoile 99.99% 10 000 - Sté Fromagère de Saint Maclou 99.90% 16 - Société Laitière de Normandie 80.37% 4 406 -88 - Sté des Caves et Producteurs Réunis de Roquefor 99.99% 101 482 6 345 - Ets Avenel 71.99% 211 880 28 919 - Lacto Sérum France 99.99% 54 352 -SAS Canelia 50.95% 86 884 5 276 - Lactalis Nutrition Diététique 100.00% -33 819 -16 913 - Walchli 99.99% 2 967 - Lactalis Nutrition Santé 99.95% -53 220 1361\",\n",
       " \"FILIALES : - Z Languetot - L.G. Management - Célia - Fromageries Pochat et Fils - Sté Fromagère de St Bonnet - Société Marcillat Loulans - Société Fromagère de Jort - Société Fromagère du Moulin de Carel - L.H. Management - L.D&.Management - Les Fromageries de Normandie PARTICIPATIONS : - Lactalis Vostok SA - Société Fromagère de Rodez - Le Chartrousin - Société laitière de Rodez - Société Laitière du Blavet - Sofil - Normandie Perche Lait - Solaipa - Marcillat Corcieux - Sté Fromagère de Raival - Etoile du Vercors - Société Industrielle de Bondues - Sté Laitière de L'Hermitage - Sté Laitière de Vitré - Sté Beurriere d'isigny - Sté Fromagère de Vercel - Fromagerie du Dauphine - Sté Fromagère de Bouvron - Sté Laitière de Retiers - Bolaidor - Sté Fromagère d'Eteaux - Sté Fromagère de Domfront - Sté Laitière de Clermont - Sté Fromagère de Charchigné - Sté Fromagère de Meaux St Faron - Sté Fromagère de Riom Quote-part de Capital 99.90% 99.90% 100.00% 99.90% 80.00% 80.00% 80.00% 80.00% 99.90% 99.90% 100.00% 10.00% 20.00% 20.00% 20.00% 20.00% 35.43% 20.00% 20.00% 20.00% 20.00% 20.00% 20.00% 20.00% 20.00% 20.00% 20.00% 20.00% 20.00% 20.00% 39.38% 20.00% 20.00% 20.00% 20.00% 20.00% 20.00% Capitaux propres 16 16 68230 3266 16 16 16 16 16 16 23 724 34 554 16 -113 16 16 1 530 654 83 16 16 16 4 569 16 16 16 16 16 2678 16 168 NC 16 16 16 16 16 16 pl eldell] e dé 5 Gpale (( -29 175 -5 436 1530 5270 -27 244\",\n",
       " \"Dont résultat du HVE Capitaux propres Capital p f e fIl 18 C d [t ( [e}S PARTICIPATIONS : | - Sté Fromagère d'Orbec 20.00% 16 - Sté Fromagère de Sainte Cécile 20.00% 16 - Sté Beurrière de Retiers 20.00% 16 - Sté Fromagère de Pontivy 20.00% 16 - Sté Laitière de Pontivy 20.00% 16 - Sté Fromagère de Riblaire 20.00% 16 - Sogal Socamuel 15.73% NC - Sté Laitière de Montauban 20.00% 16 - Sté Fromagère de Retiers 20.00% 16 - Sté Laitière de Mayenne 20.00% 16 - Sté Fromagère de Clécy 20.00% 16 - Sté Fromagère de Craon 20.00% 16 - Célia Laiterie de Craon 20.00% 16 - Sté Industrielle de Saint Florent 20.00% 16 - Etoile du Quercy 20.00% 2793 *Les chiffres d’affaires des filiales sont présentés dans le rapport de gestion.\",\n",
       " \"we (Sl e L e t es t P d 1ce 1 ETE S C1p e Capital en milliers d'euros = clos en milliers (( FILIALES : | - Lactalis Services Management \\\\l 29.90% 16 - Société des Produits Laitiers de l'Ouest 99.90% 16 - Lactalis Investissements 97.19% 729 511 - Lactalis Gestion Lait 99.99% 6 576 - SAS Vergers de Chateaubourg 99.99% 29749 2617 - L.P.Management 99.90% 16 - Lactalis Gestion International 99.90% 16 - Lactalis Ingrédients 99.99% 8 650 - Société Fromagère de Xertigny 99.90% 16 - Fromagerie Girod SNC 99.90% 16 - Lactalis Fromages 99.99% 3825 - Lactalis Beurres & Crèmes 99.99% 204 - L.C.H.F. 99.97% 108 - Collecte Lait Bayeux 99.90% 16 - L.M.P. Management 99.90% 16 - Lactel 99.97% 83 - Les Cateliers 99.99% 1 393 -27 - Lactalis Management 99.90% 16 - CLB Management 99.90% 16 \\\\ - LT. Management 99.90% 16 - L.C. Management 99.90% 16 - L.A. Management 99.90% 16 - Lactalis Europe 99.90% 16 - Laiterie de la Chevrolière 99.90% 16 - Raguin-Terroirs Authentiques 29.96% 6 152 381 - Métral 99.90% 16 - Lactalis Nestlé Produits Frais 54.99% 255 154 49 595 - Collecte Lait Sarrebourg | 99.90% 16 - Poitrey La Belle Etoile | 99.99% 10 000 - Sté Fromagère de Saint Maclou 99.90% 16 - Société Laitière de Normandie 80.37% 4 406 -88 - Sté des Caves et Producteurs Réunis de Roquefor 99.99% 101 482 6 345 - Ets Avenel 71.99% 211 880 28 919 - Lacto Sérum France 99.99% 54 352 J -SAS Canelia 50.95% 86 884 5 276 - Lactalis Nutrition Diététique 100.00% -33 819 -16 913 - Walchii 99.99% 2 957 - Lactalis Nutrition Santé 99.95% -53 220 1361\",\n",
       " \"Dont résultat du S EU Capitaux propres ; À Capital CIS CRL clos FILIALES : | - Z Languetot 99.90% 16 Ï - L.G. Management 99.90% 16 | - Célia 100.00% 68230 -29 175 - Fromageries Pochat et Fils 99.90% 3 266 -5 436 - Sté Fromagère de St Bonnet 80.00% 16 - Société Marcillat Loulans 80.00% 16 - Société Fromagère de Jort 80.00% 16 - Société Fromagère du Moulin de Carel 80.00% 16 - L.H. Management 99.90% 16 - L.B&.Management 99.90% 16 - Les Fromageries de Normandie 100.00% 23 724 1530 | PARTICIPATIONS : - Lactalis Vostok SA 10.00% 34 554 5270 - Société Fromagère de Rodez 20.00% 16 - Le Chartrousin 20.00% -113 - Société laitière de Rodez 20.00% 16 - Société Laitière du Blavet 20.00% 16 - Sofil 35.43% 1 530 654 -27 244 - Normandie Perche Lait 20.00% 83 - Solaipa 20.00% 16 - Marcillat Corcieux 20.00% 16 - Sté Fromagère de Raival 20.00% 16 - Etoile du Vercors 20.00% 4 569 - Société Industrielle de Bondues 20.00% 16 | - Sté Laitière de L'Hermitage 20.00% 16 - Sté Laitière de Vitré 20.00% 16 - Sté Beurriere d'Isigny 20.00% 16 - Sté Fromagère de Vercel | 20.00% 16 - Fromagerie du Dauphine | 20.00% 2 678 - Sté Fromagère de Bouvron 20.00% 16 - Sté Laitière de Retiers 20.00% 168 - Bolaidor 39.38% NC - Sté Fromagère d’Eteaux 20.00% 16 - Sté Fromagère de Domfront 20.00% 16 - Sté Laitière de Clermont 20.00% 16 - Sté Fromagère de Charchigné 20.00% 16 | - Sté Fromagère de Meaux St Faron 20.00% 16 \\\\ - Sté Fromagère de Riom 20.00% 16\",\n",
       " \"[prepide=20kétdo|6 PEPE Capitaux propres Capital p w CTN Cl (a [9 PARTICIPATIONS : - Sté Fromagère d'Orbec 20.00% 16 - Sté Fromagère de Sainte Cécile 20.00% 16 - Sté Beurrière de Retiers 20.00% 16 - Sté Fromagère de Pontivy 20.00% 16 - Sté Laitière de Pontivy 20.00% 16 - Sté Fromagère de Riblaire 20.00% 16 - Sogal Socamuel 15.73% NC - Sté Laitière de Montauban 20.00% 16 - Sté Fromagère de Retiers 20.00% 16 - Sté Laitière de Mayenne | 20.00% 16 - Sté Fromagère de Clécy | 20.00% 16 - Sté Fromagère de Craon 20.00% 16 - Célia Laiterie de Craon 20.00% 16 - Sté Industrielle de Saint Florent 20.00% 16 - Etoile du Quercy 20.00% 2793 *Les chiffres d’affaires des filiales sont présentés dans le rapport de gestion.\",\n",
       " 'BOURGEY MONTREUIL NORMANDIE @ GEODIS ANNEXE COMPTABLE au 31/12/2019 NOTE 26 - LISTE DES FILIALES ET PARTICIPATIONS en milliers Euros LJ3N Avances Dénomination Capital q V.B. Titres Capitaux Siège Social e Dividendes | V.N. Titres | Cautions Résultat PN R PER(N SCI La Poudrière _ 15 _ ; 12_ 0110 Z.\\\\ Boulevard Dambourney 76350 229 12 98 PARTICIP. e NN . Autres filiaies Françaises l . Autres filiales étrangères Î . Autres participations Françaises Î . Autres participations étrangères Î Copie certifiée conforme AD / 08/06/2020 16:15:15 Page 66 sur 67 N° de dépôt - 2020/4717 / 31154765']"
      ]
     },
     "execution_count": 63,
     "metadata": {},
     "output_type": "execute_result"
    }
   ],
   "source": [
    "list(df[df.tableau_f_et_p == 1].text)"
   ]
  },
  {
   "cell_type": "code",
   "execution_count": null,
   "metadata": {},
   "outputs": [],
   "source": []
  }
 ],
 "metadata": {
  "kernelspec": {
   "display_name": "base",
   "language": "python",
   "name": "python3"
  },
  "language_info": {
   "codemirror_mode": {
    "name": "ipython",
    "version": 3
   },
   "file_extension": ".py",
   "mimetype": "text/x-python",
   "name": "python",
   "nbconvert_exporter": "python",
   "pygments_lexer": "ipython3",
   "version": "3.10.9"
  },
  "orig_nbformat": 4
 },
 "nbformat": 4,
 "nbformat_minor": 2
}
