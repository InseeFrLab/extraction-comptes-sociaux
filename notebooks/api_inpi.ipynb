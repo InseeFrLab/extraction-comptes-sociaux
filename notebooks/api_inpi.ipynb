{
 "cells": [
  {
   "cell_type": "code",
   "execution_count": null,
   "metadata": {},
   "outputs": [],
   "source": [
    "https://entreprise.api.gouv.fr/v2/\n",
    "bilans_inpi/SirenDeL’Entreprise\n",
    "?token=JetonD’Habilitation\n",
    "&context=CadreDeLaRequête\n",
    "&recipient=BénéficiaireDel’Appel\n",
    "&object=RaisonDeL’AppelOuIdentifiant"
   ]
  },
  {
   "cell_type": "code",
   "execution_count": null,
   "metadata": {},
   "outputs": [],
   "source": [
    "connexionApi <- function(){\n",
    "  #reset_config()\n",
    "  #URL de l'API RNCS\n",
    "  query_entree <- paste0(\"https://opendata-rncs.inpi.fr/services/diffusion/login\")\n",
    "  # Requ?te POST de connexion à l'API\n",
    "  entree_inpi <- httr::POST(url = query_entree, config = httr::add_headers(login = \"briant\", password = \"Drisse240\" ))\n",
    "  return(entree_inpi$status_code)\n",
    "}\n"
   ]
  },
  {
   "cell_type": "code",
   "execution_count": 1,
   "metadata": {},
   "outputs": [],
   "source": [
    "import requests"
   ]
  },
  {
   "cell_type": "code",
   "execution_count": 7,
   "metadata": {},
   "outputs": [],
   "source": [
    "import getpass\n",
    "\n",
    "user = input('Login :')\n",
    "passwd = getpass.getpass(\"Password for \" + user + \" :\")"
   ]
  },
  {
   "cell_type": "code",
   "execution_count": 8,
   "metadata": {},
   "outputs": [
    {
     "data": {
      "text/plain": [
       "404"
      ]
     },
     "execution_count": 8,
     "metadata": {},
     "output_type": "execute_result"
    }
   ],
   "source": [
    "headers = {\n",
    "    'login': user,\n",
    "    'password': passwd\n",
    "}\n",
    "\n",
    "r = requests.get(\"https://entreprise.api.gouv.fr/v2/bilans_inpi/\", headers=headers)\n",
    "r.status_code"
   ]
  },
  {
   "cell_type": "code",
   "execution_count": null,
   "metadata": {},
   "outputs": [],
   "source": []
  }
 ],
 "metadata": {
  "kernelspec": {
   "display_name": "base",
   "language": "python",
   "name": "python3"
  },
  "language_info": {
   "codemirror_mode": {
    "name": "ipython",
    "version": 3
   },
   "file_extension": ".py",
   "mimetype": "text/x-python",
   "name": "python",
   "nbconvert_exporter": "python",
   "pygments_lexer": "ipython3",
   "version": "3.10.4 | packaged by conda-forge | (main, Mar 24 2022, 17:39:04) [GCC 10.3.0]"
  },
  "orig_nbformat": 4,
  "vscode": {
   "interpreter": {
    "hash": "3fa046f995eb80ac40c0869a1f9df46519f4ada8b8c395ef25dd1aa1a1a2fc63"
   }
  }
 },
 "nbformat": 4,
 "nbformat_minor": 2
}
