{
 "cells": [
  {
   "cell_type": "code",
   "execution_count": null,
   "metadata": {
    "tags": []
   },
   "outputs": [],
   "source": [
    "import requests"
   ]
  },
  {
   "cell_type": "code",
   "execution_count": null,
   "metadata": {
    "tags": []
   },
   "outputs": [],
   "source": [
    "import getpass\n",
    "\n",
    "user = input('Login :')\n",
    "passwd = getpass.getpass(\"Password for \" + user + \" :\")"
   ]
  },
  {
   "cell_type": "code",
   "execution_count": null,
   "metadata": {
    "tags": []
   },
   "outputs": [],
   "source": [
    "json = {\n",
    "    'username': user,\n",
    "    'password': passwd\n",
    "}"
   ]
  },
  {
   "cell_type": "code",
   "execution_count": null,
   "metadata": {
    "tags": []
   },
   "outputs": [],
   "source": [
    "r = requests.post(\n",
    "    'https://registre-national-entreprises.inpi.fr/api/sso/login',\n",
    "    json=json)\n",
    "r.status_code"
   ]
  },
  {
   "cell_type": "code",
   "execution_count": null,
   "metadata": {
    "tags": []
   },
   "outputs": [],
   "source": [
    "token = r.json()['token']"
   ]
  },
  {
   "cell_type": "code",
   "execution_count": null,
   "metadata": {
    "tags": []
   },
   "outputs": [],
   "source": [
    "token"
   ]
  },
  {
   "cell_type": "markdown",
   "metadata": {},
   "source": [
    "### Recherche des documents associés à un SIREN"
   ]
  },
  {
   "cell_type": "code",
   "execution_count": null,
   "metadata": {
    "tags": []
   },
   "outputs": [],
   "source": [
    "class BearerAuth(requests.auth.AuthBase):\n",
    "    def __init__(self, token):\n",
    "        self.token = token\n",
    "    def __call__(self, r):\n",
    "        r.headers[\"authorization\"] = \"Bearer \" + self.token\n",
    "        return r"
   ]
  },
  {
   "cell_type": "code",
   "execution_count": null,
   "metadata": {
    "tags": []
   },
   "outputs": [],
   "source": [
    "siren = '300645124'\n",
    "\n",
    "r = requests.get(\n",
    "    f'https://registre-national-entreprises.inpi.fr/api/companies/{siren}/attachments',\n",
    "    auth=BearerAuth(token)\n",
    ")\n",
    "r.status_code"
   ]
  },
  {
   "cell_type": "code",
   "execution_count": null,
   "metadata": {
    "tags": []
   },
   "outputs": [],
   "source": [
    "documents = r.json()"
   ]
  },
  {
   "cell_type": "code",
   "execution_count": null,
   "metadata": {
    "tags": []
   },
   "outputs": [],
   "source": [
    "documents.keys()"
   ]
  },
  {
   "cell_type": "code",
   "execution_count": null,
   "metadata": {
    "tags": []
   },
   "outputs": [],
   "source": [
    "documents['bilans']"
   ]
  },
  {
   "cell_type": "code",
   "execution_count": null,
   "metadata": {
    "tags": []
   },
   "outputs": [],
   "source": [
    "documents['bilans'][0]['dateCloture']"
   ]
  },
  {
   "cell_type": "code",
   "execution_count": null,
   "metadata": {
    "tags": []
   },
   "outputs": [],
   "source": [
    "from datetime import datetime, date"
   ]
  },
  {
   "cell_type": "code",
   "execution_count": null,
   "metadata": {
    "tags": []
   },
   "outputs": [],
   "source": [
    "datetime.strptime(documents['bilans'][0]['dateCloture'], '%Y-%m-%d').year"
   ]
  },
  {
   "cell_type": "markdown",
   "metadata": {},
   "source": [
    "### Metadata"
   ]
  },
  {
   "cell_type": "code",
   "execution_count": null,
   "metadata": {},
   "outputs": [],
   "source": [
    "identifier = documents['bilans'][0]['id']"
   ]
  },
  {
   "cell_type": "code",
   "execution_count": null,
   "metadata": {
    "tags": []
   },
   "outputs": [],
   "source": [
    "r = requests.get(\n",
    "    f'https://registre-national-entreprises.inpi.fr/api/bilans/{identifier}',\n",
    "    auth=BearerAuth(token)\n",
    ")\n",
    "r.status_code"
   ]
  },
  {
   "cell_type": "code",
   "execution_count": null,
   "metadata": {
    "tags": []
   },
   "outputs": [],
   "source": [
    "metadata = r.json()\n",
    "metadata"
   ]
  },
  {
   "cell_type": "markdown",
   "metadata": {},
   "source": [
    "### DL"
   ]
  },
  {
   "cell_type": "code",
   "execution_count": null,
   "metadata": {
    "tags": []
   },
   "outputs": [],
   "source": [
    "r = requests.get(\n",
    "    f'https://registre-national-entreprises.inpi.fr/api/bilans/{identifier}/download',\n",
    "    auth=BearerAuth(token)\n",
    ")\n",
    "r.status_code"
   ]
  },
  {
   "cell_type": "code",
   "execution_count": null,
   "metadata": {
    "tags": []
   },
   "outputs": [],
   "source": [
    "binary_file_path = 'test.pdf'\n",
    "with open(binary_file_path, 'wb') as f:\n",
    "    f.write(r.content)"
   ]
  },
  {
   "cell_type": "markdown",
   "metadata": {},
   "source": [
    "### Test DocumentQuerier "
   ]
  },
  {
   "cell_type": "code",
   "execution_count": null,
   "metadata": {
    "tags": []
   },
   "outputs": [],
   "source": [
    "import hvac\n",
    "import os\n",
    "client = hvac.Client(\n",
    "    url=\"https://vault.lab.sspcloud.fr\", token=os.environ[\"VAULT_TOKEN\"]\n",
    ")\n",
    "\n",
    "secret = os.environ[\"VAULT_MOUNT\"] + \"/\" + os.environ[\"VAULT_TOP_DIR\"] + \"/s3_creds\"\n",
    "mount_point, secret_path = secret.split(\"/\", 1)\n",
    "secret_dict = client.secrets.kv.read_secret_version(\n",
    "    path=secret_path, mount_point=mount_point\n",
    ")\n",
    "\n",
    "os.environ[\"AWS_ACCESS_KEY_ID\"] = secret_dict[\"data\"][\"data\"][\n",
    "    \"ACCESS_KEY\"\n",
    "]\n",
    "os.environ[\"AWS_SECRET_ACCESS_KEY\"] = secret_dict[\"data\"][\"data\"][\n",
    "    \"SECRET_KEY\"\n",
    "]\n",
    "try:\n",
    "    del os.environ[\"AWS_SESSION_TOKEN\"]\n",
    "except KeyError:\n",
    "    pass"
   ]
  },
  {
   "cell_type": "code",
   "execution_count": null,
   "metadata": {
    "tags": []
   },
   "outputs": [],
   "source": [
    "%load_ext autoreload\n",
    "%autoreload 2"
   ]
  },
  {
   "cell_type": "code",
   "execution_count": null,
   "metadata": {
    "tags": []
   },
   "outputs": [],
   "source": [
    "import sys\n",
    "sys.path.append(\"../ca_extract/page_selection\")\n",
    "sys.path.append(\"../ca_extract/\")\n",
    "sys.path.append(\"../\")"
   ]
  },
  {
   "cell_type": "code",
   "execution_count": null,
   "metadata": {
    "tags": []
   },
   "outputs": [],
   "source": [
    "from page_selection.document_querier import DocumentQuerier"
   ]
  },
  {
   "cell_type": "code",
   "execution_count": null,
   "metadata": {
    "tags": []
   },
   "outputs": [],
   "source": [
    "querier = DocumentQuerier(username=user, password=passwd)"
   ]
  },
  {
   "cell_type": "code",
   "execution_count": null,
   "metadata": {
    "tags": []
   },
   "outputs": [],
   "source": [
    "querier.list_documents(siren)"
   ]
  },
  {
   "cell_type": "code",
   "execution_count": null,
   "metadata": {
    "tags": []
   },
   "outputs": [],
   "source": [
    "querier.query_document(siren, 2020, save_path=\"test.pdf\", s3=False)"
   ]
  },
  {
   "cell_type": "code",
   "execution_count": null,
   "metadata": {
    "tags": []
   },
   "outputs": [],
   "source": [
    "#save_path = \"projet-extraction-tableaux/test.pdf\"\n",
    "#querier.query_document(siren, 2020, save_path=save_path, s3=True)"
   ]
  },
  {
   "cell_type": "code",
   "execution_count": null,
   "metadata": {},
   "outputs": [],
   "source": [
    "#sys.path.append(\"../ca_extract/\")\n",
    "from extraction.table_transformer.detector import TableTransformerDetector\n",
    "from extraction.table_transformer.extractor import TableTransformerExtractor\n",
    "from page_selection.page_selector import PageSelector\n"
   ]
  },
  {
   "cell_type": "code",
   "execution_count": null,
   "metadata": {},
   "outputs": [],
   "source": [
    "import mlflow\n",
    "\n",
    "def get_detector() -> TableTransformerDetector:\n",
    "    \"\"\"\n",
    "    Load table detector model.\n",
    "\n",
    "    Returns:\n",
    "        TableTransformerDetector: detector.\n",
    "    \"\"\"\n",
    "    detector = TableTransformerDetector(\n",
    "        padding_factor=1.02,\n",
    "        crop_padding_factor=1.02,\n",
    "    )\n",
    "    print(\"TableTransformerDetector loaded.\")\n",
    "    return detector\n",
    "    \n",
    "def get_extractor() -> TableTransformerExtractor:\n",
    "    \"\"\"\n",
    "    Load table extractor model.\n",
    "\n",
    "    Returns:\n",
    "        TableTransformerExtractor: detector.\n",
    "    \"\"\"\n",
    "    extractor = TableTransformerExtractor()\n",
    "    print(\"TableTransformerExtractor loaded.\")\n",
    "    return extractor\n",
    "\n",
    "\n",
    "def get_page_selector() -> PageSelector:\n",
    "    \"\"\"\n",
    "    Load page selector.\n",
    "\n",
    "    Returns:\n",
    "    \"\"\"\n",
    "    model_name = \"page_selection_fasttext\"\n",
    "    stage = \"Staging\"\n",
    "    clf = mlflow.pyfunc.load_model(f\"models:/{model_name}/{stage}\")\n",
    "    page_selector = PageSelector(\n",
    "        clf=clf\n",
    "    )\n",
    "    print(\"Page selector loaded.\")\n",
    "    return page_selector\n",
    "\n",
    "import os\n",
    "\n",
    "os.environ['MLFLOW_TRACKING_URI'] = \"https://projet-extraction-tableaux-mlflow.user.lab.sspcloud.fr/\"\n",
    "os.environ['MLFLOW_EXPERIMENT_NAME'] = \"page_selection\"\n",
    "os.environ['MLFLOW_S3_ENDPOINT_URL'] = 'https://minio.lab.sspcloud.fr'\n",
    "\n",
    "detector = get_detector()\n",
    "extractor = get_extractor()\n",
    "page_selector = get_page_selector()"
   ]
  },
  {
   "cell_type": "code",
   "execution_count": null,
   "metadata": {},
   "outputs": [],
   "source": [
    "with open(\"test.pdf\", \"rb\") as pdf_file:\n",
    "    PDFbyte = pdf_file.read()"
   ]
  },
  {
   "cell_type": "code",
   "execution_count": null,
   "metadata": {},
   "outputs": [],
   "source": [
    "import fitz\n",
    "document = fitz.open(stream=PDFbyte, filetype=\"pdf\")\n",
    "# There can be multiple pages sometimes\n",
    "page_number = page_selector.get_page_number(document)\n",
    "st.write(f\"Un tableau filiales et participations a été \"\n",
    "    f\"repéré à la page {page_number + 1}.\")\n",
    "document.select([page_number])\n"
   ]
  },
  {
   "cell_type": "code",
   "execution_count": null,
   "metadata": {},
   "outputs": [],
   "source": []
  }
 ],
 "metadata": {
  "kernelspec": {
   "display_name": "Python 3 (ipykernel)",
   "language": "python",
   "name": "python3"
  },
  "language_info": {
   "codemirror_mode": {
    "name": "ipython",
    "version": 3
   },
   "file_extension": ".py",
   "mimetype": "text/x-python",
   "name": "python",
   "nbconvert_exporter": "python",
   "pygments_lexer": "ipython3",
   "version": "3.11.6"
  },
  "vscode": {
   "interpreter": {
    "hash": "3fa046f995eb80ac40c0869a1f9df46519f4ada8b8c395ef25dd1aa1a1a2fc63"
   }
  }
 },
 "nbformat": 4,
 "nbformat_minor": 4
}
