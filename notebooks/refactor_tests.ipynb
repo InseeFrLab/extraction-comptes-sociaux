{
 "cells": [
  {
   "cell_type": "code",
   "execution_count": 1,
   "metadata": {},
   "outputs": [
    {
     "name": "stderr",
     "output_type": "stream",
     "text": [
      "/home/coder/local/bin/conda/envs/basesspcloud/lib/python3.10/site-packages/tqdm/auto.py:22: TqdmWarning: IProgress not found. Please update jupyter and ipywidgets. See https://ipywidgets.readthedocs.io/en/stable/user_install.html\n",
      "  from .autonotebook import tqdm as notebook_tqdm\n"
     ]
    }
   ],
   "source": [
    "import sys\n",
    "\n",
    "sys.path.append(\"../extraction_core/\")\n",
    "from predict import TableExtractor"
   ]
  },
  {
   "cell_type": "code",
   "execution_count": 2,
   "metadata": {},
   "outputs": [],
   "source": [
    "import albumentations as album\n",
    "from data import fs\n",
    "from albumentations.pytorch.transforms import ToTensorV2\n",
    "from pathlib import Path\n",
    "\n",
    "transforms = album.Compose([\n",
    "    album.Resize(896, 896, always_apply=True),\n",
    "    album.Normalize(),\n",
    "    ToTensorV2()\n",
    "])\n",
    "version = 4\n",
    "checkpoint_path = \"projet-ssplab/comptes-sociaux/logs/TableNetModule/version_00/checkpoints/\"\n",
    "\n",
    "table_extractor = None\n",
    "for checkpoints in fs.ls(checkpoint_path):\n",
    "    if (Path(checkpoints).suffix == \".ckpt\" and\n",
    "            Path(checkpoints).name != \"last.ckpt\"):\n",
    "        table_extractor = TableExtractor(\n",
    "            checkpoint_path=checkpoints,\n",
    "            transforms=transforms\n",
    "        )\n",
    "        break"
   ]
  },
  {
   "cell_type": "code",
   "execution_count": 3,
   "metadata": {},
   "outputs": [
    {
     "data": {
      "text/plain": [
       "<table_extractor.TableExtractor at 0x7fa3d39b59c0>"
      ]
     },
     "execution_count": 3,
     "metadata": {},
     "output_type": "execute_result"
    }
   ],
   "source": [
    "table_extractor"
   ]
  },
  {
   "cell_type": "code",
   "execution_count": 4,
   "metadata": {},
   "outputs": [
    {
     "name": "stderr",
     "output_type": "stream",
     "text": [
      "/home/coder/work/comptes-sociaux-to-tableau-fp-csv/notebooks/../extraction_core/column_assembler.py:45: RuntimeWarning: Mean of empty slice.\n",
      "  mean_top_diffs = [(df.top.unique()[1:] - df.top.unique()[:-1]).mean()\n",
      "/home/coder/local/bin/conda/envs/basesspcloud/lib/python3.10/site-packages/numpy/core/_methods.py:189: RuntimeWarning: invalid value encountered in double_scalars\n",
      "  ret = ret.dtype.type(ret / rcount)\n"
     ]
    }
   ],
   "source": [
    "from PIL import Image\n",
    "\n",
    "siren = \"305756413\"\n",
    "data_dir = \"../extraction_core/data/marmot_data\"\n",
    "test_image = Path(data_dir).joinpath(siren + \".bmp\")\n",
    "\n",
    "image = Image.open(test_image)\n",
    "out = table_extractor.extract(image)"
   ]
  },
  {
   "cell_type": "code",
   "execution_count": 5,
   "metadata": {},
   "outputs": [
    {
     "data": {
      "text/plain": [
       "<matplotlib.colorbar.Colorbar at 0x7fa3d2a86ad0>"
      ]
     },
     "execution_count": 5,
     "metadata": {},
     "output_type": "execute_result"
    },
    {
     "data": {
      "image/png": "[encoded data removed]",
      "text/plain": [
       "<Figure size 432x288 with 2 Axes>"
      ]
     },
     "metadata": {
      "needs_background": "light"
     },
     "output_type": "display_data"
    }
   ],
   "source": [
    "from matplotlib import pyplot as plt\n",
    "\n",
    "plt.rcParams[\"figure.figsize\"] = (20, 10)\n",
    "plt.plot()\n",
    "plt.imshow(out['table_mask'], interpolation='none')\n",
    "plt.colorbar(orientation='vertical')"
   ]
  },
  {
   "cell_type": "code",
   "execution_count": 6,
   "metadata": {},
   "outputs": [
    {
     "data": {
      "image/png": "[encoded data removed]",
      "text/plain": [
       "<Figure size 1440x720 with 2 Axes>"
      ]
     },
     "metadata": {
      "needs_background": "light"
     },
     "output_type": "display_data"
    }
   ],
   "source": [
    "plt.rcParams[\"figure.figsize\"] = (20, 10)\n",
    "plt.plot()\n",
    "plt.imshow(out['column_mask'], interpolation='none')\n",
    "plt.colorbar(orientation='vertical')\n",
    "plt.savefig(\"column_mask.png\")"
   ]
  },
  {
   "cell_type": "code",
   "execution_count": 7,
   "metadata": {},
   "outputs": [
    {
     "name": "stdout",
     "output_type": "stream",
     "text": [
      "                                        col                             col  \\\n",
      "line_id                                                                       \n",
      "1        ns de l'exercice s'élèvent à 1281}                             NaN   \n",
      "2          e pour dépréciations exceptionne                             NaN   \n",
      "3              ours s'élèvent à 3 675 K€ et                             NaN   \n",
      "4          s : le conditionnement des matic                             NaN   \n",
      "5          rnisation du réseau informatique                             NaN   \n",
      "6                                    cières                             NaN   \n",
      "7             icières ont diminué de 31 093                             NaN   \n",
      "8                            5CM AS Norway.                             NaN   \n",
      "9                                       NaN  ntant de 3 670 KE a été compta   \n",
      "10                                      NaN                             NaN   \n",
      "11                                      NaN                             NaN   \n",
      "12                                      NaN                             NaN   \n",
      "13                                      NaN                             NaN   \n",
      "14                                      NaN                             NaN   \n",
      "15                                      NaN                             NaN   \n",
      "16                                      NaN                             NaN   \n",
      "17                                      NaN                             NaN   \n",
      "18                                      NaN                             NaN   \n",
      "19                                      NaN                             NaN   \n",
      "20                                      NaN                             NaN   \n",
      "21                                      NaN                             NaN   \n",
      "22                                      NaN                             NaN   \n",
      "23                                      NaN                             NaN   \n",
      "24                                      NaN                             NaN   \n",
      "25                                      NaN                             NaN   \n",
      "26                                      NaN                             NaN   \n",
      "27                                      NaN                             NaN   \n",
      "28                                      NaN                             NaN   \n",
      "29                                      NaN                             NaN   \n",
      "30                                      NaN                             NaN   \n",
      "31                                      NaN                             NaN   \n",
      "32                                      NaN                             NaN   \n",
      "34                                      NaN                             NaN   \n",
      "33                                      NaN                             NaN   \n",
      "35                                      NaN                             NaN   \n",
      "\n",
      "                                                       col  \\\n",
      "line_id                                                      \n",
      "1                                                      NaN   \n",
      "2                                                      NaN   \n",
      "3                                                      NaN   \n",
      "4                                                      NaN   \n",
      "5                                                      NaN   \n",
      "6                                                      NaN   \n",
      "7                                                      NaN   \n",
      "8                                                      NaN   \n",
      "9                                                      NaN   \n",
      "10                                                Réserves   \n",
      "11                                   et report à Valeur Ve   \n",
      "12                             nouveau Quote-part brute ne   \n",
      "13       . avant . comptable | com . Capital : de capit...   \n",
      "14                   ise : affectation| : des titres | des   \n",
      "15                           (en K devise) détenue (en L R   \n",
      "16                                      des %) détenus dét   \n",
      "17                                    résultats ° (en K (e   \n",
      "18                                                     NaN   \n",
      "19                                                     NaN   \n",
      "20                                                     NaN   \n",
      "21                                                     NaN   \n",
      "22                                                     NaN   \n",
      "23                                                     NaN   \n",
      "24                                                     NaN   \n",
      "25                                                     NaN   \n",
      "26                                                     NaN   \n",
      "27                                                     NaN   \n",
      "28                                                     NaN   \n",
      "29                                                     NaN   \n",
      "30                                                     NaN   \n",
      "31                                                     NaN   \n",
      "32                                                     NaN   \n",
      "34                                                     NaN   \n",
      "33                                                     NaN   \n",
      "35                                                     NaN   \n",
      "\n",
      "                                        col                            col  \\\n",
      "line_id                                                                      \n",
      "1                                       NaN                            NaN   \n",
      "2                                       NaN                            NaN   \n",
      "3                                       NaN                            NaN   \n",
      "4                                       NaN                            NaN   \n",
      "5                                       NaN                            NaN   \n",
      "6                                       NaN                            NaN   \n",
      "7                                       NaN                            NaN   \n",
      "8                                       NaN                            NaN   \n",
      "9                                       NaN                            NaN   \n",
      "10                                      NaN                            NaN   \n",
      "11                                      NaN                            NaN   \n",
      "12                                      NaN                            NaN   \n",
      "13                                      NaN                            NaN   \n",
      "14                                      NaN                            NaN   \n",
      "15                                      NaN                            NaN   \n",
      "16                                      NaN                            NaN   \n",
      "17       résultats (en K (e (en K euros) eu                            NaN   \n",
      "18                                 Devises)                            NaN   \n",
      "19                         (31/12/2019 77 7                            NaN   \n",
      "20                                        €                            NaN   \n",
      "21                                        €                            NaN   \n",
      "22                                        e       € DU 9 100 IUVU 7o LV NV   \n",
      "23             LE 7 508 99 7n0 Ann0z. 7 620                              €   \n",
      "24                                      NaN                             [1   \n",
      "25                                      NaN                             [1   \n",
      "26                                      NaN                             SD   \n",
      "27                                      NaN                             NR   \n",
      "28                                      NaN                              €   \n",
      "29                                      NaN  <=: #DIV/0! 46 815 100% 13615   \n",
      "30                                      NaN                            NaN   \n",
      "31                                      NaN                            NaN   \n",
      "32                                      NaN                            NaN   \n",
      "34                                      NaN                            NaN   \n",
      "33                                      NaN                            NaN   \n",
      "35                                      NaN                            NaN   \n",
      "\n",
      "                                 col                 col  col  col  col  \\\n",
      "line_id                                                                   \n",
      "1                                NaN                 NaN  NaN  NaN  NaN   \n",
      "2                                NaN                 NaN  NaN  NaN  NaN   \n",
      "3                                NaN                 NaN  NaN  NaN  NaN   \n",
      "4                                NaN                 NaN  NaN  NaN  NaN   \n",
      "5                                NaN                 NaN  NaN  NaN  NaN   \n",
      "6                                NaN                 NaN  NaN  NaN  NaN   \n",
      "7                                NaN                 NaN  NaN  NaN  NaN   \n",
      "8                                NaN                 NaN  NaN  NaN  NaN   \n",
      "9                                NaN                 NaN  NaN  NaN  NaN   \n",
      "10                               NaN                 NaN  NaN  NaN  NaN   \n",
      "11                               NaN                 NaN  NaN  NaN  NaN   \n",
      "12                               NaN                 NaN  NaN  NaN  NaN   \n",
      "13                               NaN                 NaN  NaN  NaN  NaN   \n",
      "14                               NaN                 NaN  NaN  NaN  NaN   \n",
      "15                               NaN                 NaN  NaN  NaN  NaN   \n",
      "16                               NaN                 NaN  NaN  NaN  NaN   \n",
      "17                               NaN                 NaN  NaN  NaN  NaN   \n",
      "18                               NaN                 NaN  NaN  NaN  NaN   \n",
      "19                               NaN                 NaN  NaN  NaN  NaN   \n",
      "20                               NaN                 NaN  NaN  NaN  NaN   \n",
      "21                               NaN                 NaN  NaN  NaN  NaN   \n",
      "22                               NaN                 NaN  NaN  NaN  NaN   \n",
      "23                               NaN                 NaN  NaN  NaN  NaN   \n",
      "24                               NaN                 NaN  NaN  NaN  NaN   \n",
      "25                               NaN                 NaN  NaN  NaN  NaN   \n",
      "26                               NaN                 NaN  NaN  NaN  NaN   \n",
      "27                               NaN                 NaN  NaN  NaN  NaN   \n",
      "28                               NaN                 NaN  NaN  NaN  NaN   \n",
      "29       € #DIV/0! 46 815 100% 13615                 NaN  NaN  NaN  NaN   \n",
      "30                 € [07 0 100% 7 ©]                 NaN  NaN  NaN  NaN   \n",
      "31        SD 2200] 7777 0] 76%| 7 0]                 NaN  NaN  NaN  NaN   \n",
      "32                  ë 1635] 100%] \"0                 NaN  NaN  NaN  NaN   \n",
      "34                        73 841| 4:                 NaN  NaN  NaN  NaN   \n",
      "33                               NaN  jun ({ (| 73841] 4  NaN  NaN  NaN   \n",
      "35                               NaN                 NaN  NaN  NaN  NaN   \n",
      "\n",
      "                              col  \n",
      "line_id                            \n",
      "1                             NaN  \n",
      "2                             NaN  \n",
      "3                             NaN  \n",
      "4                             NaN  \n",
      "5                             NaN  \n",
      "6                             NaN  \n",
      "7                             NaN  \n",
      "8                             NaN  \n",
      "9                             NaN  \n",
      "10                            NaN  \n",
      "11                            NaN  \n",
      "12                            NaN  \n",
      "13                            NaN  \n",
      "14                            NaN  \n",
      "15                            NaN  \n",
      "16                            NaN  \n",
      "17                            NaN  \n",
      "18                            NaN  \n",
      "19                            NaN  \n",
      "20                            NaN  \n",
      "21                            NaN  \n",
      "22                            NaN  \n",
      "23                            NaN  \n",
      "24                            NaN  \n",
      "25                            NaN  \n",
      "26                            NaN  \n",
      "27                            NaN  \n",
      "28                            NaN  \n",
      "29                            NaN  \n",
      "30                            NaN  \n",
      "31                            NaN  \n",
      "32                            NaN  \n",
      "34                            NaN  \n",
      "33                            NaN  \n",
      "35       R — ANNEXE COMPTES SOCIA  \n"
     ]
    }
   ],
   "source": [
    "for i, df in enumerate(out['tables']):\n",
    "    print(df)"
   ]
  },
  {
   "cell_type": "code",
   "execution_count": null,
   "metadata": {},
   "outputs": [],
   "source": []
  }
 ],
 "metadata": {
  "interpreter": {
   "hash": "ed5946f2a0d3f5e934efd92075c2a89b2cb5130d0efd6e4509a568bedf48ed26"
  },
  "kernelspec": {
   "display_name": "Python 3.10.4 ('basesspcloud')",
   "language": "python",
   "name": "python3"
  },
  "language_info": {
   "codemirror_mode": {
    "name": "ipython",
    "version": 3
   },
   "file_extension": ".py",
   "mimetype": "text/x-python",
   "name": "python",
   "nbconvert_exporter": "python",
   "pygments_lexer": "ipython3",
   "version": "3.10.4"
  },
  "orig_nbformat": 4
 },
 "nbformat": 4,
 "nbformat_minor": 2
}
