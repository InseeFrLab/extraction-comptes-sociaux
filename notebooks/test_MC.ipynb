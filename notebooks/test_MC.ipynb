{
 "cells": [
  {
   "cell_type": "code",
   "execution_count": 1,
   "id": "a2147f50-cc5f-431b-98c6-f4c6a65fa253",
   "metadata": {
    "tags": []
   },
   "outputs": [],
   "source": [
    "import s3fs\n",
    "import hvac\n",
    "import os\n",
    "\n",
    "client = hvac.Client(url='https://vault.lab.sspcloud.fr',\n",
    "                     token=os.environ['VAULT_TOKEN'])\n",
    "secret = os.environ['VAULT_MOUNT'] + os.environ['VAULT_TOP_DIR'] + '/s3_creds'\n",
    "mount_point, secret_path = secret.split('/', 1)\n",
    "secret_dict = client.secrets.kv.read_secret_version(path=secret_path, mount_point = mount_point)\n",
    "os.environ[\"AWS_ACCESS_KEY_ID\"] = secret_dict['data']['data']['ACCESS_KEY']\n",
    "os.environ[\"AWS_SECRET_ACCESS_KEY\"] = secret_dict['data']['data']['SECRET_KEY']\n",
    "try:\n",
    "    del os.environ['AWS_SESSION_TOKEN']\n",
    "except KeyError:\n",
    "    pass"
   ]
  },
  {
   "cell_type": "code",
   "execution_count": 65,
   "id": "f3485224-1bae-4c98-96f3-55c5110e5c7c",
   "metadata": {
    "tags": []
   },
   "outputs": [],
   "source": [
    "import pickle\n",
    "import json\n",
    "import mlflow\n",
    "import os\n",
    "import sys\n",
    "import re\n",
    "import unidecode\n",
    "from nltk.corpus import stopwords as ntlk_stopwords\n",
    "from nltk.stem.snowball import SnowballStemmer\n",
    "sys.path.append(\"../src/page_selection/\")\n",
    "from tqdm import tqdm\n",
    "from time import time\n",
    "from sklearn import metrics\n",
    "from sklearn.model_selection import train_test_split\n",
    "from utils import (\n",
    "    clean_page_content,\n",
    "    extract_document_content,\n",
    "    fit_transform_vectorizer,\n",
    "    train_random_forest,\n",
    "    get_numeric_char_rate\n",
    ")\n",
    "from model_wrapper import RandomForestWrapper"
   ]
  },
  {
   "cell_type": "code",
   "execution_count": 18,
   "id": "eaf74647-0788-41f4-977a-bd6ecf9b1242",
   "metadata": {
    "tags": []
   },
   "outputs": [],
   "source": [
    "def clean_page_content2(page_content: str) -> str:\n",
    "    \"\"\"\n",
    "    From a raw page content input as a string, return\n",
    "    a clean string.\n",
    "\n",
    "    Args:\n",
    "        page_content (str): Content of a page.\n",
    "    \"\"\"\n",
    "    # Remove line breaks\n",
    "    content = page_content.replace(\"\\r\", \"\").replace(\"\\n\", \"\")\n",
    "    # Remove punctuation\n",
    "    content = re.sub(r\"[^\\w\\s]\", \"\", content)\n",
    "\n",
    "    words = content.split()\n",
    "    # Convert to lower case\n",
    "    words = [word.lower() for word in words]\n",
    "    # Remove stopwords and stem\n",
    "    stopwords = tuple(ntlk_stopwords.words(\"french\"))\n",
    "    stemmer = SnowballStemmer(language=\"french\")\n",
    "    words_no_numbers = [\n",
    "        stemmer.stem(word)\n",
    "        for word in words\n",
    "        if word not in stopwords\n",
    "    ]\n",
    "    # Remove accents\n",
    "    clean_content = \" \".join(\n",
    "        [unidecode.unidecode(word) for word in words_no_numbers]\n",
    "    )\n",
    "\n",
    "    return clean_content"
   ]
  },
  {
   "cell_type": "code",
   "execution_count": 6,
   "id": "2282c385-1bc5-4aa9-bdbc-d99e8574a2d2",
   "metadata": {
    "tags": []
   },
   "outputs": [],
   "source": [
    "fs = s3fs.S3FileSystem(client_kwargs={'endpoint_url': 'https://minio.lab.sspcloud.fr'})\n",
    "with fs.open(\"s3://projet-extraction-tableaux/data/df_trainrf.pickle\", 'rb') as f:\n",
    "    df = pickle.load(f)"
   ]
  },
  {
   "cell_type": "code",
   "execution_count": 76,
   "id": "be53d9c4-6d24-4aa0-ac5e-6cf788a3e7d2",
   "metadata": {
    "tags": []
   },
   "outputs": [
    {
     "data": {
      "text/plain": [
       "\"GREFFE DU TRIBUNAL DE COMMERCE …… D'AMIENS Date : 16/07/2020 DEPOT DES COMPTES ANNUELS n° de dépôt : B2020/002813 n° de gestion : 1958B70037 n° SIREN : 005 820 378 RCS Amiens Le greffier du Tribunal de Commerce d'Amiens certifie avoir procédé le 16/07/2020 à un dépôt annexé au dossier du registre du commerce et des sociétés de : ENTREPRISE DEMOUSELLE Rue du Château d'Eau ZONE INDUSTRIELLE 80100 ABBEVILLE date de clôture : 31/12/2019 Ce dépôt comprend les documents comptables prévus par la législation en vigueur. Concernant les évènements RCS suivants : Dépôt des comptes annuels\""
      ]
     },
     "execution_count": 76,
     "metadata": {},
     "output_type": "execute_result"
    }
   ],
   "source": [
    "text = df.text[1]\n",
    "text"
   ]
  },
  {
   "cell_type": "code",
   "execution_count": 83,
   "id": "b943ddb0-7ec9-4e2d-a46c-5dda2122d070",
   "metadata": {
    "tags": []
   },
   "outputs": [
    {
     "data": {
      "text/plain": [
       "'greff tribunal commerc damien dat 16072020 depot compt annuel depot b2020002813 gestion 1958b70037 siren 005 820 378 rc amien greffi tribunal commerc damien certif avoir proced 16072020 depot annex dossi registr commerc societ entrepris demousel ru chateau deau zon industriel 80100 abbevill dat clotur 31122019 depot comprend docu comptabl prevus legisl vigueur concern even rc suiv depot compt annuel'"
      ]
     },
     "execution_count": 83,
     "metadata": {},
     "output_type": "execute_result"
    }
   ],
   "source": [
    "text_clean = clean_page_content2(text)\n",
    "text_clean"
   ]
  },
  {
   "cell_type": "code",
   "execution_count": 84,
   "id": "454afff0-17b8-4c54-87f7-c349d1b046fe",
   "metadata": {},
   "outputs": [
    {
     "data": {
      "text/plain": [
       "0.16569767441860464"
      ]
     },
     "execution_count": 84,
     "metadata": {},
     "output_type": "execute_result"
    }
   ],
   "source": [
    "get_numeric_char_rate(text_clean)"
   ]
  },
  {
   "cell_type": "code",
   "execution_count": 81,
   "id": "6443b7a0-3c70-4222-8baa-417bec491409",
   "metadata": {
    "tags": []
   },
   "outputs": [],
   "source": [
    "def load_extra_labeled_data():\n",
    "    \"\"\" \"\"\"\n",
    "\n",
    "    with fs.open(\n",
    "        \"s3://projet-extraction-tableaux/data/df_trainrf.pickle\", \"rb\"\n",
    "    ) as f:\n",
    "        df = pickle.load(f).head(5)\n",
    "\n",
    "    flat_corpus = list(df.text)\n",
    "    flat_corpus = [clean_page_content2(page) for page in flat_corpus]\n",
    "    valid_labels = list(df.tableau_f_et_p)\n",
    "    \n",
    "    num_rates=[]\n",
    "    num_rates = [get_numeric_char_rate(content) for content in flat_corpus]\n",
    "\n",
    "    return flat_corpus, valid_labels, num_rates"
   ]
  },
  {
   "cell_type": "code",
   "execution_count": 82,
   "id": "903204f1-e6a3-49e5-9e5f-cd256b7441bd",
   "metadata": {
    "tags": []
   },
   "outputs": [],
   "source": [
    "flat_corpus, valid_labels, num_rates = load_extra_labeled_data()"
   ]
  },
  {
   "cell_type": "code",
   "execution_count": 85,
   "id": "5ab93f4b-129e-4d4a-9f63-c2daebf7eebd",
   "metadata": {
    "tags": []
   },
   "outputs": [
    {
     "data": {
      "text/plain": [
       "'greff tribunal commerc damien dat 16072020 depot compt annuel depot b2020002813 gestion 1958b70037 siren 005 820 378 rc amien greffi tribunal commerc damien certif avoir proced 16072020 depot annex dossi registr commerc societ entrepris demousel ru chateau deau zon industriel 80100 abbevill dat clotur 31122019 depot comprend docu comptabl prevus legisl vigueur concern even rc suiv depot compt annuel'"
      ]
     },
     "execution_count": 85,
     "metadata": {},
     "output_type": "execute_result"
    }
   ],
   "source": [
    "flat_corpus[1]"
   ]
  },
  {
   "cell_type": "code",
   "execution_count": 86,
   "id": "4b25e303-a4ff-4673-b41c-ac2823f4f3d4",
   "metadata": {
    "tags": []
   },
   "outputs": [
    {
     "data": {
      "text/plain": [
       "0.16569767441860464"
      ]
     },
     "execution_count": 86,
     "metadata": {},
     "output_type": "execute_result"
    }
   ],
   "source": [
    "num_rates[1]"
   ]
  }
 ],
 "metadata": {
  "kernelspec": {
   "display_name": "Python 3 (ipykernel)",
   "language": "python",
   "name": "python3"
  },
  "language_info": {
   "codemirror_mode": {
    "name": "ipython",
    "version": 3
   },
   "file_extension": ".py",
   "mimetype": "text/x-python",
   "name": "python",
   "nbconvert_exporter": "python",
   "pygments_lexer": "ipython3",
   "version": "3.10.9"
  }
 },
 "nbformat": 4,
 "nbformat_minor": 5
}
