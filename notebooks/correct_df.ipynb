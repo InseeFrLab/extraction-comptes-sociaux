{
 "cells": [
  {
   "cell_type": "code",
   "execution_count": 1,
   "id": "7a562b85-1e16-4837-a10e-8cb3513952fc",
   "metadata": {
    "tags": []
   },
   "outputs": [],
   "source": [
    "import s3fs\n",
    "import pickle"
   ]
  },
  {
   "cell_type": "code",
   "execution_count": 10,
   "id": "24e1f2e7-4b90-49cf-a42b-0d86b6c7c203",
   "metadata": {
    "tags": []
   },
   "outputs": [],
   "source": [
    "fs = s3fs.S3FileSystem(client_kwargs={'endpoint_url': 'https://minio.lab.sspcloud.fr'})\n",
    "with fs.open(\"s3://projet-extraction-tableaux/data/correct_first250.pickle\", 'rb') as f:\n",
    "    check = pickle.load(f)"
   ]
  },
  {
   "cell_type": "code",
   "execution_count": 13,
   "id": "7b807d30-15c3-4271-9e63-e1b9ebf11fd8",
   "metadata": {
    "tags": []
   },
   "outputs": [],
   "source": [
    "siren = list(df.siren.unique())"
   ]
  },
  {
   "cell_type": "code",
   "execution_count": 93,
   "id": "c2ef9706-27fb-4e24-a61f-b577bd697275",
   "metadata": {
    "tags": []
   },
   "outputs": [
    {
     "name": "stdout",
     "output_type": "stream",
     "text": [
      "344669296\n"
     ]
    },
    {
     "data": {
      "text/html": [
       "<div>\n",
       "<style scoped>\n",
       "    .dataframe tbody tr th:only-of-type {\n",
       "        vertical-align: middle;\n",
       "    }\n",
       "\n",
       "    .dataframe tbody tr th {\n",
       "        vertical-align: top;\n",
       "    }\n",
       "\n",
       "    .dataframe thead th {\n",
       "        text-align: right;\n",
       "    }\n",
       "</style>\n",
       "<table border=\"1\" class=\"dataframe\">\n",
       "  <thead>\n",
       "    <tr style=\"text-align: right;\">\n",
       "      <th></th>\n",
       "      <th>siren</th>\n",
       "      <th>pagenumber</th>\n",
       "      <th>text</th>\n",
       "      <th>tableau_f_et_p</th>\n",
       "      <th>accOCR</th>\n",
       "      <th>tableauPDF</th>\n",
       "    </tr>\n",
       "  </thead>\n",
       "  <tbody>\n",
       "  </tbody>\n",
       "</table>\n",
       "</div>"
      ],
      "text/plain": [
       "Empty DataFrame\n",
       "Columns: [siren, pagenumber, text, tableau_f_et_p, accOCR, tableauPDF]\n",
       "Index: []"
      ]
     },
     "execution_count": 93,
     "metadata": {},
     "output_type": "execute_result"
    }
   ],
   "source": [
    "n = 75\n",
    "siren_check = siren[n] \n",
    "tab = check[(check.siren == siren_check) & (check.tableau_f_et_p == 1)]\n",
    "print(siren_check)\n",
    "tab"
   ]
  },
  {
   "cell_type": "code",
   "execution_count": 43,
   "id": "60eaad1a-121b-47d7-83c0-2006f1f253e0",
   "metadata": {
    "tags": []
   },
   "outputs": [],
   "source": [
    "page = [i for i in tab.pagenumber]"
   ]
  },
  {
   "cell_type": "code",
   "execution_count": 88,
   "id": "0cf6ec96-ed27-4fb1-9004-d2133d10c7b3",
   "metadata": {
    "tags": []
   },
   "outputs": [
    {
     "data": {
      "text/plain": [
       "[11, 35]"
      ]
     },
     "execution_count": 88,
     "metadata": {},
     "output_type": "execute_result"
    }
   ],
   "source": [
    "page = [11,35]\n",
    "page"
   ]
  },
  {
   "cell_type": "code",
   "execution_count": 90,
   "id": "ca1c59a2-f8b6-4a50-904f-0ed26719683e",
   "metadata": {
    "tags": []
   },
   "outputs": [],
   "source": [
    "check.loc[(check.siren == siren_check) & (check.pagenumber.isin(page)), \"tableau_f_et_p\"] = 1"
   ]
  },
  {
   "cell_type": "code",
   "execution_count": 89,
   "id": "b4347a5b-d092-4255-8e52-3d14d60fa840",
   "metadata": {
    "tags": []
   },
   "outputs": [
    {
     "data": {
      "text/html": [
       "<div>\n",
       "<style scoped>\n",
       "    .dataframe tbody tr th:only-of-type {\n",
       "        vertical-align: middle;\n",
       "    }\n",
       "\n",
       "    .dataframe tbody tr th {\n",
       "        vertical-align: top;\n",
       "    }\n",
       "\n",
       "    .dataframe thead th {\n",
       "        text-align: right;\n",
       "    }\n",
       "</style>\n",
       "<table border=\"1\" class=\"dataframe\">\n",
       "  <thead>\n",
       "    <tr style=\"text-align: right;\">\n",
       "      <th></th>\n",
       "      <th>siren</th>\n",
       "      <th>pagenumber</th>\n",
       "      <th>text</th>\n",
       "      <th>tableau_f_et_p</th>\n",
       "      <th>accOCR</th>\n",
       "      <th>tableauPDF</th>\n",
       "    </tr>\n",
       "  </thead>\n",
       "  <tbody>\n",
       "    <tr>\n",
       "      <th>5129</th>\n",
       "      <td>344436225</td>\n",
       "      <td>11</td>\n",
       "      <td>3.       NOTES SUR LE BILAN\\r\\...</td>\n",
       "      <td>1</td>\n",
       "      <td>NaN</td>\n",
       "      <td>1</td>\n",
       "    </tr>\n",
       "    <tr>\n",
       "      <th>5153</th>\n",
       "      <td>344436225</td>\n",
       "      <td>35</td>\n",
       "      <td>3.       NOTES SUR LE BILAN\\r\\...</td>\n",
       "      <td>0</td>\n",
       "      <td>NaN</td>\n",
       "      <td>1</td>\n",
       "    </tr>\n",
       "  </tbody>\n",
       "</table>\n",
       "</div>"
      ],
      "text/plain": [
       "          siren  pagenumber   \n",
       "5129  344436225          11  \\\n",
       "5153  344436225          35   \n",
       "\n",
       "                                                   text  tableau_f_et_p   \n",
       "5129                  3.       NOTES SUR LE BILAN\\r\\...               1  \\\n",
       "5153                  3.       NOTES SUR LE BILAN\\r\\...               0   \n",
       "\n",
       "     accOCR  tableauPDF  \n",
       "5129    NaN           1  \n",
       "5153    NaN           1  "
      ]
     },
     "execution_count": 89,
     "metadata": {},
     "output_type": "execute_result"
    }
   ],
   "source": [
    "check.loc[(check.siren == siren_check) & (check.pagenumber.isin(page))]"
   ]
  },
  {
   "cell_type": "code",
   "execution_count": 156,
   "id": "ceb7de25-10e9-4740-83bb-2405d04db835",
   "metadata": {
    "tags": []
   },
   "outputs": [],
   "source": [
    "with fs.open('s3://projet-extraction-tableaux/data/correct_first250.pickle', 'wb') as f:\n",
    "    pickle.dump(check, f, pickle.HIGHEST_PROTOCOL)"
   ]
  }
 ],
 "metadata": {
  "kernelspec": {
   "display_name": "Python 3 (ipykernel)",
   "language": "python",
   "name": "python3"
  },
  "language_info": {
   "codemirror_mode": {
    "name": "ipython",
    "version": 3
   },
   "file_extension": ".py",
   "mimetype": "text/x-python",
   "name": "python",
   "nbconvert_exporter": "python",
   "pygments_lexer": "ipython3",
   "version": "3.10.9"
  }
 },
 "nbformat": 4,
 "nbformat_minor": 5
}
