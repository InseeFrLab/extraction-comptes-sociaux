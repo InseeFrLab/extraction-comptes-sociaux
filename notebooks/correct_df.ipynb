{
 "cells": [
  {
   "cell_type": "code",
   "execution_count": 4,
   "id": "7a562b85-1e16-4837-a10e-8cb3513952fc",
   "metadata": {
    "tags": []
   },
   "outputs": [],
   "source": [
    "import s3fs\n",
    "import pickle"
   ]
  },
  {
   "cell_type": "code",
   "execution_count": 163,
   "id": "24e1f2e7-4b90-49cf-a42b-0d86b6c7c203",
   "metadata": {
    "tags": []
   },
   "outputs": [],
   "source": [
    "fs = s3fs.S3FileSystem(client_kwargs={'endpoint_url': 'https://minio.lab.sspcloud.fr'})\n",
    "with fs.open(\"s3://projet-extraction-tableaux/data/df_trainrf.pickle\", 'rb') as f:\n",
    "    df = pickle.load(f)"
   ]
  },
  {
   "cell_type": "code",
   "execution_count": 62,
   "id": "22932b10-a7e0-42ed-9f42-9ba596feaf68",
   "metadata": {
    "tags": []
   },
   "outputs": [],
   "source": [
    "check = df.loc[df.siren.isin(df.siren.unique()[:250])]"
   ]
  },
  {
   "cell_type": "code",
   "execution_count": 63,
   "id": "7b807d30-15c3-4271-9e63-e1b9ebf11fd8",
   "metadata": {
    "tags": []
   },
   "outputs": [],
   "source": [
    "siren = list(df.siren.unique()[:250])"
   ]
  },
  {
   "cell_type": "code",
   "execution_count": 154,
   "id": "c2ef9706-27fb-4e24-a61f-b577bd697275",
   "metadata": {
    "tags": []
   },
   "outputs": [
    {
     "name": "stdout",
     "output_type": "stream",
     "text": [
      "308307883\n"
     ]
    },
    {
     "data": {
      "text/html": [
       "<div>\n",
       "<style scoped>\n",
       "    .dataframe tbody tr th:only-of-type {\n",
       "        vertical-align: middle;\n",
       "    }\n",
       "\n",
       "    .dataframe tbody tr th {\n",
       "        vertical-align: top;\n",
       "    }\n",
       "\n",
       "    .dataframe thead th {\n",
       "        text-align: right;\n",
       "    }\n",
       "</style>\n",
       "<table border=\"1\" class=\"dataframe\">\n",
       "  <thead>\n",
       "    <tr style=\"text-align: right;\">\n",
       "      <th></th>\n",
       "      <th>siren</th>\n",
       "      <th>pagenumber</th>\n",
       "      <th>text</th>\n",
       "      <th>tableau_f_et_p</th>\n",
       "      <th>accOCR</th>\n",
       "      <th>tableauPDF</th>\n",
       "    </tr>\n",
       "  </thead>\n",
       "  <tbody>\n",
       "    <tr>\n",
       "      <th>1053</th>\n",
       "      <td>308307883</td>\n",
       "      <td>11</td>\n",
       "      <td>Sanofi Développement S.A.S A t | @n Exercice c...</td>\n",
       "      <td>1</td>\n",
       "      <td>88,7467245169021</td>\n",
       "      <td>0</td>\n",
       "    </tr>\n",
       "    <tr>\n",
       "      <th>1070</th>\n",
       "      <td>308307883</td>\n",
       "      <td>28</td>\n",
       "      <td>Sanofi Développement S.A.S A t l æs Exercice c...</td>\n",
       "      <td>1</td>\n",
       "      <td>87,8156868987882</td>\n",
       "      <td>0</td>\n",
       "    </tr>\n",
       "  </tbody>\n",
       "</table>\n",
       "</div>"
      ],
      "text/plain": [
       "          siren  pagenumber   \n",
       "1053  308307883          11  \\\n",
       "1070  308307883          28   \n",
       "\n",
       "                                                   text  tableau_f_et_p   \n",
       "1053  Sanofi Développement S.A.S A t | @n Exercice c...               1  \\\n",
       "1070  Sanofi Développement S.A.S A t l æs Exercice c...               1   \n",
       "\n",
       "                accOCR  tableauPDF  \n",
       "1053  88,7467245169021           0  \n",
       "1070  87,8156868987882           0  "
      ]
     },
     "execution_count": 154,
     "metadata": {},
     "output_type": "execute_result"
    }
   ],
   "source": [
    "n = 20\n",
    "siren_check = siren[n] \n",
    "tab = check[(check.siren == siren_check) & (check.tableau_f_et_p == 1)]\n",
    "print(siren_check)\n",
    "tab"
   ]
  },
  {
   "cell_type": "code",
   "execution_count": 87,
   "id": "60eaad1a-121b-47d7-83c0-2006f1f253e0",
   "metadata": {
    "tags": []
   },
   "outputs": [],
   "source": [
    "page = [i for i in tab.pagenumber]"
   ]
  },
  {
   "cell_type": "code",
   "execution_count": 144,
   "id": "0cf6ec96-ed27-4fb1-9004-d2133d10c7b3",
   "metadata": {
    "tags": []
   },
   "outputs": [
    {
     "data": {
      "text/plain": [
       "[11, 28]"
      ]
     },
     "execution_count": 144,
     "metadata": {},
     "output_type": "execute_result"
    }
   ],
   "source": [
    "page = [11,28]\n",
    "page"
   ]
  },
  {
   "cell_type": "code",
   "execution_count": 152,
   "id": "ca1c59a2-f8b6-4a50-904f-0ed26719683e",
   "metadata": {
    "tags": []
   },
   "outputs": [],
   "source": [
    "check.loc[(check.siren == siren_check) & (check.pagenumber.isin(page)), \"tableau_f_et_p\"] = 1"
   ]
  },
  {
   "cell_type": "code",
   "execution_count": 153,
   "id": "b4347a5b-d092-4255-8e52-3d14d60fa840",
   "metadata": {
    "tags": []
   },
   "outputs": [
    {
     "data": {
      "text/html": [
       "<div>\n",
       "<style scoped>\n",
       "    .dataframe tbody tr th:only-of-type {\n",
       "        vertical-align: middle;\n",
       "    }\n",
       "\n",
       "    .dataframe tbody tr th {\n",
       "        vertical-align: top;\n",
       "    }\n",
       "\n",
       "    .dataframe thead th {\n",
       "        text-align: right;\n",
       "    }\n",
       "</style>\n",
       "<table border=\"1\" class=\"dataframe\">\n",
       "  <thead>\n",
       "    <tr style=\"text-align: right;\">\n",
       "      <th></th>\n",
       "      <th>siren</th>\n",
       "      <th>pagenumber</th>\n",
       "      <th>text</th>\n",
       "      <th>tableau_f_et_p</th>\n",
       "      <th>accOCR</th>\n",
       "      <th>tableauPDF</th>\n",
       "    </tr>\n",
       "  </thead>\n",
       "  <tbody>\n",
       "    <tr>\n",
       "      <th>1053</th>\n",
       "      <td>308307883</td>\n",
       "      <td>11</td>\n",
       "      <td>Sanofi Développement S.A.S A t | @n Exercice c...</td>\n",
       "      <td>1</td>\n",
       "      <td>88,7467245169021</td>\n",
       "      <td>0</td>\n",
       "    </tr>\n",
       "    <tr>\n",
       "      <th>1070</th>\n",
       "      <td>308307883</td>\n",
       "      <td>28</td>\n",
       "      <td>Sanofi Développement S.A.S A t l æs Exercice c...</td>\n",
       "      <td>1</td>\n",
       "      <td>87,8156868987882</td>\n",
       "      <td>0</td>\n",
       "    </tr>\n",
       "  </tbody>\n",
       "</table>\n",
       "</div>"
      ],
      "text/plain": [
       "          siren  pagenumber   \n",
       "1053  308307883          11  \\\n",
       "1070  308307883          28   \n",
       "\n",
       "                                                   text  tableau_f_et_p   \n",
       "1053  Sanofi Développement S.A.S A t | @n Exercice c...               1  \\\n",
       "1070  Sanofi Développement S.A.S A t l æs Exercice c...               1   \n",
       "\n",
       "                accOCR  tableauPDF  \n",
       "1053  88,7467245169021           0  \n",
       "1070  87,8156868987882           0  "
      ]
     },
     "execution_count": 153,
     "metadata": {},
     "output_type": "execute_result"
    }
   ],
   "source": [
    "check.loc[(check.siren == siren_check) & (check.pagenumber.isin(page))]"
   ]
  },
  {
   "cell_type": "code",
   "execution_count": 156,
   "id": "ceb7de25-10e9-4740-83bb-2405d04db835",
   "metadata": {
    "tags": []
   },
   "outputs": [],
   "source": [
    "with fs.open('s3://projet-extraction-tableaux/data/correct_first250.pickle', 'wb') as f:\n",
    "    pickle.dump(check, f, pickle.HIGHEST_PROTOCOL)"
   ]
  }
 ],
 "metadata": {
  "kernelspec": {
   "display_name": "Python 3 (ipykernel)",
   "language": "python",
   "name": "python3"
  },
  "language_info": {
   "codemirror_mode": {
    "name": "ipython",
    "version": 3
   },
   "file_extension": ".py",
   "mimetype": "text/x-python",
   "name": "python",
   "nbconvert_exporter": "python",
   "pygments_lexer": "ipython3",
   "version": "3.10.9"
  }
 },
 "nbformat": 4,
 "nbformat_minor": 5
}
