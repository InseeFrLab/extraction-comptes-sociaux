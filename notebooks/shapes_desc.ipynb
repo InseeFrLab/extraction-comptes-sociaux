{
 "cells": [
  {
   "cell_type": "code",
   "execution_count": 5,
   "id": "4f861b13-590e-496e-afb1-97b05626dab3",
   "metadata": {},
   "outputs": [],
   "source": [
    "from pathlib import Path\n",
    "\n",
    "data_dir = \"../extraction_core/data/marmot_data\"\n",
    "data = [path for path in (list(Path(data_dir).glob(\"*.png\")) + list(Path(data_dir).glob(\"*.bmp\")))]"
   ]
  },
  {
   "cell_type": "code",
   "execution_count": 6,
   "id": "3a3ecd32-e914-498f-8d4d-7c6ca9f23a72",
   "metadata": {},
   "outputs": [
    {
     "data": {
      "text/plain": [
       "[PosixPath('../extraction_core/data/marmot_data/10.1.1.30.3567_5.bmp'),\n",
       " PosixPath('../extraction_core/data/marmot_data/10.1.1.160.659_3.bmp'),\n",
       " PosixPath('../extraction_core/data/marmot_data/10.1.1.6.2355_3.bmp'),\n",
       " PosixPath('../extraction_core/data/marmot_data/10.1.1.8.2176_75.bmp'),\n",
       " PosixPath('../extraction_core/data/marmot_data/10.1.1.160.652_9.bmp')]"
      ]
     },
     "execution_count": 6,
     "metadata": {},
     "output_type": "execute_result"
    }
   ],
   "source": [
    "data[:5]"
   ]
  },
  {
   "cell_type": "code",
   "execution_count": 9,
   "id": "c58f5d89-5448-445c-8f40-8130a58a58d5",
   "metadata": {},
   "outputs": [],
   "source": [
    "import numpy as np\n",
    "from PIL import Image\n",
    "\n",
    "marmot_shapes = []\n",
    "fp_shapes = []\n",
    "\n",
    "for path in data:\n",
    "    image = np.array(Image.open(path))\n",
    "    if len(path.name) > 13:\n",
    "        marmot_shapes.append(image.shape)\n",
    "    else:\n",
    "        fp_shapes.append(image.shape)"
   ]
  },
  {
   "cell_type": "code",
   "execution_count": 14,
   "id": "d75e2dc2-a795-4386-a782-7125330f8b40",
   "metadata": {},
   "outputs": [
    {
     "data": {
      "text/plain": [
       "509"
      ]
     },
     "execution_count": 14,
     "metadata": {},
     "output_type": "execute_result"
    }
   ],
   "source": [
    "len(marmot_shapes)"
   ]
  },
  {
   "cell_type": "code",
   "execution_count": 15,
   "id": "db470f19-eb52-42ef-926f-15f3572abbec",
   "metadata": {},
   "outputs": [
    {
     "data": {
      "text/plain": [
       "110"
      ]
     },
     "execution_count": 15,
     "metadata": {},
     "output_type": "execute_result"
    }
   ],
   "source": [
    "len(fp_shapes)"
   ]
  },
  {
   "cell_type": "code",
   "execution_count": 11,
   "id": "8e923673-1f84-4796-aee4-fc8f1d84b903",
   "metadata": {},
   "outputs": [],
   "source": [
    "marmot_heights = [shape[0] for shape in marmot_shapes]\n",
    "marmot_width = [shape[1] for shape in marmot_shapes]\n",
    "\n",
    "fp_heights = [shape[0] for shape in fp_shapes]\n",
    "fp_widths = [shape[1] for shape in fp_shapes]"
   ]
  },
  {
   "cell_type": "code",
   "execution_count": 12,
   "id": "27d83aa0-ac2d-436e-a9ff-1f7cdcca7654",
   "metadata": {},
   "outputs": [],
   "source": [
    "from matplotlib import pyplot as plt"
   ]
  },
  {
   "cell_type": "code",
   "execution_count": 13,
   "id": "025fedf3-75e4-4c69-9d1e-b91349b4a185",
   "metadata": {},
   "outputs": [
    {
     "data": {
      "text/plain": [
       "(array([  1.,   0.,   0.,   6.,   3.,   2.,   7.,  21., 312., 157.]),\n",
       " array([ 651. ,  698.2,  745.4,  792.6,  839.8,  887. ,  934.2,  981.4,\n",
       "        1028.6, 1075.8, 1123. ]),\n",
       " <BarContainer object of 10 artists>)"
      ]
     },
     "execution_count": 13,
     "metadata": {},
     "output_type": "execute_result"
    },
    {
     "data": {
      "image/png": "[encoded data removed]",
      "text/plain": [
       "<Figure size 432x288 with 1 Axes>"
      ]
     },
     "metadata": {
      "needs_background": "light"
     },
     "output_type": "display_data"
    }
   ],
   "source": [
    "plt.hist(marmot_heights)"
   ]
  },
  {
   "cell_type": "code",
   "execution_count": 16,
   "id": "479aa6b2-159e-4001-903a-c2f96794ee43",
   "metadata": {},
   "outputs": [
    {
     "data": {
      "text/plain": [
       "(array([  1.,   0.,  11.,   7.,  15., 469.,   0.,   0.,   1.,   5.]),\n",
       " array([ 528. ,  580.8,  633.6,  686.4,  739.2,  792. ,  844.8,  897.6,\n",
       "         950.4, 1003.2, 1056. ]),\n",
       " <BarContainer object of 10 artists>)"
      ]
     },
     "execution_count": 16,
     "metadata": {},
     "output_type": "execute_result"
    },
    {
     "data": {
      "image/png": "[encoded data removed]",
      "text/plain": [
       "<Figure size 432x288 with 1 Axes>"
      ]
     },
     "metadata": {
      "needs_background": "light"
     },
     "output_type": "display_data"
    }
   ],
   "source": [
    "plt.hist(marmot_width)"
   ]
  },
  {
   "cell_type": "code",
   "execution_count": 17,
   "id": "0b68e92a-9a59-4a3b-9a78-29f81e593a7d",
   "metadata": {},
   "outputs": [
    {
     "data": {
      "text/plain": [
       "(array([23.,  0.,  0.,  0.,  0.,  0.,  4., 81.,  0.,  2.]),\n",
       " array([2444. , 2582.8, 2721.6, 2860.4, 2999.2, 3138. , 3276.8, 3415.6,\n",
       "        3554.4, 3693.2, 3832. ]),\n",
       " <BarContainer object of 10 artists>)"
      ]
     },
     "execution_count": 17,
     "metadata": {},
     "output_type": "execute_result"
    },
    {
     "data": {
      "image/png": "[encoded data removed]",
      "text/plain": [
       "<Figure size 432x288 with 1 Axes>"
      ]
     },
     "metadata": {
      "needs_background": "light"
     },
     "output_type": "display_data"
    }
   ],
   "source": [
    "plt.hist(fp_heights)"
   ]
  },
  {
   "cell_type": "code",
   "execution_count": 18,
   "id": "7be59a95-7fbd-4dd6-aa08-f71417628ab9",
   "metadata": {},
   "outputs": [
    {
     "data": {
      "text/plain": [
       "(array([ 3., 88.,  0.,  0.,  0.,  0.,  0.,  0.,  0., 19.]),\n",
       " array([2361. , 2475.9, 2590.8, 2705.7, 2820.6, 2935.5, 3050.4, 3165.3,\n",
       "        3280.2, 3395.1, 3510. ]),\n",
       " <BarContainer object of 10 artists>)"
      ]
     },
     "execution_count": 18,
     "metadata": {},
     "output_type": "execute_result"
    },
    {
     "data": {
      "image/png": "[encoded data removed]",
      "text/plain": [
       "<Figure size 432x288 with 1 Axes>"
      ]
     },
     "metadata": {
      "needs_background": "light"
     },
     "output_type": "display_data"
    }
   ],
   "source": [
    "plt.hist(fp_widths)"
   ]
  },
  {
   "cell_type": "code",
   "execution_count": 25,
   "id": "fc15c7eb-6420-4a81-ab62-d9262e458668",
   "metadata": {},
   "outputs": [
    {
     "data": {
      "image/png": "[encoded data removed]",
      "text/plain": [
       "<Figure size 432x288 with 1 Axes>"
      ]
     },
     "metadata": {
      "needs_background": "light"
     },
     "output_type": "display_data"
    }
   ],
   "source": [
    "import seaborn as sns\n",
    "import pandas as pd\n",
    "\n",
    "marmot_df = pd.DataFrame({\"height\": marmot_heights, \"width\": marmot_width})\n",
    "fp_df = pd.DataFrame({\"height\": fp_heights, \"width\": fp_widths})\n",
    "\n",
    "xlims = (min(marmot_width), max(marmot_width))\n",
    "ylims = (min(marmot_heights), max(marmot_heights))\n",
    "\n",
    "lims = (min(xlims[0], ylims[0]), max(xlims[1], ylims[1]))\n",
    "\n",
    "ax = sns.scatterplot(data=marmot_df, x=\"width\", y=\"height\")\n",
    "ax.plot(lims, lims, color='r')\n",
    "plt.show()"
   ]
  },
  {
   "cell_type": "markdown",
   "id": "46e68a68-9ea4-403c-b618-cc923fa84663",
   "metadata": {},
   "source": [
    "2 observations horizontales : retirer ?"
   ]
  },
  {
   "cell_type": "code",
   "execution_count": 26,
   "id": "edb8a899-0c3f-4bfd-9ad7-10694b51f428",
   "metadata": {},
   "outputs": [
    {
     "data": {
      "image/png": "[encoded data removed]",
      "text/plain": [
       "<Figure size 432x288 with 1 Axes>"
      ]
     },
     "metadata": {
      "needs_background": "light"
     },
     "output_type": "display_data"
    }
   ],
   "source": [
    "xlims = (min(fp_widths), max(fp_widths))\n",
    "ylims = (min(fp_heights), max(fp_heights))\n",
    "\n",
    "lims = (min(xlims[0], ylims[0]), max(xlims[1], ylims[1]))\n",
    "\n",
    "ax = sns.scatterplot(data=fp_df, x=\"width\", y=\"height\")\n",
    "ax.plot(lims, lims, color='r')\n",
    "plt.show()"
   ]
  },
  {
   "cell_type": "markdown",
   "id": "496c3629-ba67-4baa-bd0f-22b716b24eae",
   "metadata": {},
   "source": [
    "Plus d'observations à retirer ici"
   ]
  },
  {
   "cell_type": "code",
   "execution_count": 27,
   "id": "cd4e1b2c-06e0-4a36-87c9-5a972de2f65c",
   "metadata": {},
   "outputs": [
    {
     "data": {
      "text/plain": [
       "(array([  1.,   5.,   0.,   0.,   1.,   0., 308.,  26., 165.,   3.]),\n",
       " array([0.6753112 , 0.76592402, 0.85653684, 0.94714966, 1.03776248,\n",
       "        1.1283753 , 1.21898812, 1.30960094, 1.40021376, 1.49082657,\n",
       "        1.58143939]),\n",
       " <BarContainer object of 10 artists>)"
      ]
     },
     "execution_count": 27,
     "metadata": {},
     "output_type": "execute_result"
    },
    {
     "data": {
      "image/png": "[encoded data removed]",
      "text/plain": [
       "<Figure size 432x288 with 1 Axes>"
      ]
     },
     "metadata": {
      "needs_background": "light"
     },
     "output_type": "display_data"
    }
   ],
   "source": [
    "marmot_df['ratio'] = marmot_df['height'] / marmot_df['width']\n",
    "fp_df['ratio'] = fp_df['height'] / fp_df['width']\n",
    "\n",
    "plt.hist(marmot_df['ratio'])"
   ]
  },
  {
   "cell_type": "code",
   "execution_count": 28,
   "id": "4f5c20d6-ccd7-42c5-a2b4-45752be0b0ab",
   "metadata": {},
   "outputs": [
    {
     "data": {
      "text/plain": [
       "(array([19.,  0.,  0.,  4.,  0.,  0.,  0.,  3., 82.,  2.]),\n",
       " array([0.6962963 , 0.78025384, 0.86421139, 0.94816893, 1.03212648,\n",
       "        1.11608402, 1.20004156, 1.28399911, 1.36795665, 1.4519142 ,\n",
       "        1.53587174]),\n",
       " <BarContainer object of 10 artists>)"
      ]
     },
     "execution_count": 28,
     "metadata": {},
     "output_type": "execute_result"
    },
    {
     "data": {
      "image/png": "[encoded data removed]",
      "text/plain": [
       "<Figure size 432x288 with 1 Axes>"
      ]
     },
     "metadata": {
      "needs_background": "light"
     },
     "output_type": "display_data"
    }
   ],
   "source": [
    "plt.hist(fp_df['ratio'])"
   ]
  },
  {
   "cell_type": "code",
   "execution_count": null,
   "id": "5c03f4d4-111e-4599-a4dc-a1bfd7f20be8",
   "metadata": {},
   "outputs": [],
   "source": []
  }
 ],
 "metadata": {
  "kernelspec": {
   "display_name": "Python 3",
   "language": "python",
   "name": "python3"
  },
  "language_info": {
   "codemirror_mode": {
    "name": "ipython",
    "version": 3
   },
   "file_extension": ".py",
   "mimetype": "text/x-python",
   "name": "python",
   "nbconvert_exporter": "python",
   "pygments_lexer": "ipython3",
   "version": "3.7.9"
  }
 },
 "nbformat": 4,
 "nbformat_minor": 5
}
