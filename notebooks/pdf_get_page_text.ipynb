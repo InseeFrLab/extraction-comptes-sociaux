{
 "cells": [
  {
   "cell_type": "code",
   "execution_count": 1,
   "id": "ea72ea94-b6db-4acf-851f-234fe7d8bf4d",
   "metadata": {},
   "outputs": [
    {
     "name": "stdout",
     "output_type": "stream",
     "text": [
      "env: AWS_ACCESS_KEY_ID=projet-extraction-sa\n",
      "env: AWS_SECRET_ACCESS_KEY=aKDw0keSW5aA1KXtVxbE9EJwvXZLMeTe\n"
     ]
    }
   ],
   "source": [
    "%env AWS_ACCESS_KEY_ID=projet-extraction-sa\n",
    "%env AWS_SECRET_ACCESS_KEY=aKDw0keSW5aA1KXtVxbE9EJwvXZLMeTe"
   ]
  },
  {
   "cell_type": "code",
   "execution_count": 2,
   "id": "a1096f5d-5524-4f07-94e8-303ec85fa8c2",
   "metadata": {},
   "outputs": [
    {
     "name": "stdout",
     "output_type": "stream",
     "text": [
      "Requirement already satisfied: pymupdf in /opt/mamba/lib/python3.10/site-packages (1.21.1)\n",
      "Requirement already satisfied: mlflow in /opt/mamba/lib/python3.10/site-packages (2.1.1)\n",
      "Requirement already satisfied: pytz<2023 in /opt/mamba/lib/python3.10/site-packages (from mlflow) (2022.7)\n",
      "Requirement already satisfied: scikit-learn<2 in /opt/mamba/lib/python3.10/site-packages (from mlflow) (1.2.0)\n",
      "Requirement already satisfied: querystring-parser<2 in /opt/mamba/lib/python3.10/site-packages (from mlflow) (1.2.4)\n",
      "Requirement already satisfied: shap<1,>=0.40 in /opt/mamba/lib/python3.10/site-packages (from mlflow) (0.41.0)\n",
      "Requirement already satisfied: sqlparse<1,>=0.4.0 in /opt/mamba/lib/python3.10/site-packages (from mlflow) (0.4.3)\n",
      "Requirement already satisfied: importlib-metadata!=4.7.0,<6,>=3.7.0 in /opt/mamba/lib/python3.10/site-packages (from mlflow) (5.2.0)\n",
      "Requirement already satisfied: markdown<4,>=3.3 in /opt/mamba/lib/python3.10/site-packages (from mlflow) (3.4.1)\n",
      "Requirement already satisfied: packaging<23 in /opt/mamba/lib/python3.10/site-packages (from mlflow) (22.0)\n",
      "Requirement already satisfied: entrypoints<1 in /opt/mamba/lib/python3.10/site-packages (from mlflow) (0.4)\n",
      "Requirement already satisfied: databricks-cli<1,>=0.8.7 in /opt/mamba/lib/python3.10/site-packages (from mlflow) (0.17.4)\n",
      "Requirement already satisfied: scipy<2 in /opt/mamba/lib/python3.10/site-packages (from mlflow) (1.9.3)\n",
      "Requirement already satisfied: sqlalchemy<2,>=1.4.0 in /opt/mamba/lib/python3.10/site-packages (from mlflow) (1.4.45)\n",
      "Requirement already satisfied: gunicorn<21 in /opt/mamba/lib/python3.10/site-packages (from mlflow) (20.1.0)\n",
      "Requirement already satisfied: pyarrow<11,>=4.0.0 in /opt/mamba/lib/python3.10/site-packages (from mlflow) (10.0.1)\n",
      "Requirement already satisfied: docker<7,>=4.0.0 in /opt/mamba/lib/python3.10/site-packages (from mlflow) (6.0.1)\n",
      "Requirement already satisfied: alembic<2 in /opt/mamba/lib/python3.10/site-packages (from mlflow) (1.9.2)\n",
      "Requirement already satisfied: pandas<2 in /opt/mamba/lib/python3.10/site-packages (from mlflow) (1.5.2)\n",
      "Requirement already satisfied: Flask<3 in /opt/mamba/lib/python3.10/site-packages (from mlflow) (2.2.2)\n",
      "Requirement already satisfied: click<9,>=7.0 in /opt/mamba/lib/python3.10/site-packages (from mlflow) (8.1.3)\n",
      "Requirement already satisfied: gitpython<4,>=2.1.0 in /opt/mamba/lib/python3.10/site-packages (from mlflow) (3.1.30)\n",
      "Requirement already satisfied: requests<3,>=2.17.3 in /opt/mamba/lib/python3.10/site-packages (from mlflow) (2.28.1)\n",
      "Requirement already satisfied: protobuf<5,>=3.12.0 in /opt/mamba/lib/python3.10/site-packages (from mlflow) (4.21.12)\n",
      "Requirement already satisfied: cloudpickle<3 in /opt/mamba/lib/python3.10/site-packages (from mlflow) (2.2.0)\n",
      "Requirement already satisfied: matplotlib<4 in /opt/mamba/lib/python3.10/site-packages (from mlflow) (3.6.2)\n",
      "Requirement already satisfied: pyyaml<7,>=5.1 in /opt/mamba/lib/python3.10/site-packages (from mlflow) (6.0)\n",
      "Requirement already satisfied: Jinja2<4,>=2.11 in /opt/mamba/lib/python3.10/site-packages (from mlflow) (3.1.2)\n",
      "Requirement already satisfied: numpy<2 in /opt/mamba/lib/python3.10/site-packages (from mlflow) (1.23.5)\n",
      "Requirement already satisfied: Mako in /opt/mamba/lib/python3.10/site-packages (from alembic<2->mlflow) (1.2.4)\n",
      "Requirement already satisfied: pyjwt>=1.7.0 in /opt/mamba/lib/python3.10/site-packages (from databricks-cli<1,>=0.8.7->mlflow) (2.6.0)\n",
      "Requirement already satisfied: six>=1.10.0 in /opt/mamba/lib/python3.10/site-packages (from databricks-cli<1,>=0.8.7->mlflow) (1.16.0)\n",
      "Requirement already satisfied: tabulate>=0.7.7 in /opt/mamba/lib/python3.10/site-packages (from databricks-cli<1,>=0.8.7->mlflow) (0.9.0)\n",
      "Requirement already satisfied: oauthlib>=3.1.0 in /opt/mamba/lib/python3.10/site-packages (from databricks-cli<1,>=0.8.7->mlflow) (3.2.2)\n",
      "Requirement already satisfied: websocket-client>=0.32.0 in /opt/mamba/lib/python3.10/site-packages (from docker<7,>=4.0.0->mlflow) (1.4.2)\n",
      "Requirement already satisfied: urllib3>=1.26.0 in /opt/mamba/lib/python3.10/site-packages (from docker<7,>=4.0.0->mlflow) (1.26.11)\n",
      "Requirement already satisfied: Werkzeug>=2.2.2 in /opt/mamba/lib/python3.10/site-packages (from Flask<3->mlflow) (2.2.2)\n",
      "Requirement already satisfied: itsdangerous>=2.0 in /opt/mamba/lib/python3.10/site-packages (from Flask<3->mlflow) (2.1.2)\n",
      "Requirement already satisfied: gitdb<5,>=4.0.1 in /opt/mamba/lib/python3.10/site-packages (from gitpython<4,>=2.1.0->mlflow) (4.0.10)\n",
      "Requirement already satisfied: setuptools>=3.0 in /opt/mamba/lib/python3.10/site-packages (from gunicorn<21->mlflow) (65.5.1)\n",
      "Requirement already satisfied: zipp>=0.5 in /opt/mamba/lib/python3.10/site-packages (from importlib-metadata!=4.7.0,<6,>=3.7.0->mlflow) (3.11.0)\n",
      "Requirement already satisfied: MarkupSafe>=2.0 in /opt/mamba/lib/python3.10/site-packages (from Jinja2<4,>=2.11->mlflow) (2.1.1)\n",
      "Requirement already satisfied: fonttools>=4.22.0 in /opt/mamba/lib/python3.10/site-packages (from matplotlib<4->mlflow) (4.38.0)\n",
      "Requirement already satisfied: kiwisolver>=1.0.1 in /opt/mamba/lib/python3.10/site-packages (from matplotlib<4->mlflow) (1.4.4)\n",
      "Requirement already satisfied: cycler>=0.10 in /opt/mamba/lib/python3.10/site-packages (from matplotlib<4->mlflow) (0.11.0)\n",
      "Requirement already satisfied: pillow>=6.2.0 in /opt/mamba/lib/python3.10/site-packages (from matplotlib<4->mlflow) (9.2.0)\n",
      "Requirement already satisfied: python-dateutil>=2.7 in /opt/mamba/lib/python3.10/site-packages (from matplotlib<4->mlflow) (2.8.2)\n",
      "Requirement already satisfied: contourpy>=1.0.1 in /opt/mamba/lib/python3.10/site-packages (from matplotlib<4->mlflow) (1.0.6)\n",
      "Requirement already satisfied: pyparsing>=2.2.1 in /opt/mamba/lib/python3.10/site-packages (from matplotlib<4->mlflow) (3.0.9)\n",
      "Requirement already satisfied: certifi>=2017.4.17 in /opt/mamba/lib/python3.10/site-packages (from requests<3,>=2.17.3->mlflow) (2022.12.7)\n",
      "Requirement already satisfied: idna<4,>=2.5 in /opt/mamba/lib/python3.10/site-packages (from requests<3,>=2.17.3->mlflow) (3.4)\n",
      "Requirement already satisfied: charset-normalizer<3,>=2 in /opt/mamba/lib/python3.10/site-packages (from requests<3,>=2.17.3->mlflow) (2.1.1)\n",
      "Requirement already satisfied: threadpoolctl>=2.0.0 in /opt/mamba/lib/python3.10/site-packages (from scikit-learn<2->mlflow) (3.1.0)\n",
      "Requirement already satisfied: joblib>=1.1.1 in /opt/mamba/lib/python3.10/site-packages (from scikit-learn<2->mlflow) (1.2.0)\n",
      "Requirement already satisfied: numba in /opt/mamba/lib/python3.10/site-packages (from shap<1,>=0.40->mlflow) (0.56.4)\n",
      "Requirement already satisfied: tqdm>4.25.0 in /opt/mamba/lib/python3.10/site-packages (from shap<1,>=0.40->mlflow) (4.64.1)\n",
      "Requirement already satisfied: slicer==0.0.7 in /opt/mamba/lib/python3.10/site-packages (from shap<1,>=0.40->mlflow) (0.0.7)\n",
      "Requirement already satisfied: greenlet!=0.4.17 in /opt/mamba/lib/python3.10/site-packages (from sqlalchemy<2,>=1.4.0->mlflow) (2.0.1)\n",
      "Requirement already satisfied: smmap<6,>=3.0.1 in /opt/mamba/lib/python3.10/site-packages (from gitdb<5,>=4.0.1->gitpython<4,>=2.1.0->mlflow) (3.0.5)\n",
      "Requirement already satisfied: llvmlite<0.40,>=0.39.0dev0 in /opt/mamba/lib/python3.10/site-packages (from numba->shap<1,>=0.40->mlflow) (0.39.1)\n",
      "Requirement already satisfied: unidecode in /opt/mamba/lib/python3.10/site-packages (1.3.6)\n",
      "Requirement already satisfied: pytesseract in /opt/mamba/lib/python3.10/site-packages (0.3.10)\n",
      "Requirement already satisfied: packaging>=21.3 in /opt/mamba/lib/python3.10/site-packages (from pytesseract) (22.0)\n",
      "Requirement already satisfied: Pillow>=8.0.0 in /opt/mamba/lib/python3.10/site-packages (from pytesseract) (9.2.0)\n"
     ]
    }
   ],
   "source": [
    "!pip install pymupdf\n",
    "!pip install mlflow\n",
    "!pip install unidecode\n",
    "!pip install pytesseract"
   ]
  },
  {
   "cell_type": "code",
   "execution_count": 3,
   "id": "1dc8dd48-1f57-43ce-be4e-01bf0db12753",
   "metadata": {},
   "outputs": [],
   "source": [
    "import sys\n",
    "sys.path.append(\"../src/page_selection/\")"
   ]
  },
  {
   "cell_type": "code",
   "execution_count": 4,
   "id": "2eecb3be-d4f9-42a7-8bc9-7f191de1523b",
   "metadata": {},
   "outputs": [],
   "source": [
    "import json\n",
    "import fitz\n",
    "import mlflow\n",
    "import os\n",
    "from tqdm import tqdm\n",
    "from time import time\n",
    "from typing import List, Tuple, Dict\n",
    "import sklearn\n",
    "from sklearn import metrics\n",
    "from sklearn.ensemble import RandomForestClassifier\n",
    "from sklearn.feature_extraction.text import TfidfVectorizer\n",
    "from sklearn.model_selection import train_test_split\n",
    "from utils import clean_page_content, extract_document_content"
   ]
  },
  {
   "cell_type": "code",
   "execution_count": 7,
   "id": "fbd39cb9-d039-4e8c-a11b-f885f1609cb4",
   "metadata": {},
   "outputs": [
    {
     "name": "stderr",
     "output_type": "stream",
     "text": [
      "[nltk_data] Downloading package stopwords to /home/onyxia/nltk_data...\n",
      "[nltk_data]   Unzipping corpora/stopwords.zip.\n"
     ]
    },
    {
     "data": {
      "text/plain": [
       "True"
      ]
     },
     "execution_count": 7,
     "metadata": {},
     "output_type": "execute_result"
    }
   ],
   "source": [
    "import nltk\n",
    "nltk.download('stopwords')"
   ]
  },
  {
   "cell_type": "code",
   "execution_count": 34,
   "id": "0e528642-f8e2-4786-995e-d6a42d1c182e",
   "metadata": {},
   "outputs": [],
   "source": [
    "with open('../data/updated_labels_filtered.json', 'r') as fp:\n",
    "    labels = json.load(fp)\n",
    "\n",
    "labeled_file_names = []\n",
    "valid_labels = []\n",
    "i = 0\n",
    "for file_name, file_labels in labels.items():\n",
    "    # Keep documents with at least 1 table\n",
    "    table_count = sum(file_labels)\n",
    "    if table_count > 0:\n",
    "        i += 1\n",
    "        labeled_file_names.append(file_name)\n",
    "        for label in file_labels:\n",
    "            valid_labels.append(label)\n",
    "    if i > 2:\n",
    "        break"
   ]
  },
  {
   "cell_type": "code",
   "execution_count": 35,
   "id": "3e9cd82c-c3cc-4e75-a6a6-36a603c7cc22",
   "metadata": {},
   "outputs": [
    {
     "name": "stderr",
     "output_type": "stream",
     "text": [
      "100%|██████████| 3/3 [07:53<00:00, 157.71s/it]\n"
     ]
    }
   ],
   "source": [
    "corpus = []\n",
    "labeled_file_names = [\"projet-extraction-tableaux/raw-comptes/CS_extrait/\" + file_name for file_name in labeled_file_names]\n",
    "for file_name in tqdm(labeled_file_names):\n",
    "    clean_document_content = []\n",
    "    page_list = extract_document_content(file_name)\n",
    "    for page in page_list:\n",
    "        clean_content = clean_page_content(page)\n",
    "        clean_document_content.append(clean_content)\n",
    "    corpus.append(clean_document_content)"
   ]
  },
  {
   "cell_type": "markdown",
   "id": "9afb305a-b3c0-4dc5-a5b2-eba38983abc6",
   "metadata": {},
   "source": [
    "On commence par test du code."
   ]
  },
  {
   "cell_type": "code",
   "execution_count": 36,
   "id": "aba10db0-6699-4fc8-ba69-cac1338cf02d",
   "metadata": {},
   "outputs": [
    {
     "data": {
      "text/plain": [
       "3"
      ]
     },
     "execution_count": 36,
     "metadata": {},
     "output_type": "execute_result"
    }
   ],
   "source": [
    "len(corpus)"
   ]
  },
  {
   "cell_type": "code",
   "execution_count": 37,
   "id": "073d0763-1fc5-4d1d-9d9d-d8da0ba407e1",
   "metadata": {},
   "outputs": [
    {
     "data": {
      "text/plain": [
       "['rcs grenoble code grefte documents comptables registre ou commerce societes greffier tribunal commerce grenoble atteste lexactitude informations transmises ciapres nature document documents comptables b5s numero gestion b numero siren om denomination fromageries letoile depot a enregistre sous numero depot',\n",
       " 'greffe tribunal commerce nn grenoble date depot comptes annuels depot b2020010356 gestion 2004b00488 siren rcs grenoble greffier tribunal commerce grenoble certifie avoir procede depot annexe dossier registre commerce societes fromageries letoile saintjustdeclaix date cloture depot comprend documents comptables prevus legislation vigueur concernant evenements rcs suivants depot comptes annuels',\n",
       " 'sas fromageries letoile bilan bilan actif net rubrique montant brut amortprov capital souscrit non appele immosilisations imcorpoi frais detablissement frais developpement concessions brevets droits similaires fonds commercial autres immobilisations incorporelles avances acomptes immo incorporelles immobilisations corporelle terrains constructions installations techniques mat outillage autres immobilisations corporelles immobilisations cours avances acomptes bimobilisations finanqgieeres participations mise equivalence autres participations creances rattachees participations autres titres immobilises prets autres immobilisations financieres actif immobilise iks encours matieres premieres approvisionnements encours production biens encours production services produits intermediaires finis marchandises avances acomptes verses commandes creances creances clients comptes rattaches autres creances capital souscrit appele non verse divers re valeurs mobilieres placement donc actions propres disponibilites comptes resularisation charges constatees davance actif circulant frais demission demprunts etaler primes remboursement obligations ecarts conversion actif total general',\n",
       " 'ee tt eure _ sas fromageries letoile ke bilan passif rubriques exercice exercice capital social individuel dont verse primes demission fusion dapport ecarts reevaluation dont ecart dequivalence reserve legale reserves statutaires contractuelles reserves reglementees dont res prov fluct cours autres reserves dont achat oeuvres orig artistes report nouveau resultat lexercice benefice perte subventions dinvestissement provisions reglementees capitaux fropres produits emissions titres participatifs avances conditionnees autres fonds propres provisions risques provisions charges provisions dettes financieres emprunts obligataires convertibles autres emprunts obligataires emprunts dettes aupres etablissements credit emprunts dettes financieres divers dt empr partic avances acomptes recus commandes cours dettes dexploitation dettes fournisseurs comptes rattaches dettes fiscales sociales dettes diverses dettes immobilisations comptes rattaches autres dettes comptes regularisation produits constates davance dettes ecarts conversion passif total general',\n",
       " 'sas fromageries letoile x exercice exercice france exportation ventes marchandises production vendue biens production vendue services chiffres daffaires nets s4 production stockee production immobilisee subventions dexploitation reprises dep prov amortissements transferts charges autres produits produits dexploitation gds achats marchandises compris droits douane variation stock marchandises achats matieres premieres autres approvisionnements variation stock matieres premieres approvisionnements autres achats charges externes impots taxes versements assimiles salaires traitements charges sociales dotations dexploitation immobilisations dotations amortissements immobilisations dotations depreciations actif circulant dotations depreciations dotations provisions _ autres charges charges dexploitation resultat dexploitation operations commun benefice attribue perte transferee perte supportee benefice transfere produits financiers produits financiers participations produits autres valeurs mobilieres creances lactif immobilise autres interets produits assimiles reprises provisions transferts charges differences positives change produits nets cessions valeurs mobilieres placement charges financieres dotations financieres amortissements provisions interets charges assimilees differences negatives change charges nettes cessions valeurs mobilieres placement resultat financier resultat courant avant impots produits exceptionnels produits exceptionnels operations gestion produits exceptionnels operations capital reprises provisions transferts charges charges exceptionnelles charges exceptionnelles operations gestion charges exceptionnelles operations capital dotations exceptionnelles amortissements provisions resultat exceptionnel participation salaries resultats lentreprise impots benefices total produits total charges benefice ou perte',\n",
       " 'a ll a a fromageries oy e esyil annexe faits caracteristiques lexercice seserenerronre evenements signficatifs survenus depuis cloture lexercice8 principes methodes comptables ro mer principes generaux rrrrrnnennnenenereeseeseee methode devaluation smmsccccceeeesense informations relatives bilan compte resultat nn rnnarossnusenrouree immobilisations corporelles incorporelles nnnnsssssncecnsenmnnneeeeenenenneenennenenne essi lexercice etat creances a cloture lexercice nn nnrresereecsccnrnnennemesesscneneneneeeenenense produits recevoir ssmmnnrnererssscnnemenenee valeurs mobilieres placement charges constatees davance sms capitaux propres ss scenceemreneenesseneenenee etat echeances dettes charges a payer scrremmssansensanneemeenennn etat provisions mener sansenmemennene produits constates davance ecarts conversion ventilation leffectif moyen remuneration dirigeants ventilation limpot benefices ns dresaasennrerreereeneeseonennnn situation fiscale latente resultat hors evaluation fiscale derogatoire mnnssereennenennnnnnaesserereneeneeeenones resultat exceptionnel sisssssncsrerrsusse autres isformations dettes garanties suretes reelles nn ereerrseennennneernssesasnenmnaeneenrsnne engagements financiers hors credit bail informations matiere credit bail identite societe consolidante liste filiales participations',\n",
       " 'sas fromageries letoile',\n",
       " 'sas fromageries letoile _cfaits caracteristiques lexercice forme sas adresse ville saintjustdeceaix capital siret code ape i051c presente annexe rapporte bilan lexercice clos avant affectation resultat total bilan compte resultat presente sous forme liste laisse apparaitre benefice comptes lexercice ciapres couvrent periode duree mois notes tableaux presentes ciapres font partie integrante comptes annuels suite verification comptabilite effectuee ladministration fiscale cours exercices courrier proposition rectification a transmis societe fromageries letoile decembre suite echanges ladministration fiscale redressements soldes cours lexercice notamment comptabilisation dune charge exceptionnelle 271ke 2evenements significatifs survenus depuis cloture lexercice intervenu cours mois mars crise pandemique dite covid19 volonte premiere direction societe preserver sante collaborateurs mesures prises sens evolueront situation date darrete comptes cette pandemie na dimpact significatif activites lentite si situation venait evoluer defavorablement maniere significative communication specifique exposee lassemblee generale',\n",
       " 'sas fromageries principes methodes comptables principes generaux comptes sociaux etablis conformement regles principes comptables generalement admis france selon dispositions plan comptable general regl anc relatif pcg reglements lanc n2016506 n201607 conventions comptables detablissement presentation comptes sociaux appliquees respect principe prudence conformement hypotheses base suivantes continuite lexploitation permanence methodes comptables dun exercice lautre independance exercices levaluation elements inscrits pratiquee reference methode dite couts historiques ailleurs a fait application dispositions particulieres plan comptable professionnel fnil approuve conseil national comptabilite methode devaluation immobilisations incorpor fonds commercial inscrit valeur dacquisition dapport logiciels amortis duree dun an valeurs portees cette ligne lactif immobilise correspondent definition donnee reglement anc test depreciation a realise base valeur dusage quand cette valeur dusage inferieure valeur nette comptable depreciation comptabilisee mmodiisations',\n",
       " 'sas fromageries letoile a cout dacquisition celles acquises titre onereux valeur venale celles acquises titre gratuit lamortissement calcule fonction rythme consommation avantages economiques attendus lactif immobilisations financieres titres participation evalues cout dacquisition chaque cloture valeur comptable titres participations comparee valeur dinventaire valeur dinventaire chaque participation determinee fonction quotepart situation nette detenue chaque filiale perspectives rentabilite utilite si valeur dinventaire inferieure valeur comptable cloture provision depreciation enregistree neant creances inscrites valeur nominale creances douteuses depreciees voie provision tenir compte difficultes recouvrement auxquelles elles susceptibles donner lieu',\n",
       " '_ sas fromageries letoile indemnites conventionnelles legales comptabilisees charges lors depart salarie nest constitue provision fonction droits connus prorata lanciennete salarie salarie beneficie regime dehors ceux prevus normalement convention collective montant lengagement hors bilan evalue base lanciennete salaries rapport temps normal carriere engagements relatifs medailles travail provisionnes ajustement provision a effectue tenir compte situation fin lexercice',\n",
       " 'sas fromageries letoile 4in mations fe ives an com e resultat toutes operations effectuees parties liees conclues conditions courantes normales significatives orelles incorz variations lactif immobilise sanalysent comme suit lo rubriques acquisitions cessions immobilisations incorporelles immobilisations corporelles immobilisations financieres total amortissements immobilisations incorporelles corporelles calcules suivant modes lineaire degressif selon nature biens fonction duree vie prevue variations amortissements presentent facon suivante chiffres exprimes euros dotations diminutions reprises frais detablissement developpement autres immobilisations incorporelles immobilisations corporelles total dont lineaire',\n",
       " 'rm x _ ____ sas fromageries letoile degressif exceptionnel etat creances cloture lexercice total creances cloture lexercice seleve toutes creances echeance inferieure an a muuniee wnmnharmi ho produits recevoir rsr a rer lr rce sucre total produits recevoir seleve neant charges constatees davance charges constatees davance dun montant global correspondent achats marchandises charges dexploitation',\n",
       " 'sas fromageries letoile a apitaux propres capital social compose actions dune valeur nominale aucune evolution cours lexercice neant',\n",
       " '__ sas fromageries letoile total dettes cloture lexercice seleve toutes dettes echeance inferieure an charges payer fournisseurs factures non parvenues interets courus dettes fiscales sociales conges payes organismes sociaux',\n",
       " 'sas fromageries letoile mouvements concernant lexercice detailles ciapres reprises reprises dotations provisions provisions utilisees nonutilisees chiffres exprimes euros provisions realementees prov investissements hausse prix amortissements derogatoires autres provisions risques charges provisions depreciation immobcorp incorp immobilisations financieres stocks creances clients autres creances produits constates davance neant',\n",
       " 'conversion ecarts ventilation leffectif moyen categories ingenieurs cadres agents maitrise techniciens employes ouvriers total sagissant dune information confidentielle celleci nest communiquee',\n",
       " 'sas fromageries letoile ventilation limpot benefices montant avant impot du avoirs fiscaux montant net impot resultat courant resultat exceptionnel total groupe associes avant transfert quotesparts resultats comptables associes groupe integre fiscalement bsa dont societe membre applique principe neutralite',\n",
       " 'sas fromageries letoile situation fiscale sanalyse comme suit rubriques accroissement dette future dimpot provisions reglementees hors derogatoires total allegement dette future dimpot provisions charges non deductibles participation salaries contribution sociale solidarite total deficits reportables moinsvalues long terme',\n",
       " 'resultat hors evaluation fiscale rubriques resultat lexercice dotations lexercice provisions reglementees deductibles reprises lexercice provisions reglementees imposables reprises prov spec investissements non imposables charges dimpot fait provisions resultat lexercice hors incidence dispositions fiscales derogatoires produits exceptionnels charges exceptionnelles resultat exceptionnel concerne charges produits diverses natures notamment rappels dimpots penalites 272k',\n",
       " 'fromageries letoile 5autres informations ements financiers hors ct engagements donnes effets escomptes non echus avals cautions garanties autres engagements donnes total engagements recus avals cautions garanties autres engagements recus total',\n",
       " 'ee _ sas fromageries letoile informations matiere credit bail neant consolidante comptes ia societe inclus suivant methode lintegration globale comptes consolides denomination sociale bsa forme directoire conseil surveillance capital siege administratif rue adolphe beck laval siret',\n",
       " 'a sas fromager filiales etoile vercors chartrousin etoile quercy etoila fromagerie dauphine fromagerie banon participations fromagerie cazalas quotepart capital capitaux propres dont resultat dernierexercice clos',\n",
       " '',\n",
       " 'fromageries letoile societe actions simplifiee unipersonnelle sasu capital social eur siege social saint just claix rcs grenoble societe extrait certifie conforme procesverbal decisions lassocie unique prises ecrit date comptes annuels lexercice clos affectation resultat lexercice clos proposee votee e decision n2 affectation resultat lexercice ecoule lassemblee decide daffecter comme suit resultat lexercice selevant eur _ affectation totalite eur titre dividende prelevement somme eur carnpte uere reserves completer montant distribue lactionnaire montant total dividende eur conformer larticle bis code general impots lorgane souverain reconnait quaucun dividende na mis distribution titre trois exercices precedents cette decision ordinaire adoptee lorgane souverain extrait certifie conforme presidence sogiete patrick pal guerines per x',\n",
       " 'rsm rsm ouest larpege route rennes bp orvault cedex france t3325183 f3325183 wwwrsmfrancefr sarl dexperts comptables commissaires comptes inscrite tableau lordre pays loire membre compagnie regionale rennes siege soclal larpege route rennes orvault capital social rcs nantes code naf tva fr sas fromageries letoile loyes saint just claix rapport commissaire comptes comptes annuels exercice clos decembre rsm ouest membre reseau rsm exerce activites sous nom rsm rsm nom commercial utillse membres reseau rsm chaque membre reseau rsm cabinet independant daudit expertise comptable consell exerce propre compte reseau rsm nest entite jurldique part entiere planet rse iris etes',\n",
       " 'sas fromageries letoile siege social loyes saint just claix capital social euros rapport commissaire comptes comptes annuels exercice clos decembre a lassocie unique societe fromageries letoile opinion execution mission a confiee decision lassocie unique effectue laudit comptes annuels societe fromageries letoile relatifs lexercice clos decembre tels quils joints present rapport comptes arretes president avril base elements disponibles cette date contexte evolutif crise sanitaire liee covid19 certifions comptes annuels regard regles principes comptables francais reguliers sinceres donnent image fidele resultat operations lexercice ecoule ainsi situation financiere patrimoine societe fin cet exercice fondement lopinion referentiel daudit effectue audit selon normes dexercice professionnel applicables france estimons elements collectes suffisants appropries fonder opinion responsabilites incombent vertu normes indiquees partie responsabilites commissaire comptes relatives laudit comptes annuels present rapport independance realise mission daudit respect regles dindependance applicables periode janvier date demission rapport notamment navons fourni services interdits code deontologie profession commissaire comptes justification appreciations application dispositions articles kr code commerce relatives justification appreciations portons connaissance appreciations suivantes selon jugement professionnel plus importantes laudit comptes annuels lexercice appreciations ainsi portees sinscrivent contexte laudit comptes annuels pris ensemble arretes conditions rappelees precedemment formation opinion exprimee ciavant nexprimons dopinion elements comptes annuels pris isolement',\n",
       " 'sas fromageries letoile rapport commissaire comptes comptes annuels exercice clos decembre lactif societe fromageries letoile integre notamment titres participation fonds commercial dont montants nets figurant bilan decembre selevent respectivement k k paragraphes immobilisations incorporelles immobilisations financieres lannexe exposent regles methodes relatives evaluation comptabilisation verifie caractere approprie methodes comptables precisees cidessus informations fournies lannexe assures correcte application verifications specifiques egalement procede conformement normes dexercice professionnel applicables france verifications specifiques prevues textes legaux reglementaires navons dobservation formuler sincerite concordance comptes annuels informations donnees rapport gestion president arrete juin autres documents situation financiere comptes annuels adresses lassocie unique sagissant evenements survenus elements connus posterieurement date darrete comptes relatifs effets crise liee covid19 direction a indique quils feront lobjet dune communication lassocie unique appele statuer comptes attestons sincerite concordance comptes annuels informations relatives delais paiement mentionnees larticle code commerce responsabilites direction personnes constituant gouvernement dentreprise relatives comptes annuels appartient direction detablir comptes annuels presentant image fidele conformement regles principes comptables francais ainsi mettre place controle interne quelle estime necessaire letablissement comptes annuels comportant danomalies significatives cellesci proviennent fraudes resultent derreurs lors letablissement comptes annuels incombe direction devaluer capacite societe poursuivre exploitation presenter comptes cas echeant informations necessaires relatives continuite dexploitation dappliquer convention comptable continuite dexploitation sauf sil prevu liquider societe cesser activite comptes annuels arretes president responsabilites commissaire comptes relatives laudit comptes annuels appartient detablir rapport comptes annuels objectif dobtenir lassurance raisonnable comptes annuels pris ensemble comportent danomalies significatives lassurance raisonnable correspond niveau eleve dassurance sans toutefois garantir quun audit realise conformement normes dexercice professionnel permet systematiquement detecter toute anomalie significative anomalies peuvent provenir fraudes resulter derreurs considerees comme significatives lorsque lon peut raisonnablement sattendre quelles puissent prises individuellement cumule influencer decisions economiques utilisateurs comptes prennent fondant ceuxci',\n",
       " 'sas fromageries letoile rapport commissaire comptes comptes annuels exercice clos decembre comme precise larticle code commerce mission certification comptes consiste garantir viabilite qualite gestion societe cadre dun audit realise conformement normes dexercice professionnel applicables france commissaire comptes exerce jugement professionnel tout long cet audit outre identifie evalue risques comptes annuels comportent anomalies significatives cellesci proviennent fraudes resultent derreurs definit met oeuvre procedures daudit face risques recueille elements quil estime suffisants appropries fonder opinion risque nondetection dune anomalie significative provenant dune fraude plus eleve celui dune anomalie significative resultant dune erreur car fraude peut impliquer collusion falsification omissions volontaires fausses declarations contournement controle interne prend connaissance controle interne pertinent laudit afin definir procedures daudit appropriees circonstance non but dexprimer opinion lefficacite controle interne apprecie caractere approprie methodes comptables retenues caractere raisonnable estimations comptables faites direction ainsi informations concernant fournies comptes annuels apprecie caractere approprie lapplication direction convention comptable continuite dexploitation selon elements collectes lexistence non dune incertitude significative liee evenements circonstances susceptibles mettre cause capacite societe poursuivre exploitation cette appreciation sappuie elements collectes jusqua date rapport toutefois rappele circonstances evenements ulterieurs pourraient mettre cause continuite dexploitation sil conclut lexistence dune incertitude significative attire lattention lecteurs rapport informations fournies comptes annuels sujet cette incertitude si informations fournies pertinentes formule certification reserve refus certifier apprecie presentation densemble comptes annuels evalue si comptes annuels refletent operations evenements sousjacents maniere donner image fidele fait orvault juin commissaire comptes rsm ouest nicolas perenchio jeanmichel picaud associe associe',\n",
       " 'e sas fromageries letoile bilan nn a bilan actif rubrique montant brut frais detablissement frais developpement concessions brevets droits similaires fonds commercial autres immobilisations incorporelles avances acomptes immo incorporelles immobilisations corporelles terrains constructions installations techniques mat outillage autres immobilisations corporelles immobilisations cours avances acomptes immobilisations financieres participations mise equivalence autres participations creances rattachees participations autres titres immobilises prets autres immobilisations financieres actif immobilise stocks encours matieres premieres approvisionnements encours production biens encours production services produits intermediaires finis marchandises avances acomptes verses commandes creances creances clients comptes rattaches autres creances capital souscrit appele non verse divers valeurs mobilieres placement donc actions propres disponibilites comptes regularisation charges constatees davance frais demission demprunts etaler primes remboursement obligations ecarts conversion actif total general net capital souscrit non appele ps pe immobilisations incorporelles net amort prov',\n",
       " 'sas fromageries letoile f bilan passif w exercice exercice capital social individuel dont verse primes demission fusion dapport ecarts reevaluation dont ecart dequivalence reserve legale reserves statutaires contractuelles reserves reglementees dont res prov fluct cours autres reserves dont achat oeuvres orig artistes report nouveau resultat lexercice benefice perte subventions dinvestissement provisions reglementees capitaux propres produits emissions titres participatifs avances conditionnees autres fonds propres provisions risques provisions charges provisions dettes financieres emprunts obligataires convertibles autres emprunts obligataires emprunts dettes aupres etablissements credit rubriques emprunits dettes financieres divers dt empr partic avances acomptes recus commandes cours dettes dexploitation dettes fournisseurs comptes rattaches dettes fiscales sociales dettes diverses dettes immobilisations comptes rattaches autres dettes comptes regularisation produits constates davance dettes ecarts conversion passif rs total general',\n",
       " 'sas fromageries letoile co e ventes marchandises production vendue biens production vendue services rubriques chiffres daffaires nets production stockee production immobilisee subventions dexploitation reprises dep prov amortissements transferts charges autres produits produits dexploitation achats marchandises compris droits douane variation stock marchandises achats matieres premieres autres approvisionnements variation stock matieres premieres approvisionnements autres achats charges externes impots taxes versements assimiles salaires traitements charges sociales dotations dexploitation immobilisations dotations amortissements immobilisations dotations depreciations actif circulant dotations depreciations dotations provisions autres charges charges dexploitation exercice exportation mpte resultat exercice ____58512510 resultat dexploitation operations commun benefice attribue perte transferee perte supportee benefice transfere produits financiers produits financiers participations produits autres valeurs mobilieres creances lactif immobilise autres interets produits assimiles reprises provisions transferts charges differences positives change produits nets cessions valeurs mobilieres placement charges financieres dotations financieres amortissements provisions interets charges assimilees differences negatives change charges nettes cessions valeurs mobilieres placement resultat financier resultat courant avant impots produits exceptionnels produits exceptionnels operations gestion produits exceptionnels operations capital reprises provisions transferts charges charges exceptionnelles charges exceptionnelles operations gestion charges exceptionnelles operations capital dotations exceptionnelles amortissements provisions resultat exceptionnel participation salaries resultats lentreprise impots benefices total charges benefice ou perte',\n",
       " 'oy es1 annexe faits caracteristiques lexercice nr rssnnnn evenements significatifs survenus depuis cloture lexercice principes methodes comptables principes generaux mmmrrrrrrrsnmmennmnnnne methode devaluation smmmmnrrrnrmennnmenee immobilisations incorporelles immobilisations corporelles immobilisations financieres stocks encours creances engagements matiere retraite primes medailles travail informations relatives bilan compte resultat immobilisations corporelles incorporelles cv tableau acquisitions cessions lexercice tableau amortissements sas fromageries letoile etat creances a cloture lexercicennnnnn nana nee nn nnnnnnnnnnnnnmnmnnnnnne produits a recevoir mme valeurs mobilieres placement charges constatees davance capitaux propres inenmrrrrennnnnnnne capital social ecarts reevaluation etat echeances dettes charges a payer mmminnenmemmrrresnennnnnee etat provisions mmmrrrrssnnnnnnnee produits constates davance ecarts conversion ventilation leffectif moyen remuneration dirigeants ventilation limpot benefices nn nent nn nn nnnnnnnnnnnnnnnnnne situation fiscale latente resultat hors evaluation fiscale derogatoire nn nnnnnnnnnnnnnne resultat exceptionnel autres informations dettes garanties suretes reelles nn nnnnnnnnnnnnnnnnnnnnnennnnnnnnnennnnne engagements financiers hors credit bail informations matiere credit bail identite societe consolidante liste filiales participations',\n",
       " '',\n",
       " 'sas fromageries letoile qdaits caracteristiques lexercice e forme sas adresse ville saintjustdeclaix capital siret code ape 1051c presente annexe rapporte bilan lexercice clos avant affectation resultat total bilan compte resultat presente sous forme liste laisse apparaitre benefice comptes lexercice ciapres couvrent periode duree mois notes tableaux presentes ciapres font partie integrante comptes annuels suite verification comptabilite effectuee ladministration fiscale cours exercices courrier proposition rectification a transmis societe fromageries letoile decembre suite echanges ladministration fiscale redressements soldes cours lexercice notamment comptabilisation dune charge exceptionnelle 271k 2evenements significatifs survenus depuis cloture lexercice intervenu cours mois mars crise pandemique dite covid19 volonte premiere direction societe preserver sante collaborateurs mesures prises sens evolueront situation a date darrete comptes cette pandemie na dimpact significatif activites lentite si situation venait evoluer defavorablement maniere significative communication specifique exposee lassemblee generale',\n",
       " 'principes methodes comptables principes generaux comptes sociaux etablis conformement regles principes comptables generalement admis france selon dispositions plan comptable general regjl anc relatif pcg reglements lanc n201506 n201607 conventions comptables detablissement presentation comptes sociaux appliquees respect principe prudence conformement hypotheses base suivantes continuite lexploitation permanence methodes comptables dun exercice lautre independance exercices levaluation elements inscrits pratiquee reference methode dite couts historiques ailleurs a fait application dispositions particulieres plan comptable professionnel fnil approuve conseil national comptabilite methode devaluation immobilisations incorporelles fonds commercial inscrit valeur dacquisition dapport logiciels amortis duree dun an valeurs portees cette ligne lactif immobilise correspondent definition donnee reglement anc test depreciation a realise base valeur dusage quand cette valeur dusage inferieure valeur nette comptable depreciation comptabilisee immobilisations corporelles immobilisations corporelles enregistrees',\n",
       " 'sas fromageries letoile o _ a cout dacquisition celles acquises titre onereux valeur venale celles acquises titre gratuit lamortissement calcule fonction rythme consommation avantages economiques attendus lactif immobilisations financieres immobilisations financieres titres participation evalues cout dacquisition chaque cloture valeur comptable titres participations comparee valeur dinventaire valeur dinventaire chaque participation determinee fonction quotepart situation nette detenue chaque filiale perspectives rentabilite utilite si valeur dinventaire inferieure valeur comptable cloture provision depreciation enregistree stocks encours neant creances creances inscrites valeur nominale creances douteuses depreciees voie provision tenir compte difficultes recouvrement auxquelles elles susceptibles donner lieu',\n",
       " 'engagements matiere retraite indemnites conventionnelles legales comptabilisees charges lors depart salarie nest constitue provision fonction droits connus prorata lanciennete salarie salarie beneficie regime dehors ceux prevus normalement convention collective montant lengagement hors bilan evalue base lanciennete salaries rapport temps normal carriere primes medailles travail engagements relatifs medailles travail provisionnes ajustement provision a effectue tenir compte situation fin lexercice',\n",
       " 'sas fromageries letoile 4informations relatives bilan compte resultat toutes operations effectuees parties liees conclues conditions courantes normales significatives immobilisations corporelles incorporelles tableau acquisitions cessions lexercice variations lactif immobilise sanalysent comme suit rubriques acquisitions cessions immobilisations incorporelles immobilisations corporelles immobilisations financieres total tableau amortissements amortissements immobilisations incorporelles corporelles calcules suivant modes lineaire degressif selon nature biens fonction duree vie prevue variations amortissements presentent facon suivante diminution chiffres exprimes euros dotations a utio u reprises frais detablissement developpement autres immobilisations incorporelles immobilisations corporelles total dont lineaire',\n",
       " 'degressif ol exceptionnel etat creances cloture lexercice total creances cloture lexercice seleve toutes creances echeance inferieure an produits recevoir total produits recevoir seleve valeurs mobilieres placement neant charges constatees davance charges constatees davance dun montant global correspondent achats marchandises charges dexploitation',\n",
       " 'sas fromageries letoile o capitaux propres capital social capital social compose actions dune valeur nominale aucune evolution cours lexercice ecarts reevaluation neant',\n",
       " 'sas fromageries letoile ou etat echeances dettes total dettes cloture lexercice seleve toutes dettes echeance inferieure an charges payer ec sm fournisseurs factures non parvenues interets courus dettes fiscales sociales conges payes organismes sociaux',\n",
       " 'sas fromageries letoile o etat provisions e mouvements concernant lexercice detailles ciapres reprises reprises chiffres exprimes euros dotations provisions provisions utilisees non utilisees provisions reglementees prov investissements hausse prix amortissements derogatoires autres provisions risques charges provisions depreciation immobcorp incorp immobilisations financieres stocks creances clients autres creances total produits constates davance neant',\n",
       " 'sas fromageries letoile ou ecarts conversion neant ventilation leffectif moyen categories ingenieurs cadres agents maitrise techniciens employes ouvriers remuneration dirigeants sagissant dune information confidentielle celleci nest communiquee',\n",
       " 'sas fromageries letoile ventilation limpot benefices montant avant impot du avoirs fiscaux montant net impot resultat courant resultat exceptionnel total groupe associes avant transfert quotesparts resultats comptables associes groupe integre fiscalement bsa dont societe membre applique principe neutralite',\n",
       " 'situation fiscale latente sanalyse comme suit rubriques accroissement dette future dimpot provisions reglementees hors derogatoires total allegement dette future dimpot provisions charges non deductibles participation salaries contribution sociale solidarite total deficits reportables moinsvalues long terme',\n",
       " 'sas fromageries letoile resultat hors evaluation fiscale derogatoire rubriques resultat lexercice dotations lexercice provisions reglementees deductibles reprises lexercice provisions reglementees imposables reprises prov spec investissements non imposables charges dimpot fait provisions resultat lexercice hors incidence dispositions fiscales derogatoires resultat exceptionnel produits exceptionnels charges exceptionnelles resultat exceptionnel concerne charges produits diverses natures notamment rappels dimpots penalites 272ke',\n",
       " 'autres informations dettes garanties suretes reelles neant engagements financiers hors creditbail engagements donnes effets escomptes non echus avals cautions garanties autres engagements donnes total engagements recus avals cautions garanties autres engagements recus total',\n",
       " 'sas fromageries letoile informations matiere credit bail neant identite societe consolidante comptes societe inclus suivant methode lintegration globale comptes consolides denomination sociale bsa forme directoire conseil surveillance capital siege administratif rue adolphe beck laval siret',\n",
       " 'liste filiales participations dont resultat uotepart e p capitaux propres dernier exercice capital clos filiales etoile vercors chartrousin etoile quercy etoila fromagerie dauphine fromagerie banon participations fromagerie cazalas',\n",
       " 'sas fromageries letoile']"
      ]
     },
     "execution_count": 37,
     "metadata": {},
     "output_type": "execute_result"
    }
   ],
   "source": [
    "corpus[0]"
   ]
  },
  {
   "cell_type": "code",
   "execution_count": 18,
   "id": "747935fb-088c-47f5-b7cf-20b93063a392",
   "metadata": {},
   "outputs": [
    {
     "data": {
      "text/plain": [
       "51"
      ]
     },
     "execution_count": 18,
     "metadata": {},
     "output_type": "execute_result"
    }
   ],
   "source": [
    "len(corpus[0])"
   ]
  },
  {
   "cell_type": "code",
   "execution_count": 19,
   "id": "2390cb0e-24c1-4eea-8c92-ab5b76a4a235",
   "metadata": {},
   "outputs": [
    {
     "data": {
      "text/plain": [
       "27"
      ]
     },
     "execution_count": 19,
     "metadata": {},
     "output_type": "execute_result"
    }
   ],
   "source": [
    "len(corpus[1])"
   ]
  },
  {
   "cell_type": "code",
   "execution_count": 20,
   "id": "247b76fc-8309-4816-9c68-ff1a96c95a1f",
   "metadata": {},
   "outputs": [],
   "source": [
    "def fit_transform_vectorizer(flat_corpus: List[str]) -> Tuple[TfidfVectorizer, List[List[int]]]:\n",
    "    \"\"\"\n",
    "    Function to fit a TfidfVectorizer on a corpus and to \n",
    "    vectorize this corpus.\n",
    "\n",
    "    Args:\n",
    "        flat_corpus (List[str]): Corpus to vectorize.\n",
    "    \"\"\"\n",
    "    vectorizer = TfidfVectorizer(input=\"content\")\n",
    "    vectorized_corpus = vectorizer.fit_transform(flat_corpus)\n",
    "    return (vectorizer, vectorized_corpus)\n",
    "\n",
    "    \n",
    "def train_random_forest(\n",
    "    params: Dict,\n",
    "    X_train: List[List[int]],\n",
    "    y_train: List[int]\n",
    "):\n",
    "    \"\"\"\n",
    "    Train a random forest classifier.\n",
    "\n",
    "    Args:\n",
    "        params (Dict): Parameters of the RF classifier.\n",
    "        X_train (List[List[int]]): Training features.\n",
    "        y_train (List[int]): Training outputs.\n",
    "    \"\"\"\n",
    "    clf = RandomForestClassifier(**params)\n",
    "\n",
    "    # Training time\n",
    "    t0 = time()\n",
    "    clf.fit(X_train, y_train)\n",
    "    train_time = time() - t0\n",
    "    \n",
    "    # Classifier name\n",
    "    clf_descr = clf.__class__.__name__\n",
    "    return clf, clf_descr, train_time"
   ]
  },
  {
   "cell_type": "code",
   "execution_count": 21,
   "id": "190ee109-a7f8-49d9-b2ff-cd3d12072d35",
   "metadata": {},
   "outputs": [],
   "source": [
    "flat_corpus = [item for sublist in corpus for item in sublist]"
   ]
  },
  {
   "cell_type": "code",
   "execution_count": 23,
   "id": "acc72a05-ee9a-4ff6-bb3a-22df9aa0ae3e",
   "metadata": {},
   "outputs": [
    {
     "data": {
      "text/plain": [
       "78"
      ]
     },
     "execution_count": 23,
     "metadata": {},
     "output_type": "execute_result"
    }
   ],
   "source": [
    "len(flat_corpus)"
   ]
  },
  {
   "cell_type": "code",
   "execution_count": 24,
   "id": "276054f9-122d-4d48-8d11-c3d5ad1aa493",
   "metadata": {},
   "outputs": [],
   "source": [
    "vectorizer, vectorized_corpus = fit_transform_vectorizer(flat_corpus)"
   ]
  },
  {
   "cell_type": "code",
   "execution_count": 25,
   "id": "ff3a7a6f-acc1-4b8d-9126-bb112624e1aa",
   "metadata": {},
   "outputs": [
    {
     "data": {
      "text/html": [
       "<style>#sk-container-id-1 {color: black;background-color: white;}#sk-container-id-1 pre{padding: 0;}#sk-container-id-1 div.sk-toggleable {background-color: white;}#sk-container-id-1 label.sk-toggleable__label {cursor: pointer;display: block;width: 100%;margin-bottom: 0;padding: 0.3em;box-sizing: border-box;text-align: center;}#sk-container-id-1 label.sk-toggleable__label-arrow:before {content: \"▸\";float: left;margin-right: 0.25em;color: #696969;}#sk-container-id-1 label.sk-toggleable__label-arrow:hover:before {color: black;}#sk-container-id-1 div.sk-estimator:hover label.sk-toggleable__label-arrow:before {color: black;}#sk-container-id-1 div.sk-toggleable__content {max-height: 0;max-width: 0;overflow: hidden;text-align: left;background-color: #f0f8ff;}#sk-container-id-1 div.sk-toggleable__content pre {margin: 0.2em;color: black;border-radius: 0.25em;background-color: #f0f8ff;}#sk-container-id-1 input.sk-toggleable__control:checked~div.sk-toggleable__content {max-height: 200px;max-width: 100%;overflow: auto;}#sk-container-id-1 input.sk-toggleable__control:checked~label.sk-toggleable__label-arrow:before {content: \"▾\";}#sk-container-id-1 div.sk-estimator input.sk-toggleable__control:checked~label.sk-toggleable__label {background-color: #d4ebff;}#sk-container-id-1 div.sk-label input.sk-toggleable__control:checked~label.sk-toggleable__label {background-color: #d4ebff;}#sk-container-id-1 input.sk-hidden--visually {border: 0;clip: rect(1px 1px 1px 1px);clip: rect(1px, 1px, 1px, 1px);height: 1px;margin: -1px;overflow: hidden;padding: 0;position: absolute;width: 1px;}#sk-container-id-1 div.sk-estimator {font-family: monospace;background-color: #f0f8ff;border: 1px dotted black;border-radius: 0.25em;box-sizing: border-box;margin-bottom: 0.5em;}#sk-container-id-1 div.sk-estimator:hover {background-color: #d4ebff;}#sk-container-id-1 div.sk-parallel-item::after {content: \"\";width: 100%;border-bottom: 1px solid gray;flex-grow: 1;}#sk-container-id-1 div.sk-label:hover label.sk-toggleable__label {background-color: #d4ebff;}#sk-container-id-1 div.sk-serial::before {content: \"\";position: absolute;border-left: 1px solid gray;box-sizing: border-box;top: 0;bottom: 0;left: 50%;z-index: 0;}#sk-container-id-1 div.sk-serial {display: flex;flex-direction: column;align-items: center;background-color: white;padding-right: 0.2em;padding-left: 0.2em;position: relative;}#sk-container-id-1 div.sk-item {position: relative;z-index: 1;}#sk-container-id-1 div.sk-parallel {display: flex;align-items: stretch;justify-content: center;background-color: white;position: relative;}#sk-container-id-1 div.sk-item::before, #sk-container-id-1 div.sk-parallel-item::before {content: \"\";position: absolute;border-left: 1px solid gray;box-sizing: border-box;top: 0;bottom: 0;left: 50%;z-index: -1;}#sk-container-id-1 div.sk-parallel-item {display: flex;flex-direction: column;z-index: 1;position: relative;background-color: white;}#sk-container-id-1 div.sk-parallel-item:first-child::after {align-self: flex-end;width: 50%;}#sk-container-id-1 div.sk-parallel-item:last-child::after {align-self: flex-start;width: 50%;}#sk-container-id-1 div.sk-parallel-item:only-child::after {width: 0;}#sk-container-id-1 div.sk-dashed-wrapped {border: 1px dashed gray;margin: 0 0.4em 0.5em 0.4em;box-sizing: border-box;padding-bottom: 0.4em;background-color: white;}#sk-container-id-1 div.sk-label label {font-family: monospace;font-weight: bold;display: inline-block;line-height: 1.2em;}#sk-container-id-1 div.sk-label-container {text-align: center;}#sk-container-id-1 div.sk-container {/* jupyter's `normalize.less` sets `[hidden] { display: none; }` but bootstrap.min.css set `[hidden] { display: none !important; }` so we also need the `!important` here to be able to override the default hidden behavior on the sphinx rendered scikit-learn.org. See: https://github.com/scikit-learn/scikit-learn/issues/21755 */display: inline-block !important;position: relative;}#sk-container-id-1 div.sk-text-repr-fallback {display: none;}</style><div id=\"sk-container-id-1\" class=\"sk-top-container\"><div class=\"sk-text-repr-fallback\"><pre>TfidfVectorizer()</pre><b>In a Jupyter environment, please rerun this cell to show the HTML representation or trust the notebook. <br />On GitHub, the HTML representation is unable to render, please try loading this page with nbviewer.org.</b></div><div class=\"sk-container\" hidden><div class=\"sk-item\"><div class=\"sk-estimator sk-toggleable\"><input class=\"sk-toggleable__control sk-hidden--visually\" id=\"sk-estimator-id-1\" type=\"checkbox\" checked><label for=\"sk-estimator-id-1\" class=\"sk-toggleable__label sk-toggleable__label-arrow\">TfidfVectorizer</label><div class=\"sk-toggleable__content\"><pre>TfidfVectorizer()</pre></div></div></div></div></div>"
      ],
      "text/plain": [
       "TfidfVectorizer()"
      ]
     },
     "execution_count": 25,
     "metadata": {},
     "output_type": "execute_result"
    }
   ],
   "source": [
    "vectorizer"
   ]
  },
  {
   "cell_type": "code",
   "execution_count": 26,
   "id": "ad2f61b6-aa79-45fb-b253-d4ad2efba269",
   "metadata": {},
   "outputs": [
    {
     "data": {
      "text/plain": [
       "<78x1783 sparse matrix of type '<class 'numpy.float64'>'\n",
       "\twith 5402 stored elements in Compressed Sparse Row format>"
      ]
     },
     "execution_count": 26,
     "metadata": {},
     "output_type": "execute_result"
    }
   ],
   "source": [
    "vectorized_corpus"
   ]
  },
  {
   "cell_type": "code",
   "execution_count": 28,
   "id": "45dcbfcd-bea0-41d5-8b4e-7a78e284f9b8",
   "metadata": {},
   "outputs": [
    {
     "data": {
      "text/plain": [
       "scipy.sparse._csr.csr_matrix"
      ]
     },
     "execution_count": 28,
     "metadata": {},
     "output_type": "execute_result"
    }
   ],
   "source": [
    "type(vectorized_corpus)"
   ]
  },
  {
   "cell_type": "code",
   "execution_count": 27,
   "id": "726e83ba-ea10-4079-a112-a8cadc909c8b",
   "metadata": {},
   "outputs": [
    {
     "ename": "ValueError",
     "evalue": "Found input variables with inconsistent numbers of samples: [78, 2167]",
     "output_type": "error",
     "traceback": [
      "\u001b[0;31m---------------------------------------------------------------------------\u001b[0m",
      "\u001b[0;31mValueError\u001b[0m                                Traceback (most recent call last)",
      "Cell \u001b[0;32mIn[27], line 1\u001b[0m\n\u001b[0;32m----> 1\u001b[0m X_train, X_test, y_train, y_test \u001b[38;5;241m=\u001b[39m \u001b[43mtrain_test_split\u001b[49m\u001b[43m(\u001b[49m\n\u001b[1;32m      2\u001b[0m \u001b[43m    \u001b[49m\u001b[43mvectorized_corpus\u001b[49m\u001b[43m,\u001b[49m\u001b[43m \u001b[49m\u001b[43mvalid_labels\u001b[49m\u001b[43m,\u001b[49m\u001b[43m \u001b[49m\u001b[43mtest_size\u001b[49m\u001b[38;5;241;43m=\u001b[39;49m\u001b[38;5;241;43m0.2\u001b[39;49m\u001b[43m,\u001b[49m\u001b[43m \u001b[49m\u001b[43mrandom_state\u001b[49m\u001b[38;5;241;43m=\u001b[39;49m\u001b[38;5;241;43m42\u001b[39;49m\n\u001b[1;32m      3\u001b[0m \u001b[43m)\u001b[49m\n",
      "File \u001b[0;32m/opt/mamba/lib/python3.10/site-packages/sklearn/model_selection/_split.py:2559\u001b[0m, in \u001b[0;36mtrain_test_split\u001b[0;34m(test_size, train_size, random_state, shuffle, stratify, *arrays)\u001b[0m\n\u001b[1;32m   2556\u001b[0m \u001b[38;5;28;01mif\u001b[39;00m n_arrays \u001b[38;5;241m==\u001b[39m \u001b[38;5;241m0\u001b[39m:\n\u001b[1;32m   2557\u001b[0m     \u001b[38;5;28;01mraise\u001b[39;00m \u001b[38;5;167;01mValueError\u001b[39;00m(\u001b[38;5;124m\"\u001b[39m\u001b[38;5;124mAt least one array required as input\u001b[39m\u001b[38;5;124m\"\u001b[39m)\n\u001b[0;32m-> 2559\u001b[0m arrays \u001b[38;5;241m=\u001b[39m \u001b[43mindexable\u001b[49m\u001b[43m(\u001b[49m\u001b[38;5;241;43m*\u001b[39;49m\u001b[43marrays\u001b[49m\u001b[43m)\u001b[49m\n\u001b[1;32m   2561\u001b[0m n_samples \u001b[38;5;241m=\u001b[39m _num_samples(arrays[\u001b[38;5;241m0\u001b[39m])\n\u001b[1;32m   2562\u001b[0m n_train, n_test \u001b[38;5;241m=\u001b[39m _validate_shuffle_split(\n\u001b[1;32m   2563\u001b[0m     n_samples, test_size, train_size, default_test_size\u001b[38;5;241m=\u001b[39m\u001b[38;5;241m0.25\u001b[39m\n\u001b[1;32m   2564\u001b[0m )\n",
      "File \u001b[0;32m/opt/mamba/lib/python3.10/site-packages/sklearn/utils/validation.py:443\u001b[0m, in \u001b[0;36mindexable\u001b[0;34m(*iterables)\u001b[0m\n\u001b[1;32m    424\u001b[0m \u001b[38;5;250m\u001b[39m\u001b[38;5;124;03m\"\"\"Make arrays indexable for cross-validation.\u001b[39;00m\n\u001b[1;32m    425\u001b[0m \n\u001b[1;32m    426\u001b[0m \u001b[38;5;124;03mChecks consistent length, passes through None, and ensures that everything\u001b[39;00m\n\u001b[0;32m   (...)\u001b[0m\n\u001b[1;32m    439\u001b[0m \u001b[38;5;124;03m    sparse matrix, or dataframe) or `None`.\u001b[39;00m\n\u001b[1;32m    440\u001b[0m \u001b[38;5;124;03m\"\"\"\u001b[39;00m\n\u001b[1;32m    442\u001b[0m result \u001b[38;5;241m=\u001b[39m [_make_indexable(X) \u001b[38;5;28;01mfor\u001b[39;00m X \u001b[38;5;129;01min\u001b[39;00m iterables]\n\u001b[0;32m--> 443\u001b[0m \u001b[43mcheck_consistent_length\u001b[49m\u001b[43m(\u001b[49m\u001b[38;5;241;43m*\u001b[39;49m\u001b[43mresult\u001b[49m\u001b[43m)\u001b[49m\n\u001b[1;32m    444\u001b[0m \u001b[38;5;28;01mreturn\u001b[39;00m result\n",
      "File \u001b[0;32m/opt/mamba/lib/python3.10/site-packages/sklearn/utils/validation.py:397\u001b[0m, in \u001b[0;36mcheck_consistent_length\u001b[0;34m(*arrays)\u001b[0m\n\u001b[1;32m    395\u001b[0m uniques \u001b[38;5;241m=\u001b[39m np\u001b[38;5;241m.\u001b[39munique(lengths)\n\u001b[1;32m    396\u001b[0m \u001b[38;5;28;01mif\u001b[39;00m \u001b[38;5;28mlen\u001b[39m(uniques) \u001b[38;5;241m>\u001b[39m \u001b[38;5;241m1\u001b[39m:\n\u001b[0;32m--> 397\u001b[0m     \u001b[38;5;28;01mraise\u001b[39;00m \u001b[38;5;167;01mValueError\u001b[39;00m(\n\u001b[1;32m    398\u001b[0m         \u001b[38;5;124m\"\u001b[39m\u001b[38;5;124mFound input variables with inconsistent numbers of samples: \u001b[39m\u001b[38;5;132;01m%r\u001b[39;00m\u001b[38;5;124m\"\u001b[39m\n\u001b[1;32m    399\u001b[0m         \u001b[38;5;241m%\u001b[39m [\u001b[38;5;28mint\u001b[39m(l) \u001b[38;5;28;01mfor\u001b[39;00m l \u001b[38;5;129;01min\u001b[39;00m lengths]\n\u001b[1;32m    400\u001b[0m     )\n",
      "\u001b[0;31mValueError\u001b[0m: Found input variables with inconsistent numbers of samples: [78, 2167]"
     ]
    }
   ],
   "source": [
    "X_train, X_test, y_train, y_test = train_test_split(\n",
    "    vectorized_corpus, valid_labels, test_size=0.2, random_state=42\n",
    ")"
   ]
  },
  {
   "cell_type": "code",
   "execution_count": 30,
   "id": "feb39891-b6d1-4882-b9a0-2f5a8d595e26",
   "metadata": {},
   "outputs": [
    {
     "data": {
      "text/plain": [
       "2167"
      ]
     },
     "execution_count": 30,
     "metadata": {},
     "output_type": "execute_result"
    }
   ],
   "source": [
    "len(valid_labels)"
   ]
  },
  {
   "cell_type": "markdown",
   "id": "9d22feb4-f3f5-47e8-b116-f8fdcf8b333f",
   "metadata": {},
   "source": [
    "Repérer qu'un document est un pdf numérique"
   ]
  },
  {
   "cell_type": "code",
   "execution_count": 39,
   "id": "e07de793-7251-4bb3-9a61-f70b6d6b8905",
   "metadata": {},
   "outputs": [],
   "source": [
    "from utils import load_pdf"
   ]
  },
  {
   "cell_type": "code",
   "execution_count": 41,
   "id": "5c554c78-eb82-4dd7-a458-08d1f8f258fe",
   "metadata": {},
   "outputs": [],
   "source": [
    "file_name = \"projet-extraction-tableaux/raw-comptes/CS_extrait/CA_433726809_4401_2000B01688_2019_20354.pdf\"\n",
    "\n",
    "doc = load_pdf(file_name, s3=True)\n",
    "page_list = []\n",
    "for page in doc:\n",
    "    page_list.append(page.get_text())"
   ]
  },
  {
   "cell_type": "code",
   "execution_count": 43,
   "id": "96d3d5df-f04e-4c2b-b37d-8ba0cd5c73bb",
   "metadata": {},
   "outputs": [
    {
     "data": {
      "text/plain": [
       "(array([3., 3., 1., 1., 2., 3., 3., 2., 0., 1.]),\n",
       " array([   0. ,  495.6,  991.2, 1486.8, 1982.4, 2478. , 2973.6, 3469.2,\n",
       "        3964.8, 4460.4, 4956. ]),\n",
       " <BarContainer object of 10 artists>)"
      ]
     },
     "execution_count": 43,
     "metadata": {},
     "output_type": "execute_result"
    },
    {
     "data": {
      "image/png": "[encoded data removed]",
      "text/plain": [
       "<Figure size 640x480 with 1 Axes>"
      ]
     },
     "metadata": {},
     "output_type": "display_data"
    }
   ],
   "source": [
    "from matplotlib import pyplot as plt\n",
    "\n",
    "plt.hist([len(page) for page in page_list])"
   ]
  },
  {
   "cell_type": "code",
   "execution_count": 44,
   "id": "9110ea91-70e3-4748-b42d-cb59f253b6d2",
   "metadata": {},
   "outputs": [
    {
     "data": {
      "text/plain": [
       "(array([ 0.,  0.,  0.,  0.,  0., 53.,  0.,  0.,  0.,  0.]),\n",
       " array([-0.5, -0.4, -0.3, -0.2, -0.1,  0. ,  0.1,  0.2,  0.3,  0.4,  0.5]),\n",
       " <BarContainer object of 10 artists>)"
      ]
     },
     "execution_count": 44,
     "metadata": {},
     "output_type": "execute_result"
    },
    {
     "data": {
      "image/png": "[encoded data removed]",
      "text/plain": [
       "<Figure size 640x480 with 1 Axes>"
      ]
     },
     "metadata": {},
     "output_type": "display_data"
    }
   ],
   "source": [
    "file_name = \"projet-extraction-tableaux/raw-comptes/CS_extrait/CA_434057261_1203_2001B00031_2019_3668.pdf\"\n",
    "\n",
    "doc = load_pdf(file_name, s3=True)\n",
    "page_list = []\n",
    "for page in doc:\n",
    "    page_list.append(page.get_text())\n",
    "    \n",
    "plt.hist([len(page) for page in page_list])"
   ]
  },
  {
   "cell_type": "markdown",
   "id": "216b01c1-a7fc-4ab5-a13a-3568bb58325d",
   "metadata": {},
   "source": [
    "A quoi ressemble le texte extrait pour les PDF numériques ?"
   ]
  },
  {
   "cell_type": "code",
   "execution_count": 47,
   "id": "5a1840fc-a29f-4b20-8d7c-284803016d26",
   "metadata": {},
   "outputs": [
    {
     "data": {
      "text/plain": [
       "['',\n",
       " 'Comptes au 31/12/2019\\nComptes au 31/12/2019\\nCAP DE RETZ EURL\\n   ROND POINT DE LA CORBINERIE\\n44400 REZE\\nComptes au 31/12/2019\\nCertifiés conformes\\nDocuSign Envelope ID: 41EC8FAA-8A8C-4116-940C-9469A934C44A\\n',\n",
       " 'C0319 - CAP DE RETZ EURL\\n   ROND POINT DE LA CORBINERIE\\n44400 REZE\\nDéclaration au 31/12/2019\\n- SOMMAIRE -\\nBILAN\\nBilan - Actif \\n2\\nBilan - Passif \\n3\\nCOMPTE DE RESULTAT\\nCompte de résultat \\n4\\nCompte de résultat \\n5\\nANNEXES\\nFaits marquants \\n6\\nRègles et méthodes comptables \\n7\\nImmobilisations \\n10\\nAmortissements \\n11\\nCréances et dettes \\n12\\nComposition du capital social \\n13\\nProvisions et dépréciations \\n14\\nPage 1/14  \\nDocuSign Envelope ID: 41EC8FAA-8A8C-4116-940C-9469A934C44A\\n',\n",
       " \" \\n Rubriques\\n Capital souscrit non appelé\\n IMMOBILISATIONS INCORPORELLES\\n Frais d'établissement\\n Frais de développement\\n Concessions, brevets et droits similaires\\n Fonds commercial\\n Autres immobilisations incorporelles\\n Avances, acomptes sur immo. incorporelles\\n IMMOBILISATIONS CORPORELLES\\n Terrains\\n Constructions\\n Installations techniques, matériel, outillage\\n Autres immobilisations corporelles\\n Immobilisations en cours\\n Avances et acomptes\\n IMMOBILISATIONS FINANCIERES\\n Participations par mise en équivalence\\n Autres participations\\n Créances rattachées à des participations\\n Autres titres immobilisés    \\n Prêts\\n Autres immobilisations financières\\nACTIF IMMOBILISE\\n STOCKS ET EN-COURS\\n Matières premières, approvisionnements\\n En-cours de production de biens\\n En-cours de production de services\\n Produits intermédiaires et finis\\n Marchandises\\n Avances et acomptes versés sur commandes\\n CREANCES\\n Créances clients et comptes rattachés\\n Autres créances\\n Capital souscrit et appelé, non versé\\n DIVERS\\n Valeurs mobilières de placement\\n (dont actions propres :\\n Disponibilités\\n COMPTES DE REGULARISATION\\n Charges constatées d'avance\\nACTIF CIRCULANT\\n Frais d'émission d'emprunts à étaler\\n Primes de remboursement des obligations\\n Ecarts de conversion actif\\nTOTAL GENERAL\\n \\n Capital souscrit non appelé\\n IMMOBILISATIONS INCORPORELLES\\n Concessions, brevets et droits similaires\\n Autres immobilisations incorporelles\\n Avances, acomptes sur immo. incorporelles\\n IMMOBILISATIONS CORPORELLES\\n Installations techniques, matériel, outillage\\n Autres immobilisations corporelles\\n IMMOBILISATIONS FINANCIERES\\n Participations par mise en équivalence\\n Créances rattachées à des participations\\n Autres titres immobilisés    \\n Autres immobilisations financières\\nACTIF IMMOBILISE\\n Matières premières, approvisionnements\\n En-cours de production de biens\\n En-cours de production de services\\n Produits intermédiaires et finis\\n Avances et acomptes versés sur commandes\\n Créances clients et comptes rattachés\\n Capital souscrit et appelé, non versé\\n Valeurs mobilières de placement\\n \\n COMPTES DE REGULARISATION\\n Charges constatées d'avance\\nACTIF CIRCULANT\\n Frais d'émission d'emprunts à étaler\\n Primes de remboursement des obligations\\nTOTAL GENERAL\\n \\n Avances et acomptes versés sur commandes\\n)\\n \\nMontant Brut\\n \\n \\n \\n11 066\\n \\n \\n \\n \\n1 225 032\\n1 019 883\\n54 626\\n \\n \\n \\n \\n \\n17 782\\n \\n \\n2 328 389\\n25 090\\n \\n \\n \\n1 070\\n \\n74 384\\n188 883\\n \\n \\n125 096\\n8 138\\n422 661\\n \\n \\n \\n2 751 050\\nAmort. Prov.\\n \\n \\n7 848\\n \\n \\n \\n \\n611 253\\n626 304\\n36 710\\n \\n \\n \\n \\n \\n \\n \\n \\n1 282 113\\n \\n \\n \\n \\n298\\n \\n \\n \\n \\n \\n \\n \\n298\\n1 282 412\\n31/12/2019\\n \\n \\n \\n3 218\\n \\n \\n \\n \\n613 780\\n393 579\\n17 916\\n \\n \\n \\n \\n \\n17 782\\n \\n \\n1 046 276\\n25 090\\n \\n \\n \\n772\\n \\n74 384\\n188 883\\n \\n \\n125 096\\n8 138\\n422 363\\n \\n \\n \\n1 468 639\\n31/12/2018\\n \\n \\n \\n5 102\\n \\n \\n \\n \\n403 914\\n67 817\\n48 145\\n \\n \\n \\n \\n \\n17 782\\n \\n \\n542 760\\n18 665\\n \\n \\n \\n464\\n10 900\\n110 861\\n157 339\\n \\n \\n273 166\\n10 209\\n581 604\\n \\n \\n \\n1 124 364\\nC0319 - CAP DE RETZ EURL\\n   ROND POINT DE LA CORBINERIE\\n44400 REZE\\nBilan - Actif\\nDéclaration au 31/12/2019\\nPage 2/14  \\nDocuSign Envelope ID: 41EC8FAA-8A8C-4116-940C-9469A934C44A\\n\",\n",
       " \" \\n Rubriques\\n Capital social ou individuel\\n Primes d'émission, de fusion, d'apport\\n Ecarts de réévaluation     ( dont écart d'équivalence :\\n Réserve légale\\n Réserves statutaires ou contractuelles\\n Réserves réglementées (dont rés. Prov. fluctuation cours\\n Autres réserves (dont achat œuvres originales artistes\\n Report à nouveau\\n Subventions d'investissement\\n Provisions réglementées\\n Produits des émissions de titres participatifs\\n Avances conditionnées\\n Provisions pour risques\\n Provisions pour charges\\n DETTES FINANCIERES\\n Emprunts obligataires convertibles\\n Autres emprunts obligataires\\n Emprunts et dettes auprès des établissements de crédit\\n Emprunts et dettes financières divers (dont empr. participatifs\\n Avances et acomptes reçus sur commandes en cours\\n DETTES D'EXPLOITATION\\n Dettes fournisseurs et comptes rattachés\\n Dettes fiscales et sociales\\n DETTES DIVERSES\\n Dettes sur immobilisations et comptes rattachés\\n Autres dettes\\n COMPTES DE REGULARISATION\\n Produits constatés d'avance\\n Ecarts de conversion passif\\n \\n Capital social ou individuel\\n Primes d'émission, de fusion, d'apport\\n Ecarts de réévaluation     ( dont écart d'équivalence :\\n Réserves statutaires ou contractuelles\\n Réserves réglementées (dont rés. Prov. fluctuation cours\\n Autres réserves (dont achat œuvres originales artistes\\n RESULTAT DE L'EXERCICE  (bénéfice ou perte)\\n Subventions d'investissement\\n Provisions réglementées\\n Produits des émissions de titres participatifs\\n Provisions pour charges\\n DETTES FINANCIERES\\n Emprunts obligataires convertibles\\n Autres emprunts obligataires\\n Emprunts et dettes auprès des établissements de crédit\\n Emprunts et dettes financières divers (dont empr. participatifs\\n Avances et acomptes reçus sur commandes en cours\\n DETTES D'EXPLOITATION\\n Dettes fournisseurs et comptes rattachés\\n Dettes fiscales et sociales\\n Dettes sur immobilisations et comptes rattachés\\n COMPTES DE REGULARISATION\\n Produits constatés d'avance\\n Ecarts de conversion passif\\n \\n ( dont versé : \\n Ecarts de réévaluation     ( dont écart d'équivalence :\\n Réserves réglementées (dont rés. Prov. fluctuation cours\\n Autres réserves (dont achat œuvres originales artistes\\n RESULTAT DE L'EXERCICE  (bénéfice ou perte)\\nAUTRES FONDS PROPRES   \\n Emprunts et dettes auprès des établissements de crédit\\n Emprunts et dettes financières divers (dont empr. participatifs\\n Avances et acomptes reçus sur commandes en cours\\n Dettes sur immobilisations et comptes rattachés\\n \\n RESULTAT DE L'EXERCICE  (bénéfice ou perte)\\nCAPITAUX PROPRES   \\nAUTRES FONDS PROPRES   \\n \\n8 000\\n \\n \\n \\n RESULTAT DE L'EXERCICE  (bénéfice ou perte)\\nCAPITAUX PROPRES   \\nAUTRES FONDS PROPRES   \\nPROVISIONS   \\n \\nDETTES   \\nTOTAL GENERAL   \\n)\\n)\\n)\\n)\\n RESULTAT DE L'EXERCICE  (bénéfice ou perte)\\nCAPITAUX PROPRES   \\nAUTRES FONDS PROPRES   \\nPROVISIONS   \\n)\\nDETTES   \\nTOTAL GENERAL   \\n31/12/2019\\n \\n8 000\\n \\n \\n800\\n \\n \\n200 155\\n \\n157 898\\n \\n \\n366 852\\n \\n \\n \\n1 763\\n \\n1 763\\n \\n \\n124 056\\n479 953\\n \\n203 825\\n266 737\\n25 031\\n420\\n \\n1 100 023\\n \\n1 468 639\\n31/12/2018\\n8 000\\n \\n \\n800\\n \\n \\n \\n \\n200 155\\n \\n \\n208 955\\n \\n \\n \\n629\\n \\n629\\n \\n \\n297 437\\n \\n \\n348 494\\n255 096\\n13 646\\n108\\n \\n914 780\\n \\n1 124 364\\nC0319 - CAP DE RETZ EURL\\n   ROND POINT DE LA CORBINERIE\\n44400 REZE\\nBilan - Passif\\nDéclaration au 31/12/2019\\nPage 3/14  \\nDocuSign Envelope ID: 41EC8FAA-8A8C-4116-940C-9469A934C44A\\n\"]"
      ]
     },
     "execution_count": 47,
     "metadata": {},
     "output_type": "execute_result"
    }
   ],
   "source": [
    "file_name = \"projet-extraction-tableaux/raw-comptes/CS_extrait/CA_433726809_4401_2000B01688_2019_20354.pdf\"\n",
    "\n",
    "doc = load_pdf(file_name, s3=True)\n",
    "page_list = []\n",
    "for page in doc:\n",
    "    page_list.append(page.get_text())\n",
    "    \n",
    "page_list[:5]"
   ]
  },
  {
   "cell_type": "code",
   "execution_count": 48,
   "id": "2b721675-6c19-4829-b61e-ba6c9bc52237",
   "metadata": {},
   "outputs": [
    {
     "data": {
      "text/plain": [
       "['',\n",
       " 'comptes 31122019comptes 31122019cap retz eurl rond point corbinerie44400 rezecomptes 31122019certifies conformesdocusign envelope id 41ec8faa8a8c4116940c9469a934c44a',\n",
       " 'c0319 cap retz eurl rond point corbinerie44400 rezedeclaration sommaire bilanbilan actif 2bilan passif 3compte resultatcompte resultat 4compte resultat 5annexesfaits marquants 6regles methodes comptables 7immobilisations 10amortissements 11creances dettes 12composition capital social 13provisions depreciations 14page docusign envelope id 41ec8faa8a8c4116940c9469a934c44a',\n",
       " 'rubriques capital souscrit non appele immobilisations incorporelles frais detablissement frais developpement concessions brevets droits similaires fonds commercial autres immobilisations incorporelles avances acomptes immo incorporelles immobilisations corporelles terrains constructions installations techniques materiel outillage autres immobilisations corporelles immobilisations cours avances acomptes immobilisations financieres participations mise equivalence autres participations creances rattachees participations autres titres immobilises prets autres immobilisations financieresactif immobilise stocks encours matieres premieres approvisionnements encours production biens encours production services produits intermediaires finis marchandises avances acomptes verses commandes creances creances clients comptes rattaches autres creances capital souscrit appele non verse divers valeurs mobilieres placement dont actions propres disponibilites comptes regularisation charges constatees davanceactif circulant frais demission demprunts etaler primes remboursement obligations ecarts conversion actiftotal general capital souscrit non appele immobilisations incorporelles concessions brevets droits similaires autres immobilisations incorporelles avances acomptes immo incorporelles immobilisations corporelles installations techniques materiel outillage autres immobilisations corporelles immobilisations financieres participations mise equivalence creances rattachees participations autres titres immobilises autres immobilisations financieresactif immobilise matieres premieres approvisionnements encours production biens encours production services produits intermediaires finis avances acomptes verses commandes creances clients comptes rattaches capital souscrit appele non verse valeurs mobilieres placement comptes regularisation charges constatees davanceactif circulant frais demission demprunts etaler primes remboursement obligationstotal general avances acomptes verses commandes montant brut 050amort prov 364c0319 cap retz eurl rond point corbinerie44400 rezebilan actifdeclaration 31122019page docusign envelope id 41ec8faa8a8c4116940c9469a934c44a',\n",
       " 'rubriques capital social individuel primes demission fusion dapport ecarts reevaluation dont ecart dequivalence reserve legale reserves statutaires contractuelles reserves reglementees dont res prov fluctuation cours autres reserves dont achat oeuvres originales artistes report nouveau subventions dinvestissement provisions reglementees produits emissions titres participatifs avances conditionnees provisions risques provisions charges dettes financieres emprunts obligataires convertibles autres emprunts obligataires emprunts dettes aupres etablissements credit emprunts dettes financieres divers dont empr participatifs avances acomptes recus commandes cours dettes dexploitation dettes fournisseurs comptes rattaches dettes fiscales sociales dettes diverses dettes immobilisations comptes rattaches autres dettes comptes regularisation produits constates davance ecarts conversion passif capital social individuel primes demission fusion dapport ecarts reevaluation dont ecart dequivalence reserves statutaires contractuelles reserves reglementees dont res prov fluctuation cours autres reserves dont achat oeuvres originales artistes resultat lexercice benefice perte subventions dinvestissement provisions reglementees produits emissions titres participatifs provisions charges dettes financieres emprunts obligataires convertibles autres emprunts obligataires emprunts dettes aupres etablissements credit emprunts dettes financieres divers dont empr participatifs avances acomptes recus commandes cours dettes dexploitation dettes fournisseurs comptes rattaches dettes fiscales sociales dettes immobilisations comptes rattaches comptes regularisation produits constates davance ecarts conversion passif dont verse ecarts reevaluation dont ecart dequivalence reserves reglementees dont res prov fluctuation cours autres reserves dont achat oeuvres originales artistes resultat lexercice benefice perteautres fonds propres emprunts dettes aupres etablissements credit emprunts dettes financieres divers dont empr participatifs avances acomptes recus commandes cours dettes immobilisations comptes rattaches resultat lexercice benefice pertecapitaux propres autres fonds propres resultat lexercice benefice pertecapitaux propres autres fonds propres provisions dettes total general resultat lexercice benefice pertecapitaux propres autres fonds propres provisions dettes total general 364c0319 cap retz eurl rond point corbinerie44400 rezebilan passifdeclaration 31122019page docusign envelope id 41ec8faa8a8c4116940c9469a934c44a']"
      ]
     },
     "execution_count": 48,
     "metadata": {},
     "output_type": "execute_result"
    }
   ],
   "source": [
    "clean_page_list = []\n",
    "for page in page_list:\n",
    "    clean_page_list.append(clean_page_content(page))\n",
    "    \n",
    "clean_page_list[:5]"
   ]
  },
  {
   "cell_type": "code",
   "execution_count": null,
   "id": "bbe2d8e5-e72b-4e8c-b32f-6b97965f9f8f",
   "metadata": {},
   "outputs": [],
   "source": []
  }
 ],
 "metadata": {
  "kernelspec": {
   "display_name": "base",
   "language": "python",
   "name": "python3"
  },
  "language_info": {
   "codemirror_mode": {
    "name": "ipython",
    "version": 3
   },
   "file_extension": ".py",
   "mimetype": "text/x-python",
   "name": "python",
   "nbconvert_exporter": "python",
   "pygments_lexer": "ipython3",
   "version": "3.10.4 | packaged by conda-forge | (main, Mar 24 2022, 17:38:57) [GCC 10.3.0]"
  },
  "vscode": {
   "interpreter": {
    "hash": "3fa046f995eb80ac40c0869a1f9df46519f4ada8b8c395ef25dd1aa1a1a2fc63"
   }
  }
 },
 "nbformat": 4,
 "nbformat_minor": 5
}
