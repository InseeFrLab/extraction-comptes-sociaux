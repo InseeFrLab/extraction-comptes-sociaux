{
 "cells": [
  {
   "cell_type": "markdown",
   "id": "67668ab0-4897-4888-a7a0-788d654c69e9",
   "metadata": {},
   "source": [
    "# Notebook pour tester les différentes étapes de reconnaissance de tableaux"
   ]
  },
  {
   "cell_type": "markdown",
   "id": "96a9eea5-9621-4b35-8b81-d05333f6c258",
   "metadata": {},
   "source": [
    "### 1. Packages, chemin et données"
   ]
  },
  {
   "cell_type": "code",
   "execution_count": 17,
   "id": "a1e6c714-7e66-4860-a26f-7c95aa281845",
   "metadata": {},
   "outputs": [],
   "source": [
    "import os\n",
    "import sys\n",
    "import numpy as np\n",
    "import matplotlib.pyplot as plt\n",
    "import shutil, random\n",
    "import s3fs\n",
    "import pytesseract\n",
    "import cv2\n",
    "\n",
    "# Chemin vers le dossier où est contenu predict\n",
    "sys.path.append(os.path.abspath(\"/home/jovyan/work/comptes-sociaux-to-tableau-fp-csv/src\"))\n",
    "\n",
    "from skimage.filters import threshold_otsu\n",
    "from skimage.segmentation import clear_border\n",
    "from skimage.measure import label, regionprops\n",
    "from skimage.morphology import closing, square, convex_hull_image\n",
    "from skimage.transform import resize\n",
    "from skimage.util import invert\n",
    "\n",
    "import predict as pred\n",
    "from albumentations import Compose, Resize, Normalize\n",
    "from albumentations.pytorch.transforms import ToTensorV2\n",
    "from PIL import Image"
   ]
  },
  {
   "cell_type": "code",
   "execution_count": 6,
   "id": "1c3d25eb-2365-4f6b-882a-9eae517cd88e",
   "metadata": {},
   "outputs": [],
   "source": [
    "def get_skew_angle(image) -> float:\n",
    "    # Image preprocessing\n",
    "    gray = cv2.cvtColor(image, cv2.COLOR_BGR2GRAY)\n",
    "    blur = cv2.GaussianBlur(gray, (9, 9), 0)\n",
    "    thresh = cv2.threshold(blur, 0, 255, cv2.THRESH_BINARY_INV + cv2.THRESH_OTSU)[1]\n",
    "\n",
    "    kernel = cv2.getStructuringElement(cv2.MORPH_RECT, (30, 5))\n",
    "    dilate = cv2.dilate(thresh, kernel, iterations=5)\n",
    "\n",
    "    # Find all contours\n",
    "    contours, hierarchy = cv2.findContours(dilate, cv2.RETR_LIST, cv2.CHAIN_APPROX_SIMPLE)\n",
    "    contours = sorted(contours, key = cv2.contourArea, reverse = True)\n",
    "\n",
    "    # Find largest contour and surround in min area box\n",
    "    largest_contour = contours[0]\n",
    "    \n",
    "    # Get and return skew angle\n",
    "    angle = cv2.minAreaRect(largest_contour)[-1]\n",
    "    if angle < -45:\n",
    "        angle = 90 + angle\n",
    "    return -1.0 * angle\n",
    "\n",
    "# Rotate the image around its center\n",
    "def rotate_image(image, angle: float):\n",
    "    new_image = image.copy()\n",
    "    (h, w) = new_image.shape[:2]\n",
    "    center = (w // 2, h // 2)\n",
    "    M = cv2.getRotationMatrix2D(center, angle, 1.0)\n",
    "    new_image = cv2.warpAffine(new_image, M, (w, h), flags=cv2.INTER_CUBIC, borderMode=cv2.BORDER_REPLICATE)\n",
    "    return new_image\n",
    "\n",
    "# Deskew image\n",
    "def deskew(image):\n",
    "    image_array = np.array(image)\n",
    "    angle = get_skew_angle(image_array)\n",
    "    if np.abs(angle) < 3.0:\n",
    "        return Image.fromarray(rotate_image(image_array, -1.0 * angle).astype('uint8'), 'RGB')\n",
    "    return image"
   ]
  },
  {
   "cell_type": "code",
   "execution_count": 7,
   "id": "24f3ddaf-37e9-4d4f-9929-61c58e00b22d",
   "metadata": {},
   "outputs": [],
   "source": [
    "# Create filesystem object\n",
    "S3_ENDPOINT_URL = \"https://\" + os.environ[\"AWS_S3_ENDPOINT\"]\n",
    "fs = s3fs.S3FileSystem(client_kwargs={'endpoint_url': S3_ENDPOINT_URL})"
   ]
  },
  {
   "cell_type": "code",
   "execution_count": 8,
   "id": "d7d02461-9ecb-42ca-8cda-27c52f0144a7",
   "metadata": {},
   "outputs": [],
   "source": [
    "os.environ[\"TORCH_HOME\"] = 'weights'\n",
    "data_path = \"projet-ssplab/comptes-sociaux/data/test_fp\"\n",
    "model_weights_path = \"projet-ssplab/comptes-sociaux/models/modele Marmot.ckpt\"\n",
    "image_path = 'myimage.bmp'"
   ]
  },
  {
   "cell_type": "code",
   "execution_count": 9,
   "id": "4903808a-ece4-4b9f-9d4e-9455b21cf743",
   "metadata": {},
   "outputs": [
    {
     "data": {
      "text/plain": [
       "'projet-ssplab/comptes-sociaux/data/test_fp/542103270.bmp'"
      ]
     },
     "execution_count": 9,
     "metadata": {},
     "output_type": "execute_result"
    }
   ],
   "source": [
    "random.seed(5)\n",
    "DATA_PATH_S3 = random.sample(fs.ls(data_path), 1)\n",
    "DATA_PATH_S3[0]"
   ]
  },
  {
   "cell_type": "code",
   "execution_count": 11,
   "id": "e597b09b-1d12-4021-aa3a-316a0725881e",
   "metadata": {},
   "outputs": [],
   "source": [
    "transforms = Compose([\n",
    "    Resize(896, 896, always_apply=True),\n",
    "    Normalize(),\n",
    "    ToTensorV2()\n",
    "])\n",
    "\n",
    "with fs.open(model_weights_path, mode=\"rb\") as file_in:\n",
    "    pred = pred.TableExtractor(file_in, transforms)"
   ]
  },
  {
   "cell_type": "code",
   "execution_count": 12,
   "id": "b727c178-ea11-441e-9296-b29301771ff5",
   "metadata": {},
   "outputs": [
    {
     "data": {
      "text/plain": [
       "<matplotlib.image.AxesImage at 0x7ff7ec02f130>"
      ]
     },
     "execution_count": 12,
     "metadata": {},
     "output_type": "execute_result"
    },
    {
     "data": {
      "image/png": "[encoded data removed]",
      "text/plain": [
       "<Figure size 432x288 with 1 Axes>"
      ]
     },
     "metadata": {
      "needs_background": "light"
     },
     "output_type": "display_data"
    }
   ],
   "source": [
    "importation = fs.get(DATA_PATH_S3[0], image_path)\n",
    "image = Image.open(image_path)\n",
    "plt.imshow(image)"
   ]
  },
  {
   "cell_type": "markdown",
   "id": "74eb3946-c59f-4e31-b030-f254b56025f5",
   "metadata": {},
   "source": [
    "### Untilt image"
   ]
  },
  {
   "cell_type": "markdown",
   "id": "c3f9a2cd-5ce9-4a27-8cd4-f8a5ee47f06a",
   "metadata": {},
   "source": [
    "### 2. Contrôle du post-processing en sortie de prédiction"
   ]
  },
  {
   "cell_type": "code",
   "execution_count": 13,
   "id": "a3191741-01a5-4f70-a18b-439e30fb75ab",
   "metadata": {},
   "outputs": [],
   "source": [
    "image = deskew(image)"
   ]
  },
  {
   "cell_type": "code",
   "execution_count": 15,
   "id": "0c7a0ec6-2a1e-4107-bdc2-191d0088cfed",
   "metadata": {},
   "outputs": [],
   "source": [
    "table_mask, column_mask = pred.get_raw_masks(image)"
   ]
  },
  {
   "cell_type": "markdown",
   "id": "c4c5e2d9-259b-4e15-8b08-c7a55767b0d8",
   "metadata": {},
   "source": [
    "Que fait la fonction `segment_image` ? Elle utilise des fonctions de la librairie `skimage` :\n",
    "- `threshold_otsu` : crée une image binaire (0 et 1) à partir d'une greyscale image. Pas nécessaire ici en théorie parce que les masques sont déjà des images binaires ?\n",
    "- `closing` : \"Return grayscale morphological closing of an image. The morphological closing of an image is defined as a dilation followed by an erosion. Closing can remove small dark spots (i.e. “pepper”) and connect small bright cracks. This tends to “close” up (dark) gaps between (bright) features.\"\n",
    "- `clear_border` : \"Clear objects connected to the label image border.\"\n",
    "- `label` : \"Label connected regions of an integer array. Two pixels are connected when they are neighbors and have the same value. In 2D, they can be neighbors either in a 1- or 2-connected sense. The value refers to the maximum number of orthogonal hops to consider a pixel/voxel a neighbor. Returns a labeled array, where all connected regions are assigned the same integer value.\""
   ]
  },
  {
   "cell_type": "code",
   "execution_count": 18,
   "id": "42029bee-4181-4813-91b1-d8f09a3e579b",
   "metadata": {},
   "outputs": [],
   "source": [
    "thresh = threshold_otsu(table_mask)\n",
    "bw = closing(table_mask > thresh, square(2))\n",
    "cleared = clear_border(bw)\n",
    "label_image = label(cleared)"
   ]
  },
  {
   "cell_type": "code",
   "execution_count": 19,
   "id": "29e12477-6d0b-4eac-922f-9d99048e2f25",
   "metadata": {},
   "outputs": [],
   "source": [
    "per = 0.005\n",
    "width, height = label_image.shape\n",
    "segmented_tables = []\n",
    "for i in np.unique(label_image)[1:]:\n",
    "    table = np.where(label_image == i, 1, 0)\n",
    "    if table.sum() > height * width * per:\n",
    "        segmented_tables.append(convex_hull_image(table))"
   ]
  },
  {
   "cell_type": "code",
   "execution_count": 20,
   "id": "0564836b-6830-48c6-96b2-9c034b65ecf1",
   "metadata": {},
   "outputs": [
    {
     "data": {
      "image/png": "[encoded data removed]",
      "text/plain": [
       "<Figure size 432x288 with 2 Axes>"
      ]
     },
     "metadata": {
      "needs_background": "light"
     },
     "output_type": "display_data"
    }
   ],
   "source": [
    "plt.plot()\n",
    "plt.subplot(121)\n",
    "plt.imshow(table_mask, interpolation='none')\n",
    "plt.subplot(122)\n",
    "plt.imshow(segmented_tables[0], interpolation='none')\n",
    "plt.show()"
   ]
  },
  {
   "cell_type": "code",
   "execution_count": 198,
   "id": "ed08bdd6-0327-42a6-9df5-f34df84a681d",
   "metadata": {},
   "outputs": [],
   "source": [
    "column_image = column_mask * segmented_tables[0]"
   ]
  },
  {
   "cell_type": "code",
   "execution_count": 199,
   "id": "90bd5f94-c541-4172-818d-83ac8025a674",
   "metadata": {},
   "outputs": [],
   "source": [
    "thresh = threshold_otsu(column_image)\n",
    "bw = closing(column_image > thresh, square(2))\n",
    "cleared = clear_border(bw)\n",
    "label_image = label(cleared)"
   ]
  },
  {
   "cell_type": "code",
   "execution_count": 204,
   "id": "f71e259e-7aa1-4660-8369-803553fca8cb",
   "metadata": {},
   "outputs": [],
   "source": [
    "# On calcule la hauteur max du tableau, si pour chaque colonne (de pixel) cette colonne est remplie à moins d'un tiers par des pixel c'est qu'il s'agit de bruit\n",
    "# On efface donc les 1 bruités\n",
    "table_height = cleared.sum(axis=0).max()\n",
    "new_cols = []\n",
    "for column in cleared.T:\n",
    "    height = column.sum()\n",
    "    if height / table_height < 1/3 :\n",
    "        new_cols.append(np.zeros_like(column))\n",
    "    else:\n",
    "        new_cols.append(column)\n",
    "\n",
    "sep_cleared = np.stack(new_cols, axis=1)"
   ]
  },
  {
   "cell_type": "code",
   "execution_count": 205,
   "id": "122662af-326f-467e-a457-7df8d3ebf20c",
   "metadata": {},
   "outputs": [
    {
     "data": {
      "image/png": "[encoded data removed]",
      "text/plain": [
       "<Figure size 1440x720 with 3 Axes>"
      ]
     },
     "metadata": {
      "needs_background": "light"
     },
     "output_type": "display_data"
    }
   ],
   "source": [
    "plt.plot()\n",
    "plt.subplot(131)\n",
    "plt.imshow(column_image, interpolation='none')\n",
    "plt.subplot(132)\n",
    "plt.imshow(cleared, interpolation='none')\n",
    "plt.subplot(133)\n",
    "plt.imshow(sep_cleared, interpolation='none')\n",
    "plt.show()"
   ]
  },
  {
   "cell_type": "code",
   "execution_count": 206,
   "id": "c9024fdb-35c4-4b5c-ba48-ae622505ac81",
   "metadata": {},
   "outputs": [],
   "source": [
    "coords = np.column_stack(np.where(segmented_tables[0] > 0.5))\n",
    "table_width, table_height = cv2.minAreaRect(coords)[1]"
   ]
  },
  {
   "cell_type": "code",
   "execution_count": 207,
   "id": "9947477e-a2c6-4b18-a70c-546b45614680",
   "metadata": {},
   "outputs": [
    {
     "data": {
      "image/png": "[encoded data removed]",
      "text/plain": [
       "<Figure size 1440x720 with 2 Axes>"
      ]
     },
     "metadata": {
      "needs_background": "light"
     },
     "output_type": "display_data"
    }
   ],
   "source": [
    "from skimage.morphology import rectangle\n",
    "reconnected_sep_cleared = closing(sep_cleared > thresh, rectangle(int(table_height / 2), 1))\n",
    "\n",
    "plt.plot()\n",
    "plt.imshow(reconnected_sep_cleared, interpolation='none')\n",
    "plt.colorbar(orientation='vertical')\n",
    "plt.show()"
   ]
  },
  {
   "cell_type": "code",
   "execution_count": 208,
   "id": "ec410d25-53aa-472f-9229-34b3c565363b",
   "metadata": {},
   "outputs": [
    {
     "data": {
      "image/png": "[encoded data removed]",
      "text/plain": [
       "<Figure size 1440x720 with 2 Axes>"
      ]
     },
     "metadata": {
      "needs_background": "light"
     },
     "output_type": "display_data"
    }
   ],
   "source": [
    "label_image = label(reconnected_sep_cleared)\n",
    "plt.plot()\n",
    "plt.imshow(label_image, interpolation='none')\n",
    "plt.colorbar(orientation='vertical')\n",
    "plt.show()"
   ]
  },
  {
   "cell_type": "code",
   "execution_count": 210,
   "id": "b88264be-325f-46d7-b432-0ef7c76513cc",
   "metadata": {},
   "outputs": [],
   "source": [
    "from collections import OrderedDict\n",
    "\n",
    "cols = {}\n",
    "\n",
    "for j in np.unique(label_image)[1:]:\n",
    "    column = np.where(label_image == j, 1, 0)\n",
    "    column = column.astype(int)\n",
    "    if column.sum() > table_width * table_height * per:\n",
    "        position = regionprops(column)[0].centroid[1]\n",
    "        cols[position] = column\n",
    "segmented_cols = OrderedDict(sorted(cols.items()))"
   ]
  },
  {
   "cell_type": "code",
   "execution_count": 211,
   "id": "2e195397-3d94-4e20-bf6f-9d250fc2ea9e",
   "metadata": {},
   "outputs": [
    {
     "data": {
      "text/plain": [
       "9"
      ]
     },
     "execution_count": 211,
     "metadata": {},
     "output_type": "execute_result"
    }
   ],
   "source": [
    "len(segmented_cols)"
   ]
  },
  {
   "cell_type": "code",
   "execution_count": 212,
   "id": "51f9d6eb-03d9-4c57-84d2-745fc715cb62",
   "metadata": {},
   "outputs": [],
   "source": [
    "from pytesseract import image_to_string, image_to_data, image_to_boxes\n",
    "import pandas as pd\n",
    "from skimage.morphology import binary_dilation, square\n",
    "\n",
    "cols = []\n",
    "\n",
    "for column in segmented_cols.values():\n",
    "    width, height = image.size\n",
    "    \n",
    "    hull = convex_hull_image(column)\n",
    "    dilation_diameter = 10 # Should be a function of the image size or of something else...?\n",
    "    scaled_hull = binary_dilation(hull, square(dilation_diameter))\n",
    "    \n",
    "    column = resize(np.expand_dims(scaled_hull, axis=2), (height, width), preserve_range=True) > 0.01\n",
    "    [rows, columns, channels] = np.where(column)\n",
    "    row1 = min(rows)\n",
    "    row2 = max(rows)\n",
    "    col1 = min(columns)\n",
    "    col2 = max(columns)\n",
    "    \n",
    "    crop = column * image\n",
    "    white = np.ones(column.shape, dtype='uint8') * invert(column) * 255\n",
    "    crop = crop + white\n",
    "    cropped_image = crop[row1:row2, col1:col2]\n",
    "    \n",
    "    ocr_string = image_to_string(Image.fromarray(cropped_image.astype(np.uint8)), lang='fra', config='--oem 3 --psm 6')\n",
    "    ocr_string_df = pd.DataFrame({\"col\": [value for value in ocr_string.split(\"\\n\") if len(value) > 0 and value not in ['\\x0c', '', ' ']]})\n",
    "    ocr_data_df = image_to_data(Image.fromarray(cropped_image.astype(np.uint8)), lang='fra', config='--oem 3 --psm 6', output_type='data.frame')\n",
    "    \n",
    "    tops = []\n",
    "    for row in ocr_string_df.col:\n",
    "        first_word = row.split(' ', 1)[0]\n",
    "        index = ocr_data_df.text.eq(first_word).idxmax()\n",
    "        tops.append(ocr_data_df.iloc[index].top + row1)\n",
    "        ocr_data_df = ocr_data_df.iloc[index + 1:].reset_index(drop=True)\n",
    "        \n",
    "    ocr_string_df['top'] = tops\n",
    "    if not ocr_string_df.empty:\n",
    "        cols.append(ocr_string_df)"
   ]
  },
  {
   "cell_type": "code",
   "execution_count": 213,
   "id": "c94c8318-1302-46ef-9b19-986979f77c9d",
   "metadata": {},
   "outputs": [],
   "source": [
    "all_tops = np.unique(np.concatenate([df.top for df in cols]))\n",
    "mean_top_diffs = [(df.top.unique()[1:] - df.top.unique()[:-1]).mean() for df in cols]\n",
    "min_mean_top_diffs = min(mean_top_diffs)\n",
    "threshold = min(mean_top_diffs) / 3 # HERE THIS PARAMETER MIGHT BE OPTIMIZED\n",
    "for i, df in enumerate(cols):\n",
    "    df['df_index'] = i\n",
    "all_cols = pd.concat(cols)\n",
    "all_cols = all_cols.sort_values(by='top').reset_index(drop=True)\n",
    "\n",
    "diffs = [a - b for a, b in zip(all_cols.top.tolist(), ([0] + all_cols.top.tolist()[:-1]))]\n",
    "all_cols['diffs'] = diffs\n",
    "all_cols['new_line'] = np.where(all_cols.diffs > threshold, 1, 0)\n",
    "all_cols['line_id'] = all_cols.new_line.cumsum()\n",
    "formatted_cols = [all_cols.loc[all_cols.df_index == i] for i in range(len(cols))]\n",
    "formatted_cols = [formatted_col[['col', 'line_id']].set_index('line_id') for formatted_col in formatted_cols]\n",
    "formatted_cols = [formatted_col.groupby('line_id').agg({'col': ' '.join}) for formatted_col in formatted_cols]\n",
    "\n",
    "final_df = pd.concat(formatted_cols, axis=1)"
   ]
  },
  {
   "cell_type": "code",
   "execution_count": 217,
   "id": "c55ac85e-62d9-40da-86b9-0de582b59fce",
   "metadata": {},
   "outputs": [],
   "source": [
    "from pathlib import Path\n",
    "path_sortie = os.path.join(os.getcwd(), Path(image_path).stem + \"_v1.csv\")\n",
    "\n",
    "final_df.to_csv(\n",
    "    path_or_buf=path_sortie, \n",
    "    index=False, \n",
    "    index_label=False\n",
    ")"
   ]
  },
  {
   "cell_type": "markdown",
   "id": "23a826b7-cb6d-4909-b9a3-1be06ef9c287",
   "metadata": {},
   "source": [
    "### Variation"
   ]
  },
  {
   "cell_type": "code",
   "execution_count": 155,
   "id": "118376e7-4884-4480-9861-587be5567732",
   "metadata": {},
   "outputs": [],
   "source": [
    "cols = []\n",
    "\n",
    "min_ys = []\n",
    "max_ys = []\n",
    "min_xs = []\n",
    "max_xs = []\n",
    "\n",
    "for column in segmented_cols.values():\n",
    "    width, height = image.size\n",
    "    \n",
    "    hull = convex_hull_image(column)\n",
    "    dilation_diameter = 10 # Should be a function of the image size or of something else...?\n",
    "    scaled_hull = binary_dilation(hull, square(dilation_diameter))\n",
    "    \n",
    "    column = resize(np.expand_dims(scaled_hull, axis=2), (height, width), preserve_range=True) > 0.01\n",
    "    [rows, columns, channels] = np.where(column)\n",
    "    min_ys.append(min(rows))\n",
    "    max_ys.append(max(rows))\n",
    "    min_xs.append(min(columns))\n",
    "    max_xs.append(max(columns))\n",
    "\n",
    "min_y = min(min_ys)\n",
    "max_y = max(max_ys)\n",
    "    \n",
    "for index in range(len(min_ys)):\n",
    "    if index != 0:\n",
    "        min_x = int((min_xs[index] + max_xs[index - 1]) / 2)\n",
    "    else:\n",
    "        min_x = min_xs[index]\n",
    "        \n",
    "    if index != len(min_ys) - 1:\n",
    "        max_x = int((max_xs[index] + min_xs[index + 1]) / 2)\n",
    "    else:\n",
    "        max_x = max_xs[index]\n",
    "    \n",
    "    cropped_image = np.array(image)[min_y: max_y, min_x: max_x]\n",
    "\n",
    "    ocr_string = image_to_string(Image.fromarray(cropped_image.astype(np.uint8)), lang='fra', config='--oem 3 --psm 6')\n",
    "    ocr_string_df = pd.DataFrame({\"col\": [value for value in ocr_string.split(\"\\n\") if len(value) > 0 and value not in ['\\x0c', '', ' ']]})\n",
    "    ocr_data_df = image_to_data(Image.fromarray(cropped_image.astype(np.uint8)), lang='fra', config='--oem 3 --psm 6', output_type='data.frame')\n",
    "    \n",
    "    tops = []\n",
    "    for row in ocr_string_df.col:\n",
    "        first_word = row.split(' ', 1)[0]\n",
    "        index = ocr_data_df.text.eq(first_word).idxmax()\n",
    "        tops.append(ocr_data_df.iloc[index].top + row1)\n",
    "        ocr_data_df = ocr_data_df.iloc[index + 1:].reset_index(drop=True)\n",
    "        \n",
    "    ocr_string_df['top'] = tops\n",
    "    if not ocr_string_df.empty:\n",
    "        cols.append(ocr_string_df)"
   ]
  },
  {
   "cell_type": "code",
   "execution_count": 156,
   "id": "03b87666-538b-4bdb-919c-9b5cec4bd137",
   "metadata": {},
   "outputs": [
    {
     "name": "stderr",
     "output_type": "stream",
     "text": [
      "C:\\Users\\RLMNGZ\\AppData\\Local\\Temp/ipykernel_36700/957958713.py:2: RuntimeWarning: Mean of empty slice.\n",
      "  mean_top_diffs = [(df.top.unique()[1:] - df.top.unique()[:-1]).mean() for df in cols]\n",
      "Y:\\Logiciels\\Python\\environnements\\specifique\\conda_specifique_py38_20211008\\lib\\site-packages\\numpy\\core\\_methods.py:188: RuntimeWarning: invalid value encountered in double_scalars\n",
      "  ret = ret.dtype.type(ret / rcount)\n"
     ]
    }
   ],
   "source": [
    "all_tops = np.unique(np.concatenate([df.top for df in cols]))\n",
    "mean_top_diffs = [(df.top.unique()[1:] - df.top.unique()[:-1]).mean() for df in cols]\n",
    "min_mean_top_diffs = min(mean_top_diffs)\n",
    "threshold = min(mean_top_diffs) / 3 # HERE THIS PARAMETER MIGHT BE OPTIMIZED\n",
    "for i, df in enumerate(cols):\n",
    "    df['df_index'] = i\n",
    "all_cols = pd.concat(cols)\n",
    "all_cols = all_cols.sort_values(by='top').reset_index(drop=True)\n",
    "\n",
    "diffs = [a - b for a, b in zip(all_cols.top.tolist(), ([0] + all_cols.top.tolist()[:-1]))]\n",
    "all_cols['diffs'] = diffs\n",
    "all_cols['new_line'] = np.where(all_cols.diffs > threshold, 1, 0)\n",
    "all_cols['line_id'] = all_cols.new_line.cumsum()\n",
    "formatted_cols = [all_cols.loc[all_cols.df_index == i] for i in range(len(cols))]\n",
    "formatted_cols = [formatted_col[['col', 'line_id']].set_index('line_id') for formatted_col in formatted_cols]\n",
    "formatted_cols = [formatted_col.groupby('line_id').agg({'col': ' '.join}) for formatted_col in formatted_cols]\n",
    "\n",
    "final_df = pd.concat(formatted_cols, axis=1)"
   ]
  },
  {
   "cell_type": "code",
   "execution_count": 157,
   "id": "463ec5c3-d64e-460c-ade5-88ec1ca31138",
   "metadata": {},
   "outputs": [],
   "source": [
    "path_sortie = os.path.join(dirpath + \"_csv\", Path(image_path).stem + \"_v2.csv\")\n",
    "\n",
    "final_df.to_csv(\n",
    "    path_or_buf=path_sortie, \n",
    "    index=False, \n",
    "    index_label=False\n",
    ")"
   ]
  },
  {
   "cell_type": "code",
   "execution_count": null,
   "id": "3c70f064-9614-449c-9e2f-f8e67d4bb67e",
   "metadata": {},
   "outputs": [],
   "source": []
  }
 ],
 "metadata": {
  "kernelspec": {
   "display_name": "Python 3 (ipykernel)",
   "language": "python",
   "name": "python3"
  },
  "language_info": {
   "codemirror_mode": {
    "name": "ipython",
    "version": 3
   },
   "file_extension": ".py",
   "mimetype": "text/x-python",
   "name": "python",
   "nbconvert_exporter": "python",
   "pygments_lexer": "ipython3",
   "version": "3.9.7"
  }
 },
 "nbformat": 4,
 "nbformat_minor": 5
}
