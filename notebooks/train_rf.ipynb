{
 "cells": [
  {
   "cell_type": "code",
   "execution_count": 1,
   "id": "83f80e31-7f1b-4948-bb5d-6e871bd66ce7",
   "metadata": {
    "tags": []
   },
   "outputs": [],
   "source": [
    "import s3fs\n",
    "import hvac\n",
    "import os\n",
    "\n",
    "client = hvac.Client(url='https://vault.lab.sspcloud.fr',\n",
    "                     token=os.environ['VAULT_TOKEN'])\n",
    "secret = os.environ['VAULT_MOUNT'] + os.environ['VAULT_TOP_DIR'] + '/s3_creds'\n",
    "mount_point, secret_path = secret.split('/', 1)\n",
    "secret_dict = client.secrets.kv.read_secret_version(path=secret_path, mount_point = mount_point)\n",
    "os.environ[\"AWS_ACCESS_KEY_ID\"] = secret_dict['data']['data']['ACCESS_KEY']\n",
    "os.environ[\"AWS_SECRET_ACCESS_KEY\"] = secret_dict['data']['data']['SECRET_KEY']\n",
    "try:\n",
    "    del os.environ['AWS_SESSION_TOKEN']\n",
    "except KeyError:\n",
    "    pass"
   ]
  },
  {
   "cell_type": "code",
   "execution_count": 2,
   "id": "9069d87f-d696-4c07-a5dd-6255eb080455",
   "metadata": {
    "tags": []
   },
   "outputs": [],
   "source": [
    "import pickle\n",
    "import json\n",
    "import mlflow\n",
    "import os\n",
    "import sys\n",
    "sys.path.append(\"../src/\")\n",
    "sys.path.append(\"../\")\n",
    "sys.path.append(\"../src/page_selection/\")\n",
    "from tqdm import tqdm\n",
    "from time import time\n",
    "from sklearn import metrics\n",
    "from sklearn.model_selection import train_test_split\n",
    "from utils import (\n",
    "    clean_page_content,\n",
    "    extract_document_content,\n",
    "    fit_transform_vectorizer,\n",
    "    train_random_forest,\n",
    ")\n",
    "from model_wrapper import RandomForestWrapper"
   ]
  },
  {
   "cell_type": "code",
   "execution_count": 4,
   "id": "1771d7a3-af6a-4f4c-a1cb-a07c53a916c6",
   "metadata": {
    "tags": []
   },
   "outputs": [],
   "source": [
    "# TODO: clean up\n",
    "with open(\"../data/updated_labels_filtered.json\", \"r\") as fp:\n",
    "    labels = json.load(fp)"
   ]
  },
  {
   "cell_type": "code",
   "execution_count": 5,
   "id": "fabd96ab-798d-4d41-99c4-6a9eb594d6b8",
   "metadata": {
    "tags": []
   },
   "outputs": [],
   "source": [
    "labeled_file_names = []\n",
    "valid_labels = []\n",
    "\n",
    "i = 0\n",
    "for file_name, file_labels in labels.items():\n",
    "    # Keep documents with at least 1 table\n",
    "    table_count = sum(file_labels)\n",
    "    if table_count > 0:\n",
    "        i += 1\n",
    "        labeled_file_names.append(file_name)\n",
    "        for label in file_labels:\n",
    "            valid_labels.append(label)"
   ]
  },
  {
   "cell_type": "code",
   "execution_count": 6,
   "id": "c90a842a-d4cf-448e-b03d-b381e9105580",
   "metadata": {
    "tags": []
   },
   "outputs": [
    {
     "data": {
      "text/plain": [
       "['CA_322804147_3801_2004B00488_2019_B2020010356.pdf',\n",
       " 'CA_316025394_9301_1988B01227_2019_11700.pdf',\n",
       " 'CA_325166577_7401_2008B80133_2019_B2020012662-1.pdf',\n",
       " 'CA_311962443_5402_2003B00803_2019_4173.pdf',\n",
       " 'CA_334057361_9201_2014B06634_2019_40642.pdf',\n",
       " 'CA_303284269_9301_2006B03196_2019_21880.pdf',\n",
       " 'CA_322152851_7802_1989B00865_2019_3617.pdf',\n",
       " 'CA_311362313_7801_1977B00667_2019_8833.pdf',\n",
       " 'CA_057505562_3801_1957B00556_2019_B2020010102.pdf',\n",
       " 'CA_329481196_7803_1998B01253_2019_9604.pdf',\n",
       " 'CA_312379076_9201_1980B18083_2019_19932.pdf',\n",
       " 'CA_331633545_6601_1985B00059_2019_B2020007499.pdf',\n",
       " 'CA_311243794_7501_1977B07407_2019_99467.pdf',\n",
       " 'CA_300265253_0901_1974B00013_2019_B2020001602.pdf',\n",
       " 'CA_312212301_9201_1997B01668_2019_26180.pdf',\n",
       " 'CA_300573193_9201_2011B05919_2019_21179.pdf',\n",
       " 'CA_319730339_1402_1982B00122_2019_4905.pdf',\n",
       " 'CA_303197586_9731_1973B00016_2019_1820.pdf',\n",
       " 'CA_303091227_9712_1974B00127_2019_B2020001314.pdf',\n",
       " 'CA_328619721_5910_1984B40008_2019_9923.pdf',\n",
       " 'CA_320204100_9201_2003B05238_2019_21751.pdf',\n",
       " 'CA_326300159_9201_1992B02136_2019_16721.pdf',\n",
       " 'CA_318571064_7501_1985B12616_2019_66803.pdf',\n",
       " 'CA_322791393_6752_1981B00541_2019_12112.pdf',\n",
       " 'CA_300645124_7301_2014B00095_2019_4721.pdf',\n",
       " 'CA_331292599_6901_1985B01077_2019_B2020012659.pdf',\n",
       " 'CA_325039543_9201_2010B03018_2019_41322.pdf',\n",
       " 'CA_304463284_9201_1982B00155_2019_14414-1.pdf',\n",
       " 'CA_328779509_6303_1984B00009_2019_4127.pdf',\n",
       " 'CA_312141336_5751_1978B00022_2018_172.pdf',\n",
       " 'CA_324906080_9201_1982B01292_2019_40969.pdf',\n",
       " 'CA_344352448_6901_1988B00989_2019_B2020015020.pdf',\n",
       " 'CA_308174903_5751_1976B00200_2019_3020.pdf',\n",
       " 'CA_054803648_1303_1954B00364_2019_7580.pdf',\n",
       " 'CA_341178697_9301_1996B01887_2019_11458.pdf',\n",
       " 'CA_338994916_9201_2005B02894_2019_21924.pdf']"
      ]
     },
     "execution_count": 6,
     "metadata": {},
     "output_type": "execute_result"
    }
   ],
   "source": [
    "labeled_file_names"
   ]
  },
  {
   "cell_type": "code",
   "execution_count": 7,
   "id": "5c68fee4-b40c-4d44-bd19-788d16c10447",
   "metadata": {
    "tags": []
   },
   "outputs": [],
   "source": [
    "corpus = []\n",
    "labeled_file_names = [\n",
    "    \"projet-extraction-tableaux/raw-comptes/CS_extrait/\" + file_name\n",
    "    for file_name in labeled_file_names\n",
    "]"
   ]
  },
  {
   "cell_type": "code",
   "execution_count": 8,
   "id": "396d315d-4a76-430f-bb9f-b1d01427268c",
   "metadata": {
    "tags": []
   },
   "outputs": [
    {
     "name": "stderr",
     "output_type": "stream",
     "text": [
      "100%|██████████| 36/36 [04:13<00:00,  7.05s/it]\n"
     ]
    }
   ],
   "source": [
    "for file_name in tqdm(labeled_file_names):\n",
    "    clean_document_content = []\n",
    "    page_list = extract_document_content(file_name, resolution=50)\n",
    "    for page in page_list:\n",
    "        clean_content = clean_page_content(page)\n",
    "        clean_document_content.append(clean_content)\n",
    "    corpus.append(clean_document_content)"
   ]
  },
  {
   "cell_type": "code",
   "execution_count": 10,
   "id": "461582d0-9ce7-4027-ba9e-586cf879b152",
   "metadata": {
    "tags": []
   },
   "outputs": [
    {
     "data": {
      "text/plain": [
       "['vid',\n",
       " 'g r e f f e u r i b u a e o e r e e g r e o b edat 14082020depot compt annuel depot b2020010356 gestion 2004b00488 siren rc grenoblel greffi tribunal commerc grenobl certif avoir proced depot annex dossi registr commerc societ fromager letoile38680 saintjustdeclaixdat clotur 31122019ce depot comprend docu comptabl prevus legisl vigueurconcern even rc suiv depot compt annuel',\n",
       " 'vid',\n",
       " 'vid',\n",
       " 'vid',\n",
       " 'vid',\n",
       " 'vid',\n",
       " 'vid',\n",
       " 'vid',\n",
       " 'vid',\n",
       " 'vid',\n",
       " 'vid',\n",
       " 'vid',\n",
       " 'vid',\n",
       " 'vid',\n",
       " 'vid',\n",
       " 'vid',\n",
       " 'vid',\n",
       " 'vid',\n",
       " 'vid',\n",
       " 'vid',\n",
       " 'vid',\n",
       " 'vid',\n",
       " 'vid',\n",
       " 'vid',\n",
       " 'vid',\n",
       " 'vid',\n",
       " 'vid',\n",
       " 'vid',\n",
       " 'sas fromager letoil i bilan a bilan actif rubriqu mont brut amort prov net net capital souscr non appel immobilis incorporel frais detabl frais developp concess brevet droit similair fond commercial autr immobilis incorporel avanc acompt immo incorporel immobilis corporel terrain construct install techniqu mat outillag autr immobilis corporel immobilis cour avanc acompt immobilis financier particip mis equivalent autr particip creanc rattach particip autr titr immobilis pret autr immobilis financi actif immobilis stock encour mati premi approvision encour product bien encour product servic produit intermediair fin marchandis avanc acompt vers command creanc creanc client compt rattach autr creanc capital souscr appel non vers diver valeur mobili plac donc action propr disponibil compt regularis charg constat davanc actif circul frais demiss demprunt etal prim rembours oblig ecart convers actif total general rsm ouest',\n",
       " 'sas fromager letoil b bilan passif rubriqu exercic exercic capital social individuel dont vers prim demiss fusion dapport ecart reevalu dont ecart dequivalent reserv legal reserv statutair contractuel reserv reglement dont re prov fluct cour autr reserv dont achat oeuvr orig artist report nouveau resultat lexercic benefic pert subvent dinvest provis reglement capital propr produit emiss titr particip avanc condition autr fond propr provis risqu provis charg provis det financier emprunt obligatair convertibl autr emprunt obligatair emprunt det aupres etabl cred emprunt det financi diver dt empr partic avanc acompt recus command cour det dexploit det fournisseur compt rattach det fiscal social det divers det immobilis compt rattach autr det compt regularis produit constat davanc det ecart convers passif total general rsm ouest',\n",
       " 'sas fromager letoil ii compt resultat rubriqu exercic exercic franc export total vent marchandis product vendu bien product vendu servic chiffr daffair net product stock product immobilis subvent dexploit repris dep prov amort transfert charg autr produit produit dexploit achat marchandis compr droit douan variat stock marchandis achat mati premi autr approvision variat stock mati premi approvision autr achat charg extern impot tax vers assimil salair trait charg social dotat dexploit immobilis dotat amort immobilis dotat depreci actif circul dotat depreci dotat provis autr charg charg dexploit resultat dexploit oper commun benefic attribu pert transfer pert support benefic transfer produit financi produit financi particip produit autr valeur mobili creanc lactif immobilis autr interet produit assimil repris provis transfert charg different posit chang produit net cession valeur mobili plac charg financier dotat financi amort provis interet charg assimil different negat chang charg net cession valeur mobili plac resultat financi resultat cour avant impot produit exceptionnel produit exceptionnel oper gestion produit exceptionnel oper capital repris provis transfert charg charg exceptionnel charg exceptionnel oper gestion charg exceptionnel oper capital dotat exceptionnel amort provis resultat exceptionnel particip salari resultat lentrepris impot benefic total produit total charg benefic pert rsm ouest',\n",
       " 'sas fromager letoil iii annex fait caracterist lexercic even signif survenus depuis clotur lexercic princip method comptabl princip general method devalu immobilis incorporel immobilis corporel immobilis financi stock encour creanc engag mati retrait prim medaill travail inform relat bilan compt resultat immobilis corporel incorporel tableau acquisit cession lexercic tableau amort etat creanc a clotur lexercic produit a recevoir valeur mobilier plac charg constate davanc capital propr capital social ecart reevalu etat echeanc det charg a pai etat provis produit constat davanc ecart convers ventil leffect moyen remuner dirig ventil limpot benefic situat fiscal latent resultat hor evalu fiscal derogatoir resultat exceptionnel autr inform det garant suret reel engag financi hor creditbail inform matier cred bail identit societ consolid list filial particip rsm ouest',\n",
       " 'sas fromager letoil rsm ouest',\n",
       " 'sas fromager letoil fait caracterist lexercic form sas adress vill saintjustdeclaix capital siret cod ape 1051c present annex rapport bilan lexercic clos avant affect resultat total bilan compt resultat present sous form list laiss apparaitr benefic compt lexercic ciapres couvrent period dur mois not tableau present ciapres font part integr compt annuel suit verif comptabl effectu ladministr fiscal cour exercic courri proposit rectif a transm societ fromager letoil decembr suit echang ladministr fiscal redress sold cour lexercic not comptabilis dun charg exceptionnel 271k even signif survenus depuis clotur lexercic intervenu cour mois mar cris pandem dit covid19 volont premi direct societ preserv sant collabor mesur pris sen evolu situat a dat darret compt cet pandem na dimpact signif activ lentit si situat ven evolu defavor mani signif commun specif expos lassembl general rsm ouest',\n",
       " 'sas fromager letoil princip method comptabl princip general compt social etabl conform regl princip comptabl general admis franc selon disposit plan comptabl general regl anc relat pcg regl lanc n201506 n201607 convent comptabl detabl present compt social appliqu respect princip prudenc conform hypothes bas suiv continu lexploit permanent method comptabl dun exercic lautr independ exercic levalu element inscrit pratiqu referent method dit cout histor ailleur a fait appliqu disposit particuli plan comptabl professionnel fnil approuv conseil national comptabl method devalu immobilis incorporel fond commercial inscrit valeur dacquisit dapport logiciel amort dur dun an valeur port cet lign lactif immobilis correspondent definit don regl anc test depreci a realis bas valeur dusag quand cet valeur dusag inferieur valeur net comptabl depreci comptabilis immobilis corporel immobilis corporel enregistr rsm ouest',\n",
       " 'sas fromager letoil a cout dacquisit cel acquis titr oner a valeur venal cel acquis titr gratuit lamort calcul fonction rythm consomm avantag econom attendus lactif immobilis financi immobilis financi titr particip evalu cout dacquisit a chaqu clotur valeur comptabl titr particip compar valeur dinventair valeur dinventair chaqu particip determin fonction quotepart situat net detenu chaqu filial perspect rentabl util si valeur dinventair inferieur valeur comptabl clotur provis depreci enregistr stock encour ne creanc creanc inscrit valeur nominal creanc douteux depreci voi provis ten compt difficult recouvr auxquel elle susceptibl don lieu rsm ouest',\n",
       " 'sas fromager letoil engag mati retrait indemn conventionnel legal comptabilis charg lor depart salari nest constitu provis fonction droit connus prorat lanciennet salari salari benefic regim dehor ceux prevus normal convent collect mont lengag hor bilan evalu bas lanciennet salari rapport temp normal carri prim medaill travail engag relat medaill travail provision ajust provis a effectu ten compt situat fin lexercic rsm ouest',\n",
       " 'sas fromager letoil inform relat bilan compt resultat tout oper effectu part li conclu condit cour normal signif immobilis corporel incorporel tableau acquisit cession lexercic variat lactif immobilis sanalysent comm suit rubriqu acquisit cession immobilis incorporel immobilis corporel immobilis financi total tableau amort amort immobilis incorporel corporel calcul suiv mod lineair degress selon natur bien fonction dur vi prevu variat amort presentent facon suiv chiffr exprim euros dotat diminu repris frais detabl developp autr immobilis incorporel immobilis corporel total dont lineair rsm ouest',\n",
       " 'sas fromager letoil degress exceptionnel etat creanc clotur lexercic total creanc clotur lexercic selev tout creanc echeanc inferieur an produit recevoir total produit recevoir selev valeur mobili plac ne charg constat davanc charg constat davanc dun mont global correspondent achat marchandis charg dexploit rsm ouest',\n",
       " 'sas fromager letoil capital propr capital social capital social compos action dun valeur nominal aucun evolu cour lexercic ecart reevalu ne rsm ouest',\n",
       " 'sas fromager letoil etat echeanc det total det clotur lexercic selev tout det echeanc inferieur an charg pai fournisseur factur non parvenu interet courus det fiscal social cong pai organ social total rsm ouest',\n",
       " 'sas fromager letoil etat provis mouv concern lexercic detaill ciapres chiffr exprim euros dotat repris provis utilis repris provis non utilis provis reglement prov invest hauss prix amort derogatoir autr provis risqu charg provis depreci immobcorp incorp immobilis financi stock creanc client autr creanc total produit constat davanc ne rsm ouest',\n",
       " 'sas fromager letoil ecart convers ne ventil leffect moyen categor ingenieur cadr agent maitris technicien emploi ouvri total remuner dirig sag dun inform confidentiel cellec nest communiqu rsm ouest',\n",
       " 'sas fromager letoil ventil limpot benefic avant transfert quotespart resultat comptabl associ group integr fiscal bsa dont societ membr appliqu princip neutral mont avant impot impot du avoir fiscal mont net resultat cour resultat exceptionnel total group associ rsm ouest',\n",
       " 'sas fromager letoil situat fiscal latent sanalys comm suit rubriqu accroissement det futur dimpot provis reglement hor derogatoir total alleg det futur dimpot provis charg non deductibl particip salari contribu social solidar total deficit report moinsvalu long term rsm ouest',\n",
       " 'sas fromager letoil resultat hor evalu fiscal derogatoir resultat exceptionnel produit exceptionnel charg exceptionnel resultat exceptionnel concern charg produit divers natur not rappel dimpot penal 272k rubriqu resultat lexercic dotat lexercic provis reglement deductibl repris lexercic provis reglement impos repris prov spec invest non impos charg dimpot fait provis resultat lexercic hor incident disposit fiscal derogatoir rsm ouest',\n",
       " 'sas fromager letoil autr inform det garant suret reel ne engag financi hor creditbail mont engag don effet escompt non echus aval caution garant autr engag don total engag recus aval caution garant autr engag recus total rsm ouest',\n",
       " 'sas fromager letoil inform mati cred bail ne ident societ consolid compt societ inclus suiv method lintegr global compt consolid denomin social bsa form directoir conseil surveil capital sieg administr ru adolph beck laval siret rsm ouest',\n",
       " 'sas fromager letoil list filial particip quotepart capital capital propr dont resultat derni exercic clos filial etoil vercor chartrousin etoil quercy etoil fromager dauphin fromager banon particip fromager cazal rsm ouest',\n",
       " 'sas fromager letoil rsm ouest']"
      ]
     },
     "execution_count": 10,
     "metadata": {},
     "output_type": "execute_result"
    }
   ],
   "source": [
    "corpus[0]"
   ]
  },
  {
   "cell_type": "code",
   "execution_count": 11,
   "id": "d49b646a-b2ee-43f7-b898-6fed969be1a2",
   "metadata": {
    "tags": []
   },
   "outputs": [],
   "source": [
    "flat_corpus = [item for sublist in corpus for item in sublist]\n",
    "vectorizer, vectorized_corpus = fit_transform_vectorizer(flat_corpus)"
   ]
  },
  {
   "cell_type": "code",
   "execution_count": 13,
   "id": "914a61c1-3d64-4bc4-8c0b-5ad72bf713be",
   "metadata": {
    "tags": []
   },
   "outputs": [
    {
     "data": {
      "text/plain": [
       "'g r e f f e u r i b u a e o e r e e g r e o b edat 14082020depot compt annuel depot b2020010356 gestion 2004b00488 siren rc grenoblel greffi tribunal commerc grenobl certif avoir proced depot annex dossi registr commerc societ fromager letoile38680 saintjustdeclaixdat clotur 31122019ce depot comprend docu comptabl prevus legisl vigueurconcern even rc suiv depot compt annuel'"
      ]
     },
     "execution_count": 13,
     "metadata": {},
     "output_type": "execute_result"
    }
   ],
   "source": [
    "flat_corpus[1]"
   ]
  },
  {
   "cell_type": "code",
   "execution_count": 14,
   "id": "dd18a811-9822-4e06-91c1-094ac7d2d38f",
   "metadata": {
    "tags": []
   },
   "outputs": [
    {
     "data": {
      "text/plain": [
       "<1x24497 sparse matrix of type '<class 'numpy.float64'>'\n",
       "\twith 35 stored elements in Compressed Sparse Row format>"
      ]
     },
     "execution_count": 14,
     "metadata": {},
     "output_type": "execute_result"
    }
   ],
   "source": [
    "vectorized_corpus[1]"
   ]
  },
  {
   "cell_type": "code",
   "execution_count": 15,
   "id": "20a163fa-ebb9-4b13-9838-8e7cf8cae9c6",
   "metadata": {
    "tags": []
   },
   "outputs": [],
   "source": [
    "X_train, X_test, y_train, y_test = train_test_split(\n",
    "    vectorized_corpus, valid_labels, test_size=0.2, random_state=42\n",
    ")"
   ]
  },
  {
   "cell_type": "code",
   "execution_count": 16,
   "id": "5cdad56e-3588-4ff1-b259-103c6486eefe",
   "metadata": {
    "tags": []
   },
   "outputs": [
    {
     "data": {
      "text/plain": [
       "<1733x24497 sparse matrix of type '<class 'numpy.float64'>'\n",
       "\twith 96419 stored elements in Compressed Sparse Row format>"
      ]
     },
     "execution_count": 16,
     "metadata": {},
     "output_type": "execute_result"
    }
   ],
   "source": [
    "X_train"
   ]
  },
  {
   "cell_type": "code",
   "execution_count": 17,
   "id": "90d58b33-b28e-447a-b7a4-98642864c93e",
   "metadata": {
    "tags": []
   },
   "outputs": [],
   "source": [
    "# Training classifier\n",
    "params = {\n",
    "    \"n_estimators\": 100,\n",
    "    \"criterion\": \"gini\",\n",
    "    \"max_depth\": None,\n",
    "    \"min_samples_split\": 2,\n",
    "    \"min_samples_leaf\": 1,\n",
    "}\n",
    "\n",
    "clf, clf_descr, train_time = train_random_forest(\n",
    "    params, X_train, y_train\n",
    ")"
   ]
  },
  {
   "cell_type": "code",
   "execution_count": 18,
   "id": "f9b15b3e-c982-45ed-8bd7-3c466dbd1988",
   "metadata": {
    "tags": []
   },
   "outputs": [
    {
     "data": {
      "text/html": [
       "<style>#sk-container-id-1 {color: black;background-color: white;}#sk-container-id-1 pre{padding: 0;}#sk-container-id-1 div.sk-toggleable {background-color: white;}#sk-container-id-1 label.sk-toggleable__label {cursor: pointer;display: block;width: 100%;margin-bottom: 0;padding: 0.3em;box-sizing: border-box;text-align: center;}#sk-container-id-1 label.sk-toggleable__label-arrow:before {content: \"▸\";float: left;margin-right: 0.25em;color: #696969;}#sk-container-id-1 label.sk-toggleable__label-arrow:hover:before {color: black;}#sk-container-id-1 div.sk-estimator:hover label.sk-toggleable__label-arrow:before {color: black;}#sk-container-id-1 div.sk-toggleable__content {max-height: 0;max-width: 0;overflow: hidden;text-align: left;background-color: #f0f8ff;}#sk-container-id-1 div.sk-toggleable__content pre {margin: 0.2em;color: black;border-radius: 0.25em;background-color: #f0f8ff;}#sk-container-id-1 input.sk-toggleable__control:checked~div.sk-toggleable__content {max-height: 200px;max-width: 100%;overflow: auto;}#sk-container-id-1 input.sk-toggleable__control:checked~label.sk-toggleable__label-arrow:before {content: \"▾\";}#sk-container-id-1 div.sk-estimator input.sk-toggleable__control:checked~label.sk-toggleable__label {background-color: #d4ebff;}#sk-container-id-1 div.sk-label input.sk-toggleable__control:checked~label.sk-toggleable__label {background-color: #d4ebff;}#sk-container-id-1 input.sk-hidden--visually {border: 0;clip: rect(1px 1px 1px 1px);clip: rect(1px, 1px, 1px, 1px);height: 1px;margin: -1px;overflow: hidden;padding: 0;position: absolute;width: 1px;}#sk-container-id-1 div.sk-estimator {font-family: monospace;background-color: #f0f8ff;border: 1px dotted black;border-radius: 0.25em;box-sizing: border-box;margin-bottom: 0.5em;}#sk-container-id-1 div.sk-estimator:hover {background-color: #d4ebff;}#sk-container-id-1 div.sk-parallel-item::after {content: \"\";width: 100%;border-bottom: 1px solid gray;flex-grow: 1;}#sk-container-id-1 div.sk-label:hover label.sk-toggleable__label {background-color: #d4ebff;}#sk-container-id-1 div.sk-serial::before {content: \"\";position: absolute;border-left: 1px solid gray;box-sizing: border-box;top: 0;bottom: 0;left: 50%;z-index: 0;}#sk-container-id-1 div.sk-serial {display: flex;flex-direction: column;align-items: center;background-color: white;padding-right: 0.2em;padding-left: 0.2em;position: relative;}#sk-container-id-1 div.sk-item {position: relative;z-index: 1;}#sk-container-id-1 div.sk-parallel {display: flex;align-items: stretch;justify-content: center;background-color: white;position: relative;}#sk-container-id-1 div.sk-item::before, #sk-container-id-1 div.sk-parallel-item::before {content: \"\";position: absolute;border-left: 1px solid gray;box-sizing: border-box;top: 0;bottom: 0;left: 50%;z-index: -1;}#sk-container-id-1 div.sk-parallel-item {display: flex;flex-direction: column;z-index: 1;position: relative;background-color: white;}#sk-container-id-1 div.sk-parallel-item:first-child::after {align-self: flex-end;width: 50%;}#sk-container-id-1 div.sk-parallel-item:last-child::after {align-self: flex-start;width: 50%;}#sk-container-id-1 div.sk-parallel-item:only-child::after {width: 0;}#sk-container-id-1 div.sk-dashed-wrapped {border: 1px dashed gray;margin: 0 0.4em 0.5em 0.4em;box-sizing: border-box;padding-bottom: 0.4em;background-color: white;}#sk-container-id-1 div.sk-label label {font-family: monospace;font-weight: bold;display: inline-block;line-height: 1.2em;}#sk-container-id-1 div.sk-label-container {text-align: center;}#sk-container-id-1 div.sk-container {/* jupyter's `normalize.less` sets `[hidden] { display: none; }` but bootstrap.min.css set `[hidden] { display: none !important; }` so we also need the `!important` here to be able to override the default hidden behavior on the sphinx rendered scikit-learn.org. See: https://github.com/scikit-learn/scikit-learn/issues/21755 */display: inline-block !important;position: relative;}#sk-container-id-1 div.sk-text-repr-fallback {display: none;}</style><div id=\"sk-container-id-1\" class=\"sk-top-container\"><div class=\"sk-text-repr-fallback\"><pre>RandomForestClassifier()</pre><b>In a Jupyter environment, please rerun this cell to show the HTML representation or trust the notebook. <br />On GitHub, the HTML representation is unable to render, please try loading this page with nbviewer.org.</b></div><div class=\"sk-container\" hidden><div class=\"sk-item\"><div class=\"sk-estimator sk-toggleable\"><input class=\"sk-toggleable__control sk-hidden--visually\" id=\"sk-estimator-id-1\" type=\"checkbox\" checked><label for=\"sk-estimator-id-1\" class=\"sk-toggleable__label sk-toggleable__label-arrow\">RandomForestClassifier</label><div class=\"sk-toggleable__content\"><pre>RandomForestClassifier()</pre></div></div></div></div></div>"
      ],
      "text/plain": [
       "RandomForestClassifier()"
      ]
     },
     "execution_count": 18,
     "metadata": {},
     "output_type": "execute_result"
    }
   ],
   "source": [
    "clf"
   ]
  },
  {
   "cell_type": "code",
   "execution_count": 19,
   "id": "f0fd79aa-3de1-4148-b268-811f2998ac75",
   "metadata": {
    "tags": []
   },
   "outputs": [],
   "source": [
    "# Test time\n",
    "t0 = time()\n",
    "pred = clf.predict(X_test)\n",
    "test_time = time() - t0\n",
    "# Score\n",
    "score = metrics.accuracy_score(y_test, pred)"
   ]
  },
  {
   "cell_type": "code",
   "execution_count": 20,
   "id": "bb5098ef-a4d1-42e1-a8a2-115d05b9d256",
   "metadata": {
    "tags": []
   },
   "outputs": [
    {
     "data": {
      "text/plain": [
       "0.9746543778801844"
      ]
     },
     "execution_count": 20,
     "metadata": {},
     "output_type": "execute_result"
    }
   ],
   "source": [
    "score"
   ]
  },
  {
   "cell_type": "code",
   "execution_count": null,
   "id": "f6d674af-44cf-4b5e-ba28-0b8aaf9d2b19",
   "metadata": {},
   "outputs": [],
   "source": []
  }
 ],
 "metadata": {
  "kernelspec": {
   "display_name": "Python 3 (ipykernel)",
   "language": "python",
   "name": "python3"
  },
  "language_info": {
   "codemirror_mode": {
    "name": "ipython",
    "version": 3
   },
   "file_extension": ".py",
   "mimetype": "text/x-python",
   "name": "python",
   "nbconvert_exporter": "python",
   "pygments_lexer": "ipython3",
   "version": "3.10.8"
  }
 },
 "nbformat": 4,
 "nbformat_minor": 5
}
