{
 "cells": [
  {
   "cell_type": "code",
   "execution_count": 1,
   "id": "83f80e31-7f1b-4948-bb5d-6e871bd66ce7",
   "metadata": {
    "tags": []
   },
   "outputs": [],
   "source": [
    "import s3fs\n",
    "import hvac\n",
    "import os\n",
    "\n",
    "client = hvac.Client(url='https://vault.lab.sspcloud.fr',\n",
    "                     token=os.environ['VAULT_TOKEN'])\n",
    "secret = os.environ['VAULT_MOUNT'] + os.environ['VAULT_TOP_DIR'] + '/s3_creds'\n",
    "mount_point, secret_path = secret.split('/', 1)\n",
    "secret_dict = client.secrets.kv.read_secret_version(path=secret_path, mount_point = mount_point)\n",
    "os.environ[\"AWS_ACCESS_KEY_ID\"] = secret_dict['data']['data']['ACCESS_KEY']\n",
    "os.environ[\"AWS_SECRET_ACCESS_KEY\"] = secret_dict['data']['data']['SECRET_KEY']\n",
    "try:\n",
    "    del os.environ['AWS_SESSION_TOKEN']\n",
    "except KeyError:\n",
    "    pass"
   ]
  },
  {
   "cell_type": "code",
   "execution_count": 2,
   "id": "9069d87f-d696-4c07-a5dd-6255eb080455",
   "metadata": {
    "tags": []
   },
   "outputs": [],
   "source": [
    "import pickle\n",
    "import json\n",
    "import mlflow\n",
    "import os\n",
    "import sys\n",
    "sys.path.append(\"../src/\")\n",
    "sys.path.append(\"../\")\n",
    "sys.path.append(\"../src/page_selection/\")\n",
    "from tqdm import tqdm\n",
    "from time import time\n",
    "from sklearn import metrics\n",
    "from sklearn.model_selection import train_test_split\n",
    "from utils import (\n",
    "    clean_page_content,\n",
    "    extract_document_content,\n",
    "    fit_transform_vectorizer,\n",
    "    train_random_forest,\n",
    ")\n",
    "from model_wrapper import RandomForestWrapper"
   ]
  },
  {
   "cell_type": "markdown",
   "id": "a33a7908-e403-4c80-ab97-27c538897d11",
   "metadata": {},
   "source": [
    "### Nos données annotées"
   ]
  },
  {
   "cell_type": "code",
   "execution_count": 3,
   "id": "1771d7a3-af6a-4f4c-a1cb-a07c53a916c6",
   "metadata": {
    "tags": []
   },
   "outputs": [],
   "source": [
    "# TODO: clean up\n",
    "with open(\"../data/updated_labels_filtered.json\", \"r\") as fp:\n",
    "    labels = json.load(fp)"
   ]
  },
  {
   "cell_type": "code",
   "execution_count": 7,
   "id": "fabd96ab-798d-4d41-99c4-6a9eb594d6b8",
   "metadata": {
    "tags": []
   },
   "outputs": [],
   "source": [
    "labeled_file_names = []\n",
    "valid_labels = []\n",
    "\n",
    "i = 0\n",
    "for file_name, file_labels in labels.items():\n",
    "    # Keep documents with at least 1 table\n",
    "    table_count = sum(file_labels)\n",
    "    if table_count > 0:\n",
    "        i += 1\n",
    "        labeled_file_names.append(file_name)\n",
    "        for label in file_labels:\n",
    "            valid_labels.append(label)"
   ]
  },
  {
   "cell_type": "code",
   "execution_count": 8,
   "id": "5c68fee4-b40c-4d44-bd19-788d16c10447",
   "metadata": {
    "tags": []
   },
   "outputs": [],
   "source": [
    "corpus = []\n",
    "labeled_file_names = [\n",
    "    \"projet-extraction-tableaux/raw-comptes/CS_extrait/\" + file_name\n",
    "    for file_name in labeled_file_names\n",
    "]"
   ]
  },
  {
   "cell_type": "code",
   "execution_count": 9,
   "id": "396d315d-4a76-430f-bb9f-b1d01427268c",
   "metadata": {
    "tags": []
   },
   "outputs": [
    {
     "name": "stderr",
     "output_type": "stream",
     "text": [
      "100%|██████████| 36/36 [03:54<00:00,  6.51s/it]\n"
     ]
    }
   ],
   "source": [
    "for file_name in tqdm(labeled_file_names):\n",
    "    clean_document_content = []\n",
    "    page_list = extract_document_content(file_name, resolution=50)\n",
    "    for page in page_list:\n",
    "        clean_content = clean_page_content(page)\n",
    "        clean_document_content.append(clean_content)\n",
    "    corpus.append(clean_document_content)"
   ]
  },
  {
   "cell_type": "code",
   "execution_count": 10,
   "id": "461582d0-9ce7-4027-ba9e-586cf879b152",
   "metadata": {
    "tags": []
   },
   "outputs": [
    {
     "data": {
      "text/plain": [
       "['vid',\n",
       " 'g r e f f e u r i b u a e o e r e e g r e o b edat 14082020depot compt annuel depot b2020010356 gestion 2004b00488 siren rc grenoblel greffi tribunal commerc grenobl certif avoir proced depot annex dossi registr commerc societ fromager letoile38680 saintjustdeclaixdat clotur 31122019ce depot comprend docu comptabl prevus legisl vigueurconcern even rc suiv depot compt annuel',\n",
       " 'vid',\n",
       " 'vid',\n",
       " 'vid',\n",
       " 'vid',\n",
       " 'vid',\n",
       " 'vid',\n",
       " 'vid',\n",
       " 'vid',\n",
       " 'vid',\n",
       " 'vid',\n",
       " 'vid',\n",
       " 'vid',\n",
       " 'vid',\n",
       " 'vid',\n",
       " 'vid',\n",
       " 'vid',\n",
       " 'vid',\n",
       " 'vid',\n",
       " 'vid',\n",
       " 'vid',\n",
       " 'vid',\n",
       " 'vid',\n",
       " 'vid',\n",
       " 'vid',\n",
       " 'vid',\n",
       " 'vid',\n",
       " 'vid',\n",
       " 'sas fromager letoil i bilan a bilan actif rubriqu mont brut amort prov net net capital souscr non appel immobilis incorporel frais detabl frais developp concess brevet droit similair fond commercial autr immobilis incorporel avanc acompt immo incorporel immobilis corporel terrain construct install techniqu mat outillag autr immobilis corporel immobilis cour avanc acompt immobilis financier particip mis equivalent autr particip creanc rattach particip autr titr immobilis pret autr immobilis financi actif immobilis stock encour mati premi approvision encour product bien encour product servic produit intermediair fin marchandis avanc acompt vers command creanc creanc client compt rattach autr creanc capital souscr appel non vers diver valeur mobili plac donc action propr disponibil compt regularis charg constat davanc actif circul frais demiss demprunt etal prim rembours oblig ecart convers actif total general rsm ouest',\n",
       " 'sas fromager letoil b bilan passif rubriqu exercic exercic capital social individuel dont vers prim demiss fusion dapport ecart reevalu dont ecart dequivalent reserv legal reserv statutair contractuel reserv reglement dont re prov fluct cour autr reserv dont achat oeuvr orig artist report nouveau resultat lexercic benefic pert subvent dinvest provis reglement capital propr produit emiss titr particip avanc condition autr fond propr provis risqu provis charg provis det financier emprunt obligatair convertibl autr emprunt obligatair emprunt det aupres etabl cred emprunt det financi diver dt empr partic avanc acompt recus command cour det dexploit det fournisseur compt rattach det fiscal social det divers det immobilis compt rattach autr det compt regularis produit constat davanc det ecart convers passif total general rsm ouest',\n",
       " 'sas fromager letoil ii compt resultat rubriqu exercic exercic franc export total vent marchandis product vendu bien product vendu servic chiffr daffair net product stock product immobilis subvent dexploit repris dep prov amort transfert charg autr produit produit dexploit achat marchandis compr droit douan variat stock marchandis achat mati premi autr approvision variat stock mati premi approvision autr achat charg extern impot tax vers assimil salair trait charg social dotat dexploit immobilis dotat amort immobilis dotat depreci actif circul dotat depreci dotat provis autr charg charg dexploit resultat dexploit oper commun benefic attribu pert transfer pert support benefic transfer produit financi produit financi particip produit autr valeur mobili creanc lactif immobilis autr interet produit assimil repris provis transfert charg different posit chang produit net cession valeur mobili plac charg financier dotat financi amort provis interet charg assimil different negat chang charg net cession valeur mobili plac resultat financi resultat cour avant impot produit exceptionnel produit exceptionnel oper gestion produit exceptionnel oper capital repris provis transfert charg charg exceptionnel charg exceptionnel oper gestion charg exceptionnel oper capital dotat exceptionnel amort provis resultat exceptionnel particip salari resultat lentrepris impot benefic total produit total charg benefic pert rsm ouest',\n",
       " 'sas fromager letoil iii annex fait caracterist lexercic even signif survenus depuis clotur lexercic princip method comptabl princip general method devalu immobilis incorporel immobilis corporel immobilis financi stock encour creanc engag mati retrait prim medaill travail inform relat bilan compt resultat immobilis corporel incorporel tableau acquisit cession lexercic tableau amort etat creanc a clotur lexercic produit a recevoir valeur mobilier plac charg constate davanc capital propr capital social ecart reevalu etat echeanc det charg a pai etat provis produit constat davanc ecart convers ventil leffect moyen remuner dirig ventil limpot benefic situat fiscal latent resultat hor evalu fiscal derogatoir resultat exceptionnel autr inform det garant suret reel engag financi hor creditbail inform matier cred bail identit societ consolid list filial particip rsm ouest',\n",
       " 'sas fromager letoil rsm ouest',\n",
       " 'sas fromager letoil fait caracterist lexercic form sas adress vill saintjustdeclaix capital siret cod ape 1051c present annex rapport bilan lexercic clos avant affect resultat total bilan compt resultat present sous form list laiss apparaitr benefic compt lexercic ciapres couvrent period dur mois not tableau present ciapres font part integr compt annuel suit verif comptabl effectu ladministr fiscal cour exercic courri proposit rectif a transm societ fromager letoil decembr suit echang ladministr fiscal redress sold cour lexercic not comptabilis dun charg exceptionnel 271k even signif survenus depuis clotur lexercic intervenu cour mois mar cris pandem dit covid19 volont premi direct societ preserv sant collabor mesur pris sen evolu situat a dat darret compt cet pandem na dimpact signif activ lentit si situat ven evolu defavor mani signif commun specif expos lassembl general rsm ouest',\n",
       " 'sas fromager letoil princip method comptabl princip general compt social etabl conform regl princip comptabl general admis franc selon disposit plan comptabl general regl anc relat pcg regl lanc n201506 n201607 convent comptabl detabl present compt social appliqu respect princip prudenc conform hypothes bas suiv continu lexploit permanent method comptabl dun exercic lautr independ exercic levalu element inscrit pratiqu referent method dit cout histor ailleur a fait appliqu disposit particuli plan comptabl professionnel fnil approuv conseil national comptabl method devalu immobilis incorporel fond commercial inscrit valeur dacquisit dapport logiciel amort dur dun an valeur port cet lign lactif immobilis correspondent definit don regl anc test depreci a realis bas valeur dusag quand cet valeur dusag inferieur valeur net comptabl depreci comptabilis immobilis corporel immobilis corporel enregistr rsm ouest',\n",
       " 'sas fromager letoil a cout dacquisit cel acquis titr oner a valeur venal cel acquis titr gratuit lamort calcul fonction rythm consomm avantag econom attendus lactif immobilis financi immobilis financi titr particip evalu cout dacquisit a chaqu clotur valeur comptabl titr particip compar valeur dinventair valeur dinventair chaqu particip determin fonction quotepart situat net detenu chaqu filial perspect rentabl util si valeur dinventair inferieur valeur comptabl clotur provis depreci enregistr stock encour ne creanc creanc inscrit valeur nominal creanc douteux depreci voi provis ten compt difficult recouvr auxquel elle susceptibl don lieu rsm ouest',\n",
       " 'sas fromager letoil engag mati retrait indemn conventionnel legal comptabilis charg lor depart salari nest constitu provis fonction droit connus prorat lanciennet salari salari benefic regim dehor ceux prevus normal convent collect mont lengag hor bilan evalu bas lanciennet salari rapport temp normal carri prim medaill travail engag relat medaill travail provision ajust provis a effectu ten compt situat fin lexercic rsm ouest',\n",
       " 'sas fromager letoil inform relat bilan compt resultat tout oper effectu part li conclu condit cour normal signif immobilis corporel incorporel tableau acquisit cession lexercic variat lactif immobilis sanalysent comm suit rubriqu acquisit cession immobilis incorporel immobilis corporel immobilis financi total tableau amort amort immobilis incorporel corporel calcul suiv mod lineair degress selon natur bien fonction dur vi prevu variat amort presentent facon suiv chiffr exprim euros dotat diminu repris frais detabl developp autr immobilis incorporel immobilis corporel total dont lineair rsm ouest',\n",
       " 'sas fromager letoil degress exceptionnel etat creanc clotur lexercic total creanc clotur lexercic selev tout creanc echeanc inferieur an produit recevoir total produit recevoir selev valeur mobili plac ne charg constat davanc charg constat davanc dun mont global correspondent achat marchandis charg dexploit rsm ouest',\n",
       " 'sas fromager letoil capital propr capital social capital social compos action dun valeur nominal aucun evolu cour lexercic ecart reevalu ne rsm ouest',\n",
       " 'sas fromager letoil etat echeanc det total det clotur lexercic selev tout det echeanc inferieur an charg pai fournisseur factur non parvenu interet courus det fiscal social cong pai organ social total rsm ouest',\n",
       " 'sas fromager letoil etat provis mouv concern lexercic detaill ciapres chiffr exprim euros dotat repris provis utilis repris provis non utilis provis reglement prov invest hauss prix amort derogatoir autr provis risqu charg provis depreci immobcorp incorp immobilis financi stock creanc client autr creanc total produit constat davanc ne rsm ouest',\n",
       " 'sas fromager letoil ecart convers ne ventil leffect moyen categor ingenieur cadr agent maitris technicien emploi ouvri total remuner dirig sag dun inform confidentiel cellec nest communiqu rsm ouest',\n",
       " 'sas fromager letoil ventil limpot benefic avant transfert quotespart resultat comptabl associ group integr fiscal bsa dont societ membr appliqu princip neutral mont avant impot impot du avoir fiscal mont net resultat cour resultat exceptionnel total group associ rsm ouest',\n",
       " 'sas fromager letoil situat fiscal latent sanalys comm suit rubriqu accroissement det futur dimpot provis reglement hor derogatoir total alleg det futur dimpot provis charg non deductibl particip salari contribu social solidar total deficit report moinsvalu long term rsm ouest',\n",
       " 'sas fromager letoil resultat hor evalu fiscal derogatoir resultat exceptionnel produit exceptionnel charg exceptionnel resultat exceptionnel concern charg produit divers natur not rappel dimpot penal 272k rubriqu resultat lexercic dotat lexercic provis reglement deductibl repris lexercic provis reglement impos repris prov spec invest non impos charg dimpot fait provis resultat lexercic hor incident disposit fiscal derogatoir rsm ouest',\n",
       " 'sas fromager letoil autr inform det garant suret reel ne engag financi hor creditbail mont engag don effet escompt non echus aval caution garant autr engag don total engag recus aval caution garant autr engag recus total rsm ouest',\n",
       " 'sas fromager letoil inform mati cred bail ne ident societ consolid compt societ inclus suiv method lintegr global compt consolid denomin social bsa form directoir conseil surveil capital sieg administr ru adolph beck laval siret rsm ouest',\n",
       " 'sas fromager letoil list filial particip quotepart capital capital propr dont resultat derni exercic clos filial etoil vercor chartrousin etoil quercy etoil fromager dauphin fromager banon particip fromager cazal rsm ouest',\n",
       " 'sas fromager letoil rsm ouest']"
      ]
     },
     "execution_count": 10,
     "metadata": {},
     "output_type": "execute_result"
    }
   ],
   "source": [
    "corpus[0]"
   ]
  },
  {
   "cell_type": "code",
   "execution_count": 11,
   "id": "5fcd4091-6fa3-4d10-b10a-8b3f4c3b744b",
   "metadata": {
    "tags": []
   },
   "outputs": [],
   "source": [
    "flat_corpus = [item for sublist in corpus for item in sublist]"
   ]
  },
  {
   "cell_type": "code",
   "execution_count": 12,
   "id": "5b4644e9-261d-4e41-aa36-a74b5aa269f5",
   "metadata": {
    "tags": []
   },
   "outputs": [
    {
     "data": {
      "text/plain": [
       "['vid',\n",
       " 'g r e f f e u r i b u a e o e r e e g r e o b edat 14082020depot compt annuel depot b2020010356 gestion 2004b00488 siren rc grenoblel greffi tribunal commerc grenobl certif avoir proced depot annex dossi registr commerc societ fromager letoile38680 saintjustdeclaixdat clotur 31122019ce depot comprend docu comptabl prevus legisl vigueurconcern even rc suiv depot compt annuel',\n",
       " 'vid',\n",
       " 'vid',\n",
       " 'vid']"
      ]
     },
     "execution_count": 12,
     "metadata": {},
     "output_type": "execute_result"
    }
   ],
   "source": [
    "flat_corpus[:5]"
   ]
  },
  {
   "cell_type": "code",
   "execution_count": 13,
   "id": "2e0e333c-f36e-4569-b743-f30dbc2dd49b",
   "metadata": {
    "tags": []
   },
   "outputs": [
    {
     "data": {
      "text/plain": [
       "[0, 0, 0, 0, 0]"
      ]
     },
     "execution_count": 13,
     "metadata": {},
     "output_type": "execute_result"
    }
   ],
   "source": [
    "valid_labels[:5]"
   ]
  },
  {
   "cell_type": "code",
   "execution_count": 14,
   "id": "32a61e4a-031c-4270-9ae8-febd72beee8a",
   "metadata": {
    "tags": []
   },
   "outputs": [
    {
     "data": {
      "text/plain": [
       "True"
      ]
     },
     "execution_count": 14,
     "metadata": {},
     "output_type": "execute_result"
    }
   ],
   "source": [
    "len(flat_corpus) == len(valid_labels)"
   ]
  },
  {
   "cell_type": "markdown",
   "id": "5b865971-b715-4280-aab8-44b4a9cbd3f4",
   "metadata": {},
   "source": [
    "### Données Adem + Laura"
   ]
  },
  {
   "cell_type": "code",
   "execution_count": 5,
   "id": "f6d674af-44cf-4b5e-ba28-0b8aaf9d2b19",
   "metadata": {
    "tags": []
   },
   "outputs": [],
   "source": [
    "fs = s3fs.S3FileSystem(client_kwargs={'endpoint_url': 'https://minio.lab.sspcloud.fr'})\n",
    "with fs.open(\"s3://projet-extraction-tableaux/data/df_trainrf.pickle\", 'rb') as f:\n",
    "    df = pickle.load(f)"
   ]
  },
  {
   "cell_type": "code",
   "execution_count": 6,
   "id": "94b25a74-4f1c-49f8-9c41-6ffc9b4e4335",
   "metadata": {
    "tags": []
   },
   "outputs": [
    {
     "data": {
      "text/html": [
       "<div>\n",
       "<style scoped>\n",
       "    .dataframe tbody tr th:only-of-type {\n",
       "        vertical-align: middle;\n",
       "    }\n",
       "\n",
       "    .dataframe tbody tr th {\n",
       "        vertical-align: top;\n",
       "    }\n",
       "\n",
       "    .dataframe thead th {\n",
       "        text-align: right;\n",
       "    }\n",
       "</style>\n",
       "<table border=\"1\" class=\"dataframe\">\n",
       "  <thead>\n",
       "    <tr style=\"text-align: right;\">\n",
       "      <th></th>\n",
       "      <th>siren</th>\n",
       "      <th>pagenumber</th>\n",
       "      <th>text</th>\n",
       "      <th>tableau_f_et_p</th>\n",
       "      <th>accOCR</th>\n",
       "      <th>tableauPDF</th>\n",
       "    </tr>\n",
       "  </thead>\n",
       "  <tbody>\n",
       "    <tr>\n",
       "      <th>0</th>\n",
       "      <td>5820378</td>\n",
       "      <td>1</td>\n",
       "      <td>RCS : AMIENS Code greffe : 8002 Documents comp...</td>\n",
       "      <td>0</td>\n",
       "      <td>85,7764666501213</td>\n",
       "      <td>1</td>\n",
       "    </tr>\n",
       "    <tr>\n",
       "      <th>1</th>\n",
       "      <td>5820378</td>\n",
       "      <td>2</td>\n",
       "      <td>GREFFE DU TRIBUNAL DE COMMERCE …… D'AMIENS Dat...</td>\n",
       "      <td>0</td>\n",
       "      <td>91,6485136349996</td>\n",
       "      <td>1</td>\n",
       "    </tr>\n",
       "    <tr>\n",
       "      <th>2</th>\n",
       "      <td>5820378</td>\n",
       "      <td>3</td>\n",
       "      <td>...</td>\n",
       "      <td>0</td>\n",
       "      <td>NaN</td>\n",
       "      <td>1</td>\n",
       "    </tr>\n",
       "    <tr>\n",
       "      <th>3</th>\n",
       "      <td>5820378</td>\n",
       "      <td>4</td>\n",
       "      <td>...</td>\n",
       "      <td>0</td>\n",
       "      <td>NaN</td>\n",
       "      <td>1</td>\n",
       "    </tr>\n",
       "    <tr>\n",
       "      <th>4</th>\n",
       "      <td>5820378</td>\n",
       "      <td>5</td>\n",
       "      <td>...</td>\n",
       "      <td>0</td>\n",
       "      <td>NaN</td>\n",
       "      <td>1</td>\n",
       "    </tr>\n",
       "    <tr>\n",
       "      <th>...</th>\n",
       "      <td>...</td>\n",
       "      <td>...</td>\n",
       "      <td>...</td>\n",
       "      <td>...</td>\n",
       "      <td>...</td>\n",
       "      <td>...</td>\n",
       "    </tr>\n",
       "    <tr>\n",
       "      <th>34906</th>\n",
       "      <td>998823504</td>\n",
       "      <td>45</td>\n",
       "      <td>4.9. Analyse et échéance des dettes\\r\\r\\n...</td>\n",
       "      <td>0</td>\n",
       "      <td>NaN</td>\n",
       "      <td>1</td>\n",
       "    </tr>\n",
       "    <tr>\n",
       "      <th>34907</th>\n",
       "      <td>998823504</td>\n",
       "      <td>46</td>\n",
       "      <td>-    de remboursement de pénalités et intérêts...</td>\n",
       "      <td>0</td>\n",
       "      <td>NaN</td>\n",
       "      <td>1</td>\n",
       "    </tr>\n",
       "    <tr>\n",
       "      <th>34908</th>\n",
       "      <td>998823504</td>\n",
       "      <td>47</td>\n",
       "      <td>6.2.2.             ...</td>\n",
       "      <td>0</td>\n",
       "      <td>NaN</td>\n",
       "      <td>1</td>\n",
       "    </tr>\n",
       "    <tr>\n",
       "      <th>34909</th>\n",
       "      <td>998823504</td>\n",
       "      <td>48</td>\n",
       "      <td>ADECCO FRANCE Société par actions simplifiée a...</td>\n",
       "      <td>0</td>\n",
       "      <td>91,7648922486163</td>\n",
       "      <td>1</td>\n",
       "    </tr>\n",
       "    <tr>\n",
       "      <th>34910</th>\n",
       "      <td>998823504</td>\n",
       "      <td>49</td>\n",
       "      <td>PREMIÈRE DÉCISION (Approbation des comptes ann...</td>\n",
       "      <td>0</td>\n",
       "      <td>92,2436997890472</td>\n",
       "      <td>1</td>\n",
       "    </tr>\n",
       "  </tbody>\n",
       "</table>\n",
       "<p>34911 rows × 6 columns</p>\n",
       "</div>"
      ],
      "text/plain": [
       "           siren  pagenumber  \\\n",
       "0        5820378           1   \n",
       "1        5820378           2   \n",
       "2        5820378           3   \n",
       "3        5820378           4   \n",
       "4        5820378           5   \n",
       "...          ...         ...   \n",
       "34906  998823504          45   \n",
       "34907  998823504          46   \n",
       "34908  998823504          47   \n",
       "34909  998823504          48   \n",
       "34910  998823504          49   \n",
       "\n",
       "                                                    text  tableau_f_et_p  \\\n",
       "0      RCS : AMIENS Code greffe : 8002 Documents comp...               0   \n",
       "1      GREFFE DU TRIBUNAL DE COMMERCE …… D'AMIENS Dat...               0   \n",
       "2                                                    ...               0   \n",
       "3                                                    ...               0   \n",
       "4                                                    ...               0   \n",
       "...                                                  ...             ...   \n",
       "34906       4.9. Analyse et échéance des dettes\\r\\r\\n...               0   \n",
       "34907  -    de remboursement de pénalités et intérêts...               0   \n",
       "34908                             6.2.2.             ...               0   \n",
       "34909  ADECCO FRANCE Société par actions simplifiée a...               0   \n",
       "34910  PREMIÈRE DÉCISION (Approbation des comptes ann...               0   \n",
       "\n",
       "                 accOCR  tableauPDF  \n",
       "0      85,7764666501213           1  \n",
       "1      91,6485136349996           1  \n",
       "2                   NaN           1  \n",
       "3                   NaN           1  \n",
       "4                   NaN           1  \n",
       "...                 ...         ...  \n",
       "34906               NaN           1  \n",
       "34907               NaN           1  \n",
       "34908               NaN           1  \n",
       "34909  91,7648922486163           1  \n",
       "34910  92,2436997890472           1  \n",
       "\n",
       "[34911 rows x 6 columns]"
      ]
     },
     "execution_count": 6,
     "metadata": {},
     "output_type": "execute_result"
    }
   ],
   "source": [
    "df"
   ]
  },
  {
   "cell_type": "code",
   "execution_count": 18,
   "id": "fc5281ce-7015-4ab8-b8e3-fb2bd1b6b6f1",
   "metadata": {
    "tags": []
   },
   "outputs": [],
   "source": [
    "flat_corpus2 = list(df.text)\n",
    "valid_labels2 = list(df.tableau_f_et_p)"
   ]
  },
  {
   "cell_type": "code",
   "execution_count": 19,
   "id": "a7608c82-3397-4383-91c6-c5ef05f6848e",
   "metadata": {
    "tags": []
   },
   "outputs": [
    {
     "data": {
      "text/plain": [
       "True"
      ]
     },
     "execution_count": 19,
     "metadata": {},
     "output_type": "execute_result"
    }
   ],
   "source": [
    "len(flat_corpus2) == len(valid_labels2)"
   ]
  },
  {
   "cell_type": "code",
   "execution_count": null,
   "id": "608917e7-b823-4059-8e93-6dbcbe999179",
   "metadata": {
    "tags": []
   },
   "outputs": [],
   "source": [
    "flat_corpus2[:5]"
   ]
  },
  {
   "cell_type": "code",
   "execution_count": 21,
   "id": "badb9a3f-aded-4887-b0e5-a67682f44d75",
   "metadata": {
    "tags": []
   },
   "outputs": [
    {
     "data": {
      "text/plain": [
       "[0, 0, 0, 0, 0]"
      ]
     },
     "execution_count": 21,
     "metadata": {},
     "output_type": "execute_result"
    }
   ],
   "source": [
    "valid_labels2[:5]"
   ]
  },
  {
   "cell_type": "code",
   "execution_count": 22,
   "id": "0d1cba88-276d-4c1f-8b3e-203358611b51",
   "metadata": {
    "tags": []
   },
   "outputs": [],
   "source": [
    "flat_corpus2 = [clean_page_content(page) for page in flat_corpus2]"
   ]
  },
  {
   "cell_type": "code",
   "execution_count": 23,
   "id": "867fe10f-4f14-4f8e-82d1-b293a7a5fc28",
   "metadata": {
    "tags": []
   },
   "outputs": [
    {
     "data": {
      "text/plain": [
       "['rc amien cod greff docu comptabl registr commerc societ greffi tribunal commerc amien attest lexactitud inform transmis ciapres natur docu docu comptabl numero gestion b numero siren nom denomin entrefpris demousel depot enregistr sous numero depot e2020002813',\n",
       " 'greff tribunal commerc damien dat depot compt annuel depot b2020002813 gestion 1958b70037 siren rc amien greffi tribunal commerc damien certif avoir proced depot annex dossi registr commerc societ entrepris demousel ru chateau deau zon industriel abbevill dat clotur depot comprend docu comptabl prevus legisl vigueur concern even rc suiv depot compt annuel',\n",
       " 'bilan actif dgfip formulair obligatoir articl a cod general impot design lentrepris entrepris demousel dur lexercic exprim nombr mois adress lentrepris ru chateau deau abbevill cedex dur lexercic precedent numero siret ne exercic clos brut amort provis net capital souscr non appel i aa immobilis incorporel frais detabl ab ac frais developp cx cq concess brevet droit similair af ag fond commercial ah autr immobilis incorporel aj ak avanc acompt immobilis al1er exemplair destin a ladministr tion incorporel am immobilis corporel terrain an ao actif immobilis construct ap aq install techniqu materiel outillag industriel ar autr immobilis corporel at immobilis cour av aw avanc acompt ax ay particip evalu selon immobilis financier method mis equivalent c ct autr particip cu cv creanc rattach particip bb bc autr titr immobilis bd be pret bf bg autr immobilis financi bh bi total ii bj bk mati premi approvision bl bm cour product bien bn bo stock cour product servic bp bq produit intermediair fin br b actif circul marchandis bt bu avanc acompt vers command bv bw client compt rattach bx by creanc autr creanc bz ca capital souscr appel non vers cb cc valeur mobili plac cd diver dont action propr disponibil cf cg charg constat davanc ch ci total iii cj ck compt frais demiss demprunt etal iv cw regularis prim rembours oblig v cm ecart convers actif vi cn total general i vi co 1a part moin dun an renvois dont droit bail immobilis financi net cp part plus dun an cr cegid group claus reserv propriet immobilis stock creanc expliqu concern cet rubriqu don notic',\n",
       " 'bilan passif avant repartit dgfip formulair obligatoir articl a cod general impot design lentrepris entrepris demousel ne exercic capital social individuel dont vers da prim demiss fusion dapport db ecart reevalu dont ecart dequivalent ek dc reserv legal dd capital propr reserv statutair contractuel reserv reglement dont reserv special provis b1 fluctuat cour df autr reserv dont reserv relat lachat doeuvr original dartist viv ej dg report nouveau dh 0221er exemplair destin a ladministr resultat lexercic benefic pert di subvent dinvest dj provis reglement dk total i dl autr fond produit emiss titr particip dm avanc condition dn propr total ii do provis provis risqu dp risqu provis charg dq charg total iii dr emprunt obligatair convertibl d autr emprunt obligatair dt emprunt det aupres etabl cred emprunt det financi diver dont emprunt particip ei dv det avanc acompt recus command cour dw det fournisseur compt rattach dx det fiscal social dy det immobilis compt rattach dz autr det ea compt regul produit constat davanc eb total iv ec ecart convers passif v ed total general i v ee ecart reevalu incorpor capital 1b reserv special reevalu 1c dont ecart reevalu libr renvois 1d reserv reevalu 1e dont reserv special plusvalu long term ef det produit constat davanc moin dun an eg dont concour bancair cour sold crediteur banqu ccp eh expliqu concern cet rubriqu don notic cegid group',\n",
       " 'compt resultat lexercic list dgfip formulair obligatoir articl a cod general impot design lentrepris entrepris demousel ne exercic export franc livraison intracommunautair total vent marchandis fa fb fc product vendu bien fd fe ff produit dexploit servic fg fh fi chiffr daffair net fj fk fl product stock fm product immobilis fn subvent dexploit fo repris amort provis transfert charg fp 3121er exemplair destin a ladministr autr produit fq total produit dexploit i fr achat marchandis compr droit douan f variat stock marchandis ft achat mati premi autr approvision compr droit douan fu variat stock mati premi approvision fv charg dexploit autr achat charg extern bis fw impot tax vers assimil fx salair trait fy charg social fz dotat immobilis dotat amort dotat provis ga gb dexploit actif circul dotat provis gc risqu charg dotat provis gd autr charg ge total charg dexploit ii gf resultat dexploit i ii gg oper benefic attribu pert transfer iii gh commun pert support benefic transfer iv gi produit financi particip gj produit financi produit autr valeur mobili creanc lactif immobilis gk autr interet produit assimil gl repris provis transfert charg gm different posit chang gn produit net cession valeur mobili plac go total produit financi v gp charg financier dotat financi amort provis gq interet charg assimil gr different negat chang g charg net cession valeur mobili plac gt total charg financi vi gu resultat financi v vi gv cegid group resultat cour avant impot i ii iii iv v vi gw renvois voir tableau expliqu concern cet rubriqu don notic']"
      ]
     },
     "execution_count": 23,
     "metadata": {},
     "output_type": "execute_result"
    }
   ],
   "source": [
    "flat_corpus2[:5]"
   ]
  },
  {
   "cell_type": "markdown",
   "id": "26b70dec-9f64-4eab-8922-0ded4a6bb1b5",
   "metadata": {},
   "source": [
    "#### Alternative way of splitting train / test"
   ]
  },
  {
   "cell_type": "code",
   "execution_count": 47,
   "id": "13f76d82-4876-48e7-9eef-dc80892cc04a",
   "metadata": {
    "tags": []
   },
   "outputs": [],
   "source": [
    "train_siren, test_siren = train_test_split(df[df.tableau_f_et_p == 1][\"siren\"].unique())"
   ]
  },
  {
   "cell_type": "code",
   "execution_count": 49,
   "id": "d7c7b391-d0dc-40dd-a2e2-c876151d637f",
   "metadata": {
    "tags": []
   },
   "outputs": [],
   "source": [
    "train_df = df[df.siren.isin(train_siren)]\n",
    "test_df = df[df.siren.isin(test_siren)]"
   ]
  },
  {
   "cell_type": "code",
   "execution_count": 50,
   "id": "ab37092d-672f-442e-99e6-8fcfa9b51a9d",
   "metadata": {
    "tags": []
   },
   "outputs": [],
   "source": [
    "train_corpus = list(train_df.text)\n",
    "train_labels = list(train_df.tableau_f_et_p)"
   ]
  },
  {
   "cell_type": "code",
   "execution_count": 51,
   "id": "4d54229b-20af-4b3b-9378-7bebf774dc09",
   "metadata": {
    "tags": []
   },
   "outputs": [],
   "source": [
    "vectorizer, vectorized_corpus = fit_transform_vectorizer(train_corpus)"
   ]
  },
  {
   "cell_type": "code",
   "execution_count": 53,
   "id": "adb19731-e557-4e1b-9eab-0295d910181d",
   "metadata": {
    "tags": []
   },
   "outputs": [],
   "source": [
    "test_corpus = list(test_df.text)\n",
    "test_labels = list(test_df.tableau_f_et_p)\n",
    "vectorized_test = vectorizer.transform(test_corpus)"
   ]
  },
  {
   "cell_type": "code",
   "execution_count": 56,
   "id": "0b8f5ec9-c9de-440b-b16f-fdde02ecccbb",
   "metadata": {
    "tags": []
   },
   "outputs": [],
   "source": [
    "# Training classifier\n",
    "params = {\n",
    "    \"n_estimators\": 100,\n",
    "    \"criterion\": \"gini\",\n",
    "    \"max_depth\": None,\n",
    "    \"min_samples_split\": 2,\n",
    "    \"min_samples_leaf\": 1,\n",
    "}\n",
    "\n",
    "clf, clf_descr, train_time = train_random_forest(\n",
    "    params, vectorized_corpus, train_labels\n",
    ")"
   ]
  },
  {
   "cell_type": "code",
   "execution_count": 57,
   "id": "bab11269-1071-4531-82fe-b7a94945cc0c",
   "metadata": {
    "tags": []
   },
   "outputs": [],
   "source": [
    "# Test time\n",
    "t0 = time()\n",
    "pred = clf.predict(vectorized_test)\n",
    "test_time = time() - t0\n",
    "# Score\n",
    "accuracy = metrics.accuracy_score(test_labels, pred)\n",
    "f1 = metrics.f1_score(test_labels, pred)\n",
    "precision = metrics.precision_score(test_labels, pred)\n",
    "recall = metrics.recall_score(test_labels, pred)\n",
    "cm = metrics.confusion_matrix(test_labels, pred)"
   ]
  },
  {
   "cell_type": "code",
   "execution_count": 58,
   "id": "c452f4ac-bac6-4b63-a0e9-ecb55da684aa",
   "metadata": {
    "tags": []
   },
   "outputs": [
    {
     "data": {
      "text/plain": [
       "(0.9908995449772489, 0.21212121212121213, 0.7, 0.125)"
      ]
     },
     "execution_count": 58,
     "metadata": {},
     "output_type": "execute_result"
    }
   ],
   "source": [
    "accuracy, f1, precision, recall"
   ]
  },
  {
   "cell_type": "code",
   "execution_count": 59,
   "id": "56f4eb42-c7c4-4219-98b5-ba95363e4b5c",
   "metadata": {
    "tags": []
   },
   "outputs": [
    {
     "data": {
      "text/plain": [
       "Text(0.5, 1.0, 'Confusion Matrix')"
      ]
     },
     "execution_count": 59,
     "metadata": {},
     "output_type": "execute_result"
    },
    {
     "data": {
      "image/png": "[encoded data removed]",
      "text/plain": [
       "<Figure size 640x480 with 2 Axes>"
      ]
     },
     "metadata": {},
     "output_type": "display_data"
    }
   ],
   "source": [
    "from matplotlib import pyplot as plt\n",
    "import seaborn as sns\n",
    "\n",
    "ax = plt.subplot()\n",
    "sns.heatmap(cm, annot=True, fmt='g', ax=ax)\n",
    "\n",
    "# labels, title and ticks\n",
    "ax.set_xlabel('Predicted labels')\n",
    "ax.set_ylabel('True labels')\n",
    "ax.set_title('Confusion Matrix')"
   ]
  },
  {
   "cell_type": "markdown",
   "id": "6f525e91-6249-477c-a144-88561a4330df",
   "metadata": {},
   "source": [
    "### Flattening, vectorizing"
   ]
  },
  {
   "cell_type": "markdown",
   "id": "9b1a91a9-6d02-4d13-82f9-2b10eaf45743",
   "metadata": {},
   "source": [
    "On fait les choses différemment ici mais pb: on fit le vectorizer sur le test, ce qui ne devrait pas être le cas."
   ]
  },
  {
   "cell_type": "code",
   "execution_count": 34,
   "id": "d49b646a-b2ee-43f7-b898-6fed969be1a2",
   "metadata": {
    "tags": []
   },
   "outputs": [],
   "source": [
    "vectorizer, vectorized_corpus = fit_transform_vectorizer(flat_corpus)"
   ]
  },
  {
   "cell_type": "code",
   "execution_count": 35,
   "id": "20a163fa-ebb9-4b13-9838-8e7cf8cae9c6",
   "metadata": {
    "tags": []
   },
   "outputs": [],
   "source": [
    "X_train, X_test, y_train, y_test = train_test_split(\n",
    "    vectorized_corpus, valid_labels, test_size=0.2, random_state=42\n",
    ")"
   ]
  },
  {
   "cell_type": "code",
   "execution_count": 36,
   "id": "5cdad56e-3588-4ff1-b259-103c6486eefe",
   "metadata": {
    "tags": []
   },
   "outputs": [
    {
     "data": {
      "text/plain": [
       "<1733x24497 sparse matrix of type '<class 'numpy.float64'>'\n",
       "\twith 96419 stored elements in Compressed Sparse Row format>"
      ]
     },
     "execution_count": 36,
     "metadata": {},
     "output_type": "execute_result"
    }
   ],
   "source": [
    "X_train"
   ]
  },
  {
   "cell_type": "code",
   "execution_count": 37,
   "id": "90d58b33-b28e-447a-b7a4-98642864c93e",
   "metadata": {
    "tags": []
   },
   "outputs": [],
   "source": [
    "# Training classifier\n",
    "params = {\n",
    "    \"n_estimators\": 100,\n",
    "    \"criterion\": \"gini\",\n",
    "    \"max_depth\": None,\n",
    "    \"min_samples_split\": 2,\n",
    "    \"min_samples_leaf\": 1,\n",
    "}\n",
    "\n",
    "clf, clf_descr, train_time = train_random_forest(\n",
    "    params, X_train, y_train\n",
    ")"
   ]
  },
  {
   "cell_type": "code",
   "execution_count": 38,
   "id": "f9b15b3e-c982-45ed-8bd7-3c466dbd1988",
   "metadata": {
    "tags": []
   },
   "outputs": [
    {
     "data": {
      "text/html": [
       "<style>#sk-container-id-2 {color: black;background-color: white;}#sk-container-id-2 pre{padding: 0;}#sk-container-id-2 div.sk-toggleable {background-color: white;}#sk-container-id-2 label.sk-toggleable__label {cursor: pointer;display: block;width: 100%;margin-bottom: 0;padding: 0.3em;box-sizing: border-box;text-align: center;}#sk-container-id-2 label.sk-toggleable__label-arrow:before {content: \"▸\";float: left;margin-right: 0.25em;color: #696969;}#sk-container-id-2 label.sk-toggleable__label-arrow:hover:before {color: black;}#sk-container-id-2 div.sk-estimator:hover label.sk-toggleable__label-arrow:before {color: black;}#sk-container-id-2 div.sk-toggleable__content {max-height: 0;max-width: 0;overflow: hidden;text-align: left;background-color: #f0f8ff;}#sk-container-id-2 div.sk-toggleable__content pre {margin: 0.2em;color: black;border-radius: 0.25em;background-color: #f0f8ff;}#sk-container-id-2 input.sk-toggleable__control:checked~div.sk-toggleable__content {max-height: 200px;max-width: 100%;overflow: auto;}#sk-container-id-2 input.sk-toggleable__control:checked~label.sk-toggleable__label-arrow:before {content: \"▾\";}#sk-container-id-2 div.sk-estimator input.sk-toggleable__control:checked~label.sk-toggleable__label {background-color: #d4ebff;}#sk-container-id-2 div.sk-label input.sk-toggleable__control:checked~label.sk-toggleable__label {background-color: #d4ebff;}#sk-container-id-2 input.sk-hidden--visually {border: 0;clip: rect(1px 1px 1px 1px);clip: rect(1px, 1px, 1px, 1px);height: 1px;margin: -1px;overflow: hidden;padding: 0;position: absolute;width: 1px;}#sk-container-id-2 div.sk-estimator {font-family: monospace;background-color: #f0f8ff;border: 1px dotted black;border-radius: 0.25em;box-sizing: border-box;margin-bottom: 0.5em;}#sk-container-id-2 div.sk-estimator:hover {background-color: #d4ebff;}#sk-container-id-2 div.sk-parallel-item::after {content: \"\";width: 100%;border-bottom: 1px solid gray;flex-grow: 1;}#sk-container-id-2 div.sk-label:hover label.sk-toggleable__label {background-color: #d4ebff;}#sk-container-id-2 div.sk-serial::before {content: \"\";position: absolute;border-left: 1px solid gray;box-sizing: border-box;top: 0;bottom: 0;left: 50%;z-index: 0;}#sk-container-id-2 div.sk-serial {display: flex;flex-direction: column;align-items: center;background-color: white;padding-right: 0.2em;padding-left: 0.2em;position: relative;}#sk-container-id-2 div.sk-item {position: relative;z-index: 1;}#sk-container-id-2 div.sk-parallel {display: flex;align-items: stretch;justify-content: center;background-color: white;position: relative;}#sk-container-id-2 div.sk-item::before, #sk-container-id-2 div.sk-parallel-item::before {content: \"\";position: absolute;border-left: 1px solid gray;box-sizing: border-box;top: 0;bottom: 0;left: 50%;z-index: -1;}#sk-container-id-2 div.sk-parallel-item {display: flex;flex-direction: column;z-index: 1;position: relative;background-color: white;}#sk-container-id-2 div.sk-parallel-item:first-child::after {align-self: flex-end;width: 50%;}#sk-container-id-2 div.sk-parallel-item:last-child::after {align-self: flex-start;width: 50%;}#sk-container-id-2 div.sk-parallel-item:only-child::after {width: 0;}#sk-container-id-2 div.sk-dashed-wrapped {border: 1px dashed gray;margin: 0 0.4em 0.5em 0.4em;box-sizing: border-box;padding-bottom: 0.4em;background-color: white;}#sk-container-id-2 div.sk-label label {font-family: monospace;font-weight: bold;display: inline-block;line-height: 1.2em;}#sk-container-id-2 div.sk-label-container {text-align: center;}#sk-container-id-2 div.sk-container {/* jupyter's `normalize.less` sets `[hidden] { display: none; }` but bootstrap.min.css set `[hidden] { display: none !important; }` so we also need the `!important` here to be able to override the default hidden behavior on the sphinx rendered scikit-learn.org. See: https://github.com/scikit-learn/scikit-learn/issues/21755 */display: inline-block !important;position: relative;}#sk-container-id-2 div.sk-text-repr-fallback {display: none;}</style><div id=\"sk-container-id-2\" class=\"sk-top-container\"><div class=\"sk-text-repr-fallback\"><pre>RandomForestClassifier()</pre><b>In a Jupyter environment, please rerun this cell to show the HTML representation or trust the notebook. <br />On GitHub, the HTML representation is unable to render, please try loading this page with nbviewer.org.</b></div><div class=\"sk-container\" hidden><div class=\"sk-item\"><div class=\"sk-estimator sk-toggleable\"><input class=\"sk-toggleable__control sk-hidden--visually\" id=\"sk-estimator-id-2\" type=\"checkbox\" checked><label for=\"sk-estimator-id-2\" class=\"sk-toggleable__label sk-toggleable__label-arrow\">RandomForestClassifier</label><div class=\"sk-toggleable__content\"><pre>RandomForestClassifier()</pre></div></div></div></div></div>"
      ],
      "text/plain": [
       "RandomForestClassifier()"
      ]
     },
     "execution_count": 38,
     "metadata": {},
     "output_type": "execute_result"
    }
   ],
   "source": [
    "clf"
   ]
  },
  {
   "cell_type": "code",
   "execution_count": 39,
   "id": "f0fd79aa-3de1-4148-b268-811f2998ac75",
   "metadata": {
    "tags": []
   },
   "outputs": [],
   "source": [
    "# Test time\n",
    "t0 = time()\n",
    "pred = clf.predict(X_test)\n",
    "test_time = time() - t0\n",
    "# Score\n",
    "accuracy = metrics.accuracy_score(y_test, pred)\n",
    "f1 = metrics.f1_score(y_test, pred)\n",
    "precision = metrics.precision_score(y_test, pred)\n",
    "recall = metrics.recall_score(y_test, pred)\n",
    "cm = metrics.confusion_matrix(y_test, pred)"
   ]
  },
  {
   "cell_type": "code",
   "execution_count": 40,
   "id": "37388357-bd66-40b1-a2b0-5083d3352539",
   "metadata": {
    "tags": []
   },
   "outputs": [
    {
     "data": {
      "text/plain": [
       "(0.9746543778801844, 0.4210526315789474, 1.0, 0.26666666666666666)"
      ]
     },
     "execution_count": 40,
     "metadata": {},
     "output_type": "execute_result"
    }
   ],
   "source": [
    "accuracy, f1, precision, recall"
   ]
  },
  {
   "cell_type": "code",
   "execution_count": 41,
   "id": "85f9cb58-31b1-40c2-817c-903dd6dcf511",
   "metadata": {
    "tags": []
   },
   "outputs": [
    {
     "data": {
      "text/plain": [
       "Text(0.5, 1.0, 'Confusion Matrix')"
      ]
     },
     "execution_count": 41,
     "metadata": {},
     "output_type": "execute_result"
    },
    {
     "data": {
      "image/png": "[encoded data removed]",
      "text/plain": [
       "<Figure size 640x480 with 2 Axes>"
      ]
     },
     "metadata": {},
     "output_type": "display_data"
    }
   ],
   "source": [
    "from matplotlib import pyplot as plt\n",
    "import seaborn as sns\n",
    "\n",
    "ax = plt.subplot()\n",
    "sns.heatmap(cm, annot=True, fmt='g', ax=ax)\n",
    "\n",
    "# labels, title and ticks\n",
    "ax.set_xlabel('Predicted labels')\n",
    "ax.set_ylabel('True labels')\n",
    "ax.set_title('Confusion Matrix')"
   ]
  },
  {
   "cell_type": "code",
   "execution_count": null,
   "id": "a73f9fe8-fbe0-421f-acea-1499ba313eb2",
   "metadata": {},
   "outputs": [],
   "source": []
  }
 ],
 "metadata": {
  "kernelspec": {
   "display_name": "Python 3 (ipykernel)",
   "language": "python",
   "name": "python3"
  },
  "language_info": {
   "codemirror_mode": {
    "name": "ipython",
    "version": 3
   },
   "file_extension": ".py",
   "mimetype": "text/x-python",
   "name": "python",
   "nbconvert_exporter": "python",
   "pygments_lexer": "ipython3",
   "version": "3.10.8"
  }
 },
 "nbformat": 4,
 "nbformat_minor": 5
}
