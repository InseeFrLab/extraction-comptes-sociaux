{
 "cells": [
  {
   "cell_type": "code",
   "execution_count": 1,
   "id": "83f80e31-7f1b-4948-bb5d-6e871bd66ce7",
   "metadata": {
    "tags": []
   },
   "outputs": [],
   "source": [
    "import s3fs\n",
    "import hvac\n",
    "import os\n",
    "\n",
    "client = hvac.Client(url='https://vault.lab.sspcloud.fr',\n",
    "                     token=os.environ['VAULT_TOKEN'])\n",
    "secret = os.environ['VAULT_MOUNT'] + os.environ['VAULT_TOP_DIR'] + '/s3_creds'\n",
    "mount_point, secret_path = secret.split('/', 1)\n",
    "secret_dict = client.secrets.kv.read_secret_version(path=secret_path, mount_point = mount_point)\n",
    "os.environ[\"AWS_ACCESS_KEY_ID\"] = secret_dict['data']['data']['ACCESS_KEY']\n",
    "os.environ[\"AWS_SECRET_ACCESS_KEY\"] = secret_dict['data']['data']['SECRET_KEY']\n",
    "try:\n",
    "    del os.environ['AWS_SESSION_TOKEN']\n",
    "except KeyError:\n",
    "    pass"
   ]
  },
  {
   "cell_type": "code",
   "execution_count": 2,
   "id": "9069d87f-d696-4c07-a5dd-6255eb080455",
   "metadata": {
    "tags": []
   },
   "outputs": [],
   "source": [
    "import pickle\n",
    "import json\n",
    "import mlflow\n",
    "import os\n",
    "import sys\n",
    "sys.path.append(\"../src/\")\n",
    "sys.path.append(\"../\")\n",
    "sys.path.append(\"../src/page_selection/\")\n",
    "from tqdm import tqdm\n",
    "from time import time\n",
    "from sklearn import metrics\n",
    "from sklearn.model_selection import train_test_split\n",
    "from utils import (\n",
    "    clean_page_content,\n",
    "    extract_document_content,\n",
    "    fit_transform_vectorizer,\n",
    "    train_random_forest,\n",
    ")\n",
    "from model_wrapper import RandomForestWrapper"
   ]
  },
  {
   "cell_type": "markdown",
   "id": "a33a7908-e403-4c80-ab97-27c538897d11",
   "metadata": {},
   "source": [
    "### Nos données annotées"
   ]
  },
  {
   "cell_type": "code",
   "execution_count": null,
   "id": "1771d7a3-af6a-4f4c-a1cb-a07c53a916c6",
   "metadata": {
    "tags": []
   },
   "outputs": [],
   "source": [
    "# TODO: clean up\n",
    "with open(\"../data/updated_labels_filtered.json\", \"r\") as fp:\n",
    "    labels = json.load(fp)"
   ]
  },
  {
   "cell_type": "code",
   "execution_count": null,
   "id": "fabd96ab-798d-4d41-99c4-6a9eb594d6b8",
   "metadata": {
    "tags": []
   },
   "outputs": [],
   "source": [
    "labeled_file_names = []\n",
    "valid_labels = []\n",
    "\n",
    "i = 0\n",
    "for file_name, file_labels in labels.items():\n",
    "    # Keep documents with at least 1 table\n",
    "    table_count = sum(file_labels)\n",
    "    if table_count > 0:\n",
    "        i += 1\n",
    "        labeled_file_names.append(file_name)\n",
    "        for label in file_labels:\n",
    "            valid_labels.append(label)"
   ]
  },
  {
   "cell_type": "code",
   "execution_count": null,
   "id": "5c68fee4-b40c-4d44-bd19-788d16c10447",
   "metadata": {
    "tags": []
   },
   "outputs": [],
   "source": [
    "corpus = []\n",
    "labeled_file_names = [\n",
    "    \"projet-extraction-tableaux/raw-comptes/CS_extrait/\" + file_name\n",
    "    for file_name in labeled_file_names\n",
    "]"
   ]
  },
  {
   "cell_type": "code",
   "execution_count": null,
   "id": "396d315d-4a76-430f-bb9f-b1d01427268c",
   "metadata": {
    "tags": []
   },
   "outputs": [],
   "source": [
    "for file_name in tqdm(labeled_file_names):\n",
    "    clean_document_content = []\n",
    "    page_list = extract_document_content(file_name, resolution=200)\n",
    "    for page in page_list:\n",
    "        clean_content = clean_page_content(page)\n",
    "        clean_document_content.append(clean_content)\n",
    "    corpus.append(clean_document_content)"
   ]
  },
  {
   "cell_type": "code",
   "execution_count": null,
   "id": "461582d0-9ce7-4027-ba9e-586cf879b152",
   "metadata": {
    "tags": []
   },
   "outputs": [],
   "source": [
    "corpus[0]"
   ]
  },
  {
   "cell_type": "code",
   "execution_count": null,
   "id": "5fcd4091-6fa3-4d10-b10a-8b3f4c3b744b",
   "metadata": {
    "tags": []
   },
   "outputs": [],
   "source": [
    "flat_corpus = [item for sublist in corpus for item in sublist]"
   ]
  },
  {
   "cell_type": "code",
   "execution_count": null,
   "id": "5b4644e9-261d-4e41-aa36-a74b5aa269f5",
   "metadata": {
    "tags": []
   },
   "outputs": [],
   "source": [
    "flat_corpus[:5]"
   ]
  },
  {
   "cell_type": "code",
   "execution_count": null,
   "id": "2e0e333c-f36e-4569-b743-f30dbc2dd49b",
   "metadata": {
    "tags": []
   },
   "outputs": [],
   "source": [
    "valid_labels[:5]"
   ]
  },
  {
   "cell_type": "code",
   "execution_count": null,
   "id": "32a61e4a-031c-4270-9ae8-febd72beee8a",
   "metadata": {
    "tags": []
   },
   "outputs": [],
   "source": [
    "len(flat_corpus) == len(valid_labels)"
   ]
  },
  {
   "cell_type": "markdown",
   "id": "5b865971-b715-4280-aab8-44b4a9cbd3f4",
   "metadata": {},
   "source": [
    "### Données Adem + Laura"
   ]
  },
  {
   "cell_type": "code",
   "execution_count": 3,
   "id": "f6d674af-44cf-4b5e-ba28-0b8aaf9d2b19",
   "metadata": {
    "tags": []
   },
   "outputs": [],
   "source": [
    "fs = s3fs.S3FileSystem(client_kwargs={'endpoint_url': 'https://minio.lab.sspcloud.fr'})\n",
    "with fs.open(\"s3://projet-extraction-tableaux/data/df_trainrf.pickle\", 'rb') as f:\n",
    "    df = pickle.load(f)"
   ]
  },
  {
   "cell_type": "code",
   "execution_count": 4,
   "id": "94b25a74-4f1c-49f8-9c41-6ffc9b4e4335",
   "metadata": {
    "tags": []
   },
   "outputs": [
    {
     "data": {
      "text/html": [
       "<div>\n",
       "<style scoped>\n",
       "    .dataframe tbody tr th:only-of-type {\n",
       "        vertical-align: middle;\n",
       "    }\n",
       "\n",
       "    .dataframe tbody tr th {\n",
       "        vertical-align: top;\n",
       "    }\n",
       "\n",
       "    .dataframe thead th {\n",
       "        text-align: right;\n",
       "    }\n",
       "</style>\n",
       "<table border=\"1\" class=\"dataframe\">\n",
       "  <thead>\n",
       "    <tr style=\"text-align: right;\">\n",
       "      <th></th>\n",
       "      <th>siren</th>\n",
       "      <th>pagenumber</th>\n",
       "      <th>text</th>\n",
       "      <th>tableau_f_et_p</th>\n",
       "      <th>accOCR</th>\n",
       "      <th>tableauPDF</th>\n",
       "    </tr>\n",
       "  </thead>\n",
       "  <tbody>\n",
       "    <tr>\n",
       "      <th>0</th>\n",
       "      <td>5820378</td>\n",
       "      <td>1</td>\n",
       "      <td>RCS : AMIENS Code greffe : 8002 Documents comp...</td>\n",
       "      <td>0</td>\n",
       "      <td>85,7764666501213</td>\n",
       "      <td>1</td>\n",
       "    </tr>\n",
       "    <tr>\n",
       "      <th>1</th>\n",
       "      <td>5820378</td>\n",
       "      <td>2</td>\n",
       "      <td>GREFFE DU TRIBUNAL DE COMMERCE …… D'AMIENS Dat...</td>\n",
       "      <td>0</td>\n",
       "      <td>91,6485136349996</td>\n",
       "      <td>1</td>\n",
       "    </tr>\n",
       "    <tr>\n",
       "      <th>2</th>\n",
       "      <td>5820378</td>\n",
       "      <td>3</td>\n",
       "      <td>...</td>\n",
       "      <td>0</td>\n",
       "      <td>NaN</td>\n",
       "      <td>1</td>\n",
       "    </tr>\n",
       "    <tr>\n",
       "      <th>3</th>\n",
       "      <td>5820378</td>\n",
       "      <td>4</td>\n",
       "      <td>...</td>\n",
       "      <td>0</td>\n",
       "      <td>NaN</td>\n",
       "      <td>1</td>\n",
       "    </tr>\n",
       "    <tr>\n",
       "      <th>4</th>\n",
       "      <td>5820378</td>\n",
       "      <td>5</td>\n",
       "      <td>...</td>\n",
       "      <td>0</td>\n",
       "      <td>NaN</td>\n",
       "      <td>1</td>\n",
       "    </tr>\n",
       "    <tr>\n",
       "      <th>...</th>\n",
       "      <td>...</td>\n",
       "      <td>...</td>\n",
       "      <td>...</td>\n",
       "      <td>...</td>\n",
       "      <td>...</td>\n",
       "      <td>...</td>\n",
       "    </tr>\n",
       "    <tr>\n",
       "      <th>34906</th>\n",
       "      <td>998823504</td>\n",
       "      <td>45</td>\n",
       "      <td>4.9. Analyse et échéance des dettes\\r\\r\\n...</td>\n",
       "      <td>0</td>\n",
       "      <td>NaN</td>\n",
       "      <td>1</td>\n",
       "    </tr>\n",
       "    <tr>\n",
       "      <th>34907</th>\n",
       "      <td>998823504</td>\n",
       "      <td>46</td>\n",
       "      <td>-    de remboursement de pénalités et intérêts...</td>\n",
       "      <td>0</td>\n",
       "      <td>NaN</td>\n",
       "      <td>1</td>\n",
       "    </tr>\n",
       "    <tr>\n",
       "      <th>34908</th>\n",
       "      <td>998823504</td>\n",
       "      <td>47</td>\n",
       "      <td>6.2.2.             ...</td>\n",
       "      <td>0</td>\n",
       "      <td>NaN</td>\n",
       "      <td>1</td>\n",
       "    </tr>\n",
       "    <tr>\n",
       "      <th>34909</th>\n",
       "      <td>998823504</td>\n",
       "      <td>48</td>\n",
       "      <td>ADECCO FRANCE Société par actions simplifiée a...</td>\n",
       "      <td>0</td>\n",
       "      <td>91,7648922486163</td>\n",
       "      <td>1</td>\n",
       "    </tr>\n",
       "    <tr>\n",
       "      <th>34910</th>\n",
       "      <td>998823504</td>\n",
       "      <td>49</td>\n",
       "      <td>PREMIÈRE DÉCISION (Approbation des comptes ann...</td>\n",
       "      <td>0</td>\n",
       "      <td>92,2436997890472</td>\n",
       "      <td>1</td>\n",
       "    </tr>\n",
       "  </tbody>\n",
       "</table>\n",
       "<p>34911 rows × 6 columns</p>\n",
       "</div>"
      ],
      "text/plain": [
       "           siren  pagenumber  \\\n",
       "0        5820378           1   \n",
       "1        5820378           2   \n",
       "2        5820378           3   \n",
       "3        5820378           4   \n",
       "4        5820378           5   \n",
       "...          ...         ...   \n",
       "34906  998823504          45   \n",
       "34907  998823504          46   \n",
       "34908  998823504          47   \n",
       "34909  998823504          48   \n",
       "34910  998823504          49   \n",
       "\n",
       "                                                    text  tableau_f_et_p  \\\n",
       "0      RCS : AMIENS Code greffe : 8002 Documents comp...               0   \n",
       "1      GREFFE DU TRIBUNAL DE COMMERCE …… D'AMIENS Dat...               0   \n",
       "2                                                    ...               0   \n",
       "3                                                    ...               0   \n",
       "4                                                    ...               0   \n",
       "...                                                  ...             ...   \n",
       "34906       4.9. Analyse et échéance des dettes\\r\\r\\n...               0   \n",
       "34907  -    de remboursement de pénalités et intérêts...               0   \n",
       "34908                             6.2.2.             ...               0   \n",
       "34909  ADECCO FRANCE Société par actions simplifiée a...               0   \n",
       "34910  PREMIÈRE DÉCISION (Approbation des comptes ann...               0   \n",
       "\n",
       "                 accOCR  tableauPDF  \n",
       "0      85,7764666501213           1  \n",
       "1      91,6485136349996           1  \n",
       "2                   NaN           1  \n",
       "3                   NaN           1  \n",
       "4                   NaN           1  \n",
       "...                 ...         ...  \n",
       "34906               NaN           1  \n",
       "34907               NaN           1  \n",
       "34908               NaN           1  \n",
       "34909  91,7648922486163           1  \n",
       "34910  92,2436997890472           1  \n",
       "\n",
       "[34911 rows x 6 columns]"
      ]
     },
     "execution_count": 4,
     "metadata": {},
     "output_type": "execute_result"
    }
   ],
   "source": [
    "df"
   ]
  },
  {
   "cell_type": "code",
   "execution_count": null,
   "id": "fc5281ce-7015-4ab8-b8e3-fb2bd1b6b6f1",
   "metadata": {
    "tags": []
   },
   "outputs": [],
   "source": [
    "flat_corpus2 = list(df.text)\n",
    "valid_labels2 = list(df.tableau_f_et_p)"
   ]
  },
  {
   "cell_type": "code",
   "execution_count": null,
   "id": "a7608c82-3397-4383-91c6-c5ef05f6848e",
   "metadata": {
    "tags": []
   },
   "outputs": [],
   "source": [
    "len(flat_corpus2) == len(valid_labels2)"
   ]
  },
  {
   "cell_type": "code",
   "execution_count": null,
   "id": "608917e7-b823-4059-8e93-6dbcbe999179",
   "metadata": {
    "tags": []
   },
   "outputs": [],
   "source": [
    "flat_corpus2[:5]"
   ]
  },
  {
   "cell_type": "code",
   "execution_count": null,
   "id": "badb9a3f-aded-4887-b0e5-a67682f44d75",
   "metadata": {
    "tags": []
   },
   "outputs": [],
   "source": [
    "valid_labels2[:5]"
   ]
  },
  {
   "cell_type": "code",
   "execution_count": null,
   "id": "0d1cba88-276d-4c1f-8b3e-203358611b51",
   "metadata": {
    "tags": []
   },
   "outputs": [],
   "source": [
    "flat_corpus2 = [clean_page_content(page) for page in flat_corpus2]"
   ]
  },
  {
   "cell_type": "code",
   "execution_count": null,
   "id": "867fe10f-4f14-4f8e-82d1-b293a7a5fc28",
   "metadata": {
    "tags": []
   },
   "outputs": [],
   "source": [
    "flat_corpus2[:5]"
   ]
  },
  {
   "cell_type": "markdown",
   "id": "26b70dec-9f64-4eab-8922-0ded4a6bb1b5",
   "metadata": {},
   "source": [
    "#### Alternative way of splitting train / test"
   ]
  },
  {
   "cell_type": "code",
   "execution_count": null,
   "id": "13f76d82-4876-48e7-9eef-dc80892cc04a",
   "metadata": {
    "tags": []
   },
   "outputs": [],
   "source": [
    "train_siren, test_siren = train_test_split(df[df.tableau_f_et_p == 1][\"siren\"].unique())"
   ]
  },
  {
   "cell_type": "code",
   "execution_count": null,
   "id": "d7c7b391-d0dc-40dd-a2e2-c876151d637f",
   "metadata": {
    "tags": []
   },
   "outputs": [],
   "source": [
    "train_df = df[df.siren.isin(train_siren)]\n",
    "test_df = df[df.siren.isin(test_siren)]"
   ]
  },
  {
   "cell_type": "code",
   "execution_count": null,
   "id": "ab37092d-672f-442e-99e6-8fcfa9b51a9d",
   "metadata": {
    "tags": []
   },
   "outputs": [],
   "source": [
    "train_corpus = list(train_df.text)\n",
    "train_labels = list(train_df.tableau_f_et_p)"
   ]
  },
  {
   "cell_type": "code",
   "execution_count": null,
   "id": "4d54229b-20af-4b3b-9378-7bebf774dc09",
   "metadata": {
    "tags": []
   },
   "outputs": [],
   "source": [
    "vectorizer, vectorized_corpus = fit_transform_vectorizer(train_corpus)"
   ]
  },
  {
   "cell_type": "code",
   "execution_count": null,
   "id": "adb19731-e557-4e1b-9eab-0295d910181d",
   "metadata": {
    "tags": []
   },
   "outputs": [],
   "source": [
    "test_corpus = list(test_df.text)\n",
    "test_labels = list(test_df.tableau_f_et_p)\n",
    "vectorized_test = vectorizer.transform(test_corpus)"
   ]
  },
  {
   "cell_type": "code",
   "execution_count": null,
   "id": "0b8f5ec9-c9de-440b-b16f-fdde02ecccbb",
   "metadata": {
    "tags": []
   },
   "outputs": [],
   "source": [
    "# Training classifier\n",
    "params = {\n",
    "    \"n_estimators\": 100,\n",
    "    \"criterion\": \"gini\",\n",
    "    \"max_depth\": None,\n",
    "    \"min_samples_split\": 2,\n",
    "    \"min_samples_leaf\": 1,\n",
    "}\n",
    "\n",
    "clf, clf_descr, train_time = train_random_forest(\n",
    "    params, vectorized_corpus, train_labels\n",
    ")"
   ]
  },
  {
   "cell_type": "code",
   "execution_count": null,
   "id": "bab11269-1071-4531-82fe-b7a94945cc0c",
   "metadata": {
    "tags": []
   },
   "outputs": [],
   "source": [
    "# Test time\n",
    "t0 = time()\n",
    "pred = clf.predict(vectorized_test)\n",
    "test_time = time() - t0\n",
    "# Score\n",
    "accuracy = metrics.accuracy_score(test_labels, pred)\n",
    "f1 = metrics.f1_score(test_labels, pred)\n",
    "precision = metrics.precision_score(test_labels, pred)\n",
    "recall = metrics.recall_score(test_labels, pred)\n",
    "cm = metrics.confusion_matrix(test_labels, pred)"
   ]
  },
  {
   "cell_type": "code",
   "execution_count": null,
   "id": "c452f4ac-bac6-4b63-a0e9-ecb55da684aa",
   "metadata": {
    "tags": []
   },
   "outputs": [],
   "source": [
    "accuracy, f1, precision, recall"
   ]
  },
  {
   "cell_type": "code",
   "execution_count": null,
   "id": "56f4eb42-c7c4-4219-98b5-ba95363e4b5c",
   "metadata": {
    "tags": []
   },
   "outputs": [],
   "source": [
    "from matplotlib import pyplot as plt\n",
    "import seaborn as sns\n",
    "\n",
    "ax = plt.subplot()\n",
    "sns.heatmap(cm, annot=True, fmt='g', ax=ax)\n",
    "\n",
    "# labels, title and ticks\n",
    "ax.set_xlabel('Predicted labels')\n",
    "ax.set_ylabel('True labels')\n",
    "ax.set_title('Confusion Matrix')"
   ]
  },
  {
   "cell_type": "markdown",
   "id": "6f525e91-6249-477c-a144-88561a4330df",
   "metadata": {},
   "source": [
    "### Flattening, vectorizing"
   ]
  },
  {
   "cell_type": "markdown",
   "id": "9b1a91a9-6d02-4d13-82f9-2b10eaf45743",
   "metadata": {},
   "source": [
    "On fait les choses différemment ici mais pb: on fit le vectorizer sur le test, ce qui ne devrait pas être le cas."
   ]
  },
  {
   "cell_type": "code",
   "execution_count": null,
   "id": "d49b646a-b2ee-43f7-b898-6fed969be1a2",
   "metadata": {
    "tags": []
   },
   "outputs": [],
   "source": [
    "vectorizer, vectorized_corpus = fit_transform_vectorizer(flat_corpus)"
   ]
  },
  {
   "cell_type": "code",
   "execution_count": null,
   "id": "20a163fa-ebb9-4b13-9838-8e7cf8cae9c6",
   "metadata": {
    "tags": []
   },
   "outputs": [],
   "source": [
    "X_train, X_test, y_train, y_test = train_test_split(\n",
    "    vectorized_corpus, valid_labels, test_size=0.2, random_state=42\n",
    ")"
   ]
  },
  {
   "cell_type": "code",
   "execution_count": null,
   "id": "5cdad56e-3588-4ff1-b259-103c6486eefe",
   "metadata": {
    "tags": []
   },
   "outputs": [],
   "source": [
    "X_train"
   ]
  },
  {
   "cell_type": "code",
   "execution_count": null,
   "id": "90d58b33-b28e-447a-b7a4-98642864c93e",
   "metadata": {
    "tags": []
   },
   "outputs": [],
   "source": [
    "# Training classifier\n",
    "params = {\n",
    "    \"n_estimators\": 100,\n",
    "    \"criterion\": \"gini\",\n",
    "    \"max_depth\": None,\n",
    "    \"min_samples_split\": 2,\n",
    "    \"min_samples_leaf\": 1,\n",
    "}\n",
    "\n",
    "clf, clf_descr, train_time = train_random_forest(\n",
    "    params, X_train, y_train\n",
    ")"
   ]
  },
  {
   "cell_type": "code",
   "execution_count": null,
   "id": "f9b15b3e-c982-45ed-8bd7-3c466dbd1988",
   "metadata": {
    "tags": []
   },
   "outputs": [],
   "source": [
    "clf"
   ]
  },
  {
   "cell_type": "code",
   "execution_count": null,
   "id": "f0fd79aa-3de1-4148-b268-811f2998ac75",
   "metadata": {
    "tags": []
   },
   "outputs": [],
   "source": [
    "# Test time\n",
    "t0 = time()\n",
    "pred = clf.predict(X_test)\n",
    "test_time = time() - t0\n",
    "# Score\n",
    "accuracy = metrics.accuracy_score(y_test, pred)\n",
    "f1 = metrics.f1_score(y_test, pred)\n",
    "precision = metrics.precision_score(y_test, pred)\n",
    "recall = metrics.recall_score(y_test, pred)\n",
    "cm = metrics.confusion_matrix(y_test, pred)"
   ]
  },
  {
   "cell_type": "code",
   "execution_count": null,
   "id": "37388357-bd66-40b1-a2b0-5083d3352539",
   "metadata": {
    "tags": []
   },
   "outputs": [],
   "source": [
    "accuracy, f1, precision, recall"
   ]
  },
  {
   "cell_type": "code",
   "execution_count": null,
   "id": "85f9cb58-31b1-40c2-817c-903dd6dcf511",
   "metadata": {
    "tags": []
   },
   "outputs": [],
   "source": [
    "from matplotlib import pyplot as plt\n",
    "import seaborn as sns\n",
    "\n",
    "ax = plt.subplot()\n",
    "sns.heatmap(cm, annot=True, fmt='g', ax=ax)\n",
    "\n",
    "# labels, title and ticks\n",
    "ax.set_xlabel('Predicted labels')\n",
    "ax.set_ylabel('True labels')\n",
    "ax.set_title('Confusion Matrix')"
   ]
  },
  {
   "attachments": {},
   "cell_type": "markdown",
   "id": "a73f9fe8-fbe0-421f-acea-1499ba313eb2",
   "metadata": {},
   "source": [
    "### Test updated train script"
   ]
  },
  {
   "cell_type": "code",
   "execution_count": 1,
   "id": "3a6351c4",
   "metadata": {},
   "outputs": [],
   "source": [
    "%load_ext autoreload\n",
    "%autoreload 2"
   ]
  },
  {
   "cell_type": "code",
   "execution_count": 20,
   "id": "7373ddb3",
   "metadata": {},
   "outputs": [
    {
     "name": "stderr",
     "output_type": "stream",
     "text": [
      "100%|██████████| 36/36 [03:21<00:00,  5.60s/it]\n"
     ]
    }
   ],
   "source": [
    "from utils import load_labeled_data, load_extra_labeled_data\n",
    "\n",
    "flat_corpus, valid_labels = load_labeled_data()\n",
    "flat_corpus_extra, valid_labels_extra = load_extra_labeled_data()\n",
    "flat_corpus += flat_corpus_extra\n",
    "valid_labels += valid_labels"
   ]
  },
  {
   "cell_type": "code",
   "execution_count": 21,
   "id": "63371f63",
   "metadata": {},
   "outputs": [],
   "source": [
    "valid_labels = valid_labels[:int(len(valid_labels)/2)]\n",
    "valid_labels += valid_labels_extra"
   ]
  },
  {
   "cell_type": "code",
   "execution_count": 22,
   "id": "8b4979c3",
   "metadata": {},
   "outputs": [],
   "source": [
    "train_corpus, test_corpus, y_train, y_test = train_test_split(\n",
    "    flat_corpus, valid_labels, test_size=0.2, random_state=42\n",
    ")"
   ]
  },
  {
   "cell_type": "code",
   "execution_count": 23,
   "id": "b75a5dd0",
   "metadata": {},
   "outputs": [],
   "source": [
    "# Add new feature : rate of numeric characters\n",
    "num_rates = [get_numeric_char_rate(content) for content in flat_corpus]\n",
    "\n",
    "train_num_rates, test_num_rates = train_test_split(\n",
    "    num_rates, test_size=0.2, random_state=42\n",
    ")"
   ]
  },
  {
   "cell_type": "code",
   "execution_count": 24,
   "id": "96349e2c",
   "metadata": {},
   "outputs": [
    {
     "data": {
      "text/plain": [
       "29662"
      ]
     },
     "execution_count": 24,
     "metadata": {},
     "output_type": "execute_result"
    }
   ],
   "source": [
    "len(train_num_rates)"
   ]
  },
  {
   "cell_type": "code",
   "execution_count": 25,
   "id": "8e2a8406",
   "metadata": {},
   "outputs": [
    {
     "data": {
      "text/plain": [
       "29662"
      ]
     },
     "execution_count": 25,
     "metadata": {},
     "output_type": "execute_result"
    }
   ],
   "source": [
    "len(train_corpus)"
   ]
  },
  {
   "cell_type": "code",
   "execution_count": 26,
   "id": "7e83e11c",
   "metadata": {},
   "outputs": [
    {
     "data": {
      "text/plain": [
       "['respons lentrepris e pi lot g e e a e a r h e e h i q u e co pl i a e e r e polit outil dialogu part pren mis oeuvr demarch rse group accor sappui dialogu frequent part pren essentiel dialogu inherent conduit activ group procedur group dialogu part pren precis champ dappliqu mis oeuvr respons tous niveau group mondial regional local ains moyen utilis renforc dialogu rendr compt part pren nombreux partenariat accor entretient ex ecpat purprojet energy observ community conserv fund afric the camp participent egal cet polit dialogu gouvern lethiqu complianc rse deploi anim u25cf prend connaiss annuel rapport comit chart ethiqu rse ethiqu rse present chart sappliqu lensembl collabor comit daud complianc risqu tient group accor mond cestadir lensembl moin trois reunion an chaqu reunion lopportun collabor permanent occasionnel societ accor tout mesur necessair dun point deploi societ quel control cet chart egal disposit complianc polit anticorrupt applic collabor permanent occasionnel system dalert etabl exploit sous marqu group mati gouvern rse comit chart ethiqu rse group accor deploi nomin remuner rse a mission tous pay group disponibl intern veil bon appliqu princip plac lextern different sit intranet accor mati gouvern dentrepris prepar sit internet httpwwwaccorgroup frfrcommitment decis conseil dadministr concern respons social environnemental titr dirig charg promouvoir valeur examin orient polit rse prend engag issus cet chart aupres leur coll connaiss resultat cellec borateur sassur mis oeuvr reseau correspond ethiqu rse rel deploi comit nomin remuner rse chart pay tient moin deux reunion an lanim diffus cultur ethiqu rse a mis laccent comit ethiqu rse u25cf lutt contr corrupt not diffus cre comit ethiqu rse a rol dun modul format elearning disponibl u25cf rendr compt comit execut question relat langu group accor lethiqu rse af in danticip mieux u25cf mis conform operationnel regl opportun enjeux risqu associ general protect don rgpd voir auss u25cf emettr recommand levolu enga pag not diffus dun modul gement mati ressourc humain gestion format elearning franc anglais risqu respect droit lhomm prepar huit autr langu group developp durabl u25cf lutt contr harcel sexuel deploi u25cf suivr mis oeuvr perform demarch dun disposit complet test trois pay partenariat group accorinvest voir auss pag u25cf debattr tout question relat lethiqu managerial u25cf trois modul diffus viennent complet conduit affair deventuel situat disposit plus larg sensibilis format conflit dinteret sujet ethiqu rse complianc eau dechet aliment santesecur programm plant for the u25cf analys eventuel dysfonction engag planet dautr cour prepar control specif supplementair cas besoin achat respons nondiscrimin exempl comit sest reun deux fois supervis lavanc feuill rout ethiqu rse gouvern complianc nombreux themat lordr jour comm lamelior respons societal disposit anticorrupt deploi lign integr comit dalert mis oeuvr dun disposit lutt contr conseil dadministr harcel consequent loi pact accor strateg mis conform mis jour chart mati complianc comit daud complianc ethiqu rse evolu composit mission risqu fonction comit ethiqu rse effet apres u25cf examin lorganis mis oeuvr disposit cinq anne dexistent comit ethiqu rse societ mati complianc not tient egal suit chang president depart inform deploi polit complianc certain membr cession daccorinvest u25cf examin question ethiqu conseil accor a initi reflexion possibl evolu president renvoi examen dont pourr mission composit fonction sais avoir connaiss cel questionnair devalu a soum membr cour mois novembr docu denregistr universel accor 131cop certifi conformei pag 875n depot',\n",
       " 'period lsasu carpostal haguenau etat synthes not compt resultat impot benefic integr fisc part lexercic ouvert societ sasu carpostal haguenau compris perimetr dintegr fiscal group sas keol ail anc carpostal franc limpot societ determin comm labsenc dintegr compt tenu cet hypothes determin resultat fiscal fait ressort benefic fiscal euros determin resultat fiscal fait ressort benefic fiscal euros pris compt niveau resultat densembl group resultat densembl group defic fiscal dun mont euros z cabinet fecr chemin lazar saint den bourg tel pag mission compil compt annuel voir rapport lexpert comptabl',\n",
       " 'fait caracterist aucun fait signif nest signal cour cet exercic even posterieur clotur etat financi master prepar bas continu lactiv activ commenc etre affect covid19 premi trimestr lentit sattend impact negat etat financi societ compt tenu caracter recent lepidem mesur annonc gouvern aid entrepris nest toutefois capac den appreci limpact chiffr eventuel a dat darret compt master direct lentit na connaiss dincertitud signif remettent caus capac lentit poursuivr exploit chang method devalu cour lexercic aucun chang method devalu nest intervenu consequent exercic compar san retrait chang method present cour lexercic aucun chang method present nest intervenu autr inform convent tresorer convent tresorer centralis avanc envois fond niveau societ mer nivel journali compt bancair tout port interet fonction besoin excedent tresorer contrepart oper situ compt cour financi actif passif sncf particip ident societ consolid compt societ consolid integr global perimetr consolid lepic sncf mobil ru jeanphilipp rameau plain saint den numero siren luimem consolid compt lepic sncf plac etoil saint den numero siren cop etat financi consolid disponibl sous format electron httpswwwsncfcomfrgroupefin 26cop certifi conformern pag 59n depot',\n",
       " 'capital actionnariat autoris oper capital282docu denregistr universel 20197evolu capital cour cinq derni annees747tableau devolu capital jusquau decembr 2019dateoper capitalnombr dactionsmont variat capital eurosmont success capital eurosnombr cumuledact ducapitalnominalprim ouimputationsur reservesdu 27102015exercic doptionsd souscript duplan 12a 75028102015annulationdactionsautodetenues1 567du 31122015exercic doptionsd souscript duplan 11a 567exercic doptionsd souscript duplan 11a 743du 26102016exercic doptionsd souscript duplan 13a 06027102016annulationdactionsautodetenues1 342du 31122016exercic doptionsd souscript duplan 13a 542du 31122017exercic doptionsd souscript duplan a1247 542exercic doptionsd souscript duplan 13a 742du 31122018exercic doptionsd souscript duplan 13a 94007062019attributiondefinit dactionsd performance160 040du 12062019exercic doptionsd souscript duplan 13a 32529102019annulationdactionsautodetenues415 074dr 101530n depot 326300159cop certifi conformepag',\n",
       " 'gouvern dentrepris remuner mandatair social condit presenc applic tous conseil dadministr dat dattribu action beneficiair franc etranger plans1 perform period dacquisit plan quatr an hauteur condit extern compt dat dattribu plan tous croissanc revenu net action societ mesur beneficiair franc etranger plan comport entre derni exercic clos avant dat dattribu period conserv cepend precis action 3e exercic clos apres dat dattribu directeur general doit conserv minimum action compar croissanc ponder action effect acquis titr chaqu plan period dun group referent constitu cet oblig seuil pourcentag plan cess equipementi automobil mondial compar sappliqu des lor directeur general detient group referent compos equipementi nombr daction correspond trois an remuner automobil europeen nordamericain suiv adient brut bas pren compt tous plan dor irlandeetatsun aptiv ex delph etatsun autoliv deja acquis redevient applic cas ou sued autoneum suiss borg warn etatsun directeur general detient plus nombr daction cibl continental allemagn hel royaumeun lear correspond niveau remuner brut bas etatsun magn canad plastic omnium franc nombr daction attribu cadr chaqu tenneco etatsun valeo franc plan determin utilis referentiel extern dou group a vocat etre stabl temp peut deduit nombr daction minimum cibl etre modifi quen cas devolu signif concern maximum lattribu definit depend lun acteur compos not cas rachat tout etat caus latteint condit fusion scission absorpt dissolu disparit perform presenc chang dactiv sous reserv mainten condit perform suiv coherent global group referent permettr appliqu condit perform extern hauteur condit intern li resultat net conform lobject perform fix lor lattribu group apres impot avant pris compt deventuel even exceptionnel cet condit intern realis condit appreci conseil mesur compar resultat net 3e exercic clos dadministr recommand comit apres dat dattribu action perform remuner bas i compt consolid arret celui prevu exercic plan strateg conseil dadministr apres retrait examin decid conseil dadministr dat necessair condit intern li resultat net dattribu action perform group ii reporting ressourc humain group faureci condit intern li mixit hauteur condit intern li mixit hommesfemm iii dun calcul effectu hommesfemm sein categor manager prestatair extern specialis remuner bas professionel popul cadr group cet compt consolid arret organ competent condit intern mesur compar societ group referent faureci pourcentag effect femm popul cadr condit extern relat revenu net action 3e exercic clos apres dat dattribu action perform pourcentag cibl fix larchitectur plan suiv condit intern resultat net mixit hommesfemm s2 exercic exercic exercic n1 exercic n2 s2 exercic n4 examen latteint dat dacquisit condit intern action dat dattribu action perform cour perform second semestr lexercic deufb01nit mont cibl entre propriet mont minimum maximum condit intern eventuel condit extern revenu net action exercic n1 s2 exercic exercic exercic n1 exercic n2 s2 exercic n4 mesur condit extern examen latteint dat dacquisit condit extern action perform dat dattribu action perform cour entre propriet second semestr lexercic deufb01nit mont cibl eventuel mont minimum maximum condit extern condit presenc assort except usuel docu denregistr universel 247cop certifi conformedr pag 517n depot']"
      ]
     },
     "execution_count": 26,
     "metadata": {},
     "output_type": "execute_result"
    }
   ],
   "source": [
    "train_corpus[:5]"
   ]
  },
  {
   "cell_type": "code",
   "execution_count": 27,
   "id": "dc7abea1",
   "metadata": {},
   "outputs": [
    {
     "data": {
      "text/plain": [
       "[0.008210180623973728,\n",
       " 0.0,\n",
       " 0.004850444624090542,\n",
       " 0.18649193548387097,\n",
       " 0.007512019230769231]"
      ]
     },
     "execution_count": 27,
     "metadata": {},
     "output_type": "execute_result"
    }
   ],
   "source": [
    "train_num_rates[:5]"
   ]
  },
  {
   "cell_type": "code",
   "execution_count": 30,
   "id": "da0a9b16",
   "metadata": {},
   "outputs": [
    {
     "data": {
      "text/plain": [
       "0.004850444624090542"
      ]
     },
     "execution_count": 30,
     "metadata": {},
     "output_type": "execute_result"
    }
   ],
   "source": [
    "get_numeric_char_rate(train_corpus[2])"
   ]
  },
  {
   "cell_type": "code",
   "execution_count": 31,
   "id": "7cc1df31",
   "metadata": {},
   "outputs": [],
   "source": [
    "vectorizer, X_train = fit_transform_vectorizer(train_corpus)\n",
    "\n",
    "# Training classifier\n",
    "params = {\n",
    "    \"n_estimators\": 100,\n",
    "    \"criterion\": \"gini\",\n",
    "    \"max_depth\": None,\n",
    "    \"min_samples_split\": 2,\n",
    "    \"min_samples_leaf\": 1,\n",
    "}"
   ]
  },
  {
   "cell_type": "code",
   "execution_count": 33,
   "id": "996d63ee",
   "metadata": {},
   "outputs": [
    {
     "data": {
      "text/plain": [
       "<29662x174618 sparse matrix of type '<class 'numpy.float64'>'\n",
       "\twith 3298548 stored elements in Compressed Sparse Row format>"
      ]
     },
     "execution_count": 33,
     "metadata": {},
     "output_type": "execute_result"
    }
   ],
   "source": [
    "X_train"
   ]
  },
  {
   "cell_type": "code",
   "execution_count": 36,
   "id": "661390ca",
   "metadata": {},
   "outputs": [],
   "source": [
    "from scipy import sparse\n",
    "import numpy as np"
   ]
  },
  {
   "cell_type": "code",
   "execution_count": 37,
   "id": "81a4ddd2",
   "metadata": {},
   "outputs": [
    {
     "data": {
      "text/plain": [
       "<29662x174619 sparse matrix of type '<class 'numpy.float64'>'\n",
       "\twith 3319600 stored elements in COOrdinate format>"
      ]
     },
     "execution_count": 37,
     "metadata": {},
     "output_type": "execute_result"
    }
   ],
   "source": [
    "sparse.hstack((X_train, np.array(train_num_rates)[:, None]))"
   ]
  },
  {
   "cell_type": "code",
   "execution_count": null,
   "id": "2112d4ad",
   "metadata": {},
   "outputs": [],
   "source": []
  }
 ],
 "metadata": {
  "kernelspec": {
   "display_name": "Python 3 (ipykernel)",
   "language": "python",
   "name": "python3"
  },
  "language_info": {
   "codemirror_mode": {
    "name": "ipython",
    "version": 3
   },
   "file_extension": ".py",
   "mimetype": "text/x-python",
   "name": "python",
   "nbconvert_exporter": "python",
   "pygments_lexer": "ipython3",
   "version": "3.10.9"
  }
 },
 "nbformat": 4,
 "nbformat_minor": 5
}
